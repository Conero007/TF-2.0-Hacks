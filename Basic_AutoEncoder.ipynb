{
  "nbformat": 4,
  "nbformat_minor": 0,
  "metadata": {
    "colab": {
      "name": "Basic_AutoEncoder.ipynb",
      "version": "0.3.2",
      "provenance": [],
      "collapsed_sections": [],
      "include_colab_link": true
    },
    "kernelspec": {
      "name": "python3",
      "display_name": "Python 3"
    },
    "accelerator": "GPU"
  },
  "cells": [
    {
      "cell_type": "markdown",
      "metadata": {
        "id": "view-in-github",
        "colab_type": "text"
      },
      "source": [
        "<a href=\"https://colab.research.google.com/github/sayakpaul/TF-2.0-Hacks/blob/master/Basic_AutoEncoder.ipynb\" target=\"_parent\"><img src=\"https://colab.research.google.com/assets/colab-badge.svg\" alt=\"Open In Colab\"/></a>"
      ]
    },
    {
      "cell_type": "markdown",
      "metadata": {
        "id": "xJFE4zpVTsb-",
        "colab_type": "text"
      },
      "source": [
        "The motivation behind this notebook comes from [Sebastian Rachka](https://sebastianraschka.com/) who constantly inspires me through his work in the field of deep learning. Quite a few days, he open-sourced his repo [deeplearning-models](https://github.com/rasbt/deeplearning-models) which contains implementations of a wide variety of deep learning models. I started with [this notebook](https://github.com/rasbt/deeplearning-models/blob/master/pytorch_ipynb/autoencoder/ae-basic.ipynb) which shows a very simplistic and minimal implementation of a fully-connected _autoencoder_."
      ]
    },
    {
      "cell_type": "code",
      "metadata": {
        "id": "GAVJ51jU-IDn",
        "colab_type": "code",
        "colab": {}
      },
      "source": [
        "# !pip install tensorflow-gpu==2.0.0-beta0"
      ],
      "execution_count": 0,
      "outputs": []
    },
    {
      "cell_type": "code",
      "metadata": {
        "id": "iVlye4JL-WF5",
        "colab_type": "code",
        "colab": {
          "base_uri": "https://localhost:8080/",
          "height": 36
        },
        "outputId": "a54f974a-5783-47b5-db86-19f800d2f652"
      },
      "source": [
        "# Imports\n",
        "import tensorflow as tf\n",
        "from tensorflow.keras.datasets import mnist\n",
        "import numpy as np\n",
        "\n",
        "print(tf.__version__)"
      ],
      "execution_count": 1,
      "outputs": [
        {
          "output_type": "stream",
          "text": [
            "2.0.0-beta0\n"
          ],
          "name": "stdout"
        }
      ]
    },
    {
      "cell_type": "code",
      "metadata": {
        "id": "pkA93pC6-knh",
        "colab_type": "code",
        "colab": {
          "base_uri": "https://localhost:8080/",
          "height": 36
        },
        "outputId": "f359b2b7-c765-4168-b69f-c5487711a6f7"
      },
      "source": [
        "# Load the MNIST dataset\n",
        "(X_train, y_train), (X_test, y_test) = mnist.load_data()\n",
        "\n",
        "print(X_train.shape, X_test.shape)"
      ],
      "execution_count": 2,
      "outputs": [
        {
          "output_type": "stream",
          "text": [
            "(60000, 28, 28) (10000, 28, 28)\n"
          ],
          "name": "stdout"
        }
      ]
    },
    {
      "cell_type": "code",
      "metadata": {
        "id": "W2rHWxLTEPig",
        "colab_type": "code",
        "colab": {}
      },
      "source": [
        "# Define the constants\n",
        "NUM_FEATURES = 784\n",
        "UNITS = 32"
      ],
      "execution_count": 0,
      "outputs": []
    },
    {
      "cell_type": "code",
      "metadata": {
        "id": "zHbkofHY-3Bk",
        "colab_type": "code",
        "colab": {}
      },
      "source": [
        "# Custom class for a simple FC autoencoder\n",
        "class AutoEncoder(tf.keras.Model):\n",
        "  \n",
        "  def __init__(self, num_features, units):\n",
        "    super(AutoEncoder, self).__init__()\n",
        "        \n",
        "    self.encoder = tf.keras.layers.Dense(units, activation='relu', input_shape=(num_features,))\n",
        "    self.decoder = tf.keras.layers.Dense(num_features, activation='linear', input_shape=(units,))\n",
        "  \n",
        "  def call(self, x):\n",
        "    encoded = self.encoder(x)\n",
        "    decoded = tf.sigmoid(self.decoder(encoded))\n",
        "    return decoded\n",
        "\n",
        "# Instantiate the autoencoder\n",
        "auto_encoder = AutoEncoder(NUM_FEATURES, UNITS)"
      ],
      "execution_count": 0,
      "outputs": []
    },
    {
      "cell_type": "code",
      "metadata": {
        "id": "-6rsrMCcEsY8",
        "colab_type": "code",
        "colab": {}
      },
      "source": [
        "# Define loss function and optimizer\n",
        "loss_func = tf.keras.losses.BinaryCrossentropy()\n",
        "optimizer = tf.keras.optimizers.Adam(learning_rate=0.001)"
      ],
      "execution_count": 0,
      "outputs": []
    },
    {
      "cell_type": "code",
      "metadata": {
        "id": "7Ajqnm69FR56",
        "colab_type": "code",
        "colab": {
          "base_uri": "https://localhost:8080/",
          "height": 36
        },
        "outputId": "17217a1e-9235-4394-b599-c77a9782213c"
      },
      "source": [
        "# Flatten the training images\n",
        "X_train_copy = X_train.copy()\n",
        "\n",
        "X_train_copy = X_train_copy.reshape(60000, 28*28).astype(np.float32)\n",
        "\n",
        "print(X_train_copy.shape)"
      ],
      "execution_count": 6,
      "outputs": [
        {
          "output_type": "stream",
          "text": [
            "(60000, 784)\n"
          ],
          "name": "stdout"
        }
      ]
    },
    {
      "cell_type": "code",
      "metadata": {
        "id": "fhXJ-_9aGUTx",
        "colab_type": "code",
        "colab": {}
      },
      "source": [
        "# Batches of 64\n",
        "train_ds = tf.data.Dataset.from_tensor_slices((X_train_copy, y_train)).batch(64)"
      ],
      "execution_count": 0,
      "outputs": []
    },
    {
      "cell_type": "code",
      "metadata": {
        "id": "awOBPf9pHG8a",
        "colab_type": "code",
        "colab": {}
      },
      "source": [
        "# Average out the loss after each epoch\n",
        "train_loss = tf.keras.metrics.Mean(name='train_loss')"
      ],
      "execution_count": 0,
      "outputs": []
    },
    {
      "cell_type": "code",
      "metadata": {
        "id": "Si85usXjG8Ve",
        "colab_type": "code",
        "colab": {}
      },
      "source": [
        "# Train the model\n",
        "@tf.function\n",
        "def model_train(features):\n",
        "    # Define the GradientTape context\n",
        "    with tf.GradientTape() as tape:\n",
        "        # Get the probabilities\n",
        "        decoded = auto_encoder(features)\n",
        "        # Calculate the loss\n",
        "        loss = loss_func(decoded, features)\n",
        "    # Get the gradients\n",
        "    gradients = tape.gradient(loss, auto_encoder.trainable_variables)\n",
        "    # Update the weights\n",
        "    optimizer.apply_gradients(zip(gradients, auto_encoder.trainable_variables))\n",
        "\n",
        "    train_loss(loss)\n",
        "    return decoded"
      ],
      "execution_count": 0,
      "outputs": []
    },
    {
      "cell_type": "code",
      "metadata": {
        "id": "390JgOXiHe2h",
        "colab_type": "code",
        "colab": {
          "base_uri": "https://localhost:8080/",
          "height": 207
        },
        "outputId": "66f1ea9e-6a26-4058-872b-d014397f3614"
      },
      "source": [
        "# Begin training\n",
        "decode_list = []\n",
        "for epoch in range(10):\n",
        "  for features, _ in train_ds:\n",
        "    features = features\n",
        "    decoded = model_train(features)\n",
        "  \n",
        "  template = 'Epoch {}, loss: {}'\n",
        "  print (template.format(epoch+1,\n",
        "                         train_loss.result()))"
      ],
      "execution_count": 10,
      "outputs": [
        {
          "output_type": "stream",
          "text": [
            "Epoch 1, loss: 1.7514265775680542\n",
            "Epoch 2, loss: 1.5324409008026123\n",
            "Epoch 3, loss: 1.4371219873428345\n",
            "Epoch 4, loss: 1.3815560340881348\n",
            "Epoch 5, loss: 1.3440704345703125\n",
            "Epoch 6, loss: 1.3172944784164429\n",
            "Epoch 7, loss: 1.297256350517273\n",
            "Epoch 8, loss: 1.2813535928726196\n",
            "Epoch 9, loss: 1.2686216831207275\n",
            "Epoch 10, loss: 1.2583575248718262\n"
          ],
          "name": "stdout"
        }
      ]
    },
    {
      "cell_type": "code",
      "metadata": {
        "id": "BYWy0mc7H29S",
        "colab_type": "code",
        "colab": {
          "base_uri": "https://localhost:8080/",
          "height": 187
        },
        "outputId": "47177104-90b0-4e45-f9b8-b268b15b6df4"
      },
      "source": [
        "%matplotlib inline\n",
        "import matplotlib.pyplot as plt\n",
        "\n",
        "##########################\n",
        "### VISUALIZATION\n",
        "##########################\n",
        "\n",
        "n_images = 15\n",
        "image_width = 28\n",
        "\n",
        "fig, axes = plt.subplots(nrows=2, ncols=n_images, \n",
        "                         sharex=True, sharey=True, figsize=(20, 2.5))\n",
        "orig_images = features[:n_images].numpy()\n",
        "decoded_images = decoded[:n_images].numpy()\n",
        "\n",
        "for i in range(n_images):\n",
        "    for ax, img in zip(axes, [orig_images, decoded_images]):\n",
        "        curr_img = img[i]\n",
        "        ax[i].imshow(curr_img.reshape((image_width, image_width)), cmap='binary')"
      ],
      "execution_count": 13,
      "outputs": [
        {
          "output_type": "display_data",
          "data": {
            "image/png": "[encoded data removed]",
            "text/plain": [
              "<Figure size 1440x180 with 30 Axes>"
            ]
          },
          "metadata": {
            "tags": []
          }
        }
      ]
    }
  ]
}