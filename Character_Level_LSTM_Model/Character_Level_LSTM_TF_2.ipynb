{
  "nbformat": 4,
  "nbformat_minor": 0,
  "metadata": {
    "colab": {
      "name": "Character_Level_LSTM_TF_2.ipynb",
      "version": "0.3.2",
      "provenance": [],
      "collapsed_sections": []
    },
    "language_info": {
      "codemirror_mode": {
        "name": "ipython",
        "version": 3
      },
      "file_extension": ".py",
      "mimetype": "text/x-python",
      "name": "python",
      "nbconvert_exporter": "python",
      "pygments_lexer": "ipython3",
      "version": "3.7.1"
    },
    "kernelspec": {
      "name": "python3",
      "display_name": "Python 3"
    },
    "accelerator": "GPU"
  },
  "cells": [
    {
      "cell_type": "markdown",
      "metadata": {
        "id": "OxHJPqE9U0hc",
        "colab_type": "text"
      },
      "source": [
        "While taking the **Intro to Deep Learning with PyTorch** course by Udacity, I really liked exercise that was based on building a character-level language model using LSTMs. I was unable to complete all on my own since NLP is still a very new field to me. I decided to give the exercise  a try with `tensorflow 2.0` and because of the ease of use you get in `keras`, I could develop a very simple LSTM-based language model able to predict a single character given a set of characters. \n",
        "\n",
        "The exercise uses the **Anna Karenina** nodel written by Leo Tolstoy as its data. I used a small subset of it in this notebook, though. "
      ]
    },
    {
      "cell_type": "code",
      "metadata": {
        "id": "XYGrHmobJyy5",
        "colab_type": "code",
        "colab": {}
      },
      "source": [
        "!pip install tensorflow-gpu==2.0.0-beta1"
      ],
      "execution_count": 0,
      "outputs": []
    },
    {
      "cell_type": "code",
      "metadata": {
        "id": "YGoeU82dJpZb",
        "colab_type": "code",
        "colab": {
          "base_uri": "https://localhost:8080/",
          "height": 36
        },
        "outputId": "c0bd4b26-c4f4-4e3e-8edb-68103b6406bc"
      },
      "source": [
        "import tensorflow as tf\n",
        "from tensorflow.keras.optimizers import Adam\n",
        "import numpy as np\n",
        "from tensorflow.keras.preprocessing.sequence import pad_sequences\n",
        "\n",
        "print(tf.__version__)"
      ],
      "execution_count": 28,
      "outputs": [
        {
          "output_type": "stream",
          "text": [
            "2.0.0-beta1\n"
          ],
          "name": "stdout"
        }
      ]
    },
    {
      "cell_type": "markdown",
      "metadata": {
        "id": "BPi6zsjrWIrq",
        "colab_type": "text"
      },
      "source": [
        "I start by loading the novel. "
      ]
    },
    {
      "cell_type": "code",
      "metadata": {
        "id": "C_Jq1uqmJpZm",
        "colab_type": "code",
        "colab": {}
      },
      "source": [
        "# Open text file and read in data as `text`\n",
        "with open('anna.txt', 'r') as f:\n",
        "    text = f.read()"
      ],
      "execution_count": 0,
      "outputs": []
    },
    {
      "cell_type": "code",
      "metadata": {
        "id": "Aa5kfO_FJpZq",
        "colab_type": "code",
        "colab": {
          "base_uri": "https://localhost:8080/",
          "height": 36
        },
        "outputId": "d8eac021-403a-44e9-898d-3c0331e289e0"
      },
      "source": [
        "# First hundred characters\n",
        "text[:100]"
      ],
      "execution_count": 5,
      "outputs": [
        {
          "output_type": "execute_result",
          "data": {
            "text/plain": [
              "'Chapter 1\\n\\n\\nHappy families are all alike; every unhappy family is unhappy in its own\\nway.\\n\\nEverythin'"
            ]
          },
          "metadata": {
            "tags": []
          },
          "execution_count": 5
        }
      ]
    },
    {
      "cell_type": "markdown",
      "metadata": {
        "id": "KdTxSW3sWd14",
        "colab_type": "text"
      },
      "source": [
        "The text will start look ugly now :("
      ]
    },
    {
      "cell_type": "code",
      "metadata": {
        "id": "-PIUGL27JpZx",
        "colab_type": "code",
        "colab": {}
      },
      "source": [
        "# Strip all the new lines\n",
        "tokens = text.split()\n",
        "text_without_nlines = ' '.join(tokens)"
      ],
      "execution_count": 0,
      "outputs": []
    },
    {
      "cell_type": "markdown",
      "metadata": {
        "id": "n9h9VUucJpZ2",
        "colab_type": "text"
      },
      "source": [
        "I will be using LSTMs for developing the language model. A sequence in an one-hot-encoded form is needed to be given as its input. Each input sequence will be 50 characters with one output character, making each sequence 51 characters long.\n",
        "\n",
        "We can create the sequences by enumerating the characters in the text, starting at the 51st character at index 50."
      ]
    },
    {
      "cell_type": "code",
      "metadata": {
        "id": "mdC2hManJpZ3",
        "colab_type": "code",
        "colab": {
          "base_uri": "https://localhost:8080/",
          "height": 36
        },
        "outputId": "3e6aef7f-9dcc-4a8c-a0ec-e19666671a12"
      },
      "source": [
        "# Prepare the sequences for the model\n",
        "length = 50\n",
        "sequences = []\n",
        "for i in range(length, len(text_without_nlines)):\n",
        "    # Select sequence of tokens\n",
        "    seq = text_without_nlines[i-length:i+1]\n",
        "    sequences.append(seq)\n",
        "print('Total Sequences: {}'.format(len(sequences)))"
      ],
      "execution_count": 7,
      "outputs": [
        {
          "output_type": "stream",
          "text": [
            "Total Sequences: 1976136\n"
          ],
          "name": "stdout"
        }
      ]
    },
    {
      "cell_type": "code",
      "metadata": {
        "id": "Sk3r5IcrJpZ_",
        "colab_type": "code",
        "colab": {
          "base_uri": "https://localhost:8080/",
          "height": 36
        },
        "outputId": "c7643d4b-aa12-45f9-fbc6-1dd203b9d01b"
      },
      "source": [
        "# Save these sequences for later use\n",
        "filename = 'char_sequences.txt'\n",
        "data = '\\n'.join(sequences)\n",
        "file = open(filename, 'w')\n",
        "file.write(data)\n",
        "file.close()\n",
        "print('File saved!')"
      ],
      "execution_count": 8,
      "outputs": [
        {
          "output_type": "stream",
          "text": [
            "File saved!\n"
          ],
          "name": "stdout"
        }
      ]
    },
    {
      "cell_type": "code",
      "metadata": {
        "id": "wSeHFINjJpaF",
        "colab_type": "code",
        "colab": {
          "base_uri": "https://localhost:8080/",
          "height": 112
        },
        "outputId": "21b1743e-d3e8-4c7f-dfd0-590d20d4e71c"
      },
      "source": [
        "# Preview\n",
        "!head -5 char_sequences.txt"
      ],
      "execution_count": 9,
      "outputs": [
        {
          "output_type": "stream",
          "text": [
            "Chapter 1 Happy families are all alike; every unhap\n",
            "hapter 1 Happy families are all alike; every unhapp\n",
            "apter 1 Happy families are all alike; every unhappy\n",
            "pter 1 Happy families are all alike; every unhappy \n",
            "ter 1 Happy families are all alike; every unhappy f\n"
          ],
          "name": "stdout"
        }
      ]
    },
    {
      "cell_type": "code",
      "metadata": {
        "id": "j1TfiEJAJpaL",
        "colab_type": "code",
        "colab": {}
      },
      "source": [
        "# Load up the data\n",
        "sequences_from_file = open('char_sequences.txt')\n",
        "text = sequences_from_file.read()\n",
        "lines = text.split('\\n')"
      ],
      "execution_count": 0,
      "outputs": []
    },
    {
      "cell_type": "code",
      "metadata": {
        "id": "zCc8uem8JpaQ",
        "colab_type": "code",
        "colab": {}
      },
      "source": [
        "# Cause computers understand only numbers\n",
        "# Assigning each character a unique integer\n",
        "# Charater -> Integer\n",
        "chars = sorted(list(set(text)))\n",
        "mapping = dict((c, i) for i, c in enumerate(chars))"
      ],
      "execution_count": 0,
      "outputs": []
    },
    {
      "cell_type": "code",
      "metadata": {
        "id": "A5hUlehfJpaY",
        "colab_type": "code",
        "colab": {}
      },
      "source": [
        "# Convert the sequences to integer encodings\n",
        "int_sequences = []\n",
        "for line in lines:\n",
        "    encoded_seq = [mapping[char] for char in line]\n",
        "    int_sequences.append(encoded_seq)"
      ],
      "execution_count": 0,
      "outputs": []
    },
    {
      "cell_type": "code",
      "metadata": {
        "id": "wEYUxR34Jpaf",
        "colab_type": "code",
        "colab": {
          "base_uri": "https://localhost:8080/",
          "height": 36
        },
        "outputId": "f0111d37-d6d3-4e58-f6c5-6b9a50a4ebf5"
      },
      "source": [
        "# How big is the corpus?\n",
        "vocab_size = len(mapping)\n",
        "print('Voacabulary size', vocab_size)"
      ],
      "execution_count": 13,
      "outputs": [
        {
          "output_type": "stream",
          "text": [
            "Voacabulary size 83\n"
          ],
          "name": "stdout"
        }
      ]
    },
    {
      "cell_type": "code",
      "metadata": {
        "id": "CrK-xMflJpal",
        "colab_type": "code",
        "colab": {}
      },
      "source": [
        "# X -> y mapping of input sequence in this form\n",
        "int_sequences = np.array(int_sequences)\n",
        "X, y = int_sequences[:,:-1], int_sequences[:,-1]"
      ],
      "execution_count": 0,
      "outputs": []
    },
    {
      "cell_type": "markdown",
      "metadata": {
        "id": "uRSn_tyKXMv7",
        "colab_type": "text"
      },
      "source": [
        "I will be using a very small subset of data. "
      ]
    },
    {
      "cell_type": "code",
      "metadata": {
        "id": "tvwq8TbsLOwc",
        "colab_type": "code",
        "colab": {
          "base_uri": "https://localhost:8080/",
          "height": 36
        },
        "outputId": "bc53832f-4150-4eb9-b4a9-20e8049e40aa"
      },
      "source": [
        "X[:10000].shape, y[:10000].shape"
      ],
      "execution_count": 17,
      "outputs": [
        {
          "output_type": "execute_result",
          "data": {
            "text/plain": [
              "((10000, 50), (10000,))"
            ]
          },
          "metadata": {
            "tags": []
          },
          "execution_count": 17
        }
      ]
    },
    {
      "cell_type": "markdown",
      "metadata": {
        "id": "TWp1PLt3XQKL",
        "colab_type": "text"
      },
      "source": [
        "The characters will have to be one-hot-encoded before they are fed to the language model. It also preserves a concise input representation but when the input feature space is very very large, Character Embeddings should be used before. "
      ]
    },
    {
      "cell_type": "code",
      "metadata": {
        "id": "oadaSWAsJpau",
        "colab_type": "code",
        "colab": {}
      },
      "source": [
        "one_hot_sequences = [tf.keras.utils.to_categorical(x, num_classes=vocab_size) for x in X[:10000]]\n",
        "X = np.array(one_hot_sequences)\n",
        "y = tf.keras.utils.to_categorical(y[:10000], num_classes=vocab_size)"
      ],
      "execution_count": 0,
      "outputs": []
    },
    {
      "cell_type": "code",
      "metadata": {
        "id": "olH4IdfXMIZq",
        "colab_type": "code",
        "colab": {
          "base_uri": "https://localhost:8080/",
          "height": 264
        },
        "outputId": "894b7768-b7cd-4e12-a9a9-69e616279961"
      },
      "source": [
        "# Mini language model :)\n",
        "model = tf.keras.models.Sequential()\n",
        "model.add(tf.keras.layers.LSTM(256, input_shape=(X.shape[1], X.shape[2])))\n",
        "model.add(tf.keras.layers.Dense(vocab_size, activation='softmax'))\n",
        "print(model.summary())"
      ],
      "execution_count": 50,
      "outputs": [
        {
          "output_type": "stream",
          "text": [
            "Model: \"sequential_1\"\n",
            "_________________________________________________________________\n",
            "Layer (type)                 Output Shape              Param #   \n",
            "=================================================================\n",
            "lstm_1 (LSTM)                (None, 256)               348160    \n",
            "_________________________________________________________________\n",
            "dense_1 (Dense)              (None, 83)                21331     \n",
            "=================================================================\n",
            "Total params: 369,491\n",
            "Trainable params: 369,491\n",
            "Non-trainable params: 0\n",
            "_________________________________________________________________\n",
            "None\n"
          ],
          "name": "stdout"
        }
      ]
    },
    {
      "cell_type": "markdown",
      "metadata": {
        "id": "6nxWPs0YXzG2",
        "colab_type": "text"
      },
      "source": [
        "There can be a problem of exploding gradients and to prevent that I am going to specify the `clipnorm` term in the optimizer. "
      ]
    },
    {
      "cell_type": "code",
      "metadata": {
        "id": "aXJz2bK9NQn1",
        "colab_type": "code",
        "colab": {}
      },
      "source": [
        "adam = Adam(lr=.001, clipnorm=0.5)"
      ],
      "execution_count": 0,
      "outputs": []
    },
    {
      "cell_type": "code",
      "metadata": {
        "id": "TCTzjn7KPE1c",
        "colab_type": "code",
        "colab": {
          "base_uri": "https://localhost:8080/",
          "height": 7655
        },
        "outputId": "2db8fb6d-69e8-4c21-da97-988e7e7b5956"
      },
      "source": [
        "model.compile(loss='categorical_crossentropy', optimizer=adam, metrics=['accuracy'])\n",
        "model.fit(X, y, epochs=200, verbose=2)"
      ],
      "execution_count": 52,
      "outputs": [
        {
          "output_type": "stream",
          "text": [
            "Train on 10000 samples\n",
            "Epoch 1/200\n",
            "10000/10000 - 6s - loss: 3.0353 - accuracy: 0.1812\n",
            "Epoch 2/200\n",
            "10000/10000 - 5s - loss: 2.6381 - accuracy: 0.2876\n",
            "Epoch 3/200\n",
            "10000/10000 - 5s - loss: 2.4285 - accuracy: 0.3235\n",
            "Epoch 4/200\n",
            "10000/10000 - 5s - loss: 2.3118 - accuracy: 0.3460\n",
            "Epoch 5/200\n",
            "10000/10000 - 5s - loss: 2.2234 - accuracy: 0.3619\n",
            "Epoch 6/200\n",
            "10000/10000 - 5s - loss: 2.1240 - accuracy: 0.3865\n",
            "Epoch 7/200\n",
            "10000/10000 - 5s - loss: 2.0552 - accuracy: 0.4067\n",
            "Epoch 8/200\n",
            "10000/10000 - 5s - loss: 1.9887 - accuracy: 0.4269\n",
            "Epoch 9/200\n",
            "10000/10000 - 5s - loss: 1.9183 - accuracy: 0.4406\n",
            "Epoch 10/200\n",
            "10000/10000 - 5s - loss: 1.8567 - accuracy: 0.4588\n",
            "Epoch 11/200\n",
            "10000/10000 - 5s - loss: 1.7977 - accuracy: 0.4738\n",
            "Epoch 12/200\n",
            "10000/10000 - 5s - loss: 1.7364 - accuracy: 0.4836\n",
            "Epoch 13/200\n",
            "10000/10000 - 5s - loss: 1.6838 - accuracy: 0.5007\n",
            "Epoch 14/200\n",
            "10000/10000 - 5s - loss: 1.6153 - accuracy: 0.5217\n",
            "Epoch 15/200\n",
            "10000/10000 - 5s - loss: 1.5537 - accuracy: 0.5358\n",
            "Epoch 16/200\n",
            "10000/10000 - 5s - loss: 1.4839 - accuracy: 0.5533\n",
            "Epoch 17/200\n",
            "10000/10000 - 5s - loss: 1.4084 - accuracy: 0.5767\n",
            "Epoch 18/200\n",
            "10000/10000 - 5s - loss: 1.3285 - accuracy: 0.5978\n",
            "Epoch 19/200\n",
            "10000/10000 - 5s - loss: 1.2588 - accuracy: 0.6257\n",
            "Epoch 20/200\n",
            "10000/10000 - 5s - loss: 1.1812 - accuracy: 0.6484\n",
            "Epoch 21/200\n",
            "10000/10000 - 5s - loss: 1.0974 - accuracy: 0.6777\n",
            "Epoch 22/200\n",
            "10000/10000 - 5s - loss: 1.0180 - accuracy: 0.7005\n",
            "Epoch 23/200\n",
            "10000/10000 - 5s - loss: 0.9427 - accuracy: 0.7207\n",
            "Epoch 24/200\n",
            "10000/10000 - 5s - loss: 0.8594 - accuracy: 0.7517\n",
            "Epoch 25/200\n",
            "10000/10000 - 5s - loss: 0.7843 - accuracy: 0.7750\n",
            "Epoch 26/200\n",
            "10000/10000 - 5s - loss: 0.7078 - accuracy: 0.7997\n",
            "Epoch 27/200\n",
            "10000/10000 - 5s - loss: 0.6403 - accuracy: 0.8247\n",
            "Epoch 28/200\n",
            "10000/10000 - 5s - loss: 0.5768 - accuracy: 0.8450\n",
            "Epoch 29/200\n",
            "10000/10000 - 5s - loss: 0.5106 - accuracy: 0.8667\n",
            "Epoch 30/200\n",
            "10000/10000 - 5s - loss: 0.4513 - accuracy: 0.8860\n",
            "Epoch 31/200\n",
            "10000/10000 - 5s - loss: 0.4012 - accuracy: 0.9045\n",
            "Epoch 32/200\n",
            "10000/10000 - 5s - loss: 0.3499 - accuracy: 0.9204\n",
            "Epoch 33/200\n",
            "10000/10000 - 5s - loss: 0.3062 - accuracy: 0.9361\n",
            "Epoch 34/200\n",
            "10000/10000 - 5s - loss: 0.2714 - accuracy: 0.9436\n",
            "Epoch 35/200\n",
            "10000/10000 - 5s - loss: 0.2324 - accuracy: 0.9568\n",
            "Epoch 36/200\n",
            "10000/10000 - 5s - loss: 0.2034 - accuracy: 0.9646\n",
            "Epoch 37/200\n",
            "10000/10000 - 5s - loss: 0.1742 - accuracy: 0.9747\n",
            "Epoch 38/200\n",
            "10000/10000 - 5s - loss: 0.1557 - accuracy: 0.9745\n",
            "Epoch 39/200\n",
            "10000/10000 - 5s - loss: 0.1415 - accuracy: 0.9776\n",
            "Epoch 40/200\n",
            "10000/10000 - 5s - loss: 0.1235 - accuracy: 0.9829\n",
            "Epoch 41/200\n",
            "10000/10000 - 5s - loss: 0.1106 - accuracy: 0.9861\n",
            "Epoch 42/200\n",
            "10000/10000 - 5s - loss: 0.0981 - accuracy: 0.9880\n",
            "Epoch 43/200\n",
            "10000/10000 - 5s - loss: 0.0860 - accuracy: 0.9885\n",
            "Epoch 44/200\n",
            "10000/10000 - 5s - loss: 0.0777 - accuracy: 0.9898\n",
            "Epoch 45/200\n",
            "10000/10000 - 5s - loss: 0.0681 - accuracy: 0.9913\n",
            "Epoch 46/200\n",
            "10000/10000 - 5s - loss: 0.0662 - accuracy: 0.9917\n",
            "Epoch 47/200\n",
            "10000/10000 - 5s - loss: 0.0571 - accuracy: 0.9929\n",
            "Epoch 48/200\n",
            "10000/10000 - 5s - loss: 0.0524 - accuracy: 0.9935\n",
            "Epoch 49/200\n",
            "10000/10000 - 5s - loss: 0.0476 - accuracy: 0.9942\n",
            "Epoch 50/200\n",
            "10000/10000 - 5s - loss: 0.0429 - accuracy: 0.9939\n",
            "Epoch 51/200\n",
            "10000/10000 - 5s - loss: 0.0395 - accuracy: 0.9947\n",
            "Epoch 52/200\n",
            "10000/10000 - 5s - loss: 0.0386 - accuracy: 0.9941\n",
            "Epoch 53/200\n",
            "10000/10000 - 5s - loss: 0.0375 - accuracy: 0.9945\n",
            "Epoch 54/200\n",
            "10000/10000 - 5s - loss: 0.0342 - accuracy: 0.9961\n",
            "Epoch 55/200\n",
            "10000/10000 - 5s - loss: 0.0338 - accuracy: 0.9943\n",
            "Epoch 56/200\n",
            "10000/10000 - 5s - loss: 0.0284 - accuracy: 0.9961\n",
            "Epoch 57/200\n",
            "10000/10000 - 5s - loss: 0.0259 - accuracy: 0.9967\n",
            "Epoch 58/200\n",
            "10000/10000 - 5s - loss: 0.0284 - accuracy: 0.9956\n",
            "Epoch 59/200\n",
            "10000/10000 - 5s - loss: 0.0245 - accuracy: 0.9966\n",
            "Epoch 60/200\n",
            "10000/10000 - 5s - loss: 0.0248 - accuracy: 0.9960\n",
            "Epoch 61/200\n",
            "10000/10000 - 5s - loss: 0.0252 - accuracy: 0.9957\n",
            "Epoch 62/200\n",
            "10000/10000 - 5s - loss: 0.0221 - accuracy: 0.9968\n",
            "Epoch 63/200\n",
            "10000/10000 - 5s - loss: 0.0237 - accuracy: 0.9962\n",
            "Epoch 64/200\n",
            "10000/10000 - 5s - loss: 0.0236 - accuracy: 0.9956\n",
            "Epoch 65/200\n",
            "10000/10000 - 5s - loss: 0.0235 - accuracy: 0.9960\n",
            "Epoch 66/200\n",
            "10000/10000 - 5s - loss: 0.0180 - accuracy: 0.9975\n",
            "Epoch 67/200\n",
            "10000/10000 - 5s - loss: 0.0144 - accuracy: 0.9984\n",
            "Epoch 68/200\n",
            "10000/10000 - 5s - loss: 0.0151 - accuracy: 0.9975\n",
            "Epoch 69/200\n",
            "10000/10000 - 5s - loss: 0.0215 - accuracy: 0.9960\n",
            "Epoch 70/200\n",
            "10000/10000 - 5s - loss: 0.0153 - accuracy: 0.9977\n",
            "Epoch 71/200\n",
            "10000/10000 - 5s - loss: 0.0221 - accuracy: 0.9965\n",
            "Epoch 72/200\n",
            "10000/10000 - 5s - loss: 0.0235 - accuracy: 0.9953\n",
            "Epoch 73/200\n",
            "10000/10000 - 5s - loss: 0.0187 - accuracy: 0.9959\n",
            "Epoch 74/200\n",
            "10000/10000 - 5s - loss: 0.0136 - accuracy: 0.9982\n",
            "Epoch 75/200\n",
            "10000/10000 - 5s - loss: 0.0095 - accuracy: 0.9985\n",
            "Epoch 76/200\n",
            "10000/10000 - 5s - loss: 0.0111 - accuracy: 0.9984\n",
            "Epoch 77/200\n",
            "10000/10000 - 5s - loss: 0.0223 - accuracy: 0.9962\n",
            "Epoch 78/200\n",
            "10000/10000 - 5s - loss: 0.0193 - accuracy: 0.9959\n",
            "Epoch 79/200\n",
            "10000/10000 - 5s - loss: 0.0160 - accuracy: 0.9974\n",
            "Epoch 80/200\n",
            "10000/10000 - 5s - loss: 0.0106 - accuracy: 0.9988\n",
            "Epoch 81/200\n",
            "10000/10000 - 5s - loss: 0.0077 - accuracy: 0.9989\n",
            "Epoch 82/200\n",
            "10000/10000 - 5s - loss: 0.0067 - accuracy: 0.9990\n",
            "Epoch 83/200\n",
            "10000/10000 - 5s - loss: 0.0217 - accuracy: 0.9958\n",
            "Epoch 84/200\n",
            "10000/10000 - 5s - loss: 0.0338 - accuracy: 0.9917\n",
            "Epoch 85/200\n",
            "10000/10000 - 5s - loss: 0.0313 - accuracy: 0.9920\n",
            "Epoch 86/200\n",
            "10000/10000 - 5s - loss: 0.0194 - accuracy: 0.9959\n",
            "Epoch 87/200\n",
            "10000/10000 - 5s - loss: 0.0115 - accuracy: 0.9981\n",
            "Epoch 88/200\n",
            "10000/10000 - 5s - loss: 0.0078 - accuracy: 0.9989\n",
            "Epoch 89/200\n",
            "10000/10000 - 5s - loss: 0.0068 - accuracy: 0.9989\n",
            "Epoch 90/200\n",
            "10000/10000 - 5s - loss: 0.0050 - accuracy: 0.9993\n",
            "Epoch 91/200\n",
            "10000/10000 - 5s - loss: 0.0079 - accuracy: 0.9983\n",
            "Epoch 92/200\n",
            "10000/10000 - 5s - loss: 0.0309 - accuracy: 0.9915\n",
            "Epoch 93/200\n",
            "10000/10000 - 5s - loss: 0.0324 - accuracy: 0.9921\n",
            "Epoch 94/200\n",
            "10000/10000 - 5s - loss: 0.0190 - accuracy: 0.9966\n",
            "Epoch 95/200\n",
            "10000/10000 - 5s - loss: 0.0108 - accuracy: 0.9980\n",
            "Epoch 96/200\n",
            "10000/10000 - 5s - loss: 0.0101 - accuracy: 0.9984\n",
            "Epoch 97/200\n",
            "10000/10000 - 5s - loss: 0.0063 - accuracy: 0.9989\n",
            "Epoch 98/200\n",
            "10000/10000 - 5s - loss: 0.0055 - accuracy: 0.9992\n",
            "Epoch 99/200\n",
            "10000/10000 - 5s - loss: 0.0078 - accuracy: 0.9989\n",
            "Epoch 100/200\n",
            "10000/10000 - 5s - loss: 0.0127 - accuracy: 0.9970\n",
            "Epoch 101/200\n",
            "10000/10000 - 5s - loss: 0.0213 - accuracy: 0.9949\n",
            "Epoch 102/200\n",
            "10000/10000 - 5s - loss: 0.0184 - accuracy: 0.9954\n",
            "Epoch 103/200\n",
            "10000/10000 - 5s - loss: 0.0228 - accuracy: 0.9942\n",
            "Epoch 104/200\n",
            "10000/10000 - 5s - loss: 0.0161 - accuracy: 0.9969\n",
            "Epoch 105/200\n",
            "10000/10000 - 5s - loss: 0.0121 - accuracy: 0.9980\n",
            "Epoch 106/200\n",
            "10000/10000 - 5s - loss: 0.0080 - accuracy: 0.9988\n",
            "Epoch 107/200\n",
            "10000/10000 - 5s - loss: 0.0066 - accuracy: 0.9992\n",
            "Epoch 108/200\n",
            "10000/10000 - 5s - loss: 0.0028 - accuracy: 0.9998\n",
            "Epoch 109/200\n",
            "10000/10000 - 5s - loss: 0.0036 - accuracy: 0.9990\n",
            "Epoch 110/200\n",
            "10000/10000 - 5s - loss: 0.0055 - accuracy: 0.9990\n",
            "Epoch 111/200\n",
            "10000/10000 - 5s - loss: 0.0328 - accuracy: 0.9932\n",
            "Epoch 112/200\n",
            "10000/10000 - 5s - loss: 0.0416 - accuracy: 0.9890\n",
            "Epoch 113/200\n",
            "10000/10000 - 5s - loss: 0.0280 - accuracy: 0.9925\n",
            "Epoch 114/200\n",
            "10000/10000 - 5s - loss: 0.0155 - accuracy: 0.9968\n",
            "Epoch 115/200\n",
            "10000/10000 - 5s - loss: 0.0077 - accuracy: 0.9987\n",
            "Epoch 116/200\n",
            "10000/10000 - 5s - loss: 0.0028 - accuracy: 0.9997\n",
            "Epoch 117/200\n",
            "10000/10000 - 5s - loss: 0.0020 - accuracy: 0.9996\n",
            "Epoch 118/200\n",
            "10000/10000 - 5s - loss: 0.0020 - accuracy: 0.9998\n",
            "Epoch 119/200\n",
            "10000/10000 - 5s - loss: 0.0020 - accuracy: 0.9994\n",
            "Epoch 120/200\n",
            "10000/10000 - 5s - loss: 0.0093 - accuracy: 0.9974\n",
            "Epoch 121/200\n",
            "10000/10000 - 5s - loss: 0.0715 - accuracy: 0.9775\n",
            "Epoch 122/200\n",
            "10000/10000 - 5s - loss: 0.0466 - accuracy: 0.9866\n",
            "Epoch 123/200\n",
            "10000/10000 - 5s - loss: 0.0247 - accuracy: 0.9935\n",
            "Epoch 124/200\n",
            "10000/10000 - 5s - loss: 0.0159 - accuracy: 0.9964\n",
            "Epoch 125/200\n",
            "10000/10000 - 5s - loss: 0.0076 - accuracy: 0.9984\n",
            "Epoch 126/200\n",
            "10000/10000 - 5s - loss: 0.0071 - accuracy: 0.9983\n",
            "Epoch 127/200\n",
            "10000/10000 - 5s - loss: 0.0032 - accuracy: 0.9996\n",
            "Epoch 128/200\n",
            "10000/10000 - 5s - loss: 0.0012 - accuracy: 0.9999\n",
            "Epoch 129/200\n",
            "10000/10000 - 5s - loss: 0.0010 - accuracy: 0.9999\n",
            "Epoch 130/200\n",
            "10000/10000 - 5s - loss: 5.3074e-04 - accuracy: 0.9999\n",
            "Epoch 131/200\n",
            "10000/10000 - 5s - loss: 2.9833e-04 - accuracy: 1.0000\n",
            "Epoch 132/200\n",
            "10000/10000 - 5s - loss: 2.5401e-04 - accuracy: 1.0000\n",
            "Epoch 133/200\n",
            "10000/10000 - 5s - loss: 2.2281e-04 - accuracy: 1.0000\n",
            "Epoch 134/200\n",
            "10000/10000 - 5s - loss: 1.9814e-04 - accuracy: 1.0000\n",
            "Epoch 135/200\n",
            "10000/10000 - 5s - loss: 1.7720e-04 - accuracy: 1.0000\n",
            "Epoch 136/200\n",
            "10000/10000 - 5s - loss: 1.5918e-04 - accuracy: 1.0000\n",
            "Epoch 137/200\n",
            "10000/10000 - 5s - loss: 1.4330e-04 - accuracy: 1.0000\n",
            "Epoch 138/200\n",
            "10000/10000 - 5s - loss: 1.2907e-04 - accuracy: 1.0000\n",
            "Epoch 139/200\n",
            "10000/10000 - 5s - loss: 1.1625e-04 - accuracy: 1.0000\n",
            "Epoch 140/200\n",
            "10000/10000 - 5s - loss: 1.0465e-04 - accuracy: 1.0000\n",
            "Epoch 141/200\n",
            "10000/10000 - 5s - loss: 9.4282e-05 - accuracy: 1.0000\n",
            "Epoch 142/200\n",
            "10000/10000 - 5s - loss: 8.4779e-05 - accuracy: 1.0000\n",
            "Epoch 143/200\n",
            "10000/10000 - 5s - loss: 7.6051e-05 - accuracy: 1.0000\n",
            "Epoch 144/200\n",
            "10000/10000 - 5s - loss: 6.8235e-05 - accuracy: 1.0000\n",
            "Epoch 145/200\n",
            "10000/10000 - 5s - loss: 6.0988e-05 - accuracy: 1.0000\n",
            "Epoch 146/200\n",
            "10000/10000 - 5s - loss: 5.4541e-05 - accuracy: 1.0000\n",
            "Epoch 147/200\n",
            "10000/10000 - 5s - loss: 4.8715e-05 - accuracy: 1.0000\n",
            "Epoch 148/200\n",
            "10000/10000 - 5s - loss: 4.3290e-05 - accuracy: 1.0000\n",
            "Epoch 149/200\n",
            "10000/10000 - 5s - loss: 3.8503e-05 - accuracy: 1.0000\n",
            "Epoch 150/200\n",
            "10000/10000 - 5s - loss: 3.4054e-05 - accuracy: 1.0000\n",
            "Epoch 151/200\n",
            "10000/10000 - 5s - loss: 3.0240e-05 - accuracy: 1.0000\n",
            "Epoch 152/200\n",
            "10000/10000 - 5s - loss: 2.6735e-05 - accuracy: 1.0000\n",
            "Epoch 153/200\n",
            "10000/10000 - 5s - loss: 2.3570e-05 - accuracy: 1.0000\n",
            "Epoch 154/200\n",
            "10000/10000 - 5s - loss: 2.0770e-05 - accuracy: 1.0000\n",
            "Epoch 155/200\n",
            "10000/10000 - 5s - loss: 1.8271e-05 - accuracy: 1.0000\n",
            "Epoch 156/200\n",
            "10000/10000 - 5s - loss: 1.6010e-05 - accuracy: 1.0000\n",
            "Epoch 157/200\n",
            "10000/10000 - 5s - loss: 1.3984e-05 - accuracy: 1.0000\n",
            "Epoch 158/200\n",
            "10000/10000 - 5s - loss: 1.4239 - accuracy: 0.7445\n",
            "Epoch 159/200\n",
            "10000/10000 - 5s - loss: 1.1641 - accuracy: 0.7074\n",
            "Epoch 160/200\n",
            "10000/10000 - 5s - loss: 0.3027 - accuracy: 0.9036\n",
            "Epoch 161/200\n",
            "10000/10000 - 5s - loss: 0.1078 - accuracy: 0.9673\n",
            "Epoch 162/200\n",
            "10000/10000 - 5s - loss: 0.0521 - accuracy: 0.9851\n",
            "Epoch 163/200\n",
            "10000/10000 - 5s - loss: 0.0325 - accuracy: 0.9913\n",
            "Epoch 164/200\n",
            "10000/10000 - 5s - loss: 0.0183 - accuracy: 0.9965\n",
            "Epoch 165/200\n",
            "10000/10000 - 5s - loss: 0.0122 - accuracy: 0.9976\n",
            "Epoch 166/200\n",
            "10000/10000 - 5s - loss: 0.0062 - accuracy: 0.9992\n",
            "Epoch 167/200\n",
            "10000/10000 - 5s - loss: 0.0049 - accuracy: 0.9993\n",
            "Epoch 168/200\n",
            "10000/10000 - 5s - loss: 0.0075 - accuracy: 0.9990\n",
            "Epoch 169/200\n",
            "10000/10000 - 5s - loss: 0.0105 - accuracy: 0.9981\n",
            "Epoch 170/200\n",
            "10000/10000 - 5s - loss: 0.0118 - accuracy: 0.9974\n",
            "Epoch 171/200\n",
            "10000/10000 - 5s - loss: 0.0281 - accuracy: 0.9927\n",
            "Epoch 172/200\n",
            "10000/10000 - 5s - loss: 0.0277 - accuracy: 0.9931\n",
            "Epoch 173/200\n",
            "10000/10000 - 5s - loss: 0.0219 - accuracy: 0.9945\n",
            "Epoch 174/200\n",
            "10000/10000 - 5s - loss: 0.0170 - accuracy: 0.9958\n",
            "Epoch 175/200\n",
            "10000/10000 - 5s - loss: 0.0109 - accuracy: 0.9974\n",
            "Epoch 176/200\n",
            "10000/10000 - 5s - loss: 0.0047 - accuracy: 0.9992\n",
            "Epoch 177/200\n",
            "10000/10000 - 5s - loss: 0.0035 - accuracy: 0.9996\n",
            "Epoch 178/200\n",
            "10000/10000 - 5s - loss: 0.0031 - accuracy: 0.9994\n",
            "Epoch 179/200\n",
            "10000/10000 - 5s - loss: 0.0021 - accuracy: 0.9996\n",
            "Epoch 180/200\n",
            "10000/10000 - 5s - loss: 0.0033 - accuracy: 0.9994\n",
            "Epoch 181/200\n",
            "10000/10000 - 5s - loss: 0.0124 - accuracy: 0.9972\n",
            "Epoch 182/200\n",
            "10000/10000 - 5s - loss: 0.0521 - accuracy: 0.9848\n",
            "Epoch 183/200\n",
            "10000/10000 - 5s - loss: 0.0415 - accuracy: 0.9888\n",
            "Epoch 184/200\n",
            "10000/10000 - 5s - loss: 0.0200 - accuracy: 0.9950\n",
            "Epoch 185/200\n",
            "10000/10000 - 5s - loss: 0.0112 - accuracy: 0.9978\n",
            "Epoch 186/200\n",
            "10000/10000 - 5s - loss: 0.0049 - accuracy: 0.9990\n",
            "Epoch 187/200\n",
            "10000/10000 - 5s - loss: 0.0038 - accuracy: 0.9993\n",
            "Epoch 188/200\n",
            "10000/10000 - 5s - loss: 0.0042 - accuracy: 0.9993\n",
            "Epoch 189/200\n",
            "10000/10000 - 5s - loss: 0.0047 - accuracy: 0.9988\n",
            "Epoch 190/200\n",
            "10000/10000 - 5s - loss: 0.0136 - accuracy: 0.9965\n",
            "Epoch 191/200\n",
            "10000/10000 - 5s - loss: 0.0195 - accuracy: 0.9947\n",
            "Epoch 192/200\n",
            "10000/10000 - 5s - loss: 0.0173 - accuracy: 0.9959\n",
            "Epoch 193/200\n",
            "10000/10000 - 5s - loss: 0.0148 - accuracy: 0.9966\n",
            "Epoch 194/200\n",
            "10000/10000 - 5s - loss: 0.0082 - accuracy: 0.9981\n",
            "Epoch 195/200\n",
            "10000/10000 - 5s - loss: 0.0034 - accuracy: 0.9996\n",
            "Epoch 196/200\n",
            "10000/10000 - 5s - loss: 0.0037 - accuracy: 0.9994\n",
            "Epoch 197/200\n",
            "10000/10000 - 5s - loss: 0.0036 - accuracy: 0.9994\n",
            "Epoch 198/200\n",
            "10000/10000 - 5s - loss: 0.0099 - accuracy: 0.9981\n",
            "Epoch 199/200\n",
            "10000/10000 - 5s - loss: 0.0184 - accuracy: 0.9957\n",
            "Epoch 200/200\n",
            "10000/10000 - 5s - loss: 0.0229 - accuracy: 0.9940\n"
          ],
          "name": "stdout"
        },
        {
          "output_type": "execute_result",
          "data": {
            "text/plain": [
              "<tensorflow.python.keras.callbacks.History at 0x7f0e20c5f860>"
            ]
          },
          "metadata": {
            "tags": []
          },
          "execution_count": 52
        }
      ]
    },
    {
      "cell_type": "markdown",
      "metadata": {
        "id": "2lmIPUsoY97w",
        "colab_type": "text"
      },
      "source": [
        "The training loss keeps on decreasing and the accuracy keeps getting increased. This is a good sign. \n",
        "\n",
        "Now that the model is trained, we can employ it to generate characters on given sequences of characters. For doing this, the model would require the given inputs to be exactly in the shape with which it was trained. If we give an input sequence that does not *exactly* match with that of the training input sequences, we will get errors. \n",
        "\n",
        "We will use the `pad_sequences()` function which will truncate the characters from first the half of the test input sequences and padd extra characters if needed (0 essentially). We will define a small helper function for generating characters of user-specified length. The user will have to provide some initial text to the model, though. "
      ]
    },
    {
      "cell_type": "code",
      "metadata": {
        "id": "metgHf54PkRB",
        "colab_type": "code",
        "colab": {}
      },
      "source": [
        "def generate_seq(model, mapping, seq_length, init_text, n_chars):\n",
        "  in_text = init_text\n",
        "  # Generate a fixed number of characters\n",
        "  for _ in range(n_chars):\n",
        "    # Encode to integers\n",
        "    encoded = [mapping[char] for char in in_text]\n",
        "    # Map sequences to a fixed length\n",
        "    encoded = pad_sequences([encoded], maxlen=seq_length, padding='pre', truncating='pre')\n",
        "    # print(encoded.shape)\n",
        "    # One-hot encode\n",
        "    encoded = tf.keras.utils.to_categorical(encoded, num_classes=vocab_size)\n",
        "    # print(encoded.shape)\n",
        "    # Predict character\n",
        "    yhat = model.predict_classes(encoded, verbose=0)\n",
        "    # Integer -> Character\n",
        "    out_char = ''\n",
        "    for char, index in mapping.items():\n",
        "      if index == yhat:\n",
        "        out_char = char\n",
        "        break\n",
        "    # We append the characters after the input sequence\n",
        "    in_text += char\n",
        "  return in_text"
      ],
      "execution_count": 0,
      "outputs": []
    },
    {
      "cell_type": "code",
      "metadata": {
        "id": "FABjXZUgcJdj",
        "colab_type": "code",
        "colab": {
          "base_uri": "https://localhost:8080/",
          "height": 36
        },
        "outputId": "52dfe0cf-c567-4313-d61d-50bdce7d0bed"
      },
      "source": [
        "# Let's test\n",
        "print(generate_seq(model, mapping, 50, 'And Levin said', 20))"
      ],
      "execution_count": 54,
      "outputs": [
        {
          "output_type": "stream",
          "text": [
            "And Levin said. \"What's to be done\n"
          ],
          "name": "stdout"
        }
      ]
    },
    {
      "cell_type": "code",
      "metadata": {
        "id": "a5SnkI1IdqOV",
        "colab_type": "code",
        "colab": {
          "base_uri": "https://localhost:8080/",
          "height": 36
        },
        "outputId": "15a1c9e2-6179-4573-fb7e-248e671c90b8"
      },
      "source": [
        "print(generate_seq(model, mapping, 50, 'Happy families', 20))"
      ],
      "execution_count": 55,
      "outputs": [
        {
          "output_type": "stream",
          "text": [
            "Happy families, In the glance, in \n"
          ],
          "name": "stdout"
        }
      ]
    },
    {
      "cell_type": "markdown",
      "metadata": {
        "id": "6dZ6vPHejzZ6",
        "colab_type": "text"
      },
      "source": [
        "The model does generate something meaningful. At this stage it is really nothing apart from just one LSTM layer (and its power is evident). "
      ]
    }
  ]
}