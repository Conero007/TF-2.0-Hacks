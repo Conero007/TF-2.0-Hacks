{
  "nbformat": 4,
  "nbformat_minor": 0,
  "metadata": {
    "kernelspec": {
      "name": "python3",
      "display_name": "Python 3"
    },
    "language_info": {
      "codemirror_mode": {
        "name": "ipython",
        "version": 3
      },
      "file_extension": ".py",
      "mimetype": "text/x-python",
      "name": "python",
      "nbconvert_exporter": "python",
      "pygments_lexer": "ipython3",
      "version": "3.7.1"
    },
    "colab": {
      "name": "tf.keras blog post code samples.ipynb",
      "provenance": [],
      "collapsed_sections": []
    },
    "accelerator": "GPU"
  },
  "cells": [
    {
      "cell_type": "code",
      "metadata": {
        "id": "IdlJ__2jj3HY",
        "colab_type": "code",
        "colab": {}
      },
      "source": [
        "!pip install tensorflow-gpu"
      ],
      "execution_count": 0,
      "outputs": []
    },
    {
      "cell_type": "code",
      "metadata": {
        "id": "DMjHa-MYj1CK",
        "colab_type": "code",
        "colab": {
          "base_uri": "https://localhost:8080/",
          "height": 34
        },
        "outputId": "2030120d-44e3-4820-e080-26ec21aab88f"
      },
      "source": [
        "# Checks and setup\n",
        "import tensorflow as tf\n",
        "import os\n",
        "\n",
        "print(tf.__version__)"
      ],
      "execution_count": 2,
      "outputs": [
        {
          "output_type": "stream",
          "text": [
            "2.0.0\n"
          ],
          "name": "stdout"
        }
      ]
    },
    {
      "cell_type": "markdown",
      "metadata": {
        "id": "JoJYH1MRj1CP",
        "colab_type": "text"
      },
      "source": [
        "## Eager execution\n",
        "\n",
        "Since eager execution is enabled by default in TensorFlow 2.0 you _do not_ need to do anything to enable it. However, you can disable it by executing the following:\n",
        "\n",
        "```python\n",
        "import tensorflow as tf\n",
        "\n",
        "tf.compat.v1.disable_eager_execution()\n",
        "```\n",
        "\n",
        "If you want to know whether eager execution is enabled or not just execute `tf.executing_eagerly()`. "
      ]
    },
    {
      "cell_type": "markdown",
      "metadata": {
        "id": "eb_vsZ1xj1CQ",
        "colab_type": "text"
      },
      "source": [
        "## GradientTape\n",
        "\n",
        "## Part I"
      ]
    },
    {
      "cell_type": "code",
      "metadata": {
        "id": "dXUaXZjxj1CS",
        "colab_type": "code",
        "colab": {
          "base_uri": "https://localhost:8080/",
          "height": 68
        },
        "outputId": "0bfc5350-184c-4098-958a-fe3b02d28a71"
      },
      "source": [
        "a = tf.Variable(tf.random.normal(shape=(2, 2)))\n",
        "b = tf.random.normal(shape=(2, 2))\n",
        "\n",
        "with tf.GradientTape() as tape:\n",
        "    c = tf.sqrt(tf.square(a) + tf.square(b))  \n",
        "    # Gradient of `c` w.r.t `a`\n",
        "    dc_da = tape.gradient(c, a)\n",
        "    print(dc_da)"
      ],
      "execution_count": 3,
      "outputs": [
        {
          "output_type": "stream",
          "text": [
            "tf.Tensor(\n",
            "[[-0.76125926 -0.8547008 ]\n",
            " [-0.95074195  0.8155739 ]], shape=(2, 2), dtype=float32)\n"
          ],
          "name": "stdout"
        }
      ]
    },
    {
      "cell_type": "markdown",
      "metadata": {
        "id": "MXsghVMAj1CV",
        "colab_type": "text"
      },
      "source": [
        "## Part II"
      ]
    },
    {
      "cell_type": "code",
      "metadata": {
        "id": "EN0kBQWkj1CW",
        "colab_type": "code",
        "colab": {}
      },
      "source": [
        "# Imports\n",
        "from sklearn.datasets.samples_generator import make_blobs\n",
        "import matplotlib.pyplot as plt\n",
        "import numpy as np\n",
        "import time"
      ],
      "execution_count": 0,
      "outputs": []
    },
    {
      "cell_type": "code",
      "metadata": {
        "id": "d9teeZa6j1CZ",
        "colab_type": "code",
        "colab": {
          "base_uri": "https://localhost:8080/",
          "height": 34
        },
        "outputId": "aaeb4b01-fcf9-4b6e-edd4-32d9493dbd1d"
      },
      "source": [
        "# Generate some data\n",
        "X, y = make_blobs(n_samples=100, centers=2, n_features=2,\n",
        "                  random_state=666)\n",
        "\n",
        "X.shape, y.shape"
      ],
      "execution_count": 5,
      "outputs": [
        {
          "output_type": "execute_result",
          "data": {
            "text/plain": [
              "((100, 2), (100,))"
            ]
          },
          "metadata": {
            "tags": []
          },
          "execution_count": 5
        }
      ]
    },
    {
      "cell_type": "code",
      "metadata": {
        "id": "tRlAp4Oxj1Cc",
        "colab_type": "code",
        "colab": {
          "base_uri": "https://localhost:8080/",
          "height": 187
        },
        "outputId": "96a7715c-c446-4b8a-f46e-8b5785355d61"
      },
      "source": [
        "X[:10], y[:10]"
      ],
      "execution_count": 6,
      "outputs": [
        {
          "output_type": "execute_result",
          "data": {
            "text/plain": [
              "(array([[2.34769665, 3.84737956],\n",
              "        [2.25211721, 7.72836548],\n",
              "        [4.20334204, 8.19437057],\n",
              "        [4.56840252, 5.00758839],\n",
              "        [5.14209854, 8.60577994],\n",
              "        [5.3476516 , 4.49482029],\n",
              "        [0.77015549, 4.84023746],\n",
              "        [3.93882207, 7.52922765],\n",
              "        [4.41391444, 2.56506757],\n",
              "        [3.40315224, 8.62298395]]), array([1, 0, 0, 1, 0, 1, 1, 0, 1, 0]))"
            ]
          },
          "metadata": {
            "tags": []
          },
          "execution_count": 6
        }
      ]
    },
    {
      "cell_type": "code",
      "metadata": {
        "id": "BZYKCA5Pj1Cf",
        "colab_type": "code",
        "colab": {
          "base_uri": "https://localhost:8080/",
          "height": 269
        },
        "outputId": "cdd403a7-c07f-4f2d-86ee-675e27f1fed8"
      },
      "source": [
        "# Plot the data\n",
        "plt.scatter(X[:, 0], X[:, 1], c=y.reshape((100,1))[:, 0])\n",
        "plt.show()"
      ],
      "execution_count": 7,
      "outputs": [
        {
          "output_type": "display_data",
          "data": {
            "image/png": "[encoded data removed]",
            "text/plain": [
              "<Figure size 432x288 with 1 Axes>"
            ]
          },
          "metadata": {
            "tags": []
          }
        }
      ]
    },
    {
      "cell_type": "code",
      "metadata": {
        "id": "yDkahkQ-j1Ch",
        "colab_type": "code",
        "colab": {}
      },
      "source": [
        "# Define a model to fit the above data\n",
        "model = tf.keras.Sequential([\n",
        "    tf.keras.layers.Dropout(rate=0.2, input_shape=X.shape[1:]),\n",
        "    tf.keras.layers.Dense(units=64, activation='relu'),\n",
        "    tf.keras.layers.Dropout(rate=0.2),\n",
        "    tf.keras.layers.Dense(units=1, activation='sigmoid')\n",
        "])"
      ],
      "execution_count": 0,
      "outputs": []
    },
    {
      "cell_type": "code",
      "metadata": {
        "id": "MWpLN2pvj1Cl",
        "colab_type": "code",
        "colab": {}
      },
      "source": [
        "# Define loss and optimizer\n",
        "loss_func = tf.keras.losses.BinaryCrossentropy()\n",
        "optimizer = tf.keras.optimizers.Adam()"
      ],
      "execution_count": 0,
      "outputs": []
    },
    {
      "cell_type": "code",
      "metadata": {
        "id": "yAclaOGvj1Co",
        "colab_type": "code",
        "colab": {}
      },
      "source": [
        "@tf.function\n",
        "def train_loop(features, labels):\n",
        "    # Define the GradientTape context\n",
        "    with tf.GradientTape() as tape:\n",
        "        # Get the probabilities\n",
        "        predictions = model(features)\n",
        "        # Calculate the loss\n",
        "        loss = loss_func(labels, predictions)\n",
        "    # Get the gradients\n",
        "    gradients = tape.gradient(loss, model.trainable_variables)\n",
        "    # Update the weights\n",
        "    optimizer.apply_gradients(zip(gradients, model.trainable_variables))\n",
        "    return loss"
      ],
      "execution_count": 0,
      "outputs": []
    },
    {
      "cell_type": "code",
      "metadata": {
        "id": "hkqyX3mQj1Cs",
        "colab_type": "code",
        "colab": {}
      },
      "source": [
        "# Shuffle the data\n",
        "indices = np.random.permutation(len(X))\n",
        "features = X[indices]\n",
        "labels = y[indices]\n",
        "\n",
        "# Create batches of data\n",
        "dataset = tf.data.Dataset.from_tensor_slices((features, labels))\n",
        "dataset = dataset.shuffle(buffer_size=1024).batch(16)"
      ],
      "execution_count": 0,
      "outputs": []
    },
    {
      "cell_type": "code",
      "metadata": {
        "id": "j7dklDdOj1Cu",
        "colab_type": "code",
        "colab": {}
      },
      "source": [
        "# Train the model\n",
        "def train_model():\n",
        "    start = time.time()\n",
        "    for epoch in range(10):\n",
        "        for step, (x, y) in enumerate(dataset):\n",
        "            loss = train_loop(x, y)\n",
        "            print('Epoch %d: last batch loss = %.4f' % (epoch, float(loss)))\n",
        "    print(\"It took {} seconds\".format(time.time() - start))"
      ],
      "execution_count": 0,
      "outputs": []
    },
    {
      "cell_type": "code",
      "metadata": {
        "id": "RLW1G4ZAj1Cx",
        "colab_type": "code",
        "colab": {
          "base_uri": "https://localhost:8080/",
          "height": 1000
        },
        "outputId": "8e1ed840-2772-4d10-bb89-c87111666549"
      },
      "source": [
        "train_model()"
      ],
      "execution_count": 13,
      "outputs": [
        {
          "output_type": "stream",
          "text": [
            "WARNING:tensorflow:Layer dropout is casting an input tensor from dtype float64 to the layer's dtype of float32, which is new behavior in TensorFlow 2.  The layer has dtype float32 because it's dtype defaults to floatx.\n",
            "\n",
            "If you intended to run this layer in float32, you can safely ignore this warning. If in doubt, this warning is likely only an issue if you are porting a TensorFlow 1.X model to TensorFlow 2.\n",
            "\n",
            "To change all layers to have dtype float64 by default, call `tf.keras.backend.set_floatx('float64')`. To change just this layer, pass dtype='float64' to the layer constructor. If you are the author of this layer, you can disable autocasting by passing autocast=False to the base Layer constructor.\n",
            "\n",
            "Epoch 0: last batch loss = 0.8985\n",
            "Epoch 0: last batch loss = 0.6993\n",
            "Epoch 0: last batch loss = 0.8309\n",
            "Epoch 0: last batch loss = 0.7734\n",
            "Epoch 0: last batch loss = 0.7254\n",
            "Epoch 0: last batch loss = 0.7579\n",
            "Epoch 0: last batch loss = 0.7253\n",
            "Epoch 1: last batch loss = 0.6860\n",
            "Epoch 1: last batch loss = 0.7291\n",
            "Epoch 1: last batch loss = 0.7001\n",
            "Epoch 1: last batch loss = 0.7077\n",
            "Epoch 1: last batch loss = 0.6907\n",
            "Epoch 1: last batch loss = 0.6767\n",
            "Epoch 1: last batch loss = 0.6743\n",
            "Epoch 2: last batch loss = 0.6471\n",
            "Epoch 2: last batch loss = 0.6815\n",
            "Epoch 2: last batch loss = 0.6705\n",
            "Epoch 2: last batch loss = 0.6742\n",
            "Epoch 2: last batch loss = 0.6932\n",
            "Epoch 2: last batch loss = 0.7018\n",
            "Epoch 2: last batch loss = 0.6571\n",
            "Epoch 3: last batch loss = 0.6307\n",
            "Epoch 3: last batch loss = 0.7645\n",
            "Epoch 3: last batch loss = 0.6136\n",
            "Epoch 3: last batch loss = 0.6839\n",
            "Epoch 3: last batch loss = 0.6087\n",
            "Epoch 3: last batch loss = 0.7115\n",
            "Epoch 3: last batch loss = 0.5701\n",
            "Epoch 4: last batch loss = 0.7022\n",
            "Epoch 4: last batch loss = 0.5887\n",
            "Epoch 4: last batch loss = 0.6585\n",
            "Epoch 4: last batch loss = 0.6350\n",
            "Epoch 4: last batch loss = 0.6707\n",
            "Epoch 4: last batch loss = 0.6822\n",
            "Epoch 4: last batch loss = 0.6470\n",
            "Epoch 5: last batch loss = 0.5452\n",
            "Epoch 5: last batch loss = 0.6551\n",
            "Epoch 5: last batch loss = 0.6540\n",
            "Epoch 5: last batch loss = 0.6886\n",
            "Epoch 5: last batch loss = 0.7195\n",
            "Epoch 5: last batch loss = 0.6443\n",
            "Epoch 5: last batch loss = 0.5006\n",
            "Epoch 6: last batch loss = 0.6292\n",
            "Epoch 6: last batch loss = 0.5951\n",
            "Epoch 6: last batch loss = 0.6177\n",
            "Epoch 6: last batch loss = 0.6193\n",
            "Epoch 6: last batch loss = 0.5972\n",
            "Epoch 6: last batch loss = 0.7221\n",
            "Epoch 6: last batch loss = 0.7308\n",
            "Epoch 7: last batch loss = 0.6110\n",
            "Epoch 7: last batch loss = 0.6018\n",
            "Epoch 7: last batch loss = 0.6233\n",
            "Epoch 7: last batch loss = 0.6046\n",
            "Epoch 7: last batch loss = 0.6437\n",
            "Epoch 7: last batch loss = 0.6323\n",
            "Epoch 7: last batch loss = 0.7152\n",
            "Epoch 8: last batch loss = 0.5957\n",
            "Epoch 8: last batch loss = 0.5999\n",
            "Epoch 8: last batch loss = 0.6144\n",
            "Epoch 8: last batch loss = 0.6171\n",
            "Epoch 8: last batch loss = 0.6093\n",
            "Epoch 8: last batch loss = 0.6599\n",
            "Epoch 8: last batch loss = 0.6276\n",
            "Epoch 9: last batch loss = 0.6311\n",
            "Epoch 9: last batch loss = 0.6428\n",
            "Epoch 9: last batch loss = 0.5996\n",
            "Epoch 9: last batch loss = 0.6139\n",
            "Epoch 9: last batch loss = 0.5884\n",
            "Epoch 9: last batch loss = 0.6062\n",
            "Epoch 9: last batch loss = 0.5989\n",
            "It took 1.6045215129852295 seconds\n"
          ],
          "name": "stdout"
        }
      ]
    },
    {
      "cell_type": "markdown",
      "metadata": {
        "id": "W1hQmytpj1C4",
        "colab_type": "text"
      },
      "source": [
        "## Without `tf.function`"
      ]
    },
    {
      "cell_type": "code",
      "metadata": {
        "id": "f1stOFP7j1C6",
        "colab_type": "code",
        "colab": {}
      },
      "source": [
        "def train_loop(features, labels):\n",
        "    # Define the GradientTape context\n",
        "    with tf.GradientTape() as tape:\n",
        "        # Get the probabilities\n",
        "        predictions = model(features)\n",
        "        # Calculate the loss\n",
        "        loss = loss_func(labels, predictions)\n",
        "    # Get the gradients\n",
        "    gradients = tape.gradient(loss, model.trainable_variables)\n",
        "    # Update the weights\n",
        "    optimizer.apply_gradients(zip(gradients, model.trainable_variables))\n",
        "    return loss"
      ],
      "execution_count": 0,
      "outputs": []
    },
    {
      "cell_type": "code",
      "metadata": {
        "id": "HV4t1KDKj1DT",
        "colab_type": "code",
        "colab": {
          "base_uri": "https://localhost:8080/",
          "height": 1000
        },
        "outputId": "39bbac0d-ad61-4059-e462-2b8830215cc8"
      },
      "source": [
        "train_model()"
      ],
      "execution_count": 15,
      "outputs": [
        {
          "output_type": "stream",
          "text": [
            "Epoch 0: last batch loss = 0.6219\n",
            "Epoch 0: last batch loss = 0.6485\n",
            "Epoch 0: last batch loss = 0.6242\n",
            "Epoch 0: last batch loss = 0.5949\n",
            "Epoch 0: last batch loss = 0.5445\n",
            "Epoch 0: last batch loss = 0.6175\n",
            "Epoch 0: last batch loss = 0.5613\n",
            "Epoch 1: last batch loss = 0.5783\n",
            "Epoch 1: last batch loss = 0.5972\n",
            "Epoch 1: last batch loss = 0.5862\n",
            "Epoch 1: last batch loss = 0.6051\n",
            "Epoch 1: last batch loss = 0.6145\n",
            "Epoch 1: last batch loss = 0.6144\n",
            "Epoch 1: last batch loss = 0.5889\n",
            "Epoch 2: last batch loss = 0.5653\n",
            "Epoch 2: last batch loss = 0.6612\n",
            "Epoch 2: last batch loss = 0.5836\n",
            "Epoch 2: last batch loss = 0.5821\n",
            "Epoch 2: last batch loss = 0.6220\n",
            "Epoch 2: last batch loss = 0.5184\n",
            "Epoch 2: last batch loss = 0.6415\n",
            "Epoch 3: last batch loss = 0.7204\n",
            "Epoch 3: last batch loss = 0.5426\n",
            "Epoch 3: last batch loss = 0.6066\n",
            "Epoch 3: last batch loss = 0.5415\n",
            "Epoch 3: last batch loss = 0.5652\n",
            "Epoch 3: last batch loss = 0.5460\n",
            "Epoch 3: last batch loss = 0.5973\n",
            "Epoch 4: last batch loss = 0.6444\n",
            "Epoch 4: last batch loss = 0.5854\n",
            "Epoch 4: last batch loss = 0.5796\n",
            "Epoch 4: last batch loss = 0.6020\n",
            "Epoch 4: last batch loss = 0.5241\n",
            "Epoch 4: last batch loss = 0.5772\n",
            "Epoch 4: last batch loss = 0.4837\n",
            "Epoch 5: last batch loss = 0.5351\n",
            "Epoch 5: last batch loss = 0.5935\n",
            "Epoch 5: last batch loss = 0.6892\n",
            "Epoch 5: last batch loss = 0.5537\n",
            "Epoch 5: last batch loss = 0.5460\n",
            "Epoch 5: last batch loss = 0.5638\n",
            "Epoch 5: last batch loss = 0.5859\n",
            "Epoch 6: last batch loss = 0.6076\n",
            "Epoch 6: last batch loss = 0.5996\n",
            "Epoch 6: last batch loss = 0.5376\n",
            "Epoch 6: last batch loss = 0.5890\n",
            "Epoch 6: last batch loss = 0.5289\n",
            "Epoch 6: last batch loss = 0.6422\n",
            "Epoch 6: last batch loss = 0.3953\n",
            "Epoch 7: last batch loss = 0.6294\n",
            "Epoch 7: last batch loss = 0.6299\n",
            "Epoch 7: last batch loss = 0.5771\n",
            "Epoch 7: last batch loss = 0.5796\n",
            "Epoch 7: last batch loss = 0.4857\n",
            "Epoch 7: last batch loss = 0.4984\n",
            "Epoch 7: last batch loss = 0.6125\n",
            "Epoch 8: last batch loss = 0.5398\n",
            "Epoch 8: last batch loss = 0.5576\n",
            "Epoch 8: last batch loss = 0.4993\n",
            "Epoch 8: last batch loss = 0.6194\n",
            "Epoch 8: last batch loss = 0.5872\n",
            "Epoch 8: last batch loss = 0.5893\n",
            "Epoch 8: last batch loss = 0.5239\n",
            "Epoch 9: last batch loss = 0.5601\n",
            "Epoch 9: last batch loss = 0.5246\n",
            "Epoch 9: last batch loss = 0.4954\n",
            "Epoch 9: last batch loss = 0.5682\n",
            "Epoch 9: last batch loss = 0.5798\n",
            "Epoch 9: last batch loss = 0.6051\n",
            "Epoch 9: last batch loss = 0.6627\n",
            "It took 1.115654706954956 seconds\n"
          ],
          "name": "stdout"
        }
      ]
    },
    {
      "cell_type": "markdown",
      "metadata": {
        "id": "HIfQh4eEj1Dh",
        "colab_type": "text"
      },
      "source": [
        "Slower!"
      ]
    },
    {
      "cell_type": "markdown",
      "metadata": {
        "id": "PY45TbSqj1Dj",
        "colab_type": "text"
      },
      "source": [
        "## Model subclassing"
      ]
    },
    {
      "cell_type": "code",
      "metadata": {
        "id": "gY4hMv86j1Dr",
        "colab_type": "code",
        "colab": {}
      },
      "source": [
        "class LeNet(tf.keras.Model):\n",
        "    def __init__(self):\n",
        "        super(LeNet, self).__init__()\n",
        "        self.conv2d_1 = tf.keras.layers.Conv2D(filters=6, \n",
        "                           kernel_size=(3, 3), activation='relu', \n",
        "                           input_shape=(32,32,1))\n",
        "        self.average_pool = tf.keras.layers.AveragePooling2D()\n",
        "        self.conv2d_2 = tf.keras.layers.Conv2D(filters=16, \n",
        "                           kernel_size=(3, 3), activation='relu')\n",
        "        self.flatten = tf.keras.layers.Flatten()\n",
        "        self.fc_1 = tf.keras.layers.Dense(120, activation='relu')\n",
        "        self.fc_2 = tf.keras.layers.Dense(84, activation='relu')\n",
        "        self.out = tf.keras.layers.Dense(10, activation='softmax')\n",
        "        \n",
        "    def call(self, input):\n",
        "        x = self.conv2d_1(input)\n",
        "        x = self.average_pool(x)\n",
        "        x = self.conv2d_2(x)\n",
        "        x = self.average_pool(x)\n",
        "        x = self.flatten(x)\n",
        "        x = self.fc_2(self.fc_1(x))\n",
        "        return self.out(x)\n",
        "    \n",
        "lenet = LeNet()"
      ],
      "execution_count": 0,
      "outputs": []
    },
    {
      "cell_type": "markdown",
      "metadata": {
        "id": "Z5pGyWQhj1Dx",
        "colab_type": "text"
      },
      "source": [
        "## Distributed training\n",
        "\n",
        "Currently, for `tf.keras` [MirroredStrategy](https://www.tensorflow.org/guide/distributed_training#mirroredstrategy) works the best (reference: https://www.tensorflow.org/guide/distributed_training#types_of_strategies). We first need to define the strategy with which we want to train our model:"
      ]
    },
    {
      "cell_type": "code",
      "metadata": {
        "id": "rl8YvsEKj1D4",
        "colab_type": "code",
        "colab": {}
      },
      "source": [
        "strategy = tf.distribute.MirroredStrategy()"
      ],
      "execution_count": 0,
      "outputs": []
    },
    {
      "cell_type": "code",
      "metadata": {
        "id": "vg6bTq9Bj1EC",
        "colab_type": "code",
        "colab": {
          "base_uri": "https://localhost:8080/",
          "height": 34
        },
        "outputId": "5fcf4323-e036-4395-cf06-643c2e0faf41"
      },
      "source": [
        "# Since I don't have multiple GPUs :P\n",
        "print('Number of devices: {}'.format(strategy.num_replicas_in_sync))"
      ],
      "execution_count": 18,
      "outputs": [
        {
          "output_type": "stream",
          "text": [
            "Number of devices: 1\n"
          ],
          "name": "stdout"
        }
      ]
    },
    {
      "cell_type": "code",
      "metadata": {
        "id": "k37pWSXDj1EN",
        "colab_type": "code",
        "colab": {
          "base_uri": "https://localhost:8080/",
          "height": 51
        },
        "outputId": "b1b1d5a5-7c6d-4e56-94d6-8f2639a1b262"
      },
      "source": [
        "# Call the distribution scope context manager\n",
        "with strategy.scope():\n",
        "    # Define a model to fit the above data\n",
        "    model = tf.keras.Sequential([\n",
        "        tf.keras.layers.Dropout(rate=0.2, input_shape=X.shape[1:]),\n",
        "        tf.keras.layers.Dense(units=64, activation='relu'),\n",
        "        tf.keras.layers.Dropout(rate=0.2),\n",
        "        tf.keras.layers.Dense(units=1, activation='sigmoid')\n",
        "    ])\n",
        "    \n",
        "    # Compile the model\n",
        "    model.compile(loss='binary_crossentropy',\n",
        "                optimizer='adam',\n",
        "                metrics=['accuracy'])"
      ],
      "execution_count": 19,
      "outputs": [
        {
          "output_type": "stream",
          "text": [
            "INFO:tensorflow:Reduce to /job:localhost/replica:0/task:0/device:CPU:0 then broadcast to ('/job:localhost/replica:0/task:0/device:CPU:0',).\n",
            "INFO:tensorflow:Reduce to /job:localhost/replica:0/task:0/device:CPU:0 then broadcast to ('/job:localhost/replica:0/task:0/device:CPU:0',).\n"
          ],
          "name": "stdout"
        }
      ]
    },
    {
      "cell_type": "code",
      "metadata": {
        "id": "WJgak2Qfj1ET",
        "colab_type": "code",
        "colab": {
          "base_uri": "https://localhost:8080/",
          "height": 289
        },
        "outputId": "3ae17f1d-e0d8-4e42-c84d-b6fabfbdb103"
      },
      "source": [
        "# Train the model\n",
        "model.fit(X, y, epochs=5)"
      ],
      "execution_count": 20,
      "outputs": [
        {
          "output_type": "stream",
          "text": [
            "Train on 100 samples\n",
            "Epoch 1/5\n",
            "INFO:tensorflow:Reduce to /job:localhost/replica:0/task:0/device:CPU:0 then broadcast to ('/job:localhost/replica:0/task:0/device:CPU:0',).\n",
            "INFO:tensorflow:Reduce to /job:localhost/replica:0/task:0/device:CPU:0 then broadcast to ('/job:localhost/replica:0/task:0/device:CPU:0',).\n",
            "INFO:tensorflow:Reduce to /job:localhost/replica:0/task:0/device:CPU:0 then broadcast to ('/job:localhost/replica:0/task:0/device:CPU:0',).\n",
            "INFO:tensorflow:Reduce to /job:localhost/replica:0/task:0/device:CPU:0 then broadcast to ('/job:localhost/replica:0/task:0/device:CPU:0',).\n",
            "100/100 [==============================] - 2s 18ms/sample - loss: 0.8513 - accuracy: 0.5000\n",
            "Epoch 2/5\n",
            "100/100 [==============================] - 0s 265us/sample - loss: 0.7999 - accuracy: 0.3900\n",
            "Epoch 3/5\n",
            "100/100 [==============================] - 0s 226us/sample - loss: 0.7113 - accuracy: 0.5200\n",
            "Epoch 4/5\n",
            "100/100 [==============================] - 0s 252us/sample - loss: 0.7807 - accuracy: 0.3900\n",
            "Epoch 5/5\n",
            "100/100 [==============================] - 0s 224us/sample - loss: 0.7524 - accuracy: 0.5100\n"
          ],
          "name": "stdout"
        },
        {
          "output_type": "execute_result",
          "data": {
            "text/plain": [
              "<tensorflow.python.keras.callbacks.History at 0x7f921966cb70>"
            ]
          },
          "metadata": {
            "tags": []
          },
          "execution_count": 20
        }
      ]
    }
  ]
}