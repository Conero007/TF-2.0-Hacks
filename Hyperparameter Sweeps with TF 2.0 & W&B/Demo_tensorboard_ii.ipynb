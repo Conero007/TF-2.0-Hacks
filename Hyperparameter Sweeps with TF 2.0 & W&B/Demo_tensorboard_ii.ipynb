{
  "nbformat": 4,
  "nbformat_minor": 0,
  "metadata": {
    "kernelspec": {
      "name": "python3",
      "display_name": "Python 3"
    },
    "language_info": {
      "codemirror_mode": {
        "name": "ipython",
        "version": 3
      },
      "file_extension": ".py",
      "mimetype": "text/x-python",
      "name": "python",
      "nbconvert_exporter": "python",
      "pygments_lexer": "ipython3",
      "version": "3.5.3"
    },
    "colab": {
      "name": "Demo_tensorboard.ipynb",
      "provenance": [],
      "collapsed_sections": []
    },
    "accelerator": "GPU"
  },
  "cells": [
    {
      "cell_type": "code",
      "metadata": {
        "id": "Z5ZHrNOX6F8g",
        "colab_type": "code",
        "outputId": "45f597b9-c0d9-4bd7-bdc2-e7330d433ec8",
        "colab": {
          "base_uri": "https://localhost:8080/",
          "height": 34
        }
      },
      "source": [
        "# Select TensorFlow 2.0\n",
        "%tensorflow_version 2.x"
      ],
      "execution_count": 1,
      "outputs": [
        {
          "output_type": "stream",
          "text": [
            "TensorFlow 2.x selected.\n"
          ],
          "name": "stdout"
        }
      ]
    },
    {
      "cell_type": "code",
      "metadata": {
        "id": "JiQDKKao6KoO",
        "colab_type": "code",
        "colab": {}
      },
      "source": [
        "# Install Weights and Biases\n",
        "!pip install wandb"
      ],
      "execution_count": 0,
      "outputs": []
    },
    {
      "cell_type": "code",
      "metadata": {
        "id": "2xKhB06-6DSB",
        "colab_type": "code",
        "colab": {}
      },
      "source": [
        "# Imports\n",
        "from tensorflow.keras.datasets import fashion_mnist\n",
        "from tensorflow.keras.models import Sequential\n",
        "from tensorflow.keras.layers import Conv2D, MaxPooling2D, Dropout, Dense, Flatten\n",
        "from tensorflow.keras import utils\n",
        "from tensorflow.keras.optimizers import SGD\n",
        "from tensorflow.keras.callbacks import TensorBoard\n",
        "\n",
        "import wandb\n",
        "from wandb.keras import WandbCallback"
      ],
      "execution_count": 0,
      "outputs": []
    },
    {
      "cell_type": "code",
      "metadata": {
        "id": "WrOqgXc16Pki",
        "colab_type": "code",
        "colab": {}
      },
      "source": [
        "# Login to your W&B account\n",
        "!wandb login"
      ],
      "execution_count": 0,
      "outputs": []
    },
    {
      "cell_type": "code",
      "metadata": {
        "id": "rDUf-OBO6DSG",
        "colab_type": "code",
        "outputId": "1a3f7cae-bf8a-48f6-9bb3-3a4cd9cc31e6",
        "colab": {
          "base_uri": "https://localhost:8080/",
          "height": 68
        }
      },
      "source": [
        "# Initialize your W&B project allowing it to sync with TensorBoard\n",
        "wandb.init(project=\"tensorboard-integration-partII\", sync_tensorboard=True)\n",
        "config = wandb.config"
      ],
      "execution_count": 5,
      "outputs": [
        {
          "output_type": "display_data",
          "data": {
            "text/html": [
              "\n",
              "                Logging results to <a href=\"https://wandb.com\" target=\"_blank\">Weights & Biases</a> <a href=\"https://docs.wandb.com/integrations/jupyter.html\" target=\"_blank\">(Documentation)</a>.<br/>\n",
              "                Project page: <a href=\"https://app.wandb.ai/sayakpaul/tensorboard-integration-partII\" target=\"_blank\">https://app.wandb.ai/sayakpaul/tensorboard-integration-partII</a><br/>\n",
              "                Run page: <a href=\"https://app.wandb.ai/sayakpaul/tensorboard-integration-partII/runs/kundvfkn\" target=\"_blank\">https://app.wandb.ai/sayakpaul/tensorboard-integration-partII/runs/kundvfkn</a><br/>\n",
              "            "
            ],
            "text/plain": [
              "<IPython.core.display.HTML object>"
            ]
          },
          "metadata": {
            "tags": []
          }
        }
      ]
    },
    {
      "cell_type": "code",
      "metadata": {
        "id": "6uBarjh76DSL",
        "colab_type": "code",
        "colab": {}
      },
      "source": [
        "# Specify the configuration variables\n",
        "config.dropout = 0.2\n",
        "config.hidden_layer_size = 128\n",
        "config.layer_1_size  = 16\n",
        "config.layer_2_size = 32\n",
        "config.learn_rate = 0.01\n",
        "config.decay = 1e-6\n",
        "config.momentum = 0.9\n",
        "config.epochs = 25"
      ],
      "execution_count": 0,
      "outputs": []
    },
    {
      "cell_type": "code",
      "metadata": {
        "id": "9dFCHnAO6DSO",
        "colab_type": "code",
        "outputId": "c5d84e12-afe5-4ded-9253-b682ed0c8f8a",
        "colab": {
          "base_uri": "https://localhost:8080/",
          "height": 153
        }
      },
      "source": [
        "# Load and preprocess the data\n",
        "(X_train, y_train), (X_test, y_test) = fashion_mnist.load_data()\n",
        "labels=[\"T-shirt/top\",\"Trouser\",\"Pullover\",\"Dress\",\"Coat\",\n",
        "        \"Sandal\",\"Shirt\",\"Sneaker\",\"Bag\",\"Ankle boot\"]\n",
        "\n",
        "img_width=28\n",
        "img_height=28\n",
        "\n",
        "X_train = X_train.astype('float32')\n",
        "X_train /= 255.\n",
        "X_test = X_test.astype('float32')\n",
        "X_test /= 255.\n",
        "\n",
        "# Reshape input data\n",
        "X_train = X_train.reshape(X_train.shape[0], img_width, img_height, 1)\n",
        "X_test = X_test.reshape(X_test.shape[0], img_width, img_height, 1)\n",
        "\n",
        "# One hot encode outputs\n",
        "y_train = utils.to_categorical(y_train)\n",
        "y_test = utils.to_categorical(y_test)\n",
        "num_classes = y_test.shape[1]"
      ],
      "execution_count": 7,
      "outputs": [
        {
          "output_type": "stream",
          "text": [
            "Downloading data from https://storage.googleapis.com/tensorflow/tf-keras-datasets/train-labels-idx1-ubyte.gz\n",
            "32768/29515 [=================================] - 0s 0us/step\n",
            "Downloading data from https://storage.googleapis.com/tensorflow/tf-keras-datasets/train-images-idx3-ubyte.gz\n",
            "26427392/26421880 [==============================] - 0s 0us/step\n",
            "Downloading data from https://storage.googleapis.com/tensorflow/tf-keras-datasets/t10k-labels-idx1-ubyte.gz\n",
            "8192/5148 [===============================================] - 0s 0us/step\n",
            "Downloading data from https://storage.googleapis.com/tensorflow/tf-keras-datasets/t10k-images-idx3-ubyte.gz\n",
            "4423680/4422102 [==============================] - 0s 0us/step\n"
          ],
          "name": "stdout"
        }
      ]
    },
    {
      "cell_type": "code",
      "metadata": {
        "id": "0s5c6sIW6DSQ",
        "colab_type": "code",
        "outputId": "48a9b8f1-25e9-4c5d-b57a-5b0b18fc84b2",
        "colab": {
          "base_uri": "https://localhost:8080/",
          "height": 938
        }
      },
      "source": [
        "# Train the model\n",
        "sgd = SGD(lr=config.learn_rate, decay=config.decay, momentum=config.momentum,\n",
        "                            nesterov=True)\n",
        "\n",
        "model = Sequential()\n",
        "model.add(Conv2D(config.layer_1_size, (5, 5), activation='relu',\n",
        "                            input_shape=(img_width, img_height,1)))\n",
        "model.add(MaxPooling2D(pool_size=(2, 2)))\n",
        "model.add(Conv2D(config.layer_2_size, (5, 5), activation='relu'))\n",
        "model.add(MaxPooling2D(pool_size=(2, 2)))\n",
        "model.add(Dropout(config.dropout))\n",
        "model.add(Flatten())\n",
        "model.add(Dense(config.hidden_layer_size, activation='relu'))\n",
        "model.add(Dense(num_classes, activation='softmax'))\n",
        "\n",
        "model.compile(loss='categorical_crossentropy', optimizer=sgd, metrics=['accuracy'])\n",
        "\n",
        "# The WandbCallback logs metrics and some examples of the test data\n",
        "model.fit(X_train, y_train,  validation_data=(X_test, y_test), epochs=config.epochs,\n",
        "    callbacks=[WandbCallback(data_type=\"image\", labels=labels), \n",
        "               TensorBoard(log_dir=wandb.run.dir)])"
      ],
      "execution_count": 0,
      "outputs": [
        {
          "output_type": "stream",
          "text": [
            "Train on 60000 samples, validate on 10000 samples\n",
            "Epoch 1/25\n",
            "   32/60000 [..............................] - ETA: 3:35:26 - loss: 2.3110 - accuracy: 0.0625WARNING:tensorflow:Method (on_train_batch_end) is slow compared to the batch update (0.182700). Check your callbacks.\n",
            "60000/60000 [==============================] - 16s 260us/sample - loss: 0.5526 - accuracy: 0.7980 - val_loss: 0.3900 - val_accuracy: 0.8572\n",
            "Epoch 2/25\n",
            "60000/60000 [==============================] - 8s 138us/sample - loss: 0.3708 - accuracy: 0.8651 - val_loss: 0.3398 - val_accuracy: 0.8751\n",
            "Epoch 3/25\n",
            "60000/60000 [==============================] - 8s 134us/sample - loss: 0.3329 - accuracy: 0.8784 - val_loss: 0.3359 - val_accuracy: 0.8722\n",
            "Epoch 4/25\n",
            "60000/60000 [==============================] - 8s 132us/sample - loss: 0.3091 - accuracy: 0.8854 - val_loss: 0.3047 - val_accuracy: 0.8898\n",
            "Epoch 5/25\n",
            "60000/60000 [==============================] - 8s 132us/sample - loss: 0.2913 - accuracy: 0.8921 - val_loss: 0.3076 - val_accuracy: 0.8889\n",
            "Epoch 6/25\n",
            "60000/60000 [==============================] - 8s 134us/sample - loss: 0.2769 - accuracy: 0.8971 - val_loss: 0.2917 - val_accuracy: 0.8911\n",
            "Epoch 7/25\n",
            "60000/60000 [==============================] - 8s 131us/sample - loss: 0.2625 - accuracy: 0.9007 - val_loss: 0.2905 - val_accuracy: 0.8975\n",
            "Epoch 8/25\n",
            "60000/60000 [==============================] - 8s 137us/sample - loss: 0.2540 - accuracy: 0.9064 - val_loss: 0.2773 - val_accuracy: 0.9016\n",
            "Epoch 9/25\n",
            "60000/60000 [==============================] - 8s 140us/sample - loss: 0.2464 - accuracy: 0.9075 - val_loss: 0.2900 - val_accuracy: 0.8948\n",
            "Epoch 10/25\n",
            "60000/60000 [==============================] - 8s 135us/sample - loss: 0.2390 - accuracy: 0.9100 - val_loss: 0.2890 - val_accuracy: 0.8924\n",
            "Epoch 11/25\n",
            "60000/60000 [==============================] - 8s 138us/sample - loss: 0.2313 - accuracy: 0.9140 - val_loss: 0.2703 - val_accuracy: 0.9019\n",
            "Epoch 12/25\n",
            "60000/60000 [==============================] - 8s 135us/sample - loss: 0.2265 - accuracy: 0.9157 - val_loss: 0.2660 - val_accuracy: 0.9010\n",
            "Epoch 13/25\n",
            "60000/60000 [==============================] - 8s 134us/sample - loss: 0.2188 - accuracy: 0.9158 - val_loss: 0.2719 - val_accuracy: 0.9043\n",
            "Epoch 14/25\n",
            "60000/60000 [==============================] - 8s 133us/sample - loss: 0.2130 - accuracy: 0.9190 - val_loss: 0.2742 - val_accuracy: 0.9023\n",
            "Epoch 15/25\n",
            "60000/60000 [==============================] - 8s 132us/sample - loss: 0.2078 - accuracy: 0.9207 - val_loss: 0.2681 - val_accuracy: 0.9040\n",
            "Epoch 16/25\n",
            "60000/60000 [==============================] - 8s 141us/sample - loss: 0.2058 - accuracy: 0.9212 - val_loss: 0.2715 - val_accuracy: 0.9029\n",
            "Epoch 17/25\n",
            "60000/60000 [==============================] - 8s 135us/sample - loss: 0.1970 - accuracy: 0.9247 - val_loss: 0.2852 - val_accuracy: 0.8951\n",
            "Epoch 18/25\n",
            "60000/60000 [==============================] - 8s 134us/sample - loss: 0.1929 - accuracy: 0.9262 - val_loss: 0.2749 - val_accuracy: 0.9018\n",
            "Epoch 19/25\n",
            "60000/60000 [==============================] - 8s 133us/sample - loss: 0.1906 - accuracy: 0.9275 - val_loss: 0.2717 - val_accuracy: 0.9001\n",
            "Epoch 20/25\n",
            "60000/60000 [==============================] - 8s 134us/sample - loss: 0.1838 - accuracy: 0.9290 - val_loss: 0.2768 - val_accuracy: 0.8993\n",
            "Epoch 21/25\n",
            "60000/60000 [==============================] - 8s 135us/sample - loss: 0.1825 - accuracy: 0.9317 - val_loss: 0.2893 - val_accuracy: 0.9009\n",
            "Epoch 22/25\n",
            "60000/60000 [==============================] - 8s 134us/sample - loss: 0.1765 - accuracy: 0.9329 - val_loss: 0.2695 - val_accuracy: 0.9037\n",
            "Epoch 23/25\n",
            "60000/60000 [==============================] - 8s 134us/sample - loss: 0.1740 - accuracy: 0.9336 - val_loss: 0.2796 - val_accuracy: 0.9021\n",
            "Epoch 24/25\n",
            "60000/60000 [==============================] - 8s 139us/sample - loss: 0.1680 - accuracy: 0.9355 - val_loss: 0.2908 - val_accuracy: 0.9041\n",
            "Epoch 25/25\n",
            "60000/60000 [==============================] - 8s 135us/sample - loss: 0.1680 - accuracy: 0.9359 - val_loss: 0.2963 - val_accuracy: 0.8997\n"
          ],
          "name": "stdout"
        },
        {
          "output_type": "execute_result",
          "data": {
            "text/plain": [
              "<tensorflow.python.keras.callbacks.History at 0x7f01e1299160>"
            ]
          },
          "metadata": {
            "tags": []
          },
          "execution_count": 8
        }
      ]
    },
    {
      "cell_type": "markdown",
      "metadata": {
        "id": "qveZwzeS_t4B",
        "colab_type": "text"
      },
      "source": [
        "Run page: https://app.wandb.ai/sayakpaul/tensorboard-integration-partII"
      ]
    },
    {
      "cell_type": "markdown",
      "metadata": {
        "id": "PGJTP4G8d10D",
        "colab_type": "text"
      },
      "source": [
        "## Plotting confusion matrix in TensorBoard\n",
        "\n",
        "Reference: https://www.tensorflow.org/tensorboard/image_summaries"
      ]
    },
    {
      "cell_type": "code",
      "metadata": {
        "id": "yYzdMkkZd77Q",
        "colab_type": "code",
        "colab": {}
      },
      "source": [
        "from sklearn.metrics import confusion_matrix\n",
        "from datetime import datetime\n",
        "import matplotlib.pyplot as plt\n",
        "import tensorflow as tf\n",
        "import numpy as np\n",
        "import itertools\n",
        "import io"
      ],
      "execution_count": 0,
      "outputs": []
    },
    {
      "cell_type": "code",
      "metadata": {
        "id": "DrGZf62RsQB_",
        "colab_type": "code",
        "colab": {
          "base_uri": "https://localhost:8080/",
          "height": 85
        },
        "outputId": "ce07d053-023a-4fee-8972-4bfe8cce9e8d"
      },
      "source": [
        "# Re-init wandb\n",
        "wandb.init(project=\"tensorboard-integration-partII\", sync_tensorboard=True)"
      ],
      "execution_count": 47,
      "outputs": [
        {
          "output_type": "display_data",
          "data": {
            "text/html": [
              "\n",
              "                Logging results to <a href=\"https://wandb.com\" target=\"_blank\">Weights & Biases</a> <a href=\"https://docs.wandb.com/integrations/jupyter.html\" target=\"_blank\">(Documentation)</a>.<br/>\n",
              "                Project page: <a href=\"https://app.wandb.ai/sayakpaul/tensorboard-integration-partII\" target=\"_blank\">https://app.wandb.ai/sayakpaul/tensorboard-integration-partII</a><br/>\n",
              "                Run page: <a href=\"https://app.wandb.ai/sayakpaul/tensorboard-integration-partII/runs/weahshb2\" target=\"_blank\">https://app.wandb.ai/sayakpaul/tensorboard-integration-partII/runs/weahshb2</a><br/>\n",
              "            "
            ],
            "text/plain": [
              "<IPython.core.display.HTML object>"
            ]
          },
          "metadata": {
            "tags": []
          }
        },
        {
          "output_type": "execute_result",
          "data": {
            "text/plain": [
              "W&B Run: https://app.wandb.ai/sayakpaul/tensorboard-integration-partII/runs/weahshb2"
            ]
          },
          "metadata": {
            "tags": []
          },
          "execution_count": 47
        }
      ]
    },
    {
      "cell_type": "code",
      "metadata": {
        "id": "DrbN-T6QfSmt",
        "colab_type": "code",
        "colab": {}
      },
      "source": [
        "# Configure the run directory\n",
        "logdir = wandb.run.dir\n",
        "file_writer_cm = tf.summary.create_file_writer(logdir)"
      ],
      "execution_count": 0,
      "outputs": []
    },
    {
      "cell_type": "code",
      "metadata": {
        "id": "DzgKxWZkeTL3",
        "colab_type": "code",
        "colab": {}
      },
      "source": [
        "def plot_confusion_matrix(cm, class_names):\n",
        "    figure = plt.figure(figsize=(8, 8))\n",
        "    plt.imshow(cm, interpolation='nearest', cmap=plt.cm.Blues)\n",
        "    plt.title(\"Confusion matrix\")\n",
        "    plt.colorbar()\n",
        "    tick_marks = np.arange(len(class_names))\n",
        "    plt.xticks(tick_marks, class_names, rotation=45)\n",
        "    plt.yticks(tick_marks, class_names)\n",
        "\n",
        "    # Normalize the confusion matrix.\n",
        "    cm = np.around(cm.astype('float') / cm.sum(axis=1)[:, np.newaxis], decimals=2)\n",
        "\n",
        "    # Use white text if squares are dark; otherwise black.\n",
        "    threshold = cm.max() / 2.\n",
        "    for i, j in itertools.product(range(cm.shape[0]), range(cm.shape[1])):\n",
        "        color = \"white\" if cm[i, j] > threshold else \"black\"\n",
        "        plt.text(j, i, cm[i, j], horizontalalignment=\"center\", color=color)\n",
        "\n",
        "    plt.tight_layout()\n",
        "    plt.ylabel('True label')\n",
        "    plt.xlabel('Predicted label')\n",
        "    \n",
        "    return figure"
      ],
      "execution_count": 0,
      "outputs": []
    },
    {
      "cell_type": "code",
      "metadata": {
        "id": "gHgur53Gem-d",
        "colab_type": "code",
        "colab": {}
      },
      "source": [
        "def plot_to_image(figure):\n",
        "    \"\"\"Converts the matplotlib plot specified by 'figure' to a PNG image and\n",
        "    returns it. The supplied figure is closed and inaccessible after this call.\"\"\"\n",
        "    # Save the plot to a PNG in memory.\n",
        "    buf = io.BytesIO()\n",
        "    plt.savefig(buf, format='png')\n",
        "    # Closing the figure prevents it from being displayed directly inside\n",
        "    # the notebook.\n",
        "    plt.close(figure)\n",
        "    buf.seek(0)\n",
        "    # Convert PNG buffer to TF image\n",
        "    image = tf.image.decode_png(buf.getvalue(), channels=4)\n",
        "    # Add the batch dimension\n",
        "    image = tf.expand_dims(image, 0)\n",
        "    return image"
      ],
      "execution_count": 0,
      "outputs": []
    },
    {
      "cell_type": "code",
      "metadata": {
        "id": "1-oYJ2FLezse",
        "colab_type": "code",
        "colab": {}
      },
      "source": [
        "def log_confusion_matrix(epoch, logs):\n",
        "    # Use the model to predict the values from the validation dataset\n",
        "    test_pred_raw = model.predict(X_test)\n",
        "    test_pred = np.argmax(test_pred_raw, axis=1)\n",
        "\n",
        "    # Calculate the confusion matrix\n",
        "    cm = confusion_matrix(np.argmax(y_test, axis=1), test_pred)\n",
        "    # Log the confusion matrix as an image summary\n",
        "    figure = plot_confusion_matrix(cm, class_names=labels)\n",
        "    cm_image = plot_to_image(figure)\n",
        "\n",
        "    # Log the confusion matrix as an image summary\n",
        "    with file_writer_cm.as_default():\n",
        "        tf.summary.image(\"Confusion Matrix\", cm_image, step=epoch)"
      ],
      "execution_count": 0,
      "outputs": []
    },
    {
      "cell_type": "code",
      "metadata": {
        "id": "3EAjndpDe_fL",
        "colab_type": "code",
        "colab": {}
      },
      "source": [
        "# Define the per-epoch callback\n",
        "cm_callback = tf.keras.callbacks.LambdaCallback(on_epoch_end=log_confusion_matrix)"
      ],
      "execution_count": 0,
      "outputs": []
    },
    {
      "cell_type": "code",
      "metadata": {
        "id": "krzF80xifo4z",
        "colab_type": "code",
        "outputId": "f9220516-d118-44b9-9780-a2f603d1cdad",
        "colab": {
          "base_uri": "https://localhost:8080/",
          "height": 901
        }
      },
      "source": [
        "# Kickstart the model training process\n",
        "sgd = SGD(lr=config.learn_rate, decay=config.decay, momentum=config.momentum,\n",
        "                            nesterov=True)\n",
        "\n",
        "model = Sequential()\n",
        "model.add(Conv2D(config.layer_1_size, (5, 5), activation='relu',\n",
        "                            input_shape=(img_width, img_height,1)))\n",
        "model.add(MaxPooling2D(pool_size=(2, 2)))\n",
        "model.add(Conv2D(config.layer_2_size, (5, 5), activation='relu'))\n",
        "model.add(MaxPooling2D(pool_size=(2, 2)))\n",
        "model.add(Dropout(config.dropout))\n",
        "model.add(Flatten())\n",
        "model.add(Dense(config.hidden_layer_size, activation='relu'))\n",
        "model.add(Dense(num_classes, activation='softmax'))\n",
        "\n",
        "model.compile(loss='categorical_crossentropy', optimizer=sgd, metrics=['accuracy'])\n",
        "\n",
        "# The WandbCallback logs metrics and some examples of the test data\n",
        "model.fit(X_train, y_train,  validation_data=(X_test, y_test), epochs=config.epochs,\n",
        "    callbacks=[WandbCallback(data_type=\"image\", labels=labels), \n",
        "               TensorBoard(log_dir=logdir),\n",
        "               cm_callback])"
      ],
      "execution_count": 53,
      "outputs": [
        {
          "output_type": "stream",
          "text": [
            "Train on 60000 samples, validate on 10000 samples\n",
            "Epoch 1/25\n",
            "60000/60000 [==============================] - 10s 174us/sample - loss: 0.5728 - accuracy: 0.7892 - val_loss: 0.4258 - val_accuracy: 0.8434\n",
            "Epoch 2/25\n",
            "60000/60000 [==============================] - 10s 164us/sample - loss: 0.3899 - accuracy: 0.8583 - val_loss: 0.3550 - val_accuracy: 0.8677\n",
            "Epoch 3/25\n",
            "60000/60000 [==============================] - 10s 162us/sample - loss: 0.3415 - accuracy: 0.8748 - val_loss: 0.3360 - val_accuracy: 0.8779\n",
            "Epoch 4/25\n",
            "60000/60000 [==============================] - 10s 161us/sample - loss: 0.3155 - accuracy: 0.8830 - val_loss: 0.3022 - val_accuracy: 0.8885\n",
            "Epoch 5/25\n",
            "60000/60000 [==============================] - 10s 162us/sample - loss: 0.2973 - accuracy: 0.8886 - val_loss: 0.3034 - val_accuracy: 0.8865\n",
            "Epoch 6/25\n",
            "60000/60000 [==============================] - 10s 166us/sample - loss: 0.2833 - accuracy: 0.8947 - val_loss: 0.2888 - val_accuracy: 0.8938\n",
            "Epoch 7/25\n",
            "60000/60000 [==============================] - 10s 163us/sample - loss: 0.2730 - accuracy: 0.8979 - val_loss: 0.2794 - val_accuracy: 0.8981\n",
            "Epoch 8/25\n",
            "60000/60000 [==============================] - 10s 162us/sample - loss: 0.2607 - accuracy: 0.9027 - val_loss: 0.2776 - val_accuracy: 0.8987\n",
            "Epoch 9/25\n",
            "60000/60000 [==============================] - 10s 161us/sample - loss: 0.2502 - accuracy: 0.9065 - val_loss: 0.2824 - val_accuracy: 0.8996\n",
            "Epoch 10/25\n",
            "60000/60000 [==============================] - 10s 165us/sample - loss: 0.2417 - accuracy: 0.9091 - val_loss: 0.2654 - val_accuracy: 0.9023\n",
            "Epoch 11/25\n",
            "60000/60000 [==============================] - 10s 162us/sample - loss: 0.2355 - accuracy: 0.9107 - val_loss: 0.2675 - val_accuracy: 0.9015\n",
            "Epoch 12/25\n",
            "60000/60000 [==============================] - 10s 171us/sample - loss: 0.2265 - accuracy: 0.9149 - val_loss: 0.2625 - val_accuracy: 0.9049\n",
            "Epoch 13/25\n",
            "60000/60000 [==============================] - 10s 164us/sample - loss: 0.2213 - accuracy: 0.9168 - val_loss: 0.2638 - val_accuracy: 0.9020\n",
            "Epoch 14/25\n",
            "60000/60000 [==============================] - 10s 162us/sample - loss: 0.2126 - accuracy: 0.9204 - val_loss: 0.2579 - val_accuracy: 0.9077\n",
            "Epoch 15/25\n",
            "60000/60000 [==============================] - 10s 162us/sample - loss: 0.2095 - accuracy: 0.9208 - val_loss: 0.2573 - val_accuracy: 0.9063\n",
            "Epoch 16/25\n",
            "60000/60000 [==============================] - 10s 160us/sample - loss: 0.2040 - accuracy: 0.9218 - val_loss: 0.2650 - val_accuracy: 0.9062\n",
            "Epoch 17/25\n",
            "60000/60000 [==============================] - 10s 165us/sample - loss: 0.1969 - accuracy: 0.9262 - val_loss: 0.2699 - val_accuracy: 0.9060\n",
            "Epoch 18/25\n",
            "60000/60000 [==============================] - 11s 178us/sample - loss: 0.1936 - accuracy: 0.9259 - val_loss: 0.2780 - val_accuracy: 0.9060\n",
            "Epoch 19/25\n",
            "60000/60000 [==============================] - 10s 167us/sample - loss: 0.1884 - accuracy: 0.9289 - val_loss: 0.2557 - val_accuracy: 0.9106\n",
            "Epoch 20/25\n",
            "60000/60000 [==============================] - 10s 164us/sample - loss: 0.1840 - accuracy: 0.9304 - val_loss: 0.2671 - val_accuracy: 0.9069\n",
            "Epoch 21/25\n",
            "60000/60000 [==============================] - 10s 161us/sample - loss: 0.1815 - accuracy: 0.9306 - val_loss: 0.2758 - val_accuracy: 0.9074\n",
            "Epoch 22/25\n",
            "60000/60000 [==============================] - 10s 160us/sample - loss: 0.1800 - accuracy: 0.9320 - val_loss: 0.2711 - val_accuracy: 0.9097\n",
            "Epoch 23/25\n",
            "60000/60000 [==============================] - 10s 164us/sample - loss: 0.1747 - accuracy: 0.9324 - val_loss: 0.2637 - val_accuracy: 0.9119\n",
            "Epoch 24/25\n",
            "60000/60000 [==============================] - 10s 165us/sample - loss: 0.1717 - accuracy: 0.9344 - val_loss: 0.2771 - val_accuracy: 0.9071\n",
            "Epoch 25/25\n",
            "60000/60000 [==============================] - 10s 163us/sample - loss: 0.1671 - accuracy: 0.9348 - val_loss: 0.2820 - val_accuracy: 0.9048\n"
          ],
          "name": "stdout"
        },
        {
          "output_type": "execute_result",
          "data": {
            "text/plain": [
              "<tensorflow.python.keras.callbacks.History at 0x7fc012960e10>"
            ]
          },
          "metadata": {
            "tags": []
          },
          "execution_count": 53
        }
      ]
    }
  ]
}