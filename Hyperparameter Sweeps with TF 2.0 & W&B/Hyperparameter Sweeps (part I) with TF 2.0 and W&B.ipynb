{
 "cells": [
  {
   "cell_type": "markdown",
   "metadata": {},
   "source": [
    "This notebook is a part of an article for [Weights and Biases](https://wandb.com). This notebook is based on this [example](https://docs.wandb.com/sweeps/python). "
   ]
  },
  {
   "cell_type": "markdown",
   "metadata": {
    "colab_type": "text",
    "id": "JoTBVlxmemdg"
   },
   "source": [
    "## Install W&B"
   ]
  },
  {
   "cell_type": "code",
   "execution_count": 0,
   "metadata": {
    "colab": {},
    "colab_type": "code",
    "id": "QIwuQSfCcuKW"
   },
   "outputs": [],
   "source": [
    "!pip install wandb\n",
    "!pip install tensorflow==2.0.0"
   ]
  },
  {
   "cell_type": "markdown",
   "metadata": {
    "colab_type": "text",
    "id": "QnA96JPrepkW"
   },
   "source": [
    "## Execute the following to authorize Colab to use W&B"
   ]
  },
  {
   "cell_type": "code",
   "execution_count": null,
   "metadata": {
    "colab": {},
    "colab_type": "code",
    "id": "itU8M84zeJmX"
   },
   "outputs": [],
   "source": [
    "!wandb login"
   ]
  },
  {
   "cell_type": "markdown",
   "metadata": {
    "colab_type": "text",
    "id": "o5SggzkFexj3"
   },
   "source": [
    "## Import the dependencies"
   ]
  },
  {
   "cell_type": "code",
   "execution_count": 6,
   "metadata": {
    "colab": {},
    "colab_type": "code",
    "id": "u8PsvtA-eFiy"
   },
   "outputs": [],
   "source": [
    "from wandb.keras import WandbCallback\n",
    "import tensorflow as tf\n",
    "import numpy as np\n",
    "import wandb"
   ]
  },
  {
   "cell_type": "markdown",
   "metadata": {
    "colab_type": "text",
    "id": "_CwayRpee3aj"
   },
   "source": [
    "## Initialize W&B with an entity name & a project name"
   ]
  },
  {
   "cell_type": "code",
   "execution_count": 2,
   "metadata": {
    "colab": {},
    "colab_type": "code",
    "id": "7D0NGJnae7Dz"
   },
   "outputs": [
    {
     "data": {
      "text/html": [
       "\n",
       "            Notebook configured with <a href=\"https://wandb.com\" target=\"_blank\">W&B</a>. You can <a href=\"https://app.wandb.ai/sayakpaul/hyperparameter-sweeps-partI/runs/jjql5uf7\" target=\"_blank\">open</a> the run page, or call <code>%%wandb</code>\n",
       "            in a cell containing your training loop to display live results.  Learn more in our <a href=\"https://docs.wandb.com/docs/integrations/jupyter.html\" target=\"_blank\">docs</a>.\n",
       "        "
      ],
      "text/plain": [
       "<IPython.core.display.HTML object>"
      ]
     },
     "metadata": {},
     "output_type": "display_data"
    },
    {
     "data": {
      "text/plain": [
       "W&B Run: https://app.wandb.ai/sayakpaul/hyperparameter-sweeps-partI/runs/jjql5uf7"
      ]
     },
     "execution_count": 2,
     "metadata": {},
     "output_type": "execute_result"
    }
   ],
   "source": [
    "wandb.init(project=\"hyperparameter-sweeps-partI\")"
   ]
  },
  {
   "cell_type": "markdown",
   "metadata": {
    "colab_type": "text",
    "id": "jFFJ20H_e79M"
   },
   "source": [
    "**Note** that the entity and project names can be of your choice. "
   ]
  },
  {
   "cell_type": "markdown",
   "metadata": {
    "colab_type": "text",
    "id": "G-GtcnYhhs9r"
   },
   "source": [
    "## Load the dataset and preprocess it"
   ]
  },
  {
   "cell_type": "code",
   "execution_count": 3,
   "metadata": {
    "colab": {},
    "colab_type": "code",
    "id": "_yn7oBRYhvI6"
   },
   "outputs": [],
   "source": [
    "# Load the dataset\n",
    "fashion_mnist = tf.keras.datasets.fashion_mnist\n",
    "(train_images, train_labels), (test_images, test_labels) = fashion_mnist.load_data()\n",
    "\n",
    "# Scale the pixel values of the images to \n",
    "train_images = train_images / 255.0\n",
    "test_images = test_images / 255.0"
   ]
  },
  {
   "cell_type": "markdown",
   "metadata": {},
   "source": [
    "## Specify the class labels"
   ]
  },
  {
   "cell_type": "code",
   "execution_count": 5,
   "metadata": {},
   "outputs": [],
   "source": [
    "labels = [\"T-shirt/top\",\"Trouser\",\"Pullover\",\"Dress\",\"Coat\",\n",
    "        \"Sandal\",\"Shirt\",\"Sneaker\",\"Bag\",\"Ankle boot\"]"
   ]
  },
  {
   "cell_type": "markdown",
   "metadata": {
    "colab_type": "text",
    "id": "UQgu1MIufARI"
   },
   "source": [
    "## Define a training script"
   ]
  },
  {
   "cell_type": "code",
   "execution_count": 7,
   "metadata": {
    "colab": {},
    "colab_type": "code",
    "id": "mhScDpIFcuKb"
   },
   "outputs": [],
   "source": [
    "def train():\n",
    "    \n",
    "    (X_train, y_train) = train_images, train_labels\n",
    "    (X_test, y_test) = test_images, test_labels\n",
    "    \n",
    "    # Specify the hyperparameter to be tuned along with\n",
    "    # an initial value\n",
    "    configs = {\n",
    "        'layers': 128\n",
    "    }\n",
    "    \n",
    "    # Specify the other hyperparameters to the configuration\n",
    "    config = wandb.config\n",
    "    config.epochs = 5\n",
    "    \n",
    "    # Add the config item (layers) to wandb\n",
    "    if wandb.run:\n",
    "        wandb.config.update({k: v for k, v in configs.items() if k not in dict(wandb.config.user_items())})\n",
    "        configs = dict(wandb.config.user_items())\n",
    "    \n",
    "    # Define the model\n",
    "    model = tf.keras.Sequential([\n",
    "        tf.keras.layers.Flatten(input_shape=(28, 28)),\n",
    "        tf.keras.layers.Dense(wandb.config.layers, activation=tf.nn.relu),\n",
    "        tf.keras.layers.Dense(10, activation=tf.nn.softmax)\n",
    "    ])\n",
    "    \n",
    "    # Compile the model\n",
    "    model.compile(optimizer='adam',\n",
    "                  loss='sparse_categorical_crossentropy',\n",
    "                  metrics=['accuracy'])\n",
    "    \n",
    "    # Train the model\n",
    "    model.fit(X_train, y_train, epochs=config.epochs,\n",
    "                  validation_data=(X_test, y_test),\n",
    "             callbacks=[WandbCallback(data_type=\"image\", labels=labels)])"
   ]
  },
  {
   "cell_type": "markdown",
   "metadata": {
    "colab_type": "text",
    "id": "h7F3XIBOfDIM"
   },
   "source": [
    "## Specify the search grid within the sweep's configuration"
   ]
  },
  {
   "cell_type": "code",
   "execution_count": 8,
   "metadata": {
    "colab": {},
    "colab_type": "code",
    "id": "v7S326HLcuKe"
   },
   "outputs": [],
   "source": [
    "sweep_config = {\n",
    "    'method': 'grid',\n",
    "    'parameters': {\n",
    "        'layers': {\n",
    "            'values': [32, 64, 96, 128, 256]\n",
    "        }\n",
    "    }\n",
    "}"
   ]
  },
  {
   "cell_type": "markdown",
   "metadata": {
    "colab_type": "text",
    "id": "8e_guU_kfvOW"
   },
   "source": [
    "## Initialize the sweep"
   ]
  },
  {
   "cell_type": "code",
   "execution_count": 9,
   "metadata": {
    "colab": {},
    "colab_type": "code",
    "id": "ni8a9eC4cuKh"
   },
   "outputs": [
    {
     "name": "stdout",
     "output_type": "stream",
     "text": [
      "Create sweep with ID: yrc9s3hc\n",
      "Sweep URL: https://app.wandb.ai/sayakpaul/hyperparameter-sweeps-partI/sweeps/yrc9s3hc\n"
     ]
    }
   ],
   "source": [
    "sweep_id = wandb.sweep(sweep_config)"
   ]
  },
  {
   "cell_type": "markdown",
   "metadata": {
    "colab_type": "text",
    "id": "-X3YrzOOfxuA"
   },
   "source": [
    "## Run the sweep"
   ]
  },
  {
   "cell_type": "code",
   "execution_count": 10,
   "metadata": {
    "colab": {
     "base_uri": "https://localhost:8080/",
     "height": 1000
    },
    "colab_type": "code",
    "id": "vaQvTvmHcuKj",
    "outputId": "3587220c-9436-43cd-829d-8be03fd5b042",
    "scrolled": false
   },
   "outputs": [
    {
     "name": "stderr",
     "output_type": "stream",
     "text": [
      "WARNING: Logging before flag parsing goes to stderr.\n",
      "I1010 09:28:12.348902 4498023872 wandb_agent.py:142] Running runs: []\n",
      "I1010 09:28:13.079451 4498023872 wandb_agent.py:189] Agent received command: run\n",
      "I1010 09:28:13.080965 4498023872 wandb_agent.py:219] Agent starting run with config:\n",
      "\tlayers: 32\n"
     ]
    },
    {
     "name": "stdout",
     "output_type": "stream",
     "text": [
      "wandb: Agent Starting Run: w85ok3gh with config:\n",
      "\tlayers: 32\n",
      "wandb: Agent Started Run: w85ok3gh\n",
      "Train on 60000 samples, validate on 10000 samples\n",
      "Epoch 1/5\n",
      "56288/60000 [===========================>..] - ETA: 0s - loss: 0.5091 - accuracy: 0.8208"
     ]
    },
    {
     "name": "stderr",
     "output_type": "stream",
     "text": [
      "I1010 09:28:19.947321 4498023872 wandb_agent.py:142] Running runs: ['w85ok3gh']\n"
     ]
    },
    {
     "name": "stdout",
     "output_type": "stream",
     "text": [
      "60000/60000 [==============================] - 6s 99us/sample - loss: 0.5019 - accuracy: 0.8232 - val_loss: 0.4189 - val_accuracy: 0.8514\n",
      "Epoch 2/5\n",
      "50432/60000 [========================>.....] - ETA: 0s - loss: 0.3797 - accuracy: 0.8633"
     ]
    },
    {
     "name": "stderr",
     "output_type": "stream",
     "text": [
      "I1010 09:28:25.539280 4498023872 wandb_agent.py:142] Running runs: ['w85ok3gh']\n"
     ]
    },
    {
     "name": "stdout",
     "output_type": "stream",
     "text": [
      "60000/60000 [==============================] - 6s 104us/sample - loss: 0.3763 - accuracy: 0.8645 - val_loss: 0.3976 - val_accuracy: 0.8591\n",
      "Epoch 3/5\n",
      "33696/60000 [===============>..............] - ETA: 2s - loss: 0.3351 - accuracy: 0.8775"
     ]
    },
    {
     "name": "stderr",
     "output_type": "stream",
     "text": [
      "I1010 09:28:31.107014 4498023872 wandb_agent.py:142] Running runs: ['w85ok3gh']\n"
     ]
    },
    {
     "name": "stdout",
     "output_type": "stream",
     "text": [
      "60000/60000 [==============================] - 7s 115us/sample - loss: 0.3354 - accuracy: 0.8771 - val_loss: 0.3704 - val_accuracy: 0.8681\n",
      "Epoch 4/5\n",
      "29216/60000 [=============>................] - ETA: 2s - loss: 0.3097 - accuracy: 0.8855"
     ]
    },
    {
     "name": "stderr",
     "output_type": "stream",
     "text": [
      "I1010 09:28:36.705750 4498023872 wandb_agent.py:142] Running runs: ['w85ok3gh']\n"
     ]
    },
    {
     "name": "stdout",
     "output_type": "stream",
     "text": [
      "60000/60000 [==============================] - 6s 94us/sample - loss: 0.3119 - accuracy: 0.8855 - val_loss: 0.3901 - val_accuracy: 0.8616\n",
      "Epoch 5/5\n",
      "34624/60000 [================>.............] - ETA: 1s - loss: 0.2947 - accuracy: 0.8925"
     ]
    },
    {
     "name": "stderr",
     "output_type": "stream",
     "text": [
      "I1010 09:28:42.278128 4498023872 wandb_agent.py:142] Running runs: ['w85ok3gh']\n"
     ]
    },
    {
     "name": "stdout",
     "output_type": "stream",
     "text": [
      "60000/60000 [==============================] - 5s 76us/sample - loss: 0.2955 - accuracy: 0.8913 - val_loss: 0.3507 - val_accuracy: 0.8755\n",
      "wandb: Agent Finished Run: w85ok3gh \n",
      "\n"
     ]
    },
    {
     "name": "stderr",
     "output_type": "stream",
     "text": [
      "I1010 09:28:47.840944 4498023872 wandb_agent.py:142] Running runs: ['w85ok3gh']\n",
      "I1010 09:28:47.844016 4498023872 wandb_agent.py:149] Cleaning up dead run: w85ok3gh\n",
      "I1010 09:28:48.495536 4498023872 wandb_agent.py:189] Agent received command: run\n",
      "I1010 09:28:48.498028 4498023872 wandb_agent.py:219] Agent starting run with config:\n",
      "\tlayers: 64\n"
     ]
    },
    {
     "name": "stdout",
     "output_type": "stream",
     "text": [
      "wandb: Agent Starting Run: mh1p9bpj with config:\n",
      "\tlayers: 64\n",
      "wandb: Agent Started Run: mh1p9bpj\n",
      "Train on 60000 samples, validate on 10000 samples\n",
      "Epoch 1/5\n",
      "48800/60000 [=======================>......] - ETA: 1s - loss: 0.5195 - accuracy: 0.8190"
     ]
    },
    {
     "name": "stderr",
     "output_type": "stream",
     "text": [
      "I1010 09:28:53.522925 4498023872 wandb_agent.py:142] Running runs: ['mh1p9bpj']\n"
     ]
    },
    {
     "name": "stdout",
     "output_type": "stream",
     "text": [
      "60000/60000 [==============================] - 7s 118us/sample - loss: 0.4995 - accuracy: 0.8251 - val_loss: 0.4507 - val_accuracy: 0.8392\n",
      "Epoch 2/5\n",
      "36224/60000 [=================>............] - ETA: 2s - loss: 0.3797 - accuracy: 0.8652"
     ]
    },
    {
     "name": "stderr",
     "output_type": "stream",
     "text": [
      "I1010 09:28:59.088986 4498023872 wandb_agent.py:142] Running runs: ['mh1p9bpj']\n"
     ]
    },
    {
     "name": "stdout",
     "output_type": "stream",
     "text": [
      "60000/60000 [==============================] - 6s 94us/sample - loss: 0.3758 - accuracy: 0.8647 - val_loss: 0.4243 - val_accuracy: 0.8455\n",
      "Epoch 3/5\n",
      "44608/60000 [=====================>........] - ETA: 1s - loss: 0.3397 - accuracy: 0.8769"
     ]
    },
    {
     "name": "stderr",
     "output_type": "stream",
     "text": [
      "I1010 09:29:04.650427 4498023872 wandb_agent.py:142] Running runs: ['mh1p9bpj']\n"
     ]
    },
    {
     "name": "stdout",
     "output_type": "stream",
     "text": [
      "60000/60000 [==============================] - 5s 81us/sample - loss: 0.3354 - accuracy: 0.8790 - val_loss: 0.4513 - val_accuracy: 0.8334\n",
      "Epoch 4/5\n",
      "57184/60000 [===========================>..] - ETA: 0s - loss: 0.3148 - accuracy: 0.8840"
     ]
    },
    {
     "name": "stderr",
     "output_type": "stream",
     "text": [
      "I1010 09:29:10.207342 4498023872 wandb_agent.py:142] Running runs: ['mh1p9bpj']\n"
     ]
    },
    {
     "name": "stdout",
     "output_type": "stream",
     "text": [
      "60000/60000 [==============================] - 5s 77us/sample - loss: 0.3140 - accuracy: 0.8845 - val_loss: 0.3612 - val_accuracy: 0.8738\n",
      "Epoch 5/5\n",
      "60000/60000 [==============================] - 5s 77us/sample - loss: 0.2961 - accuracy: 0.8911 - val_loss: 0.3663 - val_accuracy: 0.8676\n",
      "wandb: Agent Finished Run: mh1p9bpj \n",
      "\n"
     ]
    },
    {
     "name": "stderr",
     "output_type": "stream",
     "text": [
      "I1010 09:29:15.763666 4498023872 wandb_agent.py:142] Running runs: ['mh1p9bpj']\n",
      "I1010 09:29:21.336229 4498023872 wandb_agent.py:142] Running runs: ['mh1p9bpj']\n",
      "I1010 09:29:21.340492 4498023872 wandb_agent.py:149] Cleaning up dead run: mh1p9bpj\n",
      "I1010 09:29:21.981740 4498023872 wandb_agent.py:189] Agent received command: run\n",
      "I1010 09:29:21.984217 4498023872 wandb_agent.py:219] Agent starting run with config:\n",
      "\tlayers: 96\n"
     ]
    },
    {
     "name": "stdout",
     "output_type": "stream",
     "text": [
      "wandb: Agent Starting Run: 3devm0xx with config:\n",
      "\tlayers: 96\n",
      "wandb: Agent Started Run: 3devm0xx\n",
      "Train on 60000 samples, validate on 10000 samples\n",
      "Epoch 1/5\n",
      "47328/60000 [======================>.......] - ETA: 1s - loss: 0.5193 - accuracy: 0.8172"
     ]
    },
    {
     "name": "stderr",
     "output_type": "stream",
     "text": [
      "I1010 09:29:27.012876 4498023872 wandb_agent.py:142] Running runs: ['3devm0xx']\n"
     ]
    },
    {
     "name": "stdout",
     "output_type": "stream",
     "text": [
      "60000/60000 [==============================] - 8s 132us/sample - loss: 0.5001 - accuracy: 0.8233 - val_loss: 0.4336 - val_accuracy: 0.8433\n",
      "Epoch 2/5\n",
      "22464/60000 [==========>...................] - ETA: 3s - loss: 0.3948 - accuracy: 0.8589"
     ]
    },
    {
     "name": "stderr",
     "output_type": "stream",
     "text": [
      "I1010 09:29:32.582912 4498023872 wandb_agent.py:142] Running runs: ['3devm0xx']\n"
     ]
    },
    {
     "name": "stdout",
     "output_type": "stream",
     "text": [
      "60000/60000 [==============================] - 7s 111us/sample - loss: 0.3778 - accuracy: 0.8647 - val_loss: 0.3895 - val_accuracy: 0.8628\n",
      "Epoch 3/5\n",
      "14208/60000 [======>.......................] - ETA: 4s - loss: 0.3380 - accuracy: 0.8773"
     ]
    },
    {
     "name": "stderr",
     "output_type": "stream",
     "text": [
      "I1010 09:29:38.145888 4498023872 wandb_agent.py:142] Running runs: ['3devm0xx']\n"
     ]
    },
    {
     "name": "stdout",
     "output_type": "stream",
     "text": [
      "60000/60000 [==============================] - 6s 106us/sample - loss: 0.3393 - accuracy: 0.8760 - val_loss: 0.3613 - val_accuracy: 0.8697\n",
      "Epoch 4/5\n",
      " 6944/60000 [==>...........................] - ETA: 4s - loss: 0.3115 - accuracy: 0.8849"
     ]
    },
    {
     "name": "stderr",
     "output_type": "stream",
     "text": [
      "I1010 09:29:43.775319 4498023872 wandb_agent.py:142] Running runs: ['3devm0xx']\n"
     ]
    },
    {
     "name": "stdout",
     "output_type": "stream",
     "text": [
      "59968/60000 [============================>.] - ETA: 0s - loss: 0.3165 - accuracy: 0.8836"
     ]
    },
    {
     "name": "stderr",
     "output_type": "stream",
     "text": [
      "I1010 09:29:49.350330 4498023872 wandb_agent.py:142] Running runs: ['3devm0xx']\n"
     ]
    },
    {
     "name": "stdout",
     "output_type": "stream",
     "text": [
      "60000/60000 [==============================] - 7s 111us/sample - loss: 0.3165 - accuracy: 0.8836 - val_loss: 0.3735 - val_accuracy: 0.8609\n",
      "Epoch 5/5\n",
      "59584/60000 [============================>.] - ETA: 0s - loss: 0.2973 - accuracy: 0.8884"
     ]
    },
    {
     "name": "stderr",
     "output_type": "stream",
     "text": [
      "I1010 09:29:54.915179 4498023872 wandb_agent.py:142] Running runs: ['3devm0xx']\n"
     ]
    },
    {
     "name": "stdout",
     "output_type": "stream",
     "text": [
      "60000/60000 [==============================] - 6s 98us/sample - loss: 0.2978 - accuracy: 0.8882 - val_loss: 0.3518 - val_accuracy: 0.8724\n",
      "wandb: Agent Finished Run: 3devm0xx \n",
      "\n"
     ]
    },
    {
     "name": "stderr",
     "output_type": "stream",
     "text": [
      "I1010 09:30:00.489966 4498023872 wandb_agent.py:142] Running runs: ['3devm0xx']\n",
      "I1010 09:30:00.493150 4498023872 wandb_agent.py:149] Cleaning up dead run: 3devm0xx\n",
      "I1010 09:30:01.095561 4498023872 wandb_agent.py:189] Agent received command: run\n",
      "I1010 09:30:01.097253 4498023872 wandb_agent.py:219] Agent starting run with config:\n",
      "\tlayers: 128\n"
     ]
    },
    {
     "name": "stdout",
     "output_type": "stream",
     "text": [
      "wandb: Agent Starting Run: yngccvtq with config:\n",
      "\tlayers: 128\n",
      "wandb: Agent Started Run: yngccvtq\n",
      "Train on 60000 samples, validate on 10000 samples\n",
      "Epoch 1/5\n",
      "56256/60000 [===========================>..] - ETA: 0s - loss: 0.5053 - accuracy: 0.8225"
     ]
    },
    {
     "name": "stderr",
     "output_type": "stream",
     "text": [
      "I1010 09:30:06.123375 4498023872 wandb_agent.py:142] Running runs: ['yngccvtq']\n"
     ]
    },
    {
     "name": "stdout",
     "output_type": "stream",
     "text": [
      "60000/60000 [==============================] - 6s 99us/sample - loss: 0.4989 - accuracy: 0.8243 - val_loss: 0.4364 - val_accuracy: 0.8434\n",
      "Epoch 2/5\n",
      "58720/60000 [============================>.] - ETA: 0s - loss: 0.3785 - accuracy: 0.8637"
     ]
    },
    {
     "name": "stderr",
     "output_type": "stream",
     "text": [
      "I1010 09:30:11.690989 4498023872 wandb_agent.py:142] Running runs: ['yngccvtq']\n"
     ]
    },
    {
     "name": "stdout",
     "output_type": "stream",
     "text": [
      "60000/60000 [==============================] - 5s 86us/sample - loss: 0.3776 - accuracy: 0.8640 - val_loss: 0.3998 - val_accuracy: 0.8556\n",
      "Epoch 3/5\n",
      "58944/60000 [============================>.] - ETA: 0s - loss: 0.3394 - accuracy: 0.8756"
     ]
    },
    {
     "name": "stderr",
     "output_type": "stream",
     "text": [
      "I1010 09:30:17.249861 4498023872 wandb_agent.py:142] Running runs: ['yngccvtq']\n"
     ]
    },
    {
     "name": "stdout",
     "output_type": "stream",
     "text": [
      "60000/60000 [==============================] - 5s 91us/sample - loss: 0.3397 - accuracy: 0.8754 - val_loss: 0.3790 - val_accuracy: 0.8596\n",
      "Epoch 4/5\n",
      "59200/60000 [============================>.] - ETA: 0s - loss: 0.3140 - accuracy: 0.8854"
     ]
    },
    {
     "name": "stderr",
     "output_type": "stream",
     "text": [
      "I1010 09:30:22.807455 4498023872 wandb_agent.py:142] Running runs: ['yngccvtq']\n"
     ]
    },
    {
     "name": "stdout",
     "output_type": "stream",
     "text": [
      "60000/60000 [==============================] - 6s 98us/sample - loss: 0.3140 - accuracy: 0.8853 - val_loss: 0.3469 - val_accuracy: 0.8733\n",
      "Epoch 5/5\n",
      "45600/60000 [=====================>........] - ETA: 1s - loss: 0.2949 - accuracy: 0.8907"
     ]
    },
    {
     "name": "stderr",
     "output_type": "stream",
     "text": [
      "I1010 09:30:28.367055 4498023872 wandb_agent.py:142] Running runs: ['yngccvtq']\n"
     ]
    },
    {
     "name": "stdout",
     "output_type": "stream",
     "text": [
      "60000/60000 [==============================] - 6s 107us/sample - loss: 0.2971 - accuracy: 0.8898 - val_loss: 0.3872 - val_accuracy: 0.8561\n",
      "wandb: Agent Finished Run: yngccvtq \n",
      "\n"
     ]
    },
    {
     "name": "stderr",
     "output_type": "stream",
     "text": [
      "I1010 09:30:33.941072 4498023872 wandb_agent.py:142] Running runs: ['yngccvtq']\n",
      "I1010 09:30:33.943403 4498023872 wandb_agent.py:149] Cleaning up dead run: yngccvtq\n",
      "I1010 09:30:34.544547 4498023872 wandb_agent.py:189] Agent received command: run\n",
      "I1010 09:30:34.546235 4498023872 wandb_agent.py:219] Agent starting run with config:\n",
      "\tlayers: 256\n"
     ]
    },
    {
     "name": "stdout",
     "output_type": "stream",
     "text": [
      "wandb: Agent Starting Run: kjn0k5so with config:\n",
      "\tlayers: 256\n",
      "wandb: Agent Started Run: kjn0k5so\n",
      "Train on 60000 samples, validate on 10000 samples\n",
      "Epoch 1/5\n",
      "59360/60000 [============================>.] - ETA: 0s - loss: 0.4984 - accuracy: 0.8246"
     ]
    },
    {
     "name": "stderr",
     "output_type": "stream",
     "text": [
      "I1010 09:30:39.570361 4498023872 wandb_agent.py:142] Running runs: ['kjn0k5so']\n"
     ]
    },
    {
     "name": "stdout",
     "output_type": "stream",
     "text": [
      "60000/60000 [==============================] - 6s 94us/sample - loss: 0.4976 - accuracy: 0.8249 - val_loss: 0.4378 - val_accuracy: 0.8437\n",
      "Epoch 2/5\n",
      "59424/60000 [============================>.] - ETA: 0s - loss: 0.3758 - accuracy: 0.8638"
     ]
    },
    {
     "name": "stderr",
     "output_type": "stream",
     "text": [
      "I1010 09:30:45.129517 4498023872 wandb_agent.py:142] Running runs: ['kjn0k5so']\n"
     ]
    },
    {
     "name": "stdout",
     "output_type": "stream",
     "text": [
      "60000/60000 [==============================] - 5s 89us/sample - loss: 0.3755 - accuracy: 0.8639 - val_loss: 0.3815 - val_accuracy: 0.8663\n",
      "Epoch 3/5\n",
      "60000/60000 [==============================] - 5s 79us/sample - loss: 0.3362 - accuracy: 0.8786 - val_loss: 0.3597 - val_accuracy: 0.8721\n",
      "Epoch 4/5\n",
      " 3008/60000 [>.............................] - ETA: 4s - loss: 0.3038 - accuracy: 0.8910"
     ]
    },
    {
     "name": "stderr",
     "output_type": "stream",
     "text": [
      "I1010 09:30:50.748784 4498023872 wandb_agent.py:142] Running runs: ['kjn0k5so']\n"
     ]
    },
    {
     "name": "stdout",
     "output_type": "stream",
     "text": [
      "60000/60000 [==============================] - 5s 88us/sample - loss: 0.3118 - accuracy: 0.8855 - val_loss: 0.3545 - val_accuracy: 0.8752\n",
      "Epoch 5/5\n",
      " 9056/60000 [===>..........................] - ETA: 3s - loss: 0.2814 - accuracy: 0.8973"
     ]
    },
    {
     "name": "stderr",
     "output_type": "stream",
     "text": [
      "I1010 09:30:56.381038 4498023872 wandb_agent.py:142] Running runs: ['kjn0k5so']\n"
     ]
    },
    {
     "name": "stdout",
     "output_type": "stream",
     "text": [
      "60000/60000 [==============================] - 5s 82us/sample - loss: 0.2932 - accuracy: 0.8918 - val_loss: 0.3692 - val_accuracy: 0.8693\n",
      "wandb: Agent Finished Run: kjn0k5so \n",
      "\n"
     ]
    },
    {
     "name": "stderr",
     "output_type": "stream",
     "text": [
      "I1010 09:31:02.014674 4498023872 wandb_agent.py:142] Running runs: ['kjn0k5so']\n",
      "I1010 09:31:02.018049 4498023872 wandb_agent.py:149] Cleaning up dead run: kjn0k5so\n",
      "I1010 09:31:02.642873 4498023872 wandb_agent.py:189] Agent received command: exit\n",
      "I1010 09:31:02.644768 4498023872 wandb_agent.py:277] Received exit command. Killing runs and quitting.\n"
     ]
    }
   ],
   "source": [
    "wandb.agent(sweep_id, function=train)"
   ]
  }
 ],
 "metadata": {
  "colab": {
   "name": "notebook.ipynb",
   "provenance": []
  },
  "kernelspec": {
   "display_name": "Python 3",
   "language": "python",
   "name": "python3"
  },
  "language_info": {
   "codemirror_mode": {
    "name": "ipython",
    "version": 3
   },
   "file_extension": ".py",
   "mimetype": "text/x-python",
   "name": "python",
   "nbconvert_exporter": "python",
   "pygments_lexer": "ipython3",
   "version": "3.7.1"
  }
 },
 "nbformat": 4,
 "nbformat_minor": 1
}
