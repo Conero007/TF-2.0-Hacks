{
 "cells": [
  {
   "cell_type": "markdown",
   "metadata": {},
   "source": [
    "This notebook is a part of an article for [Weights and Biases](https://wandb.com). This notebook is based on this [example](https://docs.wandb.com/sweeps/python). "
   ]
  },
  {
   "cell_type": "markdown",
   "metadata": {
    "colab_type": "text",
    "id": "JoTBVlxmemdg"
   },
   "source": [
    "## Install W&B"
   ]
  },
  {
   "cell_type": "code",
   "execution_count": null,
   "metadata": {
    "colab": {},
    "colab_type": "code",
    "id": "QIwuQSfCcuKW"
   },
   "outputs": [],
   "source": [
    "!pip install wandb\n",
    "!pip install tensorflow==2.0.0"
   ]
  },
  {
   "cell_type": "markdown",
   "metadata": {
    "colab_type": "text",
    "id": "QnA96JPrepkW"
   },
   "source": [
    "## Execute the following to authorize Colab to use W&B"
   ]
  },
  {
   "cell_type": "code",
   "execution_count": null,
   "metadata": {
    "colab": {},
    "colab_type": "code",
    "id": "itU8M84zeJmX"
   },
   "outputs": [],
   "source": [
    "!wandb login"
   ]
  },
  {
   "cell_type": "markdown",
   "metadata": {
    "colab_type": "text",
    "id": "o5SggzkFexj3"
   },
   "source": [
    "## Import the dependencies"
   ]
  },
  {
   "cell_type": "code",
   "execution_count": 1,
   "metadata": {
    "colab": {},
    "colab_type": "code",
    "id": "u8PsvtA-eFiy"
   },
   "outputs": [
    {
     "name": "stderr",
     "output_type": "stream",
     "text": [
      "wandb: WARNING import wandb.keras called before import keras or import tensorflow.keras.  This can lead to a version mismatch, W&B now assumes tensorflow.keras\n"
     ]
    }
   ],
   "source": [
    "from wandb.keras import WandbCallback\n",
    "import tensorflow as tf\n",
    "import numpy as np\n",
    "import wandb"
   ]
  },
  {
   "cell_type": "markdown",
   "metadata": {
    "colab_type": "text",
    "id": "G-GtcnYhhs9r"
   },
   "source": [
    "## Load the dataset and preprocess it"
   ]
  },
  {
   "cell_type": "code",
   "execution_count": 2,
   "metadata": {
    "colab": {},
    "colab_type": "code",
    "id": "_yn7oBRYhvI6"
   },
   "outputs": [],
   "source": [
    "# Load the dataset\n",
    "fashion_mnist = tf.keras.datasets.fashion_mnist\n",
    "(train_images, train_labels), (test_images, test_labels) = fashion_mnist.load_data()\n",
    "\n",
    "# Scale the pixel values of the images to \n",
    "train_images = train_images / 255.0\n",
    "test_images = test_images / 255.0"
   ]
  },
  {
   "cell_type": "markdown",
   "metadata": {},
   "source": [
    "## Specify the class labels"
   ]
  },
  {
   "cell_type": "code",
   "execution_count": 3,
   "metadata": {},
   "outputs": [],
   "source": [
    "labels = [\"T-shirt/top\",\"Trouser\",\"Pullover\",\"Dress\",\"Coat\",\n",
    "        \"Sandal\",\"Shirt\",\"Sneaker\",\"Bag\",\"Ankle boot\"]"
   ]
  },
  {
   "cell_type": "markdown",
   "metadata": {
    "colab_type": "text",
    "id": "UQgu1MIufARI"
   },
   "source": [
    "## Define a training script"
   ]
  },
  {
   "cell_type": "code",
   "execution_count": 4,
   "metadata": {
    "colab": {},
    "colab_type": "code",
    "id": "mhScDpIFcuKb"
   },
   "outputs": [],
   "source": [
    "def train():\n",
    "    # Initialize wandb with a sample project name\n",
    "    wandb.init(project=\"hyperparameter-sweeps-partI\")\n",
    "    \n",
    "    (X_train, y_train) = train_images, train_labels\n",
    "    (X_test, y_test) = test_images, test_labels\n",
    "    \n",
    "    # Specify the hyperparameter to be tuned along with\n",
    "    # an initial value\n",
    "    configs = {\n",
    "        'layers': 128\n",
    "    }\n",
    "    \n",
    "    # Specify the other hyperparameters to the configuration\n",
    "    config = wandb.config\n",
    "    config.epochs = 5\n",
    "    \n",
    "    # Add the config item (layers) to wandb\n",
    "    if wandb.run:\n",
    "        wandb.config.update({k: v for k, v in configs.items() if k not in dict(wandb.config.user_items())})\n",
    "        configs = dict(wandb.config.user_items())\n",
    "    \n",
    "    # Define the model\n",
    "    model = tf.keras.Sequential([\n",
    "        tf.keras.layers.Flatten(input_shape=(28, 28)),\n",
    "        tf.keras.layers.Dense(wandb.config.layers, activation=tf.nn.relu),\n",
    "        tf.keras.layers.Dense(10, activation=tf.nn.softmax)\n",
    "    ])\n",
    "    \n",
    "    # Compile the model\n",
    "    model.compile(optimizer='adam',\n",
    "                  loss='sparse_categorical_crossentropy',\n",
    "                  metrics=['accuracy'])\n",
    "    \n",
    "    # Train the model\n",
    "    model.fit(X_train, y_train, epochs=config.epochs,\n",
    "                  validation_data=(X_test, y_test),\n",
    "             callbacks=[WandbCallback(data_type=\"image\", labels=labels)])"
   ]
  },
  {
   "cell_type": "markdown",
   "metadata": {
    "colab_type": "text",
    "id": "h7F3XIBOfDIM"
   },
   "source": [
    "## Specify the search grid within the sweep's configuration"
   ]
  },
  {
   "cell_type": "code",
   "execution_count": 5,
   "metadata": {
    "colab": {},
    "colab_type": "code",
    "id": "v7S326HLcuKe"
   },
   "outputs": [],
   "source": [
    "sweep_config = {\n",
    "    'method': 'grid',\n",
    "    'parameters': {\n",
    "        'layers': {\n",
    "            'values': [32, 64, 96, 128, 256]\n",
    "        }\n",
    "    }\n",
    "}"
   ]
  },
  {
   "cell_type": "markdown",
   "metadata": {
    "colab_type": "text",
    "id": "8e_guU_kfvOW"
   },
   "source": [
    "## Initialize the sweep"
   ]
  },
  {
   "cell_type": "code",
   "execution_count": 6,
   "metadata": {
    "colab": {},
    "colab_type": "code",
    "id": "ni8a9eC4cuKh"
   },
   "outputs": [
    {
     "name": "stdout",
     "output_type": "stream",
     "text": [
      "Create sweep with ID: 6v8m5w0s\n",
      "Sweep URL: https://app.wandb.ai/sayakpaul/hyperparameter-sweeps-partI/sweeps/6v8m5w0s\n"
     ]
    }
   ],
   "source": [
    "sweep_id = wandb.sweep(sweep_config)"
   ]
  },
  {
   "cell_type": "markdown",
   "metadata": {
    "colab_type": "text",
    "id": "-X3YrzOOfxuA"
   },
   "source": [
    "## Run the sweep"
   ]
  },
  {
   "cell_type": "code",
   "execution_count": 7,
   "metadata": {
    "colab": {
     "base_uri": "https://localhost:8080/",
     "height": 1000
    },
    "colab_type": "code",
    "id": "vaQvTvmHcuKj",
    "outputId": "3587220c-9436-43cd-829d-8be03fd5b042",
    "scrolled": false
   },
   "outputs": [
    {
     "name": "stderr",
     "output_type": "stream",
     "text": [
      "WARNING: Logging before flag parsing goes to stderr.\n",
      "I1011 07:59:19.739437 4470760896 wandb_agent.py:142] Running runs: []\n",
      "I1011 07:59:20.365427 4470760896 wandb_agent.py:189] Agent received command: run\n",
      "I1011 07:59:20.366800 4470760896 wandb_agent.py:219] Agent starting run with config:\n",
      "\tlayers: 32\n"
     ]
    },
    {
     "name": "stdout",
     "output_type": "stream",
     "text": [
      "wandb: Agent Starting Run: adp2oxad with config:\n",
      "\tlayers: 32\n",
      "wandb: Agent Started Run: adp2oxad\n"
     ]
    },
    {
     "data": {
      "text/html": [
       "\n",
       "            Notebook configured with <a href=\"https://wandb.com\" target=\"_blank\">W&B</a>. You can <a href=\"https://app.wandb.ai/sayakpaul/hyperparameter-sweeps-partI/runs/adp2oxad\" target=\"_blank\">open</a> the run page, or call <code>%%wandb</code>\n",
       "            in a cell containing your training loop to display live results.  Learn more in our <a href=\"https://docs.wandb.com/docs/integrations/jupyter.html\" target=\"_blank\">docs</a>.\n",
       "        "
      ],
      "text/plain": [
       "<IPython.core.display.HTML object>"
      ]
     },
     "metadata": {},
     "output_type": "display_data"
    },
    {
     "name": "stdout",
     "output_type": "stream",
     "text": [
      "Train on 60000 samples, validate on 10000 samples\n",
      "Epoch 1/5\n",
      "27872/60000 [============>.................] - ETA: 2s - loss: 0.6395 - accuracy: 0.7831"
     ]
    },
    {
     "name": "stderr",
     "output_type": "stream",
     "text": [
      "I1011 07:59:25.392189 4470760896 wandb_agent.py:142] Running runs: ['adp2oxad']\n"
     ]
    },
    {
     "name": "stdout",
     "output_type": "stream",
     "text": [
      "60000/60000 [==============================] - 5s 90us/sample - loss: 0.5428 - accuracy: 0.8136 - val_loss: 0.4561 - val_accuracy: 0.8400\n",
      "Epoch 2/5\n",
      "33216/60000 [===============>..............] - ETA: 1s - loss: 0.4122 - accuracy: 0.8531"
     ]
    },
    {
     "name": "stderr",
     "output_type": "stream",
     "text": [
      "I1011 07:59:30.936186 4470760896 wandb_agent.py:142] Running runs: ['adp2oxad']\n"
     ]
    },
    {
     "name": "stdout",
     "output_type": "stream",
     "text": [
      "60000/60000 [==============================] - 5s 85us/sample - loss: 0.4056 - accuracy: 0.8561 - val_loss: 0.4270 - val_accuracy: 0.8474\n",
      "Epoch 3/5\n",
      "31776/60000 [==============>...............] - ETA: 2s - loss: 0.3665 - accuracy: 0.8700"
     ]
    },
    {
     "name": "stderr",
     "output_type": "stream",
     "text": [
      "I1011 07:59:36.466446 4470760896 wandb_agent.py:142] Running runs: ['adp2oxad']\n"
     ]
    },
    {
     "name": "stdout",
     "output_type": "stream",
     "text": [
      "60000/60000 [==============================] - 7s 110us/sample - loss: 0.3678 - accuracy: 0.8688 - val_loss: 0.4017 - val_accuracy: 0.8582\n",
      "Epoch 4/5\n",
      "19232/60000 [========>.....................] - ETA: 3s - loss: 0.3460 - accuracy: 0.8758"
     ]
    },
    {
     "name": "stderr",
     "output_type": "stream",
     "text": [
      "I1011 07:59:41.982864 4470760896 wandb_agent.py:142] Running runs: ['adp2oxad']\n"
     ]
    },
    {
     "name": "stdout",
     "output_type": "stream",
     "text": [
      "60000/60000 [==============================] - 7s 109us/sample - loss: 0.3459 - accuracy: 0.8762 - val_loss: 0.3878 - val_accuracy: 0.8600\n",
      "Epoch 5/5\n",
      " 9024/60000 [===>..........................] - ETA: 4s - loss: 0.3294 - accuracy: 0.8810"
     ]
    },
    {
     "name": "stderr",
     "output_type": "stream",
     "text": [
      "I1011 07:59:47.541109 4470760896 wandb_agent.py:142] Running runs: ['adp2oxad']\n"
     ]
    },
    {
     "name": "stdout",
     "output_type": "stream",
     "text": [
      "60000/60000 [==============================] - 6s 97us/sample - loss: 0.3328 - accuracy: 0.8795 - val_loss: 0.3756 - val_accuracy: 0.8690\n",
      "wandb: Agent Finished Run: adp2oxad \n",
      "\n"
     ]
    },
    {
     "name": "stderr",
     "output_type": "stream",
     "text": [
      "I1011 07:59:53.050410 4470760896 wandb_agent.py:142] Running runs: ['adp2oxad']\n",
      "I1011 07:59:58.570904 4470760896 wandb_agent.py:142] Running runs: ['adp2oxad']\n",
      "I1011 07:59:58.575821 4470760896 wandb_agent.py:149] Cleaning up dead run: adp2oxad\n",
      "I1011 07:59:59.138547 4470760896 wandb_agent.py:189] Agent received command: run\n",
      "I1011 07:59:59.139483 4470760896 wandb_agent.py:219] Agent starting run with config:\n",
      "\tlayers: 64\n"
     ]
    },
    {
     "name": "stdout",
     "output_type": "stream",
     "text": [
      "wandb: Agent Starting Run: 10skuuwj with config:\n",
      "\tlayers: 64\n",
      "wandb: Agent Started Run: 10skuuwj\n"
     ]
    },
    {
     "data": {
      "text/html": [
       "\n",
       "            Notebook configured with <a href=\"https://wandb.com\" target=\"_blank\">W&B</a>. You can <a href=\"https://app.wandb.ai/sayakpaul/hyperparameter-sweeps-partI/runs/10skuuwj\" target=\"_blank\">open</a> the run page, or call <code>%%wandb</code>\n",
       "            in a cell containing your training loop to display live results.  Learn more in our <a href=\"https://docs.wandb.com/docs/integrations/jupyter.html\" target=\"_blank\">docs</a>.\n",
       "        "
      ],
      "text/plain": [
       "<IPython.core.display.HTML object>"
      ]
     },
     "metadata": {},
     "output_type": "display_data"
    },
    {
     "name": "stdout",
     "output_type": "stream",
     "text": [
      "Train on 60000 samples, validate on 10000 samples\n",
      "Epoch 1/5\n",
      "17312/60000 [=======>......................] - ETA: 5s - loss: 0.6500 - accuracy: 0.7763"
     ]
    },
    {
     "name": "stderr",
     "output_type": "stream",
     "text": [
      "I1011 08:00:04.164566 4470760896 wandb_agent.py:142] Running runs: ['10skuuwj']\n"
     ]
    },
    {
     "name": "stdout",
     "output_type": "stream",
     "text": [
      "60000/60000 [==============================] - 7s 121us/sample - loss: 0.5072 - accuracy: 0.8224 - val_loss: 0.4429 - val_accuracy: 0.8388\n",
      "Epoch 2/5\n",
      " 8000/60000 [===>..........................] - ETA: 4s - loss: 0.3958 - accuracy: 0.8612"
     ]
    },
    {
     "name": "stderr",
     "output_type": "stream",
     "text": [
      "I1011 08:00:09.804759 4470760896 wandb_agent.py:142] Running runs: ['10skuuwj']\n"
     ]
    },
    {
     "name": "stdout",
     "output_type": "stream",
     "text": [
      "60000/60000 [==============================] - 6s 98us/sample - loss: 0.3822 - accuracy: 0.8633 - val_loss: 0.3869 - val_accuracy: 0.8626\n",
      "Epoch 3/5\n",
      " 5888/60000 [=>............................] - ETA: 4s - loss: 0.3673 - accuracy: 0.8612"
     ]
    },
    {
     "name": "stderr",
     "output_type": "stream",
     "text": [
      "I1011 08:00:15.444489 4470760896 wandb_agent.py:142] Running runs: ['10skuuwj']\n"
     ]
    },
    {
     "name": "stdout",
     "output_type": "stream",
     "text": [
      "59520/60000 [============================>.] - ETA: 0s - loss: 0.3489 - accuracy: 0.8731"
     ]
    },
    {
     "name": "stderr",
     "output_type": "stream",
     "text": [
      "I1011 08:00:20.978480 4470760896 wandb_agent.py:142] Running runs: ['10skuuwj']\n"
     ]
    },
    {
     "name": "stdout",
     "output_type": "stream",
     "text": [
      "60000/60000 [==============================] - 7s 115us/sample - loss: 0.3490 - accuracy: 0.8731 - val_loss: 0.3707 - val_accuracy: 0.8647\n",
      "Epoch 4/5\n",
      "54496/60000 [==========================>...] - ETA: 0s - loss: 0.3247 - accuracy: 0.8811"
     ]
    },
    {
     "name": "stderr",
     "output_type": "stream",
     "text": [
      "I1011 08:00:26.543354 4470760896 wandb_agent.py:142] Running runs: ['10skuuwj']\n"
     ]
    },
    {
     "name": "stdout",
     "output_type": "stream",
     "text": [
      "60000/60000 [==============================] - 6s 100us/sample - loss: 0.3252 - accuracy: 0.8809 - val_loss: 0.3623 - val_accuracy: 0.8712\n",
      "Epoch 5/5\n",
      "47296/60000 [======================>.......] - ETA: 1s - loss: 0.3100 - accuracy: 0.8869"
     ]
    },
    {
     "name": "stderr",
     "output_type": "stream",
     "text": [
      "I1011 08:00:32.096295 4470760896 wandb_agent.py:142] Running runs: ['10skuuwj']\n"
     ]
    },
    {
     "name": "stdout",
     "output_type": "stream",
     "text": [
      "60000/60000 [==============================] - 6s 102us/sample - loss: 0.3093 - accuracy: 0.8869 - val_loss: 0.3500 - val_accuracy: 0.8747\n",
      "wandb: Agent Finished Run: 10skuuwj \n",
      "\n"
     ]
    },
    {
     "name": "stderr",
     "output_type": "stream",
     "text": [
      "I1011 08:00:37.619027 4470760896 wandb_agent.py:142] Running runs: ['10skuuwj']\n",
      "I1011 08:00:43.516901 4470760896 wandb_agent.py:142] Running runs: ['10skuuwj']\n",
      "I1011 08:00:43.519715 4470760896 wandb_agent.py:149] Cleaning up dead run: 10skuuwj\n",
      "I1011 08:00:44.125169 4470760896 wandb_agent.py:189] Agent received command: run\n",
      "I1011 08:00:44.125946 4470760896 wandb_agent.py:219] Agent starting run with config:\n",
      "\tlayers: 96\n"
     ]
    },
    {
     "name": "stdout",
     "output_type": "stream",
     "text": [
      "wandb: Agent Starting Run: 1bgtgpf8 with config:\n",
      "\tlayers: 96\n",
      "wandb: Agent Started Run: 1bgtgpf8\n"
     ]
    },
    {
     "data": {
      "text/html": [
       "\n",
       "            Notebook configured with <a href=\"https://wandb.com\" target=\"_blank\">W&B</a>. You can <a href=\"https://app.wandb.ai/sayakpaul/hyperparameter-sweeps-partI/runs/1bgtgpf8\" target=\"_blank\">open</a> the run page, or call <code>%%wandb</code>\n",
       "            in a cell containing your training loop to display live results.  Learn more in our <a href=\"https://docs.wandb.com/docs/integrations/jupyter.html\" target=\"_blank\">docs</a>.\n",
       "        "
      ],
      "text/plain": [
       "<IPython.core.display.HTML object>"
      ]
     },
     "metadata": {},
     "output_type": "display_data"
    },
    {
     "name": "stdout",
     "output_type": "stream",
     "text": [
      "Train on 60000 samples, validate on 10000 samples\n",
      "Epoch 1/5\n",
      " 9056/60000 [===>..........................] - ETA: 12s - loss: 0.7403 - accuracy: 0.7449"
     ]
    },
    {
     "name": "stderr",
     "output_type": "stream",
     "text": [
      "I1011 08:00:49.153630 4470760896 wandb_agent.py:142] Running runs: ['1bgtgpf8']\n"
     ]
    },
    {
     "name": "stdout",
     "output_type": "stream",
     "text": [
      "59552/60000 [============================>.] - ETA: 0s - loss: 0.5053 - accuracy: 0.8228"
     ]
    },
    {
     "name": "stderr",
     "output_type": "stream",
     "text": [
      "I1011 08:00:54.692464 4470760896 wandb_agent.py:142] Running runs: ['1bgtgpf8']\n"
     ]
    },
    {
     "name": "stdout",
     "output_type": "stream",
     "text": [
      "60000/60000 [==============================] - 9s 149us/sample - loss: 0.5044 - accuracy: 0.8232 - val_loss: 0.4412 - val_accuracy: 0.8424\n",
      "Epoch 2/5\n",
      "31200/60000 [==============>...............] - ETA: 4s - loss: 0.3947 - accuracy: 0.8594"
     ]
    },
    {
     "name": "stderr",
     "output_type": "stream",
     "text": [
      "I1011 08:01:00.223278 4470760896 wandb_agent.py:142] Running runs: ['1bgtgpf8']\n"
     ]
    },
    {
     "name": "stdout",
     "output_type": "stream",
     "text": [
      "60000/60000 [==============================] - 8s 137us/sample - loss: 0.3823 - accuracy: 0.8639 - val_loss: 0.3991 - val_accuracy: 0.8573\n",
      "Epoch 3/5\n",
      "21536/60000 [=========>....................] - ETA: 3s - loss: 0.3499 - accuracy: 0.8719"
     ]
    },
    {
     "name": "stderr",
     "output_type": "stream",
     "text": [
      "I1011 08:01:05.752283 4470760896 wandb_agent.py:142] Running runs: ['1bgtgpf8']\n"
     ]
    },
    {
     "name": "stdout",
     "output_type": "stream",
     "text": [
      "60000/60000 [==============================] - 6s 103us/sample - loss: 0.3451 - accuracy: 0.8743 - val_loss: 0.3742 - val_accuracy: 0.8662\n",
      "Epoch 4/5\n",
      "11552/60000 [====>.........................] - ETA: 4s - loss: 0.3277 - accuracy: 0.8763"
     ]
    },
    {
     "name": "stderr",
     "output_type": "stream",
     "text": [
      "I1011 08:01:11.273573 4470760896 wandb_agent.py:142] Running runs: ['1bgtgpf8']\n"
     ]
    },
    {
     "name": "stdout",
     "output_type": "stream",
     "text": [
      "59808/60000 [============================>.] - ETA: 0s - loss: 0.3208 - accuracy: 0.8833"
     ]
    },
    {
     "name": "stderr",
     "output_type": "stream",
     "text": [
      "I1011 08:01:16.782071 4470760896 wandb_agent.py:142] Running runs: ['1bgtgpf8']\n"
     ]
    },
    {
     "name": "stdout",
     "output_type": "stream",
     "text": [
      "60000/60000 [==============================] - 7s 111us/sample - loss: 0.3206 - accuracy: 0.8834 - val_loss: 0.3646 - val_accuracy: 0.8682\n",
      "Epoch 5/5\n",
      "58848/60000 [============================>.] - ETA: 0s - loss: 0.3016 - accuracy: 0.8895"
     ]
    },
    {
     "name": "stderr",
     "output_type": "stream",
     "text": [
      "I1011 08:01:22.303070 4470760896 wandb_agent.py:142] Running runs: ['1bgtgpf8']\n"
     ]
    },
    {
     "name": "stdout",
     "output_type": "stream",
     "text": [
      "60000/60000 [==============================] - 6s 106us/sample - loss: 0.3023 - accuracy: 0.8895 - val_loss: 0.3664 - val_accuracy: 0.8691\n",
      "wandb: Agent Finished Run: 1bgtgpf8 \n",
      "\n"
     ]
    },
    {
     "name": "stderr",
     "output_type": "stream",
     "text": [
      "I1011 08:01:27.887002 4470760896 wandb_agent.py:142] Running runs: ['1bgtgpf8']\n",
      "I1011 08:01:27.889311 4470760896 wandb_agent.py:149] Cleaning up dead run: 1bgtgpf8\n",
      "I1011 08:01:28.568233 4470760896 wandb_agent.py:189] Agent received command: run\n",
      "I1011 08:01:28.570586 4470760896 wandb_agent.py:219] Agent starting run with config:\n",
      "\tlayers: 128\n"
     ]
    },
    {
     "name": "stdout",
     "output_type": "stream",
     "text": [
      "wandb: Agent Starting Run: zccnruoi with config:\n",
      "\tlayers: 128\n",
      "wandb: Agent Started Run: zccnruoi\n"
     ]
    },
    {
     "data": {
      "text/html": [
       "\n",
       "            Notebook configured with <a href=\"https://wandb.com\" target=\"_blank\">W&B</a>. You can <a href=\"https://app.wandb.ai/sayakpaul/hyperparameter-sweeps-partI/runs/zccnruoi\" target=\"_blank\">open</a> the run page, or call <code>%%wandb</code>\n",
       "            in a cell containing your training loop to display live results.  Learn more in our <a href=\"https://docs.wandb.com/docs/integrations/jupyter.html\" target=\"_blank\">docs</a>.\n",
       "        "
      ],
      "text/plain": [
       "<IPython.core.display.HTML object>"
      ]
     },
     "metadata": {},
     "output_type": "display_data"
    },
    {
     "name": "stdout",
     "output_type": "stream",
     "text": [
      "Train on 60000 samples, validate on 10000 samples\n",
      "Epoch 1/5\n",
      "12128/60000 [=====>........................] - ETA: 8s - loss: 0.6853 - accuracy: 0.7659"
     ]
    },
    {
     "name": "stderr",
     "output_type": "stream",
     "text": [
      "I1011 08:01:33.591382 4470760896 wandb_agent.py:142] Running runs: ['zccnruoi']\n"
     ]
    },
    {
     "name": "stdout",
     "output_type": "stream",
     "text": [
      "60000/60000 [==============================] - 7s 116us/sample - loss: 0.5030 - accuracy: 0.8230 - val_loss: 0.4363 - val_accuracy: 0.8449\n",
      "Epoch 2/5\n",
      "12896/60000 [=====>........................] - ETA: 3s - loss: 0.3893 - accuracy: 0.8605"
     ]
    },
    {
     "name": "stderr",
     "output_type": "stream",
     "text": [
      "I1011 08:01:39.203131 4470760896 wandb_agent.py:142] Running runs: ['zccnruoi']\n"
     ]
    },
    {
     "name": "stdout",
     "output_type": "stream",
     "text": [
      "60000/60000 [==============================] - 6s 94us/sample - loss: 0.3778 - accuracy: 0.8639 - val_loss: 0.4191 - val_accuracy: 0.8491\n",
      "Epoch 3/5\n",
      "10304/60000 [====>.........................] - ETA: 4s - loss: 0.3392 - accuracy: 0.8767"
     ]
    },
    {
     "name": "stderr",
     "output_type": "stream",
     "text": [
      "I1011 08:01:44.840579 4470760896 wandb_agent.py:142] Running runs: ['zccnruoi']\n"
     ]
    },
    {
     "name": "stdout",
     "output_type": "stream",
     "text": [
      "60000/60000 [==============================] - 5s 87us/sample - loss: 0.3378 - accuracy: 0.8777 - val_loss: 0.3577 - val_accuracy: 0.8726\n",
      "Epoch 4/5\n",
      "16576/60000 [=======>......................] - ETA: 3s - loss: 0.3035 - accuracy: 0.8903"
     ]
    },
    {
     "name": "stderr",
     "output_type": "stream",
     "text": [
      "I1011 08:01:50.392770 4470760896 wandb_agent.py:142] Running runs: ['zccnruoi']\n"
     ]
    },
    {
     "name": "stdout",
     "output_type": "stream",
     "text": [
      "60000/60000 [==============================] - 5s 84us/sample - loss: 0.3121 - accuracy: 0.8860 - val_loss: 0.3658 - val_accuracy: 0.8677\n",
      "Epoch 5/5\n",
      "23392/60000 [==========>...................] - ETA: 2s - loss: 0.2959 - accuracy: 0.8896"
     ]
    },
    {
     "name": "stderr",
     "output_type": "stream",
     "text": [
      "I1011 08:01:55.991566 4470760896 wandb_agent.py:142] Running runs: ['zccnruoi']\n"
     ]
    },
    {
     "name": "stdout",
     "output_type": "stream",
     "text": [
      "60000/60000 [==============================] - 5s 82us/sample - loss: 0.2958 - accuracy: 0.8906 - val_loss: 0.3563 - val_accuracy: 0.8729\n",
      "wandb: Agent Finished Run: zccnruoi \n",
      "\n"
     ]
    },
    {
     "name": "stderr",
     "output_type": "stream",
     "text": [
      "I1011 08:02:01.497782 4470760896 wandb_agent.py:142] Running runs: ['zccnruoi']\n",
      "I1011 08:02:07.021322 4470760896 wandb_agent.py:142] Running runs: ['zccnruoi']\n",
      "I1011 08:02:07.024515 4470760896 wandb_agent.py:149] Cleaning up dead run: zccnruoi\n",
      "I1011 08:02:07.684164 4470760896 wandb_agent.py:189] Agent received command: run\n",
      "I1011 08:02:07.686389 4470760896 wandb_agent.py:219] Agent starting run with config:\n",
      "\tlayers: 256\n"
     ]
    },
    {
     "name": "stdout",
     "output_type": "stream",
     "text": [
      "wandb: Agent Starting Run: p9cata26 with config:\n",
      "\tlayers: 256\n",
      "wandb: Agent Started Run: p9cata26\n"
     ]
    },
    {
     "data": {
      "text/html": [
       "\n",
       "            Notebook configured with <a href=\"https://wandb.com\" target=\"_blank\">W&B</a>. You can <a href=\"https://app.wandb.ai/sayakpaul/hyperparameter-sweeps-partI/runs/p9cata26\" target=\"_blank\">open</a> the run page, or call <code>%%wandb</code>\n",
       "            in a cell containing your training loop to display live results.  Learn more in our <a href=\"https://docs.wandb.com/docs/integrations/jupyter.html\" target=\"_blank\">docs</a>.\n",
       "        "
      ],
      "text/plain": [
       "<IPython.core.display.HTML object>"
      ]
     },
     "metadata": {},
     "output_type": "display_data"
    },
    {
     "name": "stdout",
     "output_type": "stream",
     "text": [
      "Train on 60000 samples, validate on 10000 samples\n",
      "Epoch 1/5\n"
     ]
    },
    {
     "name": "stderr",
     "output_type": "stream",
     "text": [
      "I1011 08:02:12.711884 4470760896 wandb_agent.py:142] Running runs: ['p9cata26']\n"
     ]
    },
    {
     "name": "stdout",
     "output_type": "stream",
     "text": [
      "45184/60000 [=====================>........] - ETA: 1s - loss: 0.5124 - accuracy: 0.8196"
     ]
    },
    {
     "name": "stderr",
     "output_type": "stream",
     "text": [
      "I1011 08:02:18.315962 4470760896 wandb_agent.py:142] Running runs: ['p9cata26']\n"
     ]
    },
    {
     "name": "stdout",
     "output_type": "stream",
     "text": [
      "60000/60000 [==============================] - 8s 139us/sample - loss: 0.4863 - accuracy: 0.8280 - val_loss: 0.4511 - val_accuracy: 0.8388\n",
      "Epoch 2/5\n",
      "35200/60000 [================>.............] - ETA: 2s - loss: 0.3727 - accuracy: 0.8662"
     ]
    },
    {
     "name": "stderr",
     "output_type": "stream",
     "text": [
      "I1011 08:02:23.895040 4470760896 wandb_agent.py:142] Running runs: ['p9cata26']\n"
     ]
    },
    {
     "name": "stdout",
     "output_type": "stream",
     "text": [
      "60000/60000 [==============================] - 6s 103us/sample - loss: 0.3641 - accuracy: 0.8684 - val_loss: 0.3661 - val_accuracy: 0.8697\n",
      "Epoch 3/5\n",
      "28064/60000 [=============>................] - ETA: 2s - loss: 0.3298 - accuracy: 0.8797"
     ]
    },
    {
     "name": "stderr",
     "output_type": "stream",
     "text": [
      "I1011 08:02:29.432902 4470760896 wandb_agent.py:142] Running runs: ['p9cata26']\n"
     ]
    },
    {
     "name": "stdout",
     "output_type": "stream",
     "text": [
      "60000/60000 [==============================] - 6s 103us/sample - loss: 0.3261 - accuracy: 0.8811 - val_loss: 0.3423 - val_accuracy: 0.8777\n",
      "Epoch 4/5\n",
      "23712/60000 [==========>...................] - ETA: 3s - loss: 0.3018 - accuracy: 0.8882"
     ]
    },
    {
     "name": "stderr",
     "output_type": "stream",
     "text": [
      "I1011 08:02:35.006648 4470760896 wandb_agent.py:142] Running runs: ['p9cata26']\n"
     ]
    },
    {
     "name": "stdout",
     "output_type": "stream",
     "text": [
      "60000/60000 [==============================] - 6s 99us/sample - loss: 0.3025 - accuracy: 0.8886 - val_loss: 0.3310 - val_accuracy: 0.8796\n",
      "Epoch 5/5\n",
      "18048/60000 [========>.....................] - ETA: 3s - loss: 0.2858 - accuracy: 0.8915"
     ]
    },
    {
     "name": "stderr",
     "output_type": "stream",
     "text": [
      "I1011 08:02:40.513317 4470760896 wandb_agent.py:142] Running runs: ['p9cata26']\n"
     ]
    },
    {
     "name": "stdout",
     "output_type": "stream",
     "text": [
      "60000/60000 [==============================] - 6s 102us/sample - loss: 0.2834 - accuracy: 0.8950 - val_loss: 0.3488 - val_accuracy: 0.8696\n",
      "wandb: Agent Finished Run: p9cata26 \n",
      "\n"
     ]
    },
    {
     "name": "stderr",
     "output_type": "stream",
     "text": [
      "I1011 08:02:46.049510 4470760896 wandb_agent.py:142] Running runs: ['p9cata26']\n",
      "I1011 08:02:51.558561 4470760896 wandb_agent.py:142] Running runs: ['p9cata26']\n",
      "I1011 08:02:51.561447 4470760896 wandb_agent.py:149] Cleaning up dead run: p9cata26\n",
      "I1011 08:02:52.152206 4470760896 wandb_agent.py:189] Agent received command: exit\n",
      "I1011 08:02:52.152984 4470760896 wandb_agent.py:277] Received exit command. Killing runs and quitting.\n"
     ]
    }
   ],
   "source": [
    "wandb.agent(sweep_id, function=train)"
   ]
  }
 ],
 "metadata": {
  "colab": {
   "name": "notebook.ipynb",
   "provenance": []
  },
  "kernelspec": {
   "display_name": "Python 3",
   "language": "python",
   "name": "python3"
  },
  "language_info": {
   "codemirror_mode": {
    "name": "ipython",
    "version": 3
   },
   "file_extension": ".py",
   "mimetype": "text/x-python",
   "name": "python",
   "nbconvert_exporter": "python",
   "pygments_lexer": "ipython3",
   "version": "3.7.1"
  }
 },
 "nbformat": 4,
 "nbformat_minor": 1
}
