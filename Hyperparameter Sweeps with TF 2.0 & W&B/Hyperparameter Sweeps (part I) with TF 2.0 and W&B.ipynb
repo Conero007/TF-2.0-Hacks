{
 "cells": [
  {
   "cell_type": "markdown",
   "metadata": {},
   "source": [
    "This notebook is a part of an article for [Weights and Biases](https://wandb.com). This notebook is based on this [example](https://docs.wandb.com/sweeps/python). "
   ]
  },
  {
   "cell_type": "markdown",
   "metadata": {
    "colab_type": "text",
    "id": "JoTBVlxmemdg"
   },
   "source": [
    "## Install W&B"
   ]
  },
  {
   "cell_type": "code",
   "execution_count": 0,
   "metadata": {
    "colab": {},
    "colab_type": "code",
    "id": "QIwuQSfCcuKW"
   },
   "outputs": [],
   "source": [
    "!pip install wandb\n",
    "!pip install tensorflow==2.0.0"
   ]
  },
  {
   "cell_type": "markdown",
   "metadata": {
    "colab_type": "text",
    "id": "QnA96JPrepkW"
   },
   "source": [
    "## Execute the following to authorize Colab to use W&B"
   ]
  },
  {
   "cell_type": "code",
   "execution_count": null,
   "metadata": {
    "colab": {},
    "colab_type": "code",
    "id": "itU8M84zeJmX"
   },
   "outputs": [],
   "source": [
    "!wandb login"
   ]
  },
  {
   "cell_type": "markdown",
   "metadata": {
    "colab_type": "text",
    "id": "o5SggzkFexj3"
   },
   "source": [
    "## Import the dependencies"
   ]
  },
  {
   "cell_type": "code",
   "execution_count": 2,
   "metadata": {
    "colab": {},
    "colab_type": "code",
    "id": "u8PsvtA-eFiy"
   },
   "outputs": [],
   "source": [
    "import tensorflow as tf\n",
    "import numpy as np\n",
    "import wandb"
   ]
  },
  {
   "cell_type": "markdown",
   "metadata": {
    "colab_type": "text",
    "id": "_CwayRpee3aj"
   },
   "source": [
    "## Initialize W&B with an entity name & a project name"
   ]
  },
  {
   "cell_type": "code",
   "execution_count": null,
   "metadata": {
    "colab": {},
    "colab_type": "code",
    "id": "7D0NGJnae7Dz"
   },
   "outputs": [],
   "source": [
    "wandb.init(project=\"hyperparameter-sweeps-partI\")"
   ]
  },
  {
   "cell_type": "markdown",
   "metadata": {
    "colab_type": "text",
    "id": "jFFJ20H_e79M"
   },
   "source": [
    "**Note** that the entity and project names can be of your choice. "
   ]
  },
  {
   "cell_type": "markdown",
   "metadata": {
    "colab_type": "text",
    "id": "G-GtcnYhhs9r"
   },
   "source": [
    "## Load the dataset and preprocess it"
   ]
  },
  {
   "cell_type": "code",
   "execution_count": 4,
   "metadata": {
    "colab": {},
    "colab_type": "code",
    "id": "_yn7oBRYhvI6"
   },
   "outputs": [],
   "source": [
    "# Load the dataset\n",
    "fashion_mnist = tf.keras.datasets.fashion_mnist\n",
    "(train_images, train_labels), (test_images, test_labels) = fashion_mnist.load_data()\n",
    "\n",
    "# Scale the pixel values of the images to \n",
    "train_images = train_images / 255.0\n",
    "test_images = test_images / 255.0"
   ]
  },
  {
   "cell_type": "markdown",
   "metadata": {
    "colab_type": "text",
    "id": "UQgu1MIufARI"
   },
   "source": [
    "## Define a training script"
   ]
  },
  {
   "cell_type": "code",
   "execution_count": 5,
   "metadata": {
    "colab": {},
    "colab_type": "code",
    "id": "mhScDpIFcuKb"
   },
   "outputs": [],
   "source": [
    "def train():\n",
    "    \n",
    "    (X_train, y_train) = train_images, train_labels\n",
    "    (X_test, y_test) = test_images, test_labels\n",
    "    \n",
    "    # Specify the hyperparameter to be tuned along with\n",
    "    # an initial value\n",
    "    configs = {\n",
    "        'layers': 128\n",
    "    }\n",
    "    \n",
    "    # Add the config item (layers) to wandb\n",
    "    if wandb.run:\n",
    "        wandb.config.update({k: v for k, v in configs.items() if k not in dict(wandb.config.user_items())})\n",
    "        configs = dict(wandb.config.user_items())\n",
    "    \n",
    "    # Define the model\n",
    "    model = tf.keras.Sequential([\n",
    "        tf.keras.layers.Flatten(input_shape=(28, 28)),\n",
    "        tf.keras.layers.Dense(wandb.config.layers, activation=tf.nn.relu),\n",
    "        tf.keras.layers.Dense(10, activation=tf.nn.softmax)\n",
    "    ])\n",
    "    \n",
    "    # Compile the model\n",
    "    model.compile(optimizer='adam',\n",
    "                  loss='sparse_categorical_crossentropy',\n",
    "                  metrics=['accuracy'])\n",
    "    \n",
    "    # Train the model\n",
    "    model.fit(X_train, y_train, epochs=5,\n",
    "                  validation_data=(X_test, y_test))"
   ]
  },
  {
   "cell_type": "markdown",
   "metadata": {
    "colab_type": "text",
    "id": "h7F3XIBOfDIM"
   },
   "source": [
    "## Specify the search grid within the sweep's configuration"
   ]
  },
  {
   "cell_type": "code",
   "execution_count": 6,
   "metadata": {
    "colab": {},
    "colab_type": "code",
    "id": "v7S326HLcuKe"
   },
   "outputs": [],
   "source": [
    "sweep_config = {\n",
    "    'method': 'grid',\n",
    "    'parameters': {\n",
    "        'layers': {\n",
    "            'values': [32, 64, 96, 128, 256]\n",
    "        }\n",
    "    }\n",
    "}"
   ]
  },
  {
   "cell_type": "markdown",
   "metadata": {
    "colab_type": "text",
    "id": "8e_guU_kfvOW"
   },
   "source": [
    "## Initialize the sweep"
   ]
  },
  {
   "cell_type": "code",
   "execution_count": null,
   "metadata": {
    "colab": {},
    "colab_type": "code",
    "id": "ni8a9eC4cuKh"
   },
   "outputs": [],
   "source": [
    "sweep_id = wandb.sweep(sweep_config)"
   ]
  },
  {
   "cell_type": "markdown",
   "metadata": {
    "colab_type": "text",
    "id": "-X3YrzOOfxuA"
   },
   "source": [
    "## Run the sweep"
   ]
  },
  {
   "cell_type": "code",
   "execution_count": 8,
   "metadata": {
    "colab": {
     "base_uri": "https://localhost:8080/",
     "height": 1000
    },
    "colab_type": "code",
    "id": "vaQvTvmHcuKj",
    "outputId": "3587220c-9436-43cd-829d-8be03fd5b042",
    "scrolled": false
   },
   "outputs": [
    {
     "name": "stderr",
     "output_type": "stream",
     "text": [
      "WARNING: Logging before flag parsing goes to stderr.\n",
      "I1009 09:37:35.485105 4586743232 wandb_agent.py:142] Running runs: []\n",
      "I1009 09:37:36.070362 4586743232 wandb_agent.py:189] Agent received command: run\n",
      "I1009 09:37:36.071853 4586743232 wandb_agent.py:219] Agent starting run with config:\n",
      "\tlayers: 32\n"
     ]
    },
    {
     "name": "stdout",
     "output_type": "stream",
     "text": [
      "wandb: Agent Starting Run: frax6avo with config:\n",
      "\tlayers: 32\n",
      "wandb: Agent Started Run: frax6avo\n",
      "Train on 60000 samples, validate on 10000 samples\n",
      "Epoch 1/5\n",
      "42592/60000 [====================>.........] - ETA: 1s - loss: 0.5291 - accuracy: 0.8136"
     ]
    },
    {
     "name": "stderr",
     "output_type": "stream",
     "text": [
      "I1009 09:37:42.899446 4586743232 wandb_agent.py:142] Running runs: ['frax6avo']\n"
     ]
    },
    {
     "name": "stdout",
     "output_type": "stream",
     "text": [
      "60000/60000 [==============================] - 7s 112us/sample - loss: 0.4982 - accuracy: 0.8249 - val_loss: 0.4258 - val_accuracy: 0.8486\n",
      "Epoch 2/5\n",
      "42176/60000 [====================>.........] - ETA: 1s - loss: 0.3798 - accuracy: 0.8624"
     ]
    },
    {
     "name": "stderr",
     "output_type": "stream",
     "text": [
      "I1009 09:37:48.431119 4586743232 wandb_agent.py:142] Running runs: ['frax6avo']\n"
     ]
    },
    {
     "name": "stdout",
     "output_type": "stream",
     "text": [
      "60000/60000 [==============================] - 6s 94us/sample - loss: 0.3748 - accuracy: 0.8642 - val_loss: 0.4356 - val_accuracy: 0.8450\n",
      "Epoch 3/5\n",
      "42432/60000 [====================>.........] - ETA: 1s - loss: 0.3415 - accuracy: 0.8748"
     ]
    },
    {
     "name": "stderr",
     "output_type": "stream",
     "text": [
      "I1009 09:37:54.211471 4586743232 wandb_agent.py:142] Running runs: ['frax6avo']\n"
     ]
    },
    {
     "name": "stdout",
     "output_type": "stream",
     "text": [
      "60000/60000 [==============================] - 6s 92us/sample - loss: 0.3357 - accuracy: 0.8766 - val_loss: 0.3797 - val_accuracy: 0.8661\n",
      "Epoch 4/5\n",
      "46368/60000 [======================>.......] - ETA: 1s - loss: 0.3115 - accuracy: 0.8855"
     ]
    },
    {
     "name": "stderr",
     "output_type": "stream",
     "text": [
      "I1009 09:37:59.756622 4586743232 wandb_agent.py:142] Running runs: ['frax6avo']\n"
     ]
    },
    {
     "name": "stdout",
     "output_type": "stream",
     "text": [
      "60000/60000 [==============================] - 5s 87us/sample - loss: 0.3115 - accuracy: 0.8862 - val_loss: 0.3532 - val_accuracy: 0.8735\n",
      "Epoch 5/5\n",
      "57472/60000 [===========================>..] - ETA: 0s - loss: 0.2938 - accuracy: 0.8913"
     ]
    },
    {
     "name": "stderr",
     "output_type": "stream",
     "text": [
      "I1009 09:38:05.300453 4586743232 wandb_agent.py:142] Running runs: ['frax6avo']\n"
     ]
    },
    {
     "name": "stdout",
     "output_type": "stream",
     "text": [
      "60000/60000 [==============================] - 5s 77us/sample - loss: 0.2940 - accuracy: 0.8910 - val_loss: 0.3476 - val_accuracy: 0.8749\n",
      "wandb: Agent Finished Run: frax6avo \n",
      "\n"
     ]
    },
    {
     "name": "stderr",
     "output_type": "stream",
     "text": [
      "I1009 09:38:10.847571 4586743232 wandb_agent.py:142] Running runs: ['frax6avo']\n",
      "I1009 09:38:10.853776 4586743232 wandb_agent.py:149] Cleaning up dead run: frax6avo\n",
      "I1009 09:38:11.440036 4586743232 wandb_agent.py:189] Agent received command: run\n",
      "I1009 09:38:11.442510 4586743232 wandb_agent.py:219] Agent starting run with config:\n",
      "\tlayers: 64\n"
     ]
    },
    {
     "name": "stdout",
     "output_type": "stream",
     "text": [
      "wandb: Agent Starting Run: 92nxpqxk with config:\n",
      "\tlayers: 64\n",
      "wandb: Agent Started Run: 92nxpqxk\n",
      "Train on 60000 samples, validate on 10000 samples\n",
      "Epoch 1/5\n",
      "47200/60000 [======================>.......] - ETA: 1s - loss: 0.5203 - accuracy: 0.8173"
     ]
    },
    {
     "name": "stderr",
     "output_type": "stream",
     "text": [
      "I1009 09:38:16.476718 4586743232 wandb_agent.py:142] Running runs: ['92nxpqxk']\n"
     ]
    },
    {
     "name": "stdout",
     "output_type": "stream",
     "text": [
      "60000/60000 [==============================] - 7s 112us/sample - loss: 0.4984 - accuracy: 0.8237 - val_loss: 0.5029 - val_accuracy: 0.8154\n",
      "Epoch 2/5\n",
      "39744/60000 [==================>...........] - ETA: 1s - loss: 0.3850 - accuracy: 0.8603"
     ]
    },
    {
     "name": "stderr",
     "output_type": "stream",
     "text": [
      "I1009 09:38:22.024784 4586743232 wandb_agent.py:142] Running runs: ['92nxpqxk']\n"
     ]
    },
    {
     "name": "stdout",
     "output_type": "stream",
     "text": [
      "60000/60000 [==============================] - 6s 95us/sample - loss: 0.3751 - accuracy: 0.8640 - val_loss: 0.3793 - val_accuracy: 0.8661\n",
      "Epoch 3/5\n",
      "39872/60000 [==================>...........] - ETA: 1s - loss: 0.3422 - accuracy: 0.8741"
     ]
    },
    {
     "name": "stderr",
     "output_type": "stream",
     "text": [
      "I1009 09:38:27.701045 4586743232 wandb_agent.py:142] Running runs: ['92nxpqxk']\n"
     ]
    },
    {
     "name": "stdout",
     "output_type": "stream",
     "text": [
      "60000/60000 [==============================] - 6s 95us/sample - loss: 0.3354 - accuracy: 0.8771 - val_loss: 0.4132 - val_accuracy: 0.8475\n",
      "Epoch 4/5\n",
      "45984/60000 [=====================>........] - ETA: 1s - loss: 0.3118 - accuracy: 0.8850"
     ]
    },
    {
     "name": "stderr",
     "output_type": "stream",
     "text": [
      "I1009 09:38:33.249320 4586743232 wandb_agent.py:142] Running runs: ['92nxpqxk']\n"
     ]
    },
    {
     "name": "stdout",
     "output_type": "stream",
     "text": [
      "60000/60000 [==============================] - 5s 84us/sample - loss: 0.3130 - accuracy: 0.8839 - val_loss: 0.3612 - val_accuracy: 0.8673\n",
      "Epoch 5/5\n",
      "51616/60000 [========================>.....] - ETA: 0s - loss: 0.2939 - accuracy: 0.8924"
     ]
    },
    {
     "name": "stderr",
     "output_type": "stream",
     "text": [
      "I1009 09:38:38.786977 4586743232 wandb_agent.py:142] Running runs: ['92nxpqxk']\n"
     ]
    },
    {
     "name": "stdout",
     "output_type": "stream",
     "text": [
      "60000/60000 [==============================] - 5s 82us/sample - loss: 0.2947 - accuracy: 0.8923 - val_loss: 0.3481 - val_accuracy: 0.8750\n",
      "wandb: Agent Finished Run: 92nxpqxk \n",
      "\n"
     ]
    },
    {
     "name": "stderr",
     "output_type": "stream",
     "text": [
      "I1009 09:38:44.323723 4586743232 wandb_agent.py:142] Running runs: ['92nxpqxk']\n",
      "I1009 09:38:44.326969 4586743232 wandb_agent.py:149] Cleaning up dead run: 92nxpqxk\n",
      "I1009 09:38:44.919237 4586743232 wandb_agent.py:189] Agent received command: run\n",
      "I1009 09:38:44.920317 4586743232 wandb_agent.py:219] Agent starting run with config:\n",
      "\tlayers: 96\n"
     ]
    },
    {
     "name": "stdout",
     "output_type": "stream",
     "text": [
      "wandb: Agent Starting Run: 3qtsbuqf with config:\n",
      "\tlayers: 96\n",
      "wandb: Agent Started Run: 3qtsbuqf\n",
      "Train on 60000 samples, validate on 10000 samples\n",
      "Epoch 1/5\n",
      "44928/60000 [=====================>........] - ETA: 1s - loss: 0.5381 - accuracy: 0.8104"
     ]
    },
    {
     "name": "stderr",
     "output_type": "stream",
     "text": [
      "I1009 09:38:49.948149 4586743232 wandb_agent.py:142] Running runs: ['3qtsbuqf']\n"
     ]
    },
    {
     "name": "stdout",
     "output_type": "stream",
     "text": [
      "60000/60000 [==============================] - 7s 112us/sample - loss: 0.5067 - accuracy: 0.8213 - val_loss: 0.4365 - val_accuracy: 0.8401\n",
      "Epoch 2/5\n",
      "39392/60000 [==================>...........] - ETA: 1s - loss: 0.3835 - accuracy: 0.8611"
     ]
    },
    {
     "name": "stderr",
     "output_type": "stream",
     "text": [
      "I1009 09:38:55.494057 4586743232 wandb_agent.py:142] Running runs: ['3qtsbuqf']\n"
     ]
    },
    {
     "name": "stdout",
     "output_type": "stream",
     "text": [
      "60000/60000 [==============================] - 6s 104us/sample - loss: 0.3775 - accuracy: 0.8637 - val_loss: 0.3900 - val_accuracy: 0.8592\n",
      "Epoch 3/5\n",
      "29216/60000 [=============>................] - ETA: 2s - loss: 0.3424 - accuracy: 0.8737"
     ]
    },
    {
     "name": "stderr",
     "output_type": "stream",
     "text": [
      "I1009 09:39:01.035125 4586743232 wandb_agent.py:142] Running runs: ['3qtsbuqf']\n"
     ]
    },
    {
     "name": "stdout",
     "output_type": "stream",
     "text": [
      "60000/60000 [==============================] - 6s 100us/sample - loss: 0.3392 - accuracy: 0.8762 - val_loss: 0.3606 - val_accuracy: 0.8715\n",
      "Epoch 4/5\n",
      "29216/60000 [=============>................] - ETA: 2s - loss: 0.3108 - accuracy: 0.8854"
     ]
    },
    {
     "name": "stderr",
     "output_type": "stream",
     "text": [
      "I1009 09:39:06.598984 4586743232 wandb_agent.py:142] Running runs: ['3qtsbuqf']\n"
     ]
    },
    {
     "name": "stdout",
     "output_type": "stream",
     "text": [
      "60000/60000 [==============================] - 6s 92us/sample - loss: 0.3127 - accuracy: 0.8857 - val_loss: 0.3530 - val_accuracy: 0.8716\n",
      "Epoch 5/5\n",
      "28704/60000 [=============>................] - ETA: 2s - loss: 0.2929 - accuracy: 0.8910"
     ]
    },
    {
     "name": "stderr",
     "output_type": "stream",
     "text": [
      "I1009 09:39:12.140661 4586743232 wandb_agent.py:142] Running runs: ['3qtsbuqf']\n"
     ]
    },
    {
     "name": "stdout",
     "output_type": "stream",
     "text": [
      "60000/60000 [==============================] - 5s 90us/sample - loss: 0.2945 - accuracy: 0.8910 - val_loss: 0.3465 - val_accuracy: 0.8745\n",
      "wandb: Agent Finished Run: 3qtsbuqf \n",
      "\n"
     ]
    },
    {
     "name": "stderr",
     "output_type": "stream",
     "text": [
      "I1009 09:39:17.702780 4586743232 wandb_agent.py:142] Running runs: ['3qtsbuqf']\n",
      "I1009 09:39:17.708367 4586743232 wandb_agent.py:149] Cleaning up dead run: 3qtsbuqf\n",
      "I1009 09:39:18.312135 4586743232 wandb_agent.py:189] Agent received command: run\n",
      "I1009 09:39:18.314055 4586743232 wandb_agent.py:219] Agent starting run with config:\n",
      "\tlayers: 128\n"
     ]
    },
    {
     "name": "stdout",
     "output_type": "stream",
     "text": [
      "wandb: Agent Starting Run: gmzymrxh with config:\n",
      "\tlayers: 128\n",
      "wandb: Agent Started Run: gmzymrxh\n",
      "Train on 60000 samples, validate on 10000 samples\n",
      "Epoch 1/5\n",
      "42912/60000 [====================>.........] - ETA: 1s - loss: 0.5307 - accuracy: 0.8146"
     ]
    },
    {
     "name": "stderr",
     "output_type": "stream",
     "text": [
      "I1009 09:39:23.344848 4586743232 wandb_agent.py:142] Running runs: ['gmzymrxh']\n"
     ]
    },
    {
     "name": "stdout",
     "output_type": "stream",
     "text": [
      "60000/60000 [==============================] - 7s 113us/sample - loss: 0.5017 - accuracy: 0.8246 - val_loss: 0.4495 - val_accuracy: 0.8334\n",
      "Epoch 2/5\n",
      "41120/60000 [===================>..........] - ETA: 1s - loss: 0.3823 - accuracy: 0.8623"
     ]
    },
    {
     "name": "stderr",
     "output_type": "stream",
     "text": [
      "I1009 09:39:28.911710 4586743232 wandb_agent.py:142] Running runs: ['gmzymrxh']\n"
     ]
    },
    {
     "name": "stdout",
     "output_type": "stream",
     "text": [
      "60000/60000 [==============================] - 6s 97us/sample - loss: 0.3789 - accuracy: 0.8634 - val_loss: 0.4269 - val_accuracy: 0.8479\n",
      "Epoch 3/5\n",
      "39648/60000 [==================>...........] - ETA: 1s - loss: 0.3418 - accuracy: 0.8757"
     ]
    },
    {
     "name": "stderr",
     "output_type": "stream",
     "text": [
      "I1009 09:39:34.452527 4586743232 wandb_agent.py:142] Running runs: ['gmzymrxh']\n"
     ]
    },
    {
     "name": "stdout",
     "output_type": "stream",
     "text": [
      "60000/60000 [==============================] - 6s 97us/sample - loss: 0.3391 - accuracy: 0.8763 - val_loss: 0.3673 - val_accuracy: 0.8687\n",
      "Epoch 4/5\n",
      "33984/60000 [===============>..............] - ETA: 2s - loss: 0.3146 - accuracy: 0.8837"
     ]
    },
    {
     "name": "stderr",
     "output_type": "stream",
     "text": [
      "I1009 09:39:39.999938 4586743232 wandb_agent.py:142] Running runs: ['gmzymrxh']\n"
     ]
    },
    {
     "name": "stdout",
     "output_type": "stream",
     "text": [
      "60000/60000 [==============================] - 6s 96us/sample - loss: 0.3155 - accuracy: 0.8843 - val_loss: 0.3787 - val_accuracy: 0.8639\n",
      "Epoch 5/5\n",
      "34368/60000 [================>.............] - ETA: 2s - loss: 0.2974 - accuracy: 0.8900"
     ]
    },
    {
     "name": "stderr",
     "output_type": "stream",
     "text": [
      "I1009 09:39:45.629216 4586743232 wandb_agent.py:142] Running runs: ['gmzymrxh']\n"
     ]
    },
    {
     "name": "stdout",
     "output_type": "stream",
     "text": [
      "60000/60000 [==============================] - 5s 91us/sample - loss: 0.2968 - accuracy: 0.8907 - val_loss: 0.3655 - val_accuracy: 0.8686\n",
      "wandb: Agent Finished Run: gmzymrxh \n",
      "\n"
     ]
    },
    {
     "name": "stderr",
     "output_type": "stream",
     "text": [
      "I1009 09:39:51.258975 4586743232 wandb_agent.py:142] Running runs: ['gmzymrxh']\n",
      "I1009 09:39:51.263999 4586743232 wandb_agent.py:149] Cleaning up dead run: gmzymrxh\n",
      "I1009 09:39:51.848970 4586743232 wandb_agent.py:189] Agent received command: run\n",
      "I1009 09:39:51.850749 4586743232 wandb_agent.py:219] Agent starting run with config:\n",
      "\tlayers: 256\n"
     ]
    },
    {
     "name": "stdout",
     "output_type": "stream",
     "text": [
      "wandb: Agent Starting Run: 6qsjuuns with config:\n",
      "\tlayers: 256\n",
      "wandb: Agent Started Run: 6qsjuuns\n",
      "Train on 60000 samples, validate on 10000 samples\n",
      "Epoch 1/5\n",
      "51840/60000 [========================>.....] - ETA: 0s - loss: 0.5094 - accuracy: 0.8209"
     ]
    },
    {
     "name": "stderr",
     "output_type": "stream",
     "text": [
      "I1009 09:39:56.878010 4586743232 wandb_agent.py:142] Running runs: ['6qsjuuns']\n"
     ]
    },
    {
     "name": "stdout",
     "output_type": "stream",
     "text": [
      "60000/60000 [==============================] - 6s 99us/sample - loss: 0.4980 - accuracy: 0.8246 - val_loss: 0.4522 - val_accuracy: 0.8399\n",
      "Epoch 2/5\n",
      "47520/60000 [======================>.......] - ETA: 1s - loss: 0.3738 - accuracy: 0.8642"
     ]
    },
    {
     "name": "stderr",
     "output_type": "stream",
     "text": [
      "I1009 09:40:02.452681 4586743232 wandb_agent.py:142] Running runs: ['6qsjuuns']\n"
     ]
    },
    {
     "name": "stdout",
     "output_type": "stream",
     "text": [
      "60000/60000 [==============================] - 6s 101us/sample - loss: 0.3715 - accuracy: 0.8656 - val_loss: 0.3847 - val_accuracy: 0.8626\n",
      "Epoch 3/5\n",
      "43328/60000 [====================>.........] - ETA: 1s - loss: 0.3372 - accuracy: 0.8768"
     ]
    },
    {
     "name": "stderr",
     "output_type": "stream",
     "text": [
      "I1009 09:40:08.051965 4586743232 wandb_agent.py:142] Running runs: ['6qsjuuns']\n"
     ]
    },
    {
     "name": "stdout",
     "output_type": "stream",
     "text": [
      "60000/60000 [==============================] - 6s 97us/sample - loss: 0.3326 - accuracy: 0.8783 - val_loss: 0.3512 - val_accuracy: 0.8726\n",
      "Epoch 4/5\n",
      "46752/60000 [======================>.......] - ETA: 1s - loss: 0.3070 - accuracy: 0.8865"
     ]
    },
    {
     "name": "stderr",
     "output_type": "stream",
     "text": [
      "I1009 09:40:13.642585 4586743232 wandb_agent.py:142] Running runs: ['6qsjuuns']\n"
     ]
    },
    {
     "name": "stdout",
     "output_type": "stream",
     "text": [
      "60000/60000 [==============================] - 5s 90us/sample - loss: 0.3079 - accuracy: 0.8867 - val_loss: 0.3709 - val_accuracy: 0.8655\n",
      "Epoch 5/5\n",
      "47168/60000 [======================>.......] - ETA: 1s - loss: 0.2926 - accuracy: 0.8911"
     ]
    },
    {
     "name": "stderr",
     "output_type": "stream",
     "text": [
      "I1009 09:40:19.214221 4586743232 wandb_agent.py:142] Running runs: ['6qsjuuns']\n"
     ]
    },
    {
     "name": "stdout",
     "output_type": "stream",
     "text": [
      "60000/60000 [==============================] - 5s 89us/sample - loss: 0.2933 - accuracy: 0.8910 - val_loss: 0.3459 - val_accuracy: 0.8752\n",
      "wandb: Agent Finished Run: 6qsjuuns \n",
      "\n"
     ]
    },
    {
     "name": "stderr",
     "output_type": "stream",
     "text": [
      "I1009 09:40:24.765734 4586743232 wandb_agent.py:142] Running runs: ['6qsjuuns']\n",
      "I1009 09:40:24.768883 4586743232 wandb_agent.py:149] Cleaning up dead run: 6qsjuuns\n",
      "I1009 09:40:25.365597 4586743232 wandb_agent.py:189] Agent received command: exit\n",
      "I1009 09:40:25.367927 4586743232 wandb_agent.py:277] Received exit command. Killing runs and quitting.\n"
     ]
    }
   ],
   "source": [
    "wandb.agent(sweep_id, function=train)"
   ]
  }
 ],
 "metadata": {
  "colab": {
   "name": "notebook.ipynb",
   "provenance": []
  },
  "kernelspec": {
   "display_name": "Python 3",
   "language": "python",
   "name": "python3"
  },
  "language_info": {
   "codemirror_mode": {
    "name": "ipython",
    "version": 3
   },
   "file_extension": ".py",
   "mimetype": "text/x-python",
   "name": "python",
   "nbconvert_exporter": "python",
   "pygments_lexer": "ipython3",
   "version": "3.7.1"
  }
 },
 "nbformat": 4,
 "nbformat_minor": 1
}
