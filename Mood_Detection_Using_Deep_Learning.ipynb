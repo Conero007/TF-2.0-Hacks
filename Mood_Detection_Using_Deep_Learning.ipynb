{
  "nbformat": 4,
  "nbformat_minor": 0,
  "metadata": {
    "colab": {
      "name": "Mood_Detection_Using_Deep_Learning.ipynb",
      "provenance": [],
      "collapsed_sections": [],
      "authorship_tag": "ABX9TyMVU5NnVhkqC2fAvlRZWstp",
      "include_colab_link": true
    },
    "kernelspec": {
      "name": "python3",
      "display_name": "Python 3"
    },
    "accelerator": "GPU"
  },
  "cells": [
    {
      "cell_type": "markdown",
      "metadata": {
        "id": "view-in-github",
        "colab_type": "text"
      },
      "source": [
        "<a href=\"https://colab.research.google.com/github/sayakpaul/TF-2.0-Hacks/blob/master/Mood_Detection_Using_Deep_Learning.ipynb\" target=\"_parent\"><img src=\"https://colab.research.google.com/assets/colab-badge.svg\" alt=\"Open In Colab\"/></a>"
      ]
    },
    {
      "cell_type": "code",
      "metadata": {
        "id": "kOnkXJVR-vNa",
        "colab_type": "code",
        "colab": {
          "base_uri": "https://localhost:8080/",
          "height": 34
        },
        "outputId": "0573a508-f795-47fb-a33a-de78a04ed7a8"
      },
      "source": [
        "# Select TensorFlow 2.0 environment\n",
        "%tensorflow_version 2.x"
      ],
      "execution_count": 1,
      "outputs": [
        {
          "output_type": "stream",
          "text": [
            "TensorFlow 2.x selected.\n"
          ],
          "name": "stdout"
        }
      ]
    },
    {
      "cell_type": "code",
      "metadata": {
        "id": "axYnT4qp-3E3",
        "colab_type": "code",
        "colab": {}
      },
      "source": [
        "# Google Colab imports for setting up Kaggle\n",
        "from google.colab import files\n",
        "files.upload()"
      ],
      "execution_count": 0,
      "outputs": []
    },
    {
      "cell_type": "code",
      "metadata": {
        "id": "67YOp6Y9-7BI",
        "colab_type": "code",
        "colab": {}
      },
      "source": [
        "# Set up Kaggle\n",
        "!mkdir ~/.kaggle\n",
        "!cp kaggle.json ~/.kaggle/\n",
        "!chmod 600 ~/.kaggle/kaggle.json"
      ],
      "execution_count": 0,
      "outputs": []
    },
    {
      "cell_type": "code",
      "metadata": {
        "id": "caJiwp3y_Agi",
        "colab_type": "code",
        "colab": {
          "base_uri": "https://localhost:8080/",
          "height": 289
        },
        "outputId": "7a28a2c9-d6ad-4829-9d29-a6f8d9d1245d"
      },
      "source": [
        "# Download the data\n",
        "# https://www.kaggle.com/c/challenges-in-representation-learning-facial-expression-recognition-challenge/\n",
        "!kaggle competitions download -c challenges-in-representation-learning-facial-expression-recognition-challenge"
      ],
      "execution_count": 4,
      "outputs": [
        {
          "output_type": "stream",
          "text": [
            "Warning: Looks like you're using an outdated API Version, please consider updating (server 1.5.6 / client 1.5.4)\n",
            "Downloading icml_face_data.csv.zip to /content\n",
            " 85% 82.0M/96.6M [00:00<00:00, 76.2MB/s]\n",
            "100% 96.6M/96.6M [00:01<00:00, 99.7MB/s]\n",
            "Downloading fer2013.tar.gz to /content\n",
            "100% 92.0M/92.0M [00:00<00:00, 81.9MB/s]\n",
            "\n",
            "Downloading example_submission.csv to /content\n",
            "  0% 0.00/7.01k [00:00<?, ?B/s]\n",
            "100% 7.01k/7.01k [00:00<00:00, 2.73MB/s]\n",
            "Downloading test.csv.zip to /content\n",
            " 26% 5.00M/19.3M [00:00<00:00, 32.9MB/s]\n",
            "100% 19.3M/19.3M [00:00<00:00, 94.7MB/s]\n",
            "Downloading train.csv.zip to /content\n",
            " 84% 65.0M/77.3M [00:00<00:00, 60.3MB/s]\n",
            "100% 77.3M/77.3M [00:00<00:00, 97.8MB/s]\n"
          ],
          "name": "stdout"
        }
      ]
    },
    {
      "cell_type": "code",
      "metadata": {
        "id": "34neb1rU_Ek9",
        "colab_type": "code",
        "colab": {
          "base_uri": "https://localhost:8080/",
          "height": 119
        },
        "outputId": "96aed52d-3cc0-4195-93b4-c9e879ad272a"
      },
      "source": [
        "# Unzip dataset\n",
        "!unzip icml_face_data.csv.zip\n",
        "!unzip test.csv.zip\n",
        "!unzip train.csv.zip"
      ],
      "execution_count": 5,
      "outputs": [
        {
          "output_type": "stream",
          "text": [
            "Archive:  icml_face_data.csv.zip\n",
            "  inflating: icml_face_data.csv      \n",
            "Archive:  test.csv.zip\n",
            "  inflating: test.csv                \n",
            "Archive:  train.csv.zip\n",
            "  inflating: train.csv               \n"
          ],
          "name": "stdout"
        }
      ]
    },
    {
      "cell_type": "code",
      "metadata": {
        "id": "qSgtCIaq_iuf",
        "colab_type": "code",
        "colab": {}
      },
      "source": [
        "# General imports\n",
        "from tqdm import tqdm\n",
        "import matplotlib.pyplot as plt\n",
        "import pandas as pd\n",
        "import numpy as np"
      ],
      "execution_count": 0,
      "outputs": []
    },
    {
      "cell_type": "code",
      "metadata": {
        "id": "I4fcMaGFAQrN",
        "colab_type": "code",
        "outputId": "9e109b1c-8741-4a5a-d18f-fb0fe3279178",
        "colab": {
          "base_uri": "https://localhost:8080/",
          "height": 204
        }
      },
      "source": [
        "# Load up the training dataset\n",
        "train = pd.read_csv(\"train.csv\")\n",
        "train.head()"
      ],
      "execution_count": 7,
      "outputs": [
        {
          "output_type": "execute_result",
          "data": {
            "text/html": [
              "<div>\n",
              "<style scoped>\n",
              "    .dataframe tbody tr th:only-of-type {\n",
              "        vertical-align: middle;\n",
              "    }\n",
              "\n",
              "    .dataframe tbody tr th {\n",
              "        vertical-align: top;\n",
              "    }\n",
              "\n",
              "    .dataframe thead th {\n",
              "        text-align: right;\n",
              "    }\n",
              "</style>\n",
              "<table border=\"1\" class=\"dataframe\">\n",
              "  <thead>\n",
              "    <tr style=\"text-align: right;\">\n",
              "      <th></th>\n",
              "      <th>emotion</th>\n",
              "      <th>pixels</th>\n",
              "    </tr>\n",
              "  </thead>\n",
              "  <tbody>\n",
              "    <tr>\n",
              "      <th>0</th>\n",
              "      <td>0</td>\n",
              "      <td>70 80 82 72 58 58 60 63 54 58 60 48 89 115 121...</td>\n",
              "    </tr>\n",
              "    <tr>\n",
              "      <th>1</th>\n",
              "      <td>0</td>\n",
              "      <td>151 150 147 155 148 133 111 140 170 174 182 15...</td>\n",
              "    </tr>\n",
              "    <tr>\n",
              "      <th>2</th>\n",
              "      <td>2</td>\n",
              "      <td>231 212 156 164 174 138 161 173 182 200 106 38...</td>\n",
              "    </tr>\n",
              "    <tr>\n",
              "      <th>3</th>\n",
              "      <td>4</td>\n",
              "      <td>24 32 36 30 32 23 19 20 30 41 21 22 32 34 21 1...</td>\n",
              "    </tr>\n",
              "    <tr>\n",
              "      <th>4</th>\n",
              "      <td>6</td>\n",
              "      <td>4 0 0 0 0 0 0 0 0 0 0 0 3 15 23 28 48 50 58 84...</td>\n",
              "    </tr>\n",
              "  </tbody>\n",
              "</table>\n",
              "</div>"
            ],
            "text/plain": [
              "   emotion                                             pixels\n",
              "0        0  70 80 82 72 58 58 60 63 54 58 60 48 89 115 121...\n",
              "1        0  151 150 147 155 148 133 111 140 170 174 182 15...\n",
              "2        2  231 212 156 164 174 138 161 173 182 200 106 38...\n",
              "3        4  24 32 36 30 32 23 19 20 30 41 21 22 32 34 21 1...\n",
              "4        6  4 0 0 0 0 0 0 0 0 0 0 0 3 15 23 28 48 50 58 84..."
            ]
          },
          "metadata": {
            "tags": []
          },
          "execution_count": 7
        }
      ]
    },
    {
      "cell_type": "code",
      "metadata": {
        "id": "I05tBXyaGztD",
        "colab_type": "code",
        "outputId": "fcd1c700-623c-4159-c90d-3ab31f4d7688",
        "colab": {
          "base_uri": "https://localhost:8080/",
          "height": 153
        }
      },
      "source": [
        "# Class distribution\n",
        "train[\"emotion\"].value_counts()"
      ],
      "execution_count": 8,
      "outputs": [
        {
          "output_type": "execute_result",
          "data": {
            "text/plain": [
              "3    7215\n",
              "6    4965\n",
              "4    4830\n",
              "2    4097\n",
              "0    3995\n",
              "5    3171\n",
              "1     436\n",
              "Name: emotion, dtype: int64"
            ]
          },
          "metadata": {
            "tags": []
          },
          "execution_count": 8
        }
      ]
    },
    {
      "cell_type": "markdown",
      "metadata": {
        "id": "_oGPWHJuP0pY",
        "colab_type": "text"
      },
      "source": [
        "Class imbalance noticed."
      ]
    },
    {
      "cell_type": "code",
      "metadata": {
        "id": "tugm4rNZEVpM",
        "colab_type": "code",
        "outputId": "6564fb50-7f71-46af-9756-4f20d1b76dfc",
        "colab": {
          "base_uri": "https://localhost:8080/",
          "height": 204
        }
      },
      "source": [
        "# Load test dataset\n",
        "test = pd.read_csv(\"test.csv\")\n",
        "test.head()"
      ],
      "execution_count": 9,
      "outputs": [
        {
          "output_type": "execute_result",
          "data": {
            "text/html": [
              "<div>\n",
              "<style scoped>\n",
              "    .dataframe tbody tr th:only-of-type {\n",
              "        vertical-align: middle;\n",
              "    }\n",
              "\n",
              "    .dataframe tbody tr th {\n",
              "        vertical-align: top;\n",
              "    }\n",
              "\n",
              "    .dataframe thead th {\n",
              "        text-align: right;\n",
              "    }\n",
              "</style>\n",
              "<table border=\"1\" class=\"dataframe\">\n",
              "  <thead>\n",
              "    <tr style=\"text-align: right;\">\n",
              "      <th></th>\n",
              "      <th>pixels</th>\n",
              "    </tr>\n",
              "  </thead>\n",
              "  <tbody>\n",
              "    <tr>\n",
              "      <th>0</th>\n",
              "      <td>254 254 254 254 254 249 255 160 2 58 53 70 77 ...</td>\n",
              "    </tr>\n",
              "    <tr>\n",
              "      <th>1</th>\n",
              "      <td>156 184 198 202 204 207 210 212 213 214 215 21...</td>\n",
              "    </tr>\n",
              "    <tr>\n",
              "      <th>2</th>\n",
              "      <td>69 118 61 60 96 121 103 87 103 88 70 90 115 12...</td>\n",
              "    </tr>\n",
              "    <tr>\n",
              "      <th>3</th>\n",
              "      <td>205 203 236 157 83 158 120 116 94 86 155 180 2...</td>\n",
              "    </tr>\n",
              "    <tr>\n",
              "      <th>4</th>\n",
              "      <td>87 79 74 66 74 96 77 80 80 84 83 89 102 91 84 ...</td>\n",
              "    </tr>\n",
              "  </tbody>\n",
              "</table>\n",
              "</div>"
            ],
            "text/plain": [
              "                                              pixels\n",
              "0  254 254 254 254 254 249 255 160 2 58 53 70 77 ...\n",
              "1  156 184 198 202 204 207 210 212 213 214 215 21...\n",
              "2  69 118 61 60 96 121 103 87 103 88 70 90 115 12...\n",
              "3  205 203 236 157 83 158 120 116 94 86 155 180 2...\n",
              "4  87 79 74 66 74 96 77 80 80 84 83 89 102 91 84 ..."
            ]
          },
          "metadata": {
            "tags": []
          },
          "execution_count": 9
        }
      ]
    },
    {
      "cell_type": "markdown",
      "metadata": {
        "id": "TMRozBIWAd8C",
        "colab_type": "text"
      },
      "source": [
        "Note on the label mapping:\n",
        "\n",
        "(0=Angry, 1=Disgust, 2=Fear, 3=Happy, 4=Sad, 5=Surprise, 6=Neutral)"
      ]
    },
    {
      "cell_type": "code",
      "metadata": {
        "id": "rqzUp-dIAU3Y",
        "colab_type": "code",
        "colab": {}
      },
      "source": [
        "# Function to clean the dataset\n",
        "# Taken from http://bit.ly/37AUk7f\n",
        "def clean_data(dataframe):\n",
        "    image_pixels = np.zeros(shape=(len(dataframe), 48, 48))\n",
        "    labels = np.zeros(shape=(len(dataframe), ))\n",
        "    for (i, row) in tqdm(dataframe.iterrows()):\n",
        "        image = np.fromstring(row[\"pixels\"], dtype=int, sep=' ')\n",
        "        image = image.reshape(48, 48)\n",
        "        image = image.astype(\"float\")/255\n",
        "        \n",
        "        image_pixels[i] = image\n",
        "        labels[i] = row[\"emotion\"]\n",
        "    \n",
        "    return (image_pixels, labels)"
      ],
      "execution_count": 0,
      "outputs": []
    },
    {
      "cell_type": "code",
      "metadata": {
        "id": "KtreWITkAoSi",
        "colab_type": "code",
        "outputId": "c0bf5e82-24e0-4a28-9d5b-8932034b98a5",
        "colab": {
          "base_uri": "https://localhost:8080/",
          "height": 51
        }
      },
      "source": [
        "# Clean the training dataset and verify the shapes\n",
        "(train_pixels, train_labels) = clean_data(train)\n",
        "train_pixels.shape, train_labels.shape"
      ],
      "execution_count": 11,
      "outputs": [
        {
          "output_type": "stream",
          "text": [
            "28709it [00:05, 5230.63it/s]\n"
          ],
          "name": "stderr"
        },
        {
          "output_type": "execute_result",
          "data": {
            "text/plain": [
              "((28709, 48, 48), (28709,))"
            ]
          },
          "metadata": {
            "tags": []
          },
          "execution_count": 11
        }
      ]
    },
    {
      "cell_type": "code",
      "metadata": {
        "id": "aaZtUxc1IKOy",
        "colab_type": "code",
        "colab": {}
      },
      "source": [
        "# sklearn and other utility imports\n",
        "from sklearn.model_selection import train_test_split\n",
        "from sklearn.preprocessing import LabelEncoder\n",
        "from tensorflow.keras.utils import to_categorical"
      ],
      "execution_count": 0,
      "outputs": []
    },
    {
      "cell_type": "code",
      "metadata": {
        "id": "QLtIOejPIkOY",
        "colab_type": "code",
        "colab": {}
      },
      "source": [
        "# One-hot encode the labels\n",
        "le = LabelEncoder().fit(train_labels)\n",
        "train_labels = to_categorical(le.transform(train_labels), 7)"
      ],
      "execution_count": 0,
      "outputs": []
    },
    {
      "cell_type": "code",
      "metadata": {
        "id": "TJAZX2B1I1q0",
        "colab_type": "code",
        "outputId": "09052738-9ea9-4217-839b-ca02a4bad502",
        "colab": {
          "base_uri": "https://localhost:8080/",
          "height": 34
        }
      },
      "source": [
        "train_labels.shape"
      ],
      "execution_count": 14,
      "outputs": [
        {
          "output_type": "execute_result",
          "data": {
            "text/plain": [
              "(28709, 7)"
            ]
          },
          "metadata": {
            "tags": []
          },
          "execution_count": 14
        }
      ]
    },
    {
      "cell_type": "code",
      "metadata": {
        "id": "cFXCWLEIH2qT",
        "colab_type": "code",
        "outputId": "27624919-ab87-47d1-ccf0-91f08f6b1c8e",
        "colab": {
          "base_uri": "https://localhost:8080/",
          "height": 34
        }
      },
      "source": [
        "# Split the training data into further partial training and validation data\n",
        "(trainX, valX, trainY, valY) = train_test_split(train_pixels,\n",
        "    train_labels, test_size=0.15, stratify=train_labels, random_state=42)\n",
        "trainX.shape, trainY.shape, valX.shape, valY.shape"
      ],
      "execution_count": 15,
      "outputs": [
        {
          "output_type": "execute_result",
          "data": {
            "text/plain": [
              "((24402, 48, 48), (24402, 7), (4307, 48, 48), (4307, 7))"
            ]
          },
          "metadata": {
            "tags": []
          },
          "execution_count": 15
        }
      ]
    },
    {
      "cell_type": "code",
      "metadata": {
        "id": "j-vzxKMHHLLj",
        "colab_type": "code",
        "colab": {}
      },
      "source": [
        "# Account for skew in the labeled data\n",
        "classTotals = trainY.sum(axis=0)\n",
        "classWeight = classTotals.max() / classTotals"
      ],
      "execution_count": 0,
      "outputs": []
    },
    {
      "cell_type": "code",
      "metadata": {
        "id": "NktmFLvMMCUI",
        "colab_type": "code",
        "colab": {}
      },
      "source": [
        "# Define the label mapping\n",
        "LABELS = {\n",
        "    0: \"Angry\", \n",
        "    1: \"Disgust\", \n",
        "    2: \"Fear\",\n",
        "    3: \"Happy\", \n",
        "    4: \"Sad\", \n",
        "    5: \"Surprise\", \n",
        "    6: \"Neutral\"\n",
        "}"
      ],
      "execution_count": 0,
      "outputs": []
    },
    {
      "cell_type": "code",
      "metadata": {
        "id": "Hzuhav_kMjm5",
        "colab_type": "code",
        "outputId": "755db7d8-b23c-470e-95a3-bbf1fceec51c",
        "colab": {
          "base_uri": "https://localhost:8080/",
          "height": 1000
        }
      },
      "source": [
        "# Spot check the dataset\n",
        "train_idx = np.random.choice(len(trainX), 5)\n",
        "for id in train_idx:\n",
        "    plt.imshow(trainX[id], cmap=\"gray\")\n",
        "    plt.xlabel(LABELS[np.argmax(trainY[id])])\n",
        "    plt.show()"
      ],
      "execution_count": 18,
      "outputs": [
        {
          "output_type": "display_data",
          "data": {
            "image/png": "[encoded data removed]",
            "text/plain": [
              "<Figure size 432x288 with 1 Axes>"
            ]
          },
          "metadata": {
            "tags": []
          }
        },
        {
          "output_type": "display_data",
          "data": {
            "image/png": "[encoded data removed]",
            "text/plain": [
              "<Figure size 432x288 with 1 Axes>"
            ]
          },
          "metadata": {
            "tags": []
          }
        },
        {
          "output_type": "display_data",
          "data": {
            "image/png": "[encoded data removed]",
            "text/plain": [
              "<Figure size 432x288 with 1 Axes>"
            ]
          },
          "metadata": {
            "tags": []
          }
        },
        {
          "output_type": "display_data",
          "data": {
            "image/png": "[encoded data removed]",
            "text/plain": [
              "<Figure size 432x288 with 1 Axes>"
            ]
          },
          "metadata": {
            "tags": []
          }
        },
        {
          "output_type": "display_data",
          "data": {
            "image/png": "[encoded data removed]",
            "text/plain": [
              "<Figure size 432x288 with 1 Axes>"
            ]
          },
          "metadata": {
            "tags": []
          }
        }
      ]
    },
    {
      "cell_type": "code",
      "metadata": {
        "id": "9I5CZdTdJEgk",
        "colab_type": "code",
        "outputId": "f2e244f9-0279-4cc4-d1dc-719089b9b72f",
        "colab": {
          "base_uri": "https://localhost:8080/",
          "height": 204
        }
      },
      "source": [
        "# Comes from http://bit.ly/2U8ntCX\n",
        "!wget https://raw.githubusercontent.com/sayakpaul/ML-Bootcamp-Launchpad/master/pyimagesearch/models.py"
      ],
      "execution_count": 19,
      "outputs": [
        {
          "output_type": "stream",
          "text": [
            "--2020-01-31 06:51:40--  https://raw.githubusercontent.com/sayakpaul/ML-Bootcamp-Launchpad/master/pyimagesearch/models.py\n",
            "Resolving raw.githubusercontent.com (raw.githubusercontent.com)... 151.101.0.133, 151.101.64.133, 151.101.128.133, ...\n",
            "Connecting to raw.githubusercontent.com (raw.githubusercontent.com)|151.101.0.133|:443... connected.\n",
            "HTTP request sent, awaiting response... 200 OK\n",
            "Length: 5217 (5.1K) [text/plain]\n",
            "Saving to: ‘models.py’\n",
            "\n",
            "\rmodels.py             0%[                    ]       0  --.-KB/s               \rmodels.py           100%[===================>]   5.09K  --.-KB/s    in 0s      \n",
            "\n",
            "2020-01-31 06:51:40 (125 MB/s) - ‘models.py’ saved [5217/5217]\n",
            "\n"
          ],
          "name": "stdout"
        }
      ]
    },
    {
      "cell_type": "code",
      "metadata": {
        "id": "YO_-6F86LRdi",
        "colab_type": "code",
        "colab": {}
      },
      "source": [
        "# PyImageSearch imports\n",
        "from models import MiniVGGNetModel\n",
        "from models import minigooglenet_functional\n",
        "from models import shallownet_sequential"
      ],
      "execution_count": 0,
      "outputs": []
    },
    {
      "cell_type": "code",
      "metadata": {
        "id": "0acbio2XL9za",
        "colab_type": "code",
        "colab": {}
      },
      "source": [
        "# Convnets would require a channel dimension\n",
        "trainX = trainX.reshape(-1, 48, 48, 1)\n",
        "valX = valX.reshape(-1, 48, 48, 1)"
      ],
      "execution_count": 0,
      "outputs": []
    },
    {
      "cell_type": "code",
      "metadata": {
        "id": "CUb9Vu1gNvQA",
        "colab_type": "code",
        "colab": {}
      },
      "source": [
        "# Set up wandb\n",
        "!pip install wandb\n",
        "!wandb login"
      ],
      "execution_count": 0,
      "outputs": []
    },
    {
      "cell_type": "code",
      "metadata": {
        "id": "VV-4dpBHOCsm",
        "colab_type": "code",
        "colab": {}
      },
      "source": [
        "# Import wandb\n",
        "import wandb\n",
        "from wandb.keras import WandbCallback"
      ],
      "execution_count": 0,
      "outputs": []
    },
    {
      "cell_type": "code",
      "metadata": {
        "id": "OTW1wT5ION74",
        "colab_type": "code",
        "outputId": "e83a33af-afa4-4b57-abda-cd19558bd1cc",
        "colab": {
          "base_uri": "https://localhost:8080/",
          "height": 1000
        }
      },
      "source": [
        "# Train our first shallow model\n",
        "wandb.init(project=\"emotion-detection\", entity=\"sayakpaul\", id=\"shallow-convnet\")\n",
        "shallow_model = shallownet_sequential(48, 48, 1, len(LABELS))\n",
        "shallow_model.compile(loss=\"categorical_crossentropy\", optimizer=\"adam\",\n",
        "\tmetrics=[\"accuracy\"])\n",
        "shallow_model.fit(trainX, trainY,  validation_data=(valX, valY), epochs=50,\n",
        "    class_weight=classWeight,\n",
        "    callbacks=[WandbCallback(data_type=\"image\", labels=LABELS)])"
      ],
      "execution_count": 0,
      "outputs": [
        {
          "output_type": "display_data",
          "data": {
            "text/html": [
              "\n",
              "                Logging results to <a href=\"https://wandb.com\" target=\"_blank\">Weights & Biases</a> <a href=\"https://docs.wandb.com/integrations/jupyter.html\" target=\"_blank\">(Documentation)</a>.<br/>\n",
              "                Project page: <a href=\"https://app.wandb.ai/sayakpaul/emotion-detection\" target=\"_blank\">https://app.wandb.ai/sayakpaul/emotion-detection</a><br/>\n",
              "                Run page: <a href=\"https://app.wandb.ai/sayakpaul/emotion-detection/runs/shallow-convnet\" target=\"_blank\">https://app.wandb.ai/sayakpaul/emotion-detection/runs/shallow-convnet</a><br/>\n",
              "            "
            ],
            "text/plain": [
              "<IPython.core.display.HTML object>"
            ]
          },
          "metadata": {
            "tags": []
          }
        },
        {
          "output_type": "stream",
          "text": [
            "Train on 24402 samples, validate on 4307 samples\n",
            "Epoch 1/50\n",
            " 2208/24402 [=>............................] - ETA: 5s - loss: 1.9817 - accuracy: 0.2446"
          ],
          "name": "stdout"
        },
        {
          "output_type": "stream",
          "text": [
            "Streaming file created twice in same run: /content/wandb/run-20200130_163754-shallow-convnet/wandb-history.jsonl\n",
            "Streaming file created twice in same run: /content/wandb/run-20200130_163754-shallow-convnet/wandb-events.jsonl\n"
          ],
          "name": "stderr"
        },
        {
          "output_type": "stream",
          "text": [
            "24402/24402 [==============================] - 4s 184us/sample - loss: 1.6673 - accuracy: 0.3485 - val_loss: 1.5735 - val_accuracy: 0.3880\n",
            "Epoch 2/50\n",
            "24402/24402 [==============================] - 4s 168us/sample - loss: 1.4426 - accuracy: 0.4557 - val_loss: 1.4882 - val_accuracy: 0.4321\n",
            "Epoch 3/50\n",
            "24402/24402 [==============================] - 4s 161us/sample - loss: 1.2931 - accuracy: 0.5198 - val_loss: 1.5416 - val_accuracy: 0.4256\n",
            "Epoch 4/50\n",
            "24402/24402 [==============================] - 4s 168us/sample - loss: 1.1617 - accuracy: 0.5756 - val_loss: 1.5208 - val_accuracy: 0.4370\n",
            "Epoch 5/50\n",
            "24402/24402 [==============================] - 4s 162us/sample - loss: 1.0431 - accuracy: 0.6218 - val_loss: 1.5323 - val_accuracy: 0.4451\n",
            "Epoch 6/50\n",
            "24402/24402 [==============================] - 4s 161us/sample - loss: 0.9317 - accuracy: 0.6646 - val_loss: 1.5964 - val_accuracy: 0.4572\n",
            "Epoch 7/50\n",
            "24402/24402 [==============================] - 4s 149us/sample - loss: 0.8251 - accuracy: 0.7113 - val_loss: 1.6387 - val_accuracy: 0.4521\n",
            "Epoch 8/50\n",
            "24402/24402 [==============================] - 4s 147us/sample - loss: 0.7363 - accuracy: 0.7483 - val_loss: 1.7125 - val_accuracy: 0.4465\n",
            "Epoch 9/50\n",
            "24402/24402 [==============================] - 4s 149us/sample - loss: 0.6489 - accuracy: 0.7871 - val_loss: 1.7601 - val_accuracy: 0.4516\n",
            "Epoch 10/50\n",
            "24402/24402 [==============================] - 4s 152us/sample - loss: 0.5740 - accuracy: 0.8135 - val_loss: 1.8834 - val_accuracy: 0.4400\n",
            "Epoch 11/50\n",
            "24402/24402 [==============================] - 4s 145us/sample - loss: 0.5061 - accuracy: 0.8405 - val_loss: 1.9064 - val_accuracy: 0.4504\n",
            "Epoch 12/50\n",
            "24402/24402 [==============================] - 4s 146us/sample - loss: 0.4403 - accuracy: 0.8664 - val_loss: 2.0576 - val_accuracy: 0.4381\n",
            "Epoch 13/50\n",
            "24402/24402 [==============================] - 4s 160us/sample - loss: 0.3817 - accuracy: 0.8918 - val_loss: 2.1433 - val_accuracy: 0.4421\n",
            "Epoch 14/50\n",
            "24402/24402 [==============================] - 4s 169us/sample - loss: 0.3361 - accuracy: 0.9112 - val_loss: 2.2366 - val_accuracy: 0.4456\n",
            "Epoch 15/50\n",
            "24402/24402 [==============================] - 4s 167us/sample - loss: 0.2912 - accuracy: 0.9250 - val_loss: 2.3315 - val_accuracy: 0.4442\n",
            "Epoch 16/50\n",
            "24402/24402 [==============================] - 4s 162us/sample - loss: 0.2529 - accuracy: 0.9396 - val_loss: 2.4230 - val_accuracy: 0.4458\n",
            "Epoch 17/50\n",
            "24402/24402 [==============================] - 4s 160us/sample - loss: 0.2202 - accuracy: 0.9509 - val_loss: 2.5273 - val_accuracy: 0.4339\n",
            "Epoch 18/50\n",
            "24402/24402 [==============================] - 4s 156us/sample - loss: 0.1915 - accuracy: 0.9611 - val_loss: 2.6581 - val_accuracy: 0.4360\n",
            "Epoch 19/50\n",
            "24402/24402 [==============================] - 4s 156us/sample - loss: 0.1648 - accuracy: 0.9679 - val_loss: 2.8038 - val_accuracy: 0.4319\n",
            "Epoch 20/50\n",
            "24402/24402 [==============================] - 4s 154us/sample - loss: 0.1440 - accuracy: 0.9757 - val_loss: 2.9027 - val_accuracy: 0.4337\n",
            "Epoch 21/50\n",
            "24402/24402 [==============================] - 4s 160us/sample - loss: 0.1241 - accuracy: 0.9799 - val_loss: 3.0515 - val_accuracy: 0.4411\n",
            "Epoch 22/50\n",
            "24402/24402 [==============================] - 4s 168us/sample - loss: 0.1113 - accuracy: 0.9847 - val_loss: 3.1667 - val_accuracy: 0.4472\n",
            "Epoch 23/50\n",
            "24402/24402 [==============================] - 4s 169us/sample - loss: 0.1071 - accuracy: 0.9857 - val_loss: 3.2179 - val_accuracy: 0.4365\n",
            "Epoch 24/50\n",
            "24402/24402 [==============================] - 4s 168us/sample - loss: 0.0904 - accuracy: 0.9888 - val_loss: 3.3405 - val_accuracy: 0.4344\n",
            "Epoch 25/50\n",
            "24402/24402 [==============================] - 4s 163us/sample - loss: 0.0839 - accuracy: 0.9893 - val_loss: 3.4043 - val_accuracy: 0.4281\n",
            "Epoch 26/50\n",
            "24402/24402 [==============================] - 4s 163us/sample - loss: 0.0815 - accuracy: 0.9906 - val_loss: 3.5201 - val_accuracy: 0.4404\n",
            "Epoch 27/50\n",
            "24402/24402 [==============================] - 4s 158us/sample - loss: 0.0681 - accuracy: 0.9934 - val_loss: 3.6083 - val_accuracy: 0.4449\n",
            "Epoch 28/50\n",
            "24402/24402 [==============================] - 4s 155us/sample - loss: 0.0664 - accuracy: 0.9932 - val_loss: 3.7155 - val_accuracy: 0.4265\n",
            "Epoch 29/50\n",
            "24402/24402 [==============================] - 4s 157us/sample - loss: 0.0667 - accuracy: 0.9923 - val_loss: 3.7993 - val_accuracy: 0.4298\n",
            "Epoch 30/50\n",
            "24402/24402 [==============================] - 4s 158us/sample - loss: 0.0599 - accuracy: 0.9939 - val_loss: 3.9070 - val_accuracy: 0.4326\n",
            "Epoch 31/50\n",
            "24402/24402 [==============================] - 4s 147us/sample - loss: 0.0585 - accuracy: 0.9932 - val_loss: 3.8495 - val_accuracy: 0.4302\n",
            "Epoch 32/50\n",
            "24402/24402 [==============================] - 4s 146us/sample - loss: 0.0589 - accuracy: 0.9935 - val_loss: 4.0043 - val_accuracy: 0.4323\n",
            "Epoch 33/50\n",
            "24402/24402 [==============================] - 4s 144us/sample - loss: 0.0464 - accuracy: 0.9953 - val_loss: 4.0826 - val_accuracy: 0.4353\n",
            "Epoch 34/50\n",
            "24402/24402 [==============================] - 4s 146us/sample - loss: 0.0558 - accuracy: 0.9936 - val_loss: 4.1339 - val_accuracy: 0.4302\n",
            "Epoch 35/50\n",
            "24402/24402 [==============================] - 4s 147us/sample - loss: 0.0535 - accuracy: 0.9931 - val_loss: 4.1214 - val_accuracy: 0.4337\n",
            "Epoch 36/50\n",
            "24402/24402 [==============================] - 4s 146us/sample - loss: 0.0494 - accuracy: 0.9953 - val_loss: 4.1254 - val_accuracy: 0.4442\n",
            "Epoch 37/50\n",
            "24402/24402 [==============================] - 4s 146us/sample - loss: 0.0468 - accuracy: 0.9952 - val_loss: 4.2989 - val_accuracy: 0.4430\n",
            "Epoch 38/50\n",
            "24402/24402 [==============================] - 4s 154us/sample - loss: 0.0452 - accuracy: 0.9957 - val_loss: 4.3410 - val_accuracy: 0.4298\n",
            "Epoch 39/50\n",
            "24402/24402 [==============================] - 4s 146us/sample - loss: 0.0481 - accuracy: 0.9951 - val_loss: 4.5122 - val_accuracy: 0.4370\n",
            "Epoch 40/50\n",
            "24402/24402 [==============================] - 4s 145us/sample - loss: 0.0458 - accuracy: 0.9956 - val_loss: 4.4541 - val_accuracy: 0.4298\n",
            "Epoch 41/50\n",
            "24402/24402 [==============================] - 4s 149us/sample - loss: 0.0428 - accuracy: 0.9952 - val_loss: 4.5497 - val_accuracy: 0.4309\n",
            "Epoch 42/50\n",
            "24402/24402 [==============================] - 3s 142us/sample - loss: 0.0472 - accuracy: 0.9950 - val_loss: 4.5363 - val_accuracy: 0.4404\n",
            "Epoch 43/50\n",
            "24402/24402 [==============================] - 3s 143us/sample - loss: 0.0421 - accuracy: 0.9963 - val_loss: 4.6051 - val_accuracy: 0.4400\n",
            "Epoch 44/50\n",
            "24402/24402 [==============================] - 4s 144us/sample - loss: 0.0437 - accuracy: 0.9945 - val_loss: 4.6164 - val_accuracy: 0.4372\n",
            "Epoch 45/50\n",
            "24402/24402 [==============================] - 4s 147us/sample - loss: 0.0456 - accuracy: 0.9947 - val_loss: 4.6722 - val_accuracy: 0.4288\n",
            "Epoch 46/50\n",
            "24402/24402 [==============================] - 4s 150us/sample - loss: 0.0405 - accuracy: 0.9961 - val_loss: 4.7502 - val_accuracy: 0.4244\n",
            "Epoch 47/50\n",
            "24402/24402 [==============================] - 4s 151us/sample - loss: 0.0389 - accuracy: 0.9950 - val_loss: 4.7110 - val_accuracy: 0.4233\n",
            "Epoch 48/50\n",
            "24402/24402 [==============================] - 4s 150us/sample - loss: 0.0406 - accuracy: 0.9959 - val_loss: 4.6975 - val_accuracy: 0.4358\n",
            "Epoch 49/50\n",
            "24402/24402 [==============================] - 4s 150us/sample - loss: 0.0407 - accuracy: 0.9951 - val_loss: 4.8411 - val_accuracy: 0.4230\n",
            "Epoch 50/50\n",
            "24402/24402 [==============================] - 4s 150us/sample - loss: 0.0387 - accuracy: 0.9958 - val_loss: 4.7347 - val_accuracy: 0.4270\n"
          ],
          "name": "stdout"
        },
        {
          "output_type": "execute_result",
          "data": {
            "text/plain": [
              "<tensorflow.python.keras.callbacks.History at 0x7f50a0418b70>"
            ]
          },
          "metadata": {
            "tags": []
          },
          "execution_count": 64
        }
      ]
    },
    {
      "cell_type": "code",
      "metadata": {
        "id": "gL6i8OS3PFwr",
        "colab_type": "code",
        "outputId": "5af9412a-ac45-4feb-e79c-dc21fac8a6a2",
        "colab": {
          "base_uri": "https://localhost:8080/",
          "height": 1000
        }
      },
      "source": [
        "# Train a mini inception net\n",
        "wandb.init(project=\"emotion-detection\", entity=\"sayakpaul\", id=\"miniinception-net\")\n",
        "inception_net = minigooglenet_functional(48, 48, 1, len(LABELS))\n",
        "inception_net.compile(loss=\"categorical_crossentropy\", optimizer=\"adam\",\n",
        "\tmetrics=[\"accuracy\"])\n",
        "inception_net.fit(trainX, trainY,  validation_data=(valX, valY), epochs=50,\n",
        "    class_weight=classWeight,\n",
        "    callbacks=[WandbCallback(data_type=\"image\", labels=LABELS)])"
      ],
      "execution_count": 0,
      "outputs": [
        {
          "output_type": "display_data",
          "data": {
            "text/html": [
              "\n",
              "                Logging results to <a href=\"https://wandb.com\" target=\"_blank\">Weights & Biases</a> <a href=\"https://docs.wandb.com/integrations/jupyter.html\" target=\"_blank\">(Documentation)</a>.<br/>\n",
              "                Project page: <a href=\"https://app.wandb.ai/sayakpaul/emotion-detection\" target=\"_blank\">https://app.wandb.ai/sayakpaul/emotion-detection</a><br/>\n",
              "                Run page: <a href=\"https://app.wandb.ai/sayakpaul/emotion-detection/runs/miniinception-net\" target=\"_blank\">https://app.wandb.ai/sayakpaul/emotion-detection/runs/miniinception-net</a><br/>\n",
              "            "
            ],
            "text/plain": [
              "<IPython.core.display.HTML object>"
            ]
          },
          "metadata": {
            "tags": []
          }
        },
        {
          "output_type": "stream",
          "text": [
            "Train on 24402 samples, validate on 4307 samples\n",
            "Epoch 1/50\n",
            "24402/24402 [==============================] - 43s 2ms/sample - loss: 1.6572 - accuracy: 0.3435 - val_loss: 1.7642 - val_accuracy: 0.3267\n",
            "Epoch 2/50\n",
            "24402/24402 [==============================] - 40s 2ms/sample - loss: 1.3076 - accuracy: 0.5072 - val_loss: 1.3814 - val_accuracy: 0.4920\n",
            "Epoch 3/50\n",
            "24402/24402 [==============================] - 39s 2ms/sample - loss: 1.1605 - accuracy: 0.5659 - val_loss: 1.2983 - val_accuracy: 0.5322\n",
            "Epoch 4/50\n",
            "24402/24402 [==============================] - 40s 2ms/sample - loss: 1.0827 - accuracy: 0.5963 - val_loss: 1.3843 - val_accuracy: 0.4720\n",
            "Epoch 5/50\n",
            "24402/24402 [==============================] - 39s 2ms/sample - loss: 1.0127 - accuracy: 0.6212 - val_loss: 1.1418 - val_accuracy: 0.5723\n",
            "Epoch 6/50\n",
            "24402/24402 [==============================] - 39s 2ms/sample - loss: 0.9470 - accuracy: 0.6471 - val_loss: 1.1470 - val_accuracy: 0.5719\n",
            "Epoch 7/50\n",
            "24402/24402 [==============================] - 40s 2ms/sample - loss: 0.8756 - accuracy: 0.6742 - val_loss: 1.1715 - val_accuracy: 0.5705\n",
            "Epoch 8/50\n",
            "24402/24402 [==============================] - 39s 2ms/sample - loss: 0.7976 - accuracy: 0.7049 - val_loss: 1.2564 - val_accuracy: 0.5679\n",
            "Epoch 9/50\n",
            "24402/24402 [==============================] - 40s 2ms/sample - loss: 0.6958 - accuracy: 0.7408 - val_loss: 1.2502 - val_accuracy: 0.5633\n",
            "Epoch 10/50\n",
            "24402/24402 [==============================] - 40s 2ms/sample - loss: 0.6010 - accuracy: 0.7760 - val_loss: 2.1688 - val_accuracy: 0.4583\n",
            "Epoch 11/50\n",
            "24402/24402 [==============================] - 40s 2ms/sample - loss: 0.4844 - accuracy: 0.8210 - val_loss: 2.0241 - val_accuracy: 0.4442\n",
            "Epoch 12/50\n",
            "24402/24402 [==============================] - 40s 2ms/sample - loss: 0.3985 - accuracy: 0.8545 - val_loss: 1.4625 - val_accuracy: 0.5842\n",
            "Epoch 13/50\n",
            "24402/24402 [==============================] - 40s 2ms/sample - loss: 0.3162 - accuracy: 0.8856 - val_loss: 1.6913 - val_accuracy: 0.5890\n",
            "Epoch 14/50\n",
            "24402/24402 [==============================] - 39s 2ms/sample - loss: 0.2586 - accuracy: 0.9083 - val_loss: 2.7458 - val_accuracy: 0.5059\n",
            "Epoch 15/50\n",
            "24402/24402 [==============================] - 39s 2ms/sample - loss: 0.2119 - accuracy: 0.9265 - val_loss: 1.8195 - val_accuracy: 0.5828\n",
            "Epoch 16/50\n",
            "24402/24402 [==============================] - 39s 2ms/sample - loss: 0.1840 - accuracy: 0.9351 - val_loss: 2.6117 - val_accuracy: 0.5284\n",
            "Epoch 17/50\n",
            "24402/24402 [==============================] - 39s 2ms/sample - loss: 0.1612 - accuracy: 0.9436 - val_loss: 2.4144 - val_accuracy: 0.5967\n",
            "Epoch 18/50\n",
            "24402/24402 [==============================] - 39s 2ms/sample - loss: 0.1442 - accuracy: 0.9509 - val_loss: 2.1005 - val_accuracy: 0.5976\n",
            "Epoch 19/50\n",
            "24402/24402 [==============================] - 39s 2ms/sample - loss: 0.1361 - accuracy: 0.9541 - val_loss: 2.0105 - val_accuracy: 0.5800\n",
            "Epoch 20/50\n",
            "24402/24402 [==============================] - 39s 2ms/sample - loss: 0.1180 - accuracy: 0.9619 - val_loss: 2.3724 - val_accuracy: 0.5577\n",
            "Epoch 21/50\n",
            "24402/24402 [==============================] - 39s 2ms/sample - loss: 0.1194 - accuracy: 0.9592 - val_loss: 2.6345 - val_accuracy: 0.5510\n",
            "Epoch 22/50\n",
            "24402/24402 [==============================] - 39s 2ms/sample - loss: 0.1120 - accuracy: 0.9612 - val_loss: 2.5565 - val_accuracy: 0.5596\n",
            "Epoch 23/50\n",
            "24402/24402 [==============================] - 40s 2ms/sample - loss: 0.1019 - accuracy: 0.9669 - val_loss: 2.1962 - val_accuracy: 0.5628\n",
            "Epoch 24/50\n",
            "24402/24402 [==============================] - 40s 2ms/sample - loss: 0.0973 - accuracy: 0.9659 - val_loss: 2.4399 - val_accuracy: 0.5737\n",
            "Epoch 25/50\n",
            "24402/24402 [==============================] - 40s 2ms/sample - loss: 0.0933 - accuracy: 0.9685 - val_loss: 2.7089 - val_accuracy: 0.5558\n",
            "Epoch 26/50\n",
            "24402/24402 [==============================] - 39s 2ms/sample - loss: 0.0900 - accuracy: 0.9694 - val_loss: 2.8393 - val_accuracy: 0.5809\n",
            "Epoch 27/50\n",
            "24402/24402 [==============================] - 39s 2ms/sample - loss: 0.0967 - accuracy: 0.9682 - val_loss: 3.2804 - val_accuracy: 0.5414\n",
            "Epoch 28/50\n",
            "24402/24402 [==============================] - 40s 2ms/sample - loss: 0.0790 - accuracy: 0.9751 - val_loss: 2.3511 - val_accuracy: 0.5941\n",
            "Epoch 29/50\n",
            "24402/24402 [==============================] - 39s 2ms/sample - loss: 0.0763 - accuracy: 0.9759 - val_loss: 2.7182 - val_accuracy: 0.5786\n",
            "Epoch 30/50\n",
            "24402/24402 [==============================] - 40s 2ms/sample - loss: 0.0772 - accuracy: 0.9755 - val_loss: 2.9902 - val_accuracy: 0.5814\n",
            "Epoch 31/50\n",
            "24402/24402 [==============================] - 40s 2ms/sample - loss: 0.0781 - accuracy: 0.9739 - val_loss: 4.6202 - val_accuracy: 0.4887\n",
            "Epoch 32/50\n",
            "24402/24402 [==============================] - 40s 2ms/sample - loss: 0.0695 - accuracy: 0.9767 - val_loss: 2.4173 - val_accuracy: 0.6011\n",
            "Epoch 33/50\n",
            "24402/24402 [==============================] - 40s 2ms/sample - loss: 0.0684 - accuracy: 0.9772 - val_loss: 2.8300 - val_accuracy: 0.6018\n",
            "Epoch 34/50\n",
            "24402/24402 [==============================] - 39s 2ms/sample - loss: 0.0677 - accuracy: 0.9771 - val_loss: 3.4027 - val_accuracy: 0.5835\n",
            "Epoch 35/50\n",
            "24402/24402 [==============================] - 38s 2ms/sample - loss: 0.0684 - accuracy: 0.9768 - val_loss: 5.0976 - val_accuracy: 0.5041\n",
            "Epoch 36/50\n",
            "24402/24402 [==============================] - 38s 2ms/sample - loss: 0.0634 - accuracy: 0.9791 - val_loss: 2.5098 - val_accuracy: 0.5781\n",
            "Epoch 37/50\n",
            "24402/24402 [==============================] - 38s 2ms/sample - loss: 0.0577 - accuracy: 0.9799 - val_loss: 2.9367 - val_accuracy: 0.5793\n",
            "Epoch 38/50\n",
            "24402/24402 [==============================] - 38s 2ms/sample - loss: 0.0637 - accuracy: 0.9794 - val_loss: 3.3092 - val_accuracy: 0.5677\n",
            "Epoch 39/50\n",
            "24402/24402 [==============================] - 38s 2ms/sample - loss: 0.0587 - accuracy: 0.9810 - val_loss: 2.6283 - val_accuracy: 0.5930\n",
            "Epoch 40/50\n",
            "24402/24402 [==============================] - 38s 2ms/sample - loss: 0.0594 - accuracy: 0.9803 - val_loss: 3.0145 - val_accuracy: 0.5953\n",
            "Epoch 41/50\n",
            "24402/24402 [==============================] - 38s 2ms/sample - loss: 0.0602 - accuracy: 0.9787 - val_loss: 2.5654 - val_accuracy: 0.5798\n",
            "Epoch 42/50\n",
            "24402/24402 [==============================] - 38s 2ms/sample - loss: 0.0519 - accuracy: 0.9839 - val_loss: 3.0629 - val_accuracy: 0.5974\n",
            "Epoch 43/50\n",
            "24402/24402 [==============================] - 38s 2ms/sample - loss: 0.0493 - accuracy: 0.9831 - val_loss: 3.1868 - val_accuracy: 0.5809\n",
            "Epoch 44/50\n",
            "24402/24402 [==============================] - 38s 2ms/sample - loss: 0.0539 - accuracy: 0.9817 - val_loss: 2.8232 - val_accuracy: 0.5948\n",
            "Epoch 45/50\n",
            "24402/24402 [==============================] - 38s 2ms/sample - loss: 0.0541 - accuracy: 0.9831 - val_loss: 3.2335 - val_accuracy: 0.5739\n",
            "Epoch 46/50\n",
            "24402/24402 [==============================] - 38s 2ms/sample - loss: 0.0460 - accuracy: 0.9853 - val_loss: 3.5381 - val_accuracy: 0.5772\n",
            "Epoch 47/50\n",
            "24402/24402 [==============================] - 38s 2ms/sample - loss: 0.0501 - accuracy: 0.9839 - val_loss: 3.0252 - val_accuracy: 0.5788\n",
            "Epoch 48/50\n",
            "24402/24402 [==============================] - 38s 2ms/sample - loss: 0.0408 - accuracy: 0.9862 - val_loss: 2.7360 - val_accuracy: 0.5786\n",
            "Epoch 49/50\n",
            "24402/24402 [==============================] - 38s 2ms/sample - loss: 0.0553 - accuracy: 0.9816 - val_loss: 2.8356 - val_accuracy: 0.5958\n",
            "Epoch 50/50\n",
            "24402/24402 [==============================] - 38s 2ms/sample - loss: 0.0434 - accuracy: 0.9858 - val_loss: 2.8823 - val_accuracy: 0.6074\n"
          ],
          "name": "stdout"
        },
        {
          "output_type": "execute_result",
          "data": {
            "text/plain": [
              "<tensorflow.python.keras.callbacks.History at 0x7f509e71bfd0>"
            ]
          },
          "metadata": {
            "tags": []
          },
          "execution_count": 68
        }
      ]
    },
    {
      "cell_type": "code",
      "metadata": {
        "id": "mCHL0j3-SDYh",
        "colab_type": "code",
        "outputId": "ed5fd126-3e82-48e9-e3cc-9e304c2a5fcb",
        "colab": {
          "base_uri": "https://localhost:8080/",
          "height": 1000
        }
      },
      "source": [
        "# Train a mini VGG net\n",
        "wandb.init(project=\"emotion-detection\", entity=\"sayakpaul\", id=\"mini-vgg-net\")\n",
        "vgg_net = MiniVGGNetModel(len(LABELS))\n",
        "vgg_net.compile(loss=\"categorical_crossentropy\", optimizer=\"adam\",\n",
        "\tmetrics=[\"accuracy\"])\n",
        "vgg_net.fit(trainX, trainY,  validation_data=(valX, valY), epochs=50,\n",
        "    class_weight=classWeight,\n",
        "    callbacks=[WandbCallback(data_type=\"image\", labels=LABELS)])"
      ],
      "execution_count": 0,
      "outputs": [
        {
          "output_type": "display_data",
          "data": {
            "text/html": [
              "\n",
              "                Logging results to <a href=\"https://wandb.com\" target=\"_blank\">Weights & Biases</a> <a href=\"https://docs.wandb.com/integrations/jupyter.html\" target=\"_blank\">(Documentation)</a>.<br/>\n",
              "                Project page: <a href=\"https://app.wandb.ai/sayakpaul/emotion-detection\" target=\"_blank\">https://app.wandb.ai/sayakpaul/emotion-detection</a><br/>\n",
              "                Run page: <a href=\"https://app.wandb.ai/sayakpaul/emotion-detection/runs/mini-vgg-net\" target=\"_blank\">https://app.wandb.ai/sayakpaul/emotion-detection/runs/mini-vgg-net</a><br/>\n",
              "            "
            ],
            "text/plain": [
              "<IPython.core.display.HTML object>"
            ]
          },
          "metadata": {
            "tags": []
          }
        },
        {
          "output_type": "stream",
          "text": [
            "Train on 24402 samples, validate on 4307 samples\n",
            "Epoch 1/50\n",
            "24320/24402 [============================>.] - ETA: 0s - loss: 1.8313 - accuracy: 0.3616"
          ],
          "name": "stdout"
        },
        {
          "output_type": "stream",
          "text": [
            "wandb: ERROR Can't save model, h5py returned error: Saving the model to HDF5 format requires the model to be a Functional model or a Sequential model. It does not work for subclassed models, because such models are defined via the body of a Python method, which isn't safely serializable. Consider saving to the Tensorflow SavedModel format (by setting save_format=\"tf\") or using `save_weights`.\n"
          ],
          "name": "stderr"
        },
        {
          "output_type": "stream",
          "text": [
            "24402/24402 [==============================] - 8s 332us/sample - loss: 1.8301 - accuracy: 0.3620 - val_loss: 1.4815 - val_accuracy: 0.4272\n",
            "Epoch 2/50\n",
            "24402/24402 [==============================] - 7s 278us/sample - loss: 1.3966 - accuracy: 0.4711 - val_loss: 1.5134 - val_accuracy: 0.4367\n",
            "Epoch 3/50\n",
            "24402/24402 [==============================] - 7s 279us/sample - loss: 1.2637 - accuracy: 0.5229 - val_loss: 1.3126 - val_accuracy: 0.5043\n",
            "Epoch 4/50\n",
            "24402/24402 [==============================] - 7s 284us/sample - loss: 1.1870 - accuracy: 0.5486 - val_loss: 1.4100 - val_accuracy: 0.4927\n",
            "Epoch 5/50\n",
            "24402/24402 [==============================] - 7s 280us/sample - loss: 1.1187 - accuracy: 0.5813 - val_loss: 1.2418 - val_accuracy: 0.5329\n",
            "Epoch 6/50\n",
            "24402/24402 [==============================] - 7s 279us/sample - loss: 1.0481 - accuracy: 0.6068 - val_loss: 1.5332 - val_accuracy: 0.4627\n",
            "Epoch 7/50\n",
            "24402/24402 [==============================] - 7s 278us/sample - loss: 0.9845 - accuracy: 0.6335 - val_loss: 1.2467 - val_accuracy: 0.5484\n",
            "Epoch 8/50\n",
            "24402/24402 [==============================] - 7s 278us/sample - loss: 0.8857 - accuracy: 0.6730 - val_loss: 1.3008 - val_accuracy: 0.5331\n",
            "Epoch 9/50\n",
            "24402/24402 [==============================] - 7s 277us/sample - loss: 0.8092 - accuracy: 0.6993 - val_loss: 1.3274 - val_accuracy: 0.5498\n",
            "Epoch 10/50\n",
            "24402/24402 [==============================] - 7s 278us/sample - loss: 0.7110 - accuracy: 0.7389 - val_loss: 1.4830 - val_accuracy: 0.5254\n",
            "Epoch 11/50\n",
            "24402/24402 [==============================] - 7s 277us/sample - loss: 0.6524 - accuracy: 0.7624 - val_loss: 1.4036 - val_accuracy: 0.5479\n",
            "Epoch 12/50\n",
            "24402/24402 [==============================] - 7s 278us/sample - loss: 0.5789 - accuracy: 0.7900 - val_loss: 1.4784 - val_accuracy: 0.5361\n",
            "Epoch 13/50\n",
            "24402/24402 [==============================] - 7s 279us/sample - loss: 0.5056 - accuracy: 0.8192 - val_loss: 1.5755 - val_accuracy: 0.5396\n",
            "Epoch 14/50\n",
            "24402/24402 [==============================] - 7s 278us/sample - loss: 0.4778 - accuracy: 0.8264 - val_loss: 1.6512 - val_accuracy: 0.5445\n",
            "Epoch 15/50\n",
            "24402/24402 [==============================] - 7s 278us/sample - loss: 0.4186 - accuracy: 0.8493 - val_loss: 1.6156 - val_accuracy: 0.5577\n",
            "Epoch 16/50\n",
            "24402/24402 [==============================] - 7s 281us/sample - loss: 0.3670 - accuracy: 0.8692 - val_loss: 1.8357 - val_accuracy: 0.5468\n",
            "Epoch 17/50\n",
            "24402/24402 [==============================] - 7s 279us/sample - loss: 0.5618 - accuracy: 0.8024 - val_loss: 1.5846 - val_accuracy: 0.5489\n",
            "Epoch 18/50\n",
            "24402/24402 [==============================] - 7s 278us/sample - loss: 0.3884 - accuracy: 0.8592 - val_loss: 1.6814 - val_accuracy: 0.5589\n",
            "Epoch 19/50\n",
            "24402/24402 [==============================] - 7s 279us/sample - loss: 0.2931 - accuracy: 0.8958 - val_loss: 1.7865 - val_accuracy: 0.5598\n",
            "Epoch 20/50\n",
            "24402/24402 [==============================] - 7s 278us/sample - loss: 0.2763 - accuracy: 0.9026 - val_loss: 1.9497 - val_accuracy: 0.5491\n",
            "Epoch 21/50\n",
            "24402/24402 [==============================] - 7s 279us/sample - loss: 0.2926 - accuracy: 0.8963 - val_loss: 1.9186 - val_accuracy: 0.5633\n",
            "Epoch 22/50\n",
            "24402/24402 [==============================] - 7s 279us/sample - loss: 0.2710 - accuracy: 0.9045 - val_loss: 1.9152 - val_accuracy: 0.5556\n",
            "Epoch 23/50\n",
            "24402/24402 [==============================] - 7s 278us/sample - loss: 0.2521 - accuracy: 0.9100 - val_loss: 1.9286 - val_accuracy: 0.5466\n",
            "Epoch 24/50\n",
            "24402/24402 [==============================] - 7s 278us/sample - loss: 0.2211 - accuracy: 0.9233 - val_loss: 2.0783 - val_accuracy: 0.5459\n",
            "Epoch 25/50\n",
            "24402/24402 [==============================] - 7s 278us/sample - loss: 0.2202 - accuracy: 0.9189 - val_loss: 2.1664 - val_accuracy: 0.5398\n",
            "Epoch 26/50\n",
            "24402/24402 [==============================] - 7s 278us/sample - loss: 0.2046 - accuracy: 0.9272 - val_loss: 2.0571 - val_accuracy: 0.5584\n",
            "Epoch 27/50\n",
            "24402/24402 [==============================] - 7s 279us/sample - loss: 0.1942 - accuracy: 0.9331 - val_loss: 2.1441 - val_accuracy: 0.5275\n",
            "Epoch 28/50\n",
            "24402/24402 [==============================] - 7s 284us/sample - loss: 0.2255 - accuracy: 0.9205 - val_loss: 2.2886 - val_accuracy: 0.5373\n",
            "Epoch 29/50\n",
            "24402/24402 [==============================] - 7s 280us/sample - loss: 0.2231 - accuracy: 0.9218 - val_loss: 2.0761 - val_accuracy: 0.5503\n",
            "Epoch 30/50\n",
            "24402/24402 [==============================] - 7s 280us/sample - loss: 0.1821 - accuracy: 0.9375 - val_loss: 2.2630 - val_accuracy: 0.5533\n",
            "Epoch 31/50\n",
            "24402/24402 [==============================] - 7s 278us/sample - loss: 0.1598 - accuracy: 0.9448 - val_loss: 2.2649 - val_accuracy: 0.5521\n",
            "Epoch 32/50\n",
            "24402/24402 [==============================] - 7s 283us/sample - loss: 0.2213 - accuracy: 0.9229 - val_loss: 2.2851 - val_accuracy: 0.5482\n",
            "Epoch 33/50\n",
            "24402/24402 [==============================] - 7s 283us/sample - loss: 0.1765 - accuracy: 0.9402 - val_loss: 2.3404 - val_accuracy: 0.5500\n",
            "Epoch 34/50\n",
            "24402/24402 [==============================] - 7s 278us/sample - loss: 0.1560 - accuracy: 0.9471 - val_loss: 2.2525 - val_accuracy: 0.5593\n",
            "Epoch 35/50\n",
            "24402/24402 [==============================] - 7s 277us/sample - loss: 0.1599 - accuracy: 0.9453 - val_loss: 2.4166 - val_accuracy: 0.5438\n",
            "Epoch 36/50\n",
            "24402/24402 [==============================] - 7s 275us/sample - loss: 0.1540 - accuracy: 0.9473 - val_loss: 2.3116 - val_accuracy: 0.5479\n",
            "Epoch 37/50\n",
            "24402/24402 [==============================] - 7s 276us/sample - loss: 0.1636 - accuracy: 0.9443 - val_loss: 2.4886 - val_accuracy: 0.5322\n",
            "Epoch 38/50\n",
            "24402/24402 [==============================] - 7s 278us/sample - loss: 0.1582 - accuracy: 0.9446 - val_loss: 2.2709 - val_accuracy: 0.5651\n",
            "Epoch 39/50\n",
            "24402/24402 [==============================] - 7s 282us/sample - loss: 0.1354 - accuracy: 0.9534 - val_loss: 2.2507 - val_accuracy: 0.5575\n",
            "Epoch 40/50\n",
            "24402/24402 [==============================] - 7s 282us/sample - loss: 0.1225 - accuracy: 0.9567 - val_loss: 2.3041 - val_accuracy: 0.5626\n",
            "Epoch 41/50\n",
            "24402/24402 [==============================] - 7s 276us/sample - loss: 0.1419 - accuracy: 0.9526 - val_loss: 2.4864 - val_accuracy: 0.5472\n",
            "Epoch 42/50\n",
            "24402/24402 [==============================] - 7s 276us/sample - loss: 0.1676 - accuracy: 0.9431 - val_loss: 2.2899 - val_accuracy: 0.5621\n",
            "Epoch 43/50\n",
            "24402/24402 [==============================] - 7s 277us/sample - loss: 0.1256 - accuracy: 0.9562 - val_loss: 2.4025 - val_accuracy: 0.5544\n",
            "Epoch 44/50\n",
            "24402/24402 [==============================] - 7s 276us/sample - loss: 0.1284 - accuracy: 0.9572 - val_loss: 2.4637 - val_accuracy: 0.5572\n",
            "Epoch 45/50\n",
            "24402/24402 [==============================] - 7s 276us/sample - loss: 0.1171 - accuracy: 0.9600 - val_loss: 2.3160 - val_accuracy: 0.5556\n",
            "Epoch 46/50\n",
            "24402/24402 [==============================] - 7s 276us/sample - loss: 0.1219 - accuracy: 0.9592 - val_loss: 2.4526 - val_accuracy: 0.5612\n",
            "Epoch 47/50\n",
            "24402/24402 [==============================] - 7s 277us/sample - loss: 0.1313 - accuracy: 0.9568 - val_loss: 2.3926 - val_accuracy: 0.5635\n",
            "Epoch 48/50\n",
            "24402/24402 [==============================] - 7s 279us/sample - loss: 0.1243 - accuracy: 0.9588 - val_loss: 2.4760 - val_accuracy: 0.5651\n",
            "Epoch 49/50\n",
            "24402/24402 [==============================] - 7s 276us/sample - loss: 0.1078 - accuracy: 0.9636 - val_loss: 2.4528 - val_accuracy: 0.5623\n",
            "Epoch 50/50\n",
            "24402/24402 [==============================] - 7s 277us/sample - loss: 0.1051 - accuracy: 0.9652 - val_loss: 2.7530 - val_accuracy: 0.5526\n"
          ],
          "name": "stdout"
        },
        {
          "output_type": "execute_result",
          "data": {
            "text/plain": [
              "<tensorflow.python.keras.callbacks.History at 0x7f508e710d68>"
            ]
          },
          "metadata": {
            "tags": []
          },
          "execution_count": 69
        }
      ]
    },
    {
      "cell_type": "code",
      "metadata": {
        "id": "xeJ-1Ac3X5uL",
        "colab_type": "code",
        "colab": {}
      },
      "source": [
        "# Instantiate a data augmentation pipeline\n",
        "from tensorflow.keras.preprocessing.image import ImageDataGenerator\n",
        "\n",
        "aug = ImageDataGenerator(rotation_range=18, zoom_range=0.15,\n",
        "\twidth_shift_range=0.2, height_shift_range=0.2,\n",
        "\thorizontal_flip=True)"
      ],
      "execution_count": 0,
      "outputs": []
    },
    {
      "cell_type": "code",
      "metadata": {
        "id": "9YevbwwSYbdd",
        "colab_type": "code",
        "colab": {
          "base_uri": "https://localhost:8080/",
          "height": 1000
        },
        "outputId": "e9f9ec61-656c-472a-f025-ab44ddf65481"
      },
      "source": [
        "# Train a mini VGG net with data augmentation & SGD\n",
        "wandb.init(project=\"emotion-detection\", entity=\"sayakpaul\", id=\"mini-vgg-net-da-sgd\")\n",
        "vgg_net = MiniVGGNetModel(len(LABELS))\n",
        "vgg_net.compile(loss=\"categorical_crossentropy\", optimizer=\"sgd\",\n",
        "\tmetrics=[\"accuracy\"])\n",
        "vgg_net.fit(aug.flow(trainX, trainY, batch_size=64),\n",
        "    validation_data=(valX, valY), \n",
        "    epochs=50,\n",
        "    class_weight=classWeight,\n",
        "    callbacks=[WandbCallback(data_type=\"image\", validation_data=(valX, valY), labels=LABELS)])"
      ],
      "execution_count": 25,
      "outputs": [
        {
          "output_type": "display_data",
          "data": {
            "text/html": [
              "\n",
              "                Logging results to <a href=\"https://wandb.com\" target=\"_blank\">Weights & Biases</a> <a href=\"https://docs.wandb.com/integrations/jupyter.html\" target=\"_blank\">(Documentation)</a>.<br/>\n",
              "                Project page: <a href=\"https://app.wandb.ai/sayakpaul/emotion-detection\" target=\"_blank\">https://app.wandb.ai/sayakpaul/emotion-detection</a><br/>\n",
              "                Run page: <a href=\"https://app.wandb.ai/sayakpaul/emotion-detection/runs/mini-vgg-net-da-sgd\" target=\"_blank\">https://app.wandb.ai/sayakpaul/emotion-detection/runs/mini-vgg-net-da-sgd</a><br/>\n",
              "            "
            ],
            "text/plain": [
              "<IPython.core.display.HTML object>"
            ]
          },
          "metadata": {
            "tags": []
          }
        },
        {
          "output_type": "stream",
          "text": [
            "Train for 382 steps, validate on 4307 samples\n",
            "Epoch 1/50\n",
            "380/382 [============================>.] - ETA: 0s - loss: 2.4260 - accuracy: 0.1933"
          ],
          "name": "stdout"
        },
        {
          "output_type": "stream",
          "text": [
            "wandb: ERROR Can't save model, h5py returned error: Saving the model to HDF5 format requires the model to be a Functional model or a Sequential model. It does not work for subclassed models, because such models are defined via the body of a Python method, which isn't safely serializable. Consider saving to the Tensorflow SavedModel format (by setting save_format=\"tf\") or using `save_weights`.\n"
          ],
          "name": "stderr"
        },
        {
          "output_type": "stream",
          "text": [
            "382/382 [==============================] - 19s 51ms/step - loss: 2.4232 - accuracy: 0.1936 - val_loss: 1.8842 - val_accuracy: 0.2580\n",
            "Epoch 2/50\n",
            "382/382 [==============================] - 11s 29ms/step - loss: 1.9682 - accuracy: 0.2286 - val_loss: 1.7700 - val_accuracy: 0.2872\n",
            "Epoch 3/50\n",
            "382/382 [==============================] - 12s 30ms/step - loss: 1.8407 - accuracy: 0.2549 - val_loss: 1.7582 - val_accuracy: 0.2844\n",
            "Epoch 4/50\n",
            "382/382 [==============================] - 11s 30ms/step - loss: 1.7938 - accuracy: 0.2715 - val_loss: 1.7047 - val_accuracy: 0.3237\n",
            "Epoch 5/50\n",
            "382/382 [==============================] - 11s 30ms/step - loss: 1.7727 - accuracy: 0.2839 - val_loss: 1.7458 - val_accuracy: 0.2967\n",
            "Epoch 6/50\n",
            "382/382 [==============================] - 11s 29ms/step - loss: 1.7517 - accuracy: 0.2924 - val_loss: 1.6963 - val_accuracy: 0.3288\n",
            "Epoch 7/50\n",
            "382/382 [==============================] - 11s 29ms/step - loss: 1.7398 - accuracy: 0.2992 - val_loss: 1.6673 - val_accuracy: 0.3436\n",
            "Epoch 8/50\n",
            "382/382 [==============================] - 11s 29ms/step - loss: 1.7171 - accuracy: 0.3076 - val_loss: 1.6505 - val_accuracy: 0.3422\n",
            "Epoch 9/50\n",
            "382/382 [==============================] - 11s 30ms/step - loss: 1.6986 - accuracy: 0.3203 - val_loss: 1.5673 - val_accuracy: 0.3836\n",
            "Epoch 10/50\n",
            "382/382 [==============================] - 11s 29ms/step - loss: 1.6838 - accuracy: 0.3287 - val_loss: 1.6260 - val_accuracy: 0.3415\n",
            "Epoch 11/50\n",
            "382/382 [==============================] - 11s 29ms/step - loss: 1.6719 - accuracy: 0.3318 - val_loss: 1.5862 - val_accuracy: 0.3826\n",
            "Epoch 12/50\n",
            "382/382 [==============================] - 11s 29ms/step - loss: 1.6535 - accuracy: 0.3457 - val_loss: 1.5312 - val_accuracy: 0.4065\n",
            "Epoch 13/50\n",
            "382/382 [==============================] - 11s 29ms/step - loss: 1.6379 - accuracy: 0.3549 - val_loss: 1.5224 - val_accuracy: 0.4047\n",
            "Epoch 14/50\n",
            "382/382 [==============================] - 11s 30ms/step - loss: 1.6173 - accuracy: 0.3637 - val_loss: 1.5964 - val_accuracy: 0.3775\n",
            "Epoch 15/50\n",
            "382/382 [==============================] - 11s 29ms/step - loss: 1.6071 - accuracy: 0.3670 - val_loss: 1.5836 - val_accuracy: 0.3780\n",
            "Epoch 16/50\n",
            "382/382 [==============================] - 11s 28ms/step - loss: 1.5898 - accuracy: 0.3758 - val_loss: 1.5244 - val_accuracy: 0.4093\n",
            "Epoch 17/50\n",
            "382/382 [==============================] - 11s 29ms/step - loss: 1.5758 - accuracy: 0.3832 - val_loss: 1.5465 - val_accuracy: 0.4007\n",
            "Epoch 18/50\n",
            "382/382 [==============================] - 11s 29ms/step - loss: 1.5546 - accuracy: 0.3937 - val_loss: 1.5763 - val_accuracy: 0.3829\n",
            "Epoch 19/50\n",
            "382/382 [==============================] - 12s 30ms/step - loss: 1.5499 - accuracy: 0.3915 - val_loss: 1.4154 - val_accuracy: 0.4490\n",
            "Epoch 20/50\n",
            "382/382 [==============================] - 12s 31ms/step - loss: 1.5394 - accuracy: 0.3992 - val_loss: 1.5287 - val_accuracy: 0.4207\n",
            "Epoch 21/50\n",
            "382/382 [==============================] - 12s 32ms/step - loss: 1.5226 - accuracy: 0.4083 - val_loss: 1.4332 - val_accuracy: 0.4586\n",
            "Epoch 22/50\n",
            "382/382 [==============================] - 12s 32ms/step - loss: 1.5087 - accuracy: 0.4159 - val_loss: 1.3793 - val_accuracy: 0.4743\n",
            "Epoch 23/50\n",
            "382/382 [==============================] - 12s 31ms/step - loss: 1.5038 - accuracy: 0.4135 - val_loss: 1.3637 - val_accuracy: 0.4806\n",
            "Epoch 24/50\n",
            "382/382 [==============================] - 12s 32ms/step - loss: 1.4907 - accuracy: 0.4220 - val_loss: 1.4023 - val_accuracy: 0.4651\n",
            "Epoch 25/50\n",
            "382/382 [==============================] - 12s 32ms/step - loss: 1.4800 - accuracy: 0.4255 - val_loss: 1.4543 - val_accuracy: 0.4602\n",
            "Epoch 26/50\n",
            "382/382 [==============================] - 12s 30ms/step - loss: 1.4646 - accuracy: 0.4340 - val_loss: 1.5109 - val_accuracy: 0.4242\n",
            "Epoch 27/50\n",
            "382/382 [==============================] - 11s 30ms/step - loss: 1.4585 - accuracy: 0.4321 - val_loss: 1.3301 - val_accuracy: 0.4987\n",
            "Epoch 28/50\n",
            "382/382 [==============================] - 12s 31ms/step - loss: 1.4520 - accuracy: 0.4378 - val_loss: 1.3325 - val_accuracy: 0.4929\n",
            "Epoch 29/50\n",
            "382/382 [==============================] - 12s 32ms/step - loss: 1.4450 - accuracy: 0.4407 - val_loss: 1.4235 - val_accuracy: 0.4681\n",
            "Epoch 30/50\n",
            "382/382 [==============================] - 12s 32ms/step - loss: 1.4348 - accuracy: 0.4460 - val_loss: 1.2881 - val_accuracy: 0.5175\n",
            "Epoch 31/50\n",
            "382/382 [==============================] - 13s 34ms/step - loss: 1.4292 - accuracy: 0.4511 - val_loss: 1.3291 - val_accuracy: 0.4952\n",
            "Epoch 32/50\n",
            "382/382 [==============================] - 13s 34ms/step - loss: 1.4208 - accuracy: 0.4510 - val_loss: 1.4138 - val_accuracy: 0.4623\n",
            "Epoch 33/50\n",
            "382/382 [==============================] - 12s 32ms/step - loss: 1.4091 - accuracy: 0.4539 - val_loss: 1.3137 - val_accuracy: 0.4992\n",
            "Epoch 34/50\n",
            "382/382 [==============================] - 12s 33ms/step - loss: 1.4063 - accuracy: 0.4577 - val_loss: 1.2810 - val_accuracy: 0.5147\n",
            "Epoch 35/50\n",
            "382/382 [==============================] - 12s 32ms/step - loss: 1.3958 - accuracy: 0.4607 - val_loss: 1.3213 - val_accuracy: 0.5020\n",
            "Epoch 36/50\n",
            "382/382 [==============================] - 12s 32ms/step - loss: 1.3901 - accuracy: 0.4623 - val_loss: 1.2807 - val_accuracy: 0.5238\n",
            "Epoch 37/50\n",
            "382/382 [==============================] - 12s 31ms/step - loss: 1.3865 - accuracy: 0.4671 - val_loss: 1.2965 - val_accuracy: 0.5006\n",
            "Epoch 38/50\n",
            "382/382 [==============================] - 11s 30ms/step - loss: 1.3840 - accuracy: 0.4683 - val_loss: 1.2868 - val_accuracy: 0.5159\n",
            "Epoch 39/50\n",
            "382/382 [==============================] - 12s 31ms/step - loss: 1.3822 - accuracy: 0.4662 - val_loss: 1.3019 - val_accuracy: 0.4971\n",
            "Epoch 40/50\n",
            "382/382 [==============================] - 11s 30ms/step - loss: 1.3701 - accuracy: 0.4718 - val_loss: 1.2519 - val_accuracy: 0.5243\n",
            "Epoch 41/50\n",
            "382/382 [==============================] - 12s 30ms/step - loss: 1.3572 - accuracy: 0.4731 - val_loss: 1.2964 - val_accuracy: 0.5085\n",
            "Epoch 42/50\n",
            "382/382 [==============================] - 12s 31ms/step - loss: 1.3616 - accuracy: 0.4739 - val_loss: 1.2452 - val_accuracy: 0.5268\n",
            "Epoch 43/50\n",
            "382/382 [==============================] - 11s 30ms/step - loss: 1.3517 - accuracy: 0.4800 - val_loss: 1.2537 - val_accuracy: 0.5226\n",
            "Epoch 44/50\n",
            "382/382 [==============================] - 11s 30ms/step - loss: 1.3477 - accuracy: 0.4820 - val_loss: 1.2751 - val_accuracy: 0.5120\n",
            "Epoch 45/50\n",
            "382/382 [==============================] - 11s 30ms/step - loss: 1.3433 - accuracy: 0.4840 - val_loss: 1.3034 - val_accuracy: 0.5034\n",
            "Epoch 46/50\n",
            "382/382 [==============================] - 11s 30ms/step - loss: 1.3356 - accuracy: 0.4852 - val_loss: 1.3106 - val_accuracy: 0.4918\n",
            "Epoch 47/50\n",
            "382/382 [==============================] - 11s 30ms/step - loss: 1.3304 - accuracy: 0.4880 - val_loss: 1.2874 - val_accuracy: 0.5161\n",
            "Epoch 48/50\n",
            "382/382 [==============================] - 11s 29ms/step - loss: 1.3298 - accuracy: 0.4887 - val_loss: 1.2053 - val_accuracy: 0.5477\n",
            "Epoch 49/50\n",
            "382/382 [==============================] - 11s 30ms/step - loss: 1.3207 - accuracy: 0.4946 - val_loss: 1.2492 - val_accuracy: 0.5370\n",
            "Epoch 50/50\n",
            "382/382 [==============================] - 12s 30ms/step - loss: 1.3191 - accuracy: 0.4938 - val_loss: 1.2145 - val_accuracy: 0.5389\n"
          ],
          "name": "stdout"
        },
        {
          "output_type": "execute_result",
          "data": {
            "text/plain": [
              "<tensorflow.python.keras.callbacks.History at 0x7fd0a9710ac8>"
            ]
          },
          "metadata": {
            "tags": []
          },
          "execution_count": 25
        }
      ]
    },
    {
      "cell_type": "code",
      "metadata": {
        "id": "ivyZ_A8bY1j_",
        "colab_type": "code",
        "colab": {
          "base_uri": "https://localhost:8080/",
          "height": 204
        },
        "outputId": "3bbfade3-d6b0-44c5-be09-1138c0e61547"
      },
      "source": [
        "# Get the CLR callback\n",
        "!wget https://raw.githubusercontent.com/sayakpaul/ML-Bootcamp-Launchpad/master/pyimagesearch/clr_callback.py"
      ],
      "execution_count": 26,
      "outputs": [
        {
          "output_type": "stream",
          "text": [
            "--2020-01-31 07:07:56--  https://raw.githubusercontent.com/sayakpaul/ML-Bootcamp-Launchpad/master/pyimagesearch/clr_callback.py\n",
            "Resolving raw.githubusercontent.com (raw.githubusercontent.com)... 151.101.0.133, 151.101.64.133, 151.101.128.133, ...\n",
            "Connecting to raw.githubusercontent.com (raw.githubusercontent.com)|151.101.0.133|:443... connected.\n",
            "HTTP request sent, awaiting response... 200 OK\n",
            "Length: 4533 (4.4K) [text/plain]\n",
            "Saving to: ‘clr_callback.py’\n",
            "\n",
            "\rclr_callback.py       0%[                    ]       0  --.-KB/s               \rclr_callback.py     100%[===================>]   4.43K  --.-KB/s    in 0s      \n",
            "\n",
            "2020-01-31 07:07:56 (114 MB/s) - ‘clr_callback.py’ saved [4533/4533]\n",
            "\n"
          ],
          "name": "stdout"
        }
      ]
    },
    {
      "cell_type": "code",
      "metadata": {
        "id": "u4_UiMRkbXV6",
        "colab_type": "code",
        "colab": {}
      },
      "source": [
        "from clr_callback import CyclicLR"
      ],
      "execution_count": 0,
      "outputs": []
    },
    {
      "cell_type": "code",
      "metadata": {
        "id": "Lsq8SjHebmUq",
        "colab_type": "code",
        "colab": {}
      },
      "source": [
        "# Compute the step size and initialize the cyclic learning\n",
        "# rate method\n",
        "step_size = 8 * np.ceil(len(trainX)//64)\n",
        "clr = CyclicLR(\n",
        "\tmode=\"triangular\",\n",
        "\tbase_lr=1e-5,\n",
        "\tmax_lr=1e-3,\n",
        "\tstep_size=step_size)"
      ],
      "execution_count": 0,
      "outputs": []
    },
    {
      "cell_type": "code",
      "metadata": {
        "id": "9bLPNYS7cObC",
        "colab_type": "code",
        "colab": {
          "base_uri": "https://localhost:8080/",
          "height": 1000
        },
        "outputId": "688f76ea-d695-43b6-85dc-88b30bbf785c"
      },
      "source": [
        "# Train a mini VGG net with data augmentation, SGD & CLR\n",
        "wandb.init(project=\"emotion-detection\", entity=\"sayakpaul\", id=\"mini-vgg-net-da-sgd-clr\")\n",
        "vgg_net = MiniVGGNetModel(len(LABELS))\n",
        "vgg_net.compile(loss=\"categorical_crossentropy\", optimizer=\"sgd\",\n",
        "\tmetrics=[\"accuracy\"])\n",
        "vgg_net.fit(aug.flow(trainX, trainY, batch_size=64),\n",
        "    validation_data=(valX, valY), \n",
        "    epochs=50,\n",
        "    class_weight=classWeight,\n",
        "    callbacks=[WandbCallback(data_type=\"image\", validation_data=(valX, valY), labels=LABELS),\n",
        "        clr])"
      ],
      "execution_count": 29,
      "outputs": [
        {
          "output_type": "display_data",
          "data": {
            "text/html": [
              "\n",
              "                Logging results to <a href=\"https://wandb.com\" target=\"_blank\">Weights & Biases</a> <a href=\"https://docs.wandb.com/integrations/jupyter.html\" target=\"_blank\">(Documentation)</a>.<br/>\n",
              "                Project page: <a href=\"https://app.wandb.ai/sayakpaul/emotion-detection\" target=\"_blank\">https://app.wandb.ai/sayakpaul/emotion-detection</a><br/>\n",
              "                Run page: <a href=\"https://app.wandb.ai/sayakpaul/emotion-detection/runs/mini-vgg-net-da-sgd-clr\" target=\"_blank\">https://app.wandb.ai/sayakpaul/emotion-detection/runs/mini-vgg-net-da-sgd-clr</a><br/>\n",
              "            "
            ],
            "text/plain": [
              "<IPython.core.display.HTML object>"
            ]
          },
          "metadata": {
            "tags": []
          }
        },
        {
          "output_type": "stream",
          "text": [
            "Train for 382 steps, validate on 4307 samples\n",
            "Epoch 1/50\n",
            "380/382 [============================>.] - ETA: 0s - loss: 3.2475 - accuracy: 0.1505"
          ],
          "name": "stdout"
        },
        {
          "output_type": "stream",
          "text": [
            "wandb: ERROR Can't save model, h5py returned error: Saving the model to HDF5 format requires the model to be a Functional model or a Sequential model. It does not work for subclassed models, because such models are defined via the body of a Python method, which isn't safely serializable. Consider saving to the Tensorflow SavedModel format (by setting save_format=\"tf\") or using `save_weights`.\n"
          ],
          "name": "stderr"
        },
        {
          "output_type": "stream",
          "text": [
            "382/382 [==============================] - 12s 32ms/step - loss: 3.2477 - accuracy: 0.1505 - val_loss: 2.3990 - val_accuracy: 0.0829\n",
            "Epoch 2/50\n",
            "382/382 [==============================] - 12s 31ms/step - loss: 3.0692 - accuracy: 0.1552 - val_loss: 2.4463 - val_accuracy: 0.1700\n",
            "Epoch 3/50\n",
            "382/382 [==============================] - 12s 31ms/step - loss: 2.9338 - accuracy: 0.1706 - val_loss: 2.4518 - val_accuracy: 0.1929\n",
            "Epoch 4/50\n",
            "382/382 [==============================] - 12s 32ms/step - loss: 2.7948 - accuracy: 0.1755 - val_loss: 2.2640 - val_accuracy: 0.2178\n",
            "Epoch 5/50\n",
            "382/382 [==============================] - 13s 33ms/step - loss: 2.6846 - accuracy: 0.1863 - val_loss: 2.2326 - val_accuracy: 0.1974\n",
            "Epoch 6/50\n",
            "382/382 [==============================] - 12s 33ms/step - loss: 2.5879 - accuracy: 0.1874 - val_loss: 2.1020 - val_accuracy: 0.2248\n",
            "Epoch 7/50\n",
            "382/382 [==============================] - 13s 33ms/step - loss: 2.4725 - accuracy: 0.1949 - val_loss: 1.9846 - val_accuracy: 0.2563\n",
            "Epoch 8/50\n",
            "382/382 [==============================] - 13s 33ms/step - loss: 2.3833 - accuracy: 0.1966 - val_loss: 1.9317 - val_accuracy: 0.2577\n",
            "Epoch 9/50\n",
            "382/382 [==============================] - 13s 33ms/step - loss: 2.3098 - accuracy: 0.2087 - val_loss: 1.8748 - val_accuracy: 0.2830\n",
            "Epoch 10/50\n",
            "382/382 [==============================] - 12s 31ms/step - loss: 2.2564 - accuracy: 0.2081 - val_loss: 1.8536 - val_accuracy: 0.2849\n",
            "Epoch 11/50\n",
            "382/382 [==============================] - 12s 31ms/step - loss: 2.2121 - accuracy: 0.2181 - val_loss: 1.8049 - val_accuracy: 0.3023\n",
            "Epoch 12/50\n",
            "382/382 [==============================] - 12s 31ms/step - loss: 2.1733 - accuracy: 0.2192 - val_loss: 1.8464 - val_accuracy: 0.2821\n",
            "Epoch 13/50\n",
            "382/382 [==============================] - 13s 33ms/step - loss: 2.1491 - accuracy: 0.2214 - val_loss: 1.8364 - val_accuracy: 0.2798\n",
            "Epoch 14/50\n",
            "382/382 [==============================] - 12s 31ms/step - loss: 2.1347 - accuracy: 0.2226 - val_loss: 1.7769 - val_accuracy: 0.3046\n",
            "Epoch 15/50\n",
            "382/382 [==============================] - 12s 31ms/step - loss: 2.1150 - accuracy: 0.2247 - val_loss: 1.7855 - val_accuracy: 0.3021\n",
            "Epoch 16/50\n",
            "382/382 [==============================] - 13s 34ms/step - loss: 2.1106 - accuracy: 0.2238 - val_loss: 1.7897 - val_accuracy: 0.2965\n",
            "Epoch 17/50\n",
            "382/382 [==============================] - 13s 33ms/step - loss: 2.1055 - accuracy: 0.2275 - val_loss: 1.7805 - val_accuracy: 0.3021\n",
            "Epoch 18/50\n",
            "382/382 [==============================] - 13s 33ms/step - loss: 2.1123 - accuracy: 0.2239 - val_loss: 1.8135 - val_accuracy: 0.2819\n",
            "Epoch 19/50\n",
            "382/382 [==============================] - 12s 31ms/step - loss: 2.1012 - accuracy: 0.2255 - val_loss: 1.7804 - val_accuracy: 0.3030\n",
            "Epoch 20/50\n",
            "382/382 [==============================] - 12s 31ms/step - loss: 2.0806 - accuracy: 0.2287 - val_loss: 1.7657 - val_accuracy: 0.3053\n",
            "Epoch 21/50\n",
            "382/382 [==============================] - 12s 30ms/step - loss: 2.0562 - accuracy: 0.2328 - val_loss: 1.7905 - val_accuracy: 0.2944\n",
            "Epoch 22/50\n",
            "382/382 [==============================] - 12s 32ms/step - loss: 2.0305 - accuracy: 0.2379 - val_loss: 1.7759 - val_accuracy: 0.2956\n",
            "Epoch 23/50\n",
            "382/382 [==============================] - 12s 33ms/step - loss: 2.0153 - accuracy: 0.2361 - val_loss: 1.7540 - val_accuracy: 0.3121\n",
            "Epoch 24/50\n",
            "382/382 [==============================] - 12s 32ms/step - loss: 1.9831 - accuracy: 0.2425 - val_loss: 1.7600 - val_accuracy: 0.3074\n",
            "Epoch 25/50\n",
            "382/382 [==============================] - 12s 32ms/step - loss: 1.9614 - accuracy: 0.2458 - val_loss: 1.7391 - val_accuracy: 0.3165\n",
            "Epoch 26/50\n",
            "382/382 [==============================] - 13s 33ms/step - loss: 1.9453 - accuracy: 0.2474 - val_loss: 1.7453 - val_accuracy: 0.3132\n",
            "Epoch 27/50\n",
            "382/382 [==============================] - 12s 32ms/step - loss: 1.9248 - accuracy: 0.2496 - val_loss: 1.7881 - val_accuracy: 0.2974\n",
            "Epoch 28/50\n",
            "382/382 [==============================] - 12s 32ms/step - loss: 1.9096 - accuracy: 0.2604 - val_loss: 1.7119 - val_accuracy: 0.3343\n",
            "Epoch 29/50\n",
            "382/382 [==============================] - 12s 32ms/step - loss: 1.8971 - accuracy: 0.2600 - val_loss: 1.6917 - val_accuracy: 0.3394\n",
            "Epoch 30/50\n",
            "382/382 [==============================] - 12s 32ms/step - loss: 1.8939 - accuracy: 0.2565 - val_loss: 1.6935 - val_accuracy: 0.3427\n",
            "Epoch 31/50\n",
            "382/382 [==============================] - 12s 32ms/step - loss: 1.8872 - accuracy: 0.2610 - val_loss: 1.7148 - val_accuracy: 0.3257\n",
            "Epoch 32/50\n",
            "382/382 [==============================] - 12s 30ms/step - loss: 1.8822 - accuracy: 0.2616 - val_loss: 1.7076 - val_accuracy: 0.3306\n",
            "Epoch 33/50\n",
            "382/382 [==============================] - 12s 31ms/step - loss: 1.8755 - accuracy: 0.2603 - val_loss: 1.7117 - val_accuracy: 0.3255\n",
            "Epoch 34/50\n",
            "382/382 [==============================] - 12s 31ms/step - loss: 1.8776 - accuracy: 0.2623 - val_loss: 1.7062 - val_accuracy: 0.3309\n",
            "Epoch 35/50\n",
            "382/382 [==============================] - 12s 31ms/step - loss: 1.8746 - accuracy: 0.2634 - val_loss: 1.6986 - val_accuracy: 0.3369\n",
            "Epoch 36/50\n",
            "382/382 [==============================] - 12s 32ms/step - loss: 1.8661 - accuracy: 0.2649 - val_loss: 1.7120 - val_accuracy: 0.3264\n",
            "Epoch 37/50\n",
            "382/382 [==============================] - 12s 32ms/step - loss: 1.8574 - accuracy: 0.2691 - val_loss: 1.6976 - val_accuracy: 0.3362\n",
            "Epoch 38/50\n",
            "382/382 [==============================] - 12s 33ms/step - loss: 1.8458 - accuracy: 0.2705 - val_loss: 1.7146 - val_accuracy: 0.3313\n",
            "Epoch 39/50\n",
            "382/382 [==============================] - 13s 33ms/step - loss: 1.8448 - accuracy: 0.2710 - val_loss: 1.6887 - val_accuracy: 0.3364\n",
            "Epoch 40/50\n",
            "382/382 [==============================] - 12s 32ms/step - loss: 1.8181 - accuracy: 0.2792 - val_loss: 1.7219 - val_accuracy: 0.3218\n",
            "Epoch 41/50\n",
            "382/382 [==============================] - 13s 34ms/step - loss: 1.8114 - accuracy: 0.2779 - val_loss: 1.6593 - val_accuracy: 0.3569\n",
            "Epoch 42/50\n",
            "382/382 [==============================] - 12s 32ms/step - loss: 1.8050 - accuracy: 0.2848 - val_loss: 1.6672 - val_accuracy: 0.3566\n",
            "Epoch 43/50\n",
            "382/382 [==============================] - 12s 32ms/step - loss: 1.7925 - accuracy: 0.2849 - val_loss: 1.6886 - val_accuracy: 0.3394\n",
            "Epoch 44/50\n",
            "382/382 [==============================] - 12s 31ms/step - loss: 1.7890 - accuracy: 0.2866 - val_loss: 1.6713 - val_accuracy: 0.3527\n",
            "Epoch 45/50\n",
            "382/382 [==============================] - 11s 30ms/step - loss: 1.7795 - accuracy: 0.2928 - val_loss: 1.6650 - val_accuracy: 0.3587\n",
            "Epoch 46/50\n",
            "382/382 [==============================] - 12s 32ms/step - loss: 1.7740 - accuracy: 0.2927 - val_loss: 1.6659 - val_accuracy: 0.3587\n",
            "Epoch 47/50\n",
            "382/382 [==============================] - 13s 33ms/step - loss: 1.7742 - accuracy: 0.2935 - val_loss: 1.6664 - val_accuracy: 0.3543\n",
            "Epoch 48/50\n",
            "382/382 [==============================] - 12s 32ms/step - loss: 1.7696 - accuracy: 0.2961 - val_loss: 1.6614 - val_accuracy: 0.3610\n",
            "Epoch 49/50\n",
            "382/382 [==============================] - 12s 32ms/step - loss: 1.7747 - accuracy: 0.2985 - val_loss: 1.6495 - val_accuracy: 0.3652\n",
            "Epoch 50/50\n",
            "382/382 [==============================] - 12s 31ms/step - loss: 1.7645 - accuracy: 0.2980 - val_loss: 1.6643 - val_accuracy: 0.3580\n"
          ],
          "name": "stdout"
        },
        {
          "output_type": "execute_result",
          "data": {
            "text/plain": [
              "<tensorflow.python.keras.callbacks.History at 0x7fd02b7689b0>"
            ]
          },
          "metadata": {
            "tags": []
          },
          "execution_count": 29
        }
      ]
    }
  ]
}