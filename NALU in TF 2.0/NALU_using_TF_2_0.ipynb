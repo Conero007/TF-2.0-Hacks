{
 "cells": [
  {
   "cell_type": "markdown",
   "metadata": {},
   "source": [
    "<a target=\"_blank\" href=\"https://colab.research.google.com/github.com/sayakpaul/TF-2.0-Hacks/blob/master/NALU%20in%20TF%202.0/NALU_using_TF_2_0.ipynb\"><img src=\"https://www.tensorflow.org/images/colab_logo_32px.png\" />Run in Google Colab</a>"
   ]
  },
  {
   "cell_type": "code",
   "execution_count": null,
   "metadata": {
    "colab": {},
    "colab_type": "code",
    "id": "9a_7rm0pOE0r"
   },
   "outputs": [],
   "source": [
    "# Install the latest GPU version\n",
    "%%bash\n",
    "pip install tensorflow-gpu==2.0.0-beta0"
   ]
  },
  {
   "cell_type": "code",
   "execution_count": 1,
   "metadata": {
    "colab": {
     "base_uri": "https://localhost:8080/",
     "height": 34
    },
    "colab_type": "code",
    "id": "9X_nAALHNqis",
    "outputId": "086d37ed-60cd-4603-84b1-3b4bf181e5e9"
   },
   "outputs": [
    {
     "name": "stdout",
     "output_type": "stream",
     "text": [
      "2.0.0-beta0\n"
     ]
    }
   ],
   "source": [
    "# Imports\n",
    "import tensorflow as tf\n",
    "from utils import generate_data\n",
    "import numpy as np\n",
    "import matplotlib.pyplot as plt\n",
    "\n",
    "print(tf.__version__)"
   ]
  },
  {
   "cell_type": "markdown",
   "metadata": {},
   "source": [
    "I will start off by writing a custom layer for incorporating the operations of the NAC unit as specified in the paper. I will also customize the way the layer would do a forward pass. "
   ]
  },
  {
   "cell_type": "code",
   "execution_count": null,
   "metadata": {
    "colab": {},
    "colab_type": "code",
    "id": "9iN-64OTNqi4"
   },
   "outputs": [],
   "source": [
    "# Neural Accumulator\n",
    "class NAC_Layer(tf.keras.layers.Layer):\n",
    "  def __init__(self, num_outputs):\n",
    "    super(NAC_Layer, self).__init__()\n",
    "    self.num_outputs = num_outputs\n",
    "\n",
    "  def build(self, input_shape):\n",
    "    shape = [int(input_shape[-1]), self.num_outputs]\n",
    "    self.W_hat = self.add_variable(\"W_hat\",\n",
    "                                    shape=shape, initializer=tf.initializers.GlorotUniform())\n",
    "\n",
    "    self.M_hat = self.add_variable(\"M_hat\",\n",
    "                                    shape=shape, initializer=tf.initializers.GlorotUniform())\n",
    "\n",
    "  def call(self, x):\n",
    "    W = tf.nn.tanh(self.W_hat) * tf.nn.sigmoid(self.M_hat)\n",
    "    return tf.matmul(x, tf.cast(W, 'float64'))"
   ]
  },
  {
   "cell_type": "markdown",
   "metadata": {
    "colab_type": "text",
    "id": "aJeHOB7UWkLS"
   },
   "source": [
    "### Rough inspection on the data with `NAC`\n",
    "\n",
    "Now that I have defined the `NAC` unit, I will use it to see how it performs on toy data. For that, I will generate some and I am going to use addition operation to generate the targets. \n",
    "\n",
    "`generate_data(20, 30, 10000, '+')` function will \n",
    "- generate 10000 2D datapoints within the range [20, 30]\n",
    "- perform addition over them and return the results"
   ]
  },
  {
   "cell_type": "code",
   "execution_count": null,
   "metadata": {
    "colab": {},
    "colab_type": "code",
    "id": "u3tAHcJ3Nqi9"
   },
   "outputs": [],
   "source": [
    "# Define the train/test sets\n",
    "op = '+'\n",
    "X_train, y_train = generate_data(20, 30, 10000, op)\n",
    "X_test, y_test = generate_data(10, 40, 7000, op)"
   ]
  },
  {
   "cell_type": "markdown",
   "metadata": {},
   "source": [
    "I made sure that the test datapoints are outside the range of the training datapoints. "
   ]
  },
  {
   "cell_type": "code",
   "execution_count": 15,
   "metadata": {
    "colab": {
     "base_uri": "https://localhost:8080/",
     "height": 34
    },
    "colab_type": "code",
    "id": "QUOU_5tSNqjE",
    "outputId": "67e60831-2c45-4540-afab-b6f94cb98cc9"
   },
   "outputs": [
    {
     "data": {
      "text/plain": [
       "tf.float64"
      ]
     },
     "execution_count": 15,
     "metadata": {
      "tags": []
     },
     "output_type": "execute_result"
    }
   ],
   "source": [
    "# Define a NAC layer with the output shape\n",
    "nac_layer = NAC_Layer(1)\n",
    "# Supply the input shape\n",
    "pred = nac_layer(X_train)\n",
    "pred.dtype"
   ]
  },
  {
   "cell_type": "code",
   "execution_count": 16,
   "metadata": {
    "colab": {
     "base_uri": "https://localhost:8080/",
     "height": 68
    },
    "colab_type": "code",
    "id": "Shsc8G-roLxv",
    "outputId": "c543538c-6513-4162-b70d-5aac64e742ac"
   },
   "outputs": [
    {
     "data": {
      "text/plain": [
       "<tf.Tensor: id=41, shape=(10,), dtype=float64, numpy=\n",
       "array([2.63298306, 3.1526201 , 2.04053661, 2.82519872, 1.94385148,\n",
       "       2.0920834 , 1.33643436, 1.94657931, 3.07839541, 2.83097707])>"
      ]
     },
     "execution_count": 16,
     "metadata": {
      "tags": []
     },
     "output_type": "execute_result"
    }
   ],
   "source": [
    "# How does the values look like?\n",
    "tf.squeeze(pred)[:10]"
   ]
  },
  {
   "cell_type": "markdown",
   "metadata": {},
   "source": [
    "The predictions do not tell you anything. They are results of only forward pass through the NAC unit. Let's now train NAC. "
   ]
  },
  {
   "cell_type": "code",
   "execution_count": null,
   "metadata": {
    "colab": {},
    "colab_type": "code",
    "id": "3QHScIuDNqjO"
   },
   "outputs": [],
   "source": [
    "# Loss function to optimize and how to optimize\n",
    "loss_func = tf.keras.losses.MeanSquaredError()\n",
    "optimizer = tf.keras.optimizers.Adam(lr=0.01)"
   ]
  },
  {
   "cell_type": "markdown",
   "metadata": {},
   "source": [
    "I will now define how the layer parameters should get updated - **backprop** only. The `tf.function` decorator converts a Python function to a TensorFlow compatible graph.  "
   ]
  },
  {
   "cell_type": "code",
   "execution_count": null,
   "metadata": {
    "colab": {},
    "colab_type": "code",
    "id": "OdA5Yth5NqjR"
   },
   "outputs": [],
   "source": [
    "# Train the model\n",
    "@tf.function\n",
    "def model_train(features, labels, layer):\n",
    "    # Define the GradientTape context\n",
    "    with tf.GradientTape() as tape:\n",
    "        # Get the predictions\n",
    "        predictions = layer(features)\n",
    "        # Calculate the loss\n",
    "        loss = loss_func(labels, tf.squeeze(predictions))\n",
    "    # Get the gradients\n",
    "    gradients = tape.gradient(loss, layer.trainable_variables)\n",
    "    # Update the weights\n",
    "    optimizer.apply_gradients(zip(gradients, layer.trainable_variables))\n",
    "   \n",
    "    return loss"
   ]
  },
  {
   "cell_type": "code",
   "execution_count": null,
   "metadata": {
    "colab": {},
    "colab_type": "code",
    "id": "Ez1Z7swENqjT"
   },
   "outputs": [],
   "source": [
    "# Validating the model\n",
    "@tf.function\n",
    "def model_validate(features, labels, layer):\n",
    "    predictions = layer(features)\n",
    "    loss = loss_func(labels, tf.squeeze(predictions))\n",
    "    return loss, predictions"
   ]
  },
  {
   "cell_type": "markdown",
   "metadata": {},
   "source": [
    "We are all set. I will now write a helper function which would train and validate the training process. "
   ]
  },
  {
   "cell_type": "code",
   "execution_count": null,
   "metadata": {
    "colab": {},
    "colab_type": "code",
    "id": "cPSlvVI3jwlg"
   },
   "outputs": [],
   "source": [
    "def train_and_validate(X_train, y_train, \n",
    "                       X_test, y_test,layer):\n",
    "  total_train_loss = []\n",
    "  total_validation_loss = []\n",
    "  print('First ten targets in the test set:\\n')\n",
    "  print(y_test[:10])\n",
    "  \n",
    "  for i in range(1, 10000+1):\n",
    "      train_loss = model_train(X_train, y_train, layer)\n",
    "      val_loss, predictions = model_validate(X_test, y_test, layer)\n",
    "\n",
    "      if i%1000==0:\n",
    "          template = '\\nEpoch {}, train_loss: {}, validation_loss: {}'\n",
    "          print (template.format(i,\n",
    "                                 train_loss,\n",
    "                                 val_loss))\n",
    "          print('\\nTargets after epoch {}\\n'.format(i))\n",
    "          print(tf.squeeze(predictions)[:10])\n",
    "          print('\\n')\n",
    "\n",
    "      total_train_loss.append(train_loss)\n",
    "      total_validation_loss.append(val_loss)\n",
    "      \n",
    "  return total_train_loss, total_validation_loss"
   ]
  },
  {
   "cell_type": "markdown",
   "metadata": {},
   "source": [
    "And a neat plot to depict the training and validation loss after the training. "
   ]
  },
  {
   "cell_type": "code",
   "execution_count": null,
   "metadata": {
    "colab": {},
    "colab_type": "code",
    "id": "EXRCYAEDlHHg"
   },
   "outputs": [],
   "source": [
    "def plot_losses(total_train_loss, total_validation_loss, title):\n",
    "  plt.plot(np.log(total_train_loss))\n",
    "  plt.plot(np.log(total_validation_loss))\n",
    "  plt.xlabel('Epochs')\n",
    "  plt.ylabel('Loss')\n",
    "  plt.title(title)\n",
    "  plt.legend(['Train_Loss', 'Test_Loss'])\n",
    "  plt.show()"
   ]
  },
  {
   "cell_type": "markdown",
   "metadata": {},
   "source": [
    "I start by using the NAC layer on the addition operation. I train the layer for 10000 epochs. "
   ]
  },
  {
   "cell_type": "code",
   "execution_count": 22,
   "metadata": {
    "colab": {
     "base_uri": "https://localhost:8080/",
     "height": 1785
    },
    "colab_type": "code",
    "id": "olb1YNXLoowL",
    "outputId": "4ec4a1de-17fd-4514-9b52-d271c7c31284"
   },
   "outputs": [
    {
     "name": "stdout",
     "output_type": "stream",
     "text": [
      "First ten targets in the test set:\n",
      "\n",
      "[50.89833592 69.94461125 65.40791562 44.17026785 63.78794738 75.92558239\n",
      " 54.37208909 52.00315269 27.31983737 50.26042119]\n",
      "\n",
      "Epoch 1000, train_loss: 9.471661567687988, validation_loss: 9.938295364379883\n",
      "\n",
      "Targets after epoch 1000\n",
      "\n",
      "tf.Tensor(\n",
      "[47.80724283 65.65043007 61.42859611 41.47131585 59.87081273 71.26874066\n",
      " 50.97568896 48.83763191 25.65706424 47.20863896], shape=(10,), dtype=float64)\n",
      "\n",
      "\n",
      "\n",
      "Epoch 2000, train_loss: 2.660127639770508, validation_loss: 2.793597936630249\n",
      "\n",
      "Targets after epoch 2000\n",
      "\n",
      "tf.Tensor(\n",
      "[49.2485112  67.66901287 63.28649854 42.7355455  61.71248214 73.45621904\n",
      " 52.59257302 50.31618804 26.43363315 48.63137715], shape=(10,), dtype=float64)\n",
      "\n",
      "\n",
      "\n",
      "Epoch 3000, train_loss: 1.1519583463668823, validation_loss: 1.2101085186004639\n",
      "\n",
      "Targets after epoch 3000\n",
      "\n",
      "tf.Tensor(\n",
      "[49.8096403  68.44721214 64.00866652 43.22501786 62.42232587 74.30026869\n",
      " 53.20642514 50.89061829 26.73537439 49.18538642], shape=(10,), dtype=float64)\n",
      "\n",
      "\n",
      "\n",
      "Epoch 4000, train_loss: 0.5852742195129395, validation_loss: 0.6149044632911682\n",
      "\n",
      "Targets after epoch 4000\n",
      "\n",
      "tf.Tensor(\n",
      "[50.12114433 68.87732963 64.40928212 43.49607185 62.81462487 74.76696537\n",
      " 53.54335348 51.20920756 26.9027349  49.49296118], shape=(10,), dtype=float64)\n",
      "\n",
      "\n",
      "\n",
      "Epoch 5000, train_loss: 0.32105228304862976, validation_loss: 0.3373323976993561\n",
      "\n",
      "Targets after epoch 5000\n",
      "\n",
      "tf.Tensor(\n",
      "[50.32215694 69.15416652 64.66768926 43.67072793 63.06710623 75.06741549\n",
      " 53.75931507 51.414679   27.01067622 49.69144704], shape=(10,), dtype=float64)\n",
      "\n",
      "\n",
      "\n",
      "Epoch 6000, train_loss: 0.18351076543331146, validation_loss: 0.1928255558013916\n",
      "\n",
      "Targets after epoch 6000\n",
      "\n",
      "tf.Tensor(\n",
      "[50.46243201 69.34702326 64.84796627 43.79249262 63.24298916 75.27675458\n",
      " 53.90934758 51.55801322 27.08597635 49.82996293], shape=(10,), dtype=float64)\n",
      "\n",
      "\n",
      "\n",
      "Epoch 7000, train_loss: 0.10737737268209457, validation_loss: 0.11283118277788162\n",
      "\n",
      "Targets after epoch 7000\n",
      "\n",
      "tf.Tensor(\n",
      "[50.56473613 69.48750473 64.97941824 43.88123624 63.37110305 75.42925891\n",
      " 54.01842014 51.66252138 27.1408802  49.93098615], shape=(10,), dtype=float64)\n",
      "\n",
      "\n",
      "\n",
      "Epoch 8000, train_loss: 0.06370089203119278, validation_loss: 0.06693769246339798\n",
      "\n",
      "Targets after epoch 8000\n",
      "\n",
      "tf.Tensor(\n",
      "[50.64129805 69.5925439  65.07777946 43.94761655 63.46689299 75.54329685\n",
      " 54.09985675 51.74071794 27.1819616  50.00659063], shape=(10,), dtype=float64)\n",
      "\n",
      "\n",
      "\n",
      "Epoch 9000, train_loss: 0.03810438886284828, validation_loss: 0.040041130036115646\n",
      "\n",
      "Targets after epoch 9000\n",
      "\n",
      "tf.Tensor(\n",
      "[50.69948465 69.67231975 65.15252529 43.99804628 63.53964309 75.62991235\n",
      " 54.16163972 51.80013843 27.21317905 50.06405023], shape=(10,), dtype=float64)\n",
      "\n",
      "\n",
      "\n",
      "Epoch 10000, train_loss: 0.022908734157681465, validation_loss: 0.02407335676252842\n",
      "\n",
      "Targets after epoch 10000\n",
      "\n",
      "tf.Tensor(\n",
      "[50.74411976 69.73348509 65.20985834 44.0367201  63.59542105 75.69632479\n",
      " 54.20897068 51.84571517 27.23712364 50.10812804], shape=(10,), dtype=float64)\n",
      "\n",
      "\n"
     ]
    }
   ],
   "source": [
    "total_train_loss, total_validation_loss = \\\n",
    "                  train_and_validate(X_train, y_train, X_test, y_test, nac_layer)"
   ]
  },
  {
   "cell_type": "code",
   "execution_count": 23,
   "metadata": {
    "colab": {
     "base_uri": "https://localhost:8080/",
     "height": 295
    },
    "colab_type": "code",
    "id": "OkoHb5KqpPkk",
    "outputId": "978394dc-2633-4a33-9ffe-c95f666e5b01"
   },
   "outputs": [
    {
     "data": {
      "image/png": "[encoded data removed]",
      "text/plain": [
       "<Figure size 432x288 with 1 Axes>"
      ]
     },
     "metadata": {
      "tags": []
     },
     "output_type": "display_data"
    }
   ],
   "source": [
    "plot_losses(total_train_loss, total_validation_loss, 'NAC with Addition')"
   ]
  },
  {
   "cell_type": "markdown",
   "metadata": {},
   "source": [
    "Now it's time to implement NALU. NALU builds on top of NAC and I am going to use the NAC_Layer class I defined earlier. "
   ]
  },
  {
   "cell_type": "code",
   "execution_count": null,
   "metadata": {
    "colab": {},
    "colab_type": "code",
    "id": "3-GyyWfSVDpb"
   },
   "outputs": [],
   "source": [
    "# Neural Arithmetic Logic Unit\n",
    "class NALU_Layer(tf.keras.layers.Layer):\n",
    "  def __init__(self, num_outputs):\n",
    "    super(NALU_Layer, self).__init__()\n",
    "    self.num_outputs = num_outputs\n",
    "    self.nac = NAC_Layer(self.num_outputs)\n",
    "    self.eps = 1e-7\n",
    "\n",
    "  def build(self, input_shape):\n",
    "    shape = [int(input_shape[-1]), self.num_outputs]\n",
    "    self.G = self.add_variable(\"G\",\n",
    "                                    shape=shape, initializer=tf.initializers.GlorotUniform())\n",
    "\n",
    "  def call(self, x):\n",
    "    g = tf.nn.sigmoid(tf.matmul(x, self.G))\n",
    "    y1 = g * self.nac(x)\n",
    "    y2 = (1 - g) * tf.exp(self.nac(tf.math.log(tf.abs(x) + self.eps)))\n",
    "    return y1 + y2"
   ]
  },
  {
   "cell_type": "markdown",
   "metadata": {},
   "source": [
    "But to test the effectivity of NALU, I am going to generate data for multiplication and division operations. "
   ]
  },
  {
   "cell_type": "code",
   "execution_count": null,
   "metadata": {
    "colab": {},
    "colab_type": "code",
    "id": "uYao9tYui8El"
   },
   "outputs": [],
   "source": [
    "# Define the train/test sets\n",
    "op = '*'\n",
    "X_train, y_train = generate_data(20, 30, 10000, op)\n",
    "X_test, y_test = generate_data(10, 40, 7000, op)"
   ]
  },
  {
   "cell_type": "code",
   "execution_count": 32,
   "metadata": {
    "colab": {
     "base_uri": "https://localhost:8080/",
     "height": 34
    },
    "colab_type": "code",
    "id": "ZhmDcZDnjqRh",
    "outputId": "07de7bd8-f8e4-4e5f-a98e-e03b6960b2b4"
   },
   "outputs": [
    {
     "data": {
      "text/plain": [
       "TensorShape([10000, 1])"
      ]
     },
     "execution_count": 32,
     "metadata": {
      "tags": []
     },
     "output_type": "execute_result"
    }
   ],
   "source": [
    "# Define the outshape\n",
    "nalu_layer = NALU_Layer(1)\n",
    "# Supply the input shape\n",
    "pred = nalu_layer(X_train)\n",
    "pred.shape"
   ]
  },
  {
   "cell_type": "markdown",
   "metadata": {
    "colab_type": "text",
    "id": "lKhGQhq4tWK7"
   },
   "source": [
    "> Remember to rerun `model_train()` and `model_validate()` before running the following because those two functions are decorated with `tf.function` which constructs a graph of the training ops. To know more about `tf.function` and `AutoGraph` refer [here](https://www.tensorflow.org/beta/guide/autograph). "
   ]
  },
  {
   "cell_type": "code",
   "execution_count": 33,
   "metadata": {
    "colab": {
     "base_uri": "https://localhost:8080/",
     "height": 1785
    },
    "colab_type": "code",
    "id": "Wtr2KUa0qC8Y",
    "outputId": "24320e6b-e71c-4e0a-ee1f-24a8f18e5085"
   },
   "outputs": [
    {
     "name": "stdout",
     "output_type": "stream",
     "text": [
      "First ten targets in the test set:\n",
      "\n",
      "[ 759.85438978  483.93778667  567.53468376  445.83780586 1107.10372011\n",
      "  860.54357056  206.14978166  453.79483664  992.9294036  1298.39925451]\n",
      "\n",
      "Epoch 1000, train_loss: 543.0645751953125, validation_loss: 730.666748046875\n",
      "\n",
      "Targets after epoch 1000\n",
      "\n",
      "tf.Tensor(\n",
      "[ 733.60303681  466.96842583  549.69162405  429.18183148 1063.682947\n",
      "  825.8310084   200.04953614  437.98999869  951.91330291 1244.57258668], shape=(10,), dtype=float64)\n",
      "\n",
      "\n",
      "\n",
      "Epoch 2000, train_loss: 194.71409606933594, validation_loss: 262.32421875\n",
      "\n",
      "Targets after epoch 2000\n",
      "\n",
      "tf.Tensor(\n",
      "[ 744.13004383  473.77761871  556.85009592  435.86498001 1081.08180596\n",
      "  839.74354846  202.50096471  444.33257831  968.34772736 1266.13259009], shape=(10,), dtype=float64)\n",
      "\n",
      "\n",
      "\n",
      "Epoch 3000, train_loss: 94.07832336425781, validation_loss: 126.8096694946289\n",
      "\n",
      "Targets after epoch 3000\n",
      "\n",
      "tf.Tensor(\n",
      "[ 748.92280745  476.87603987  560.10760642  438.90638535 1089.00965479\n",
      "  846.08183569  203.6148112   447.21838561  975.83697782 1275.96058855], shape=(10,), dtype=float64)\n",
      "\n",
      "\n",
      "\n",
      "Epoch 4000, train_loss: 50.6413688659668, validation_loss: 68.27954864501953\n",
      "\n",
      "Targets after epoch 4000\n",
      "\n",
      "tf.Tensor(\n",
      "[ 751.83334454  478.75702702  562.08539772  440.75277539 1093.82578098\n",
      "  849.9318519   204.29051888  448.97020814  980.38672353 1281.93216367], shape=(10,), dtype=float64)\n",
      "\n",
      "\n",
      "\n",
      "Epoch 5000, train_loss: 28.698528289794922, validation_loss: 38.701053619384766\n",
      "\n",
      "Targets after epoch 5000\n",
      "\n",
      "tf.Tensor(\n",
      "[ 753.81578564  480.03791779  563.43236236  442.0100859  1097.10683551\n",
      "  852.55448295  204.75044813  450.16310156  983.48626964 1286.00082532], shape=(10,), dtype=float64)\n",
      "\n",
      "\n",
      "\n",
      "Epoch 6000, train_loss: 16.717666625976562, validation_loss: 22.547182083129883\n",
      "\n",
      "Targets after epoch 6000\n",
      "\n",
      "tf.Tensor(\n",
      "[ 755.24528811  480.96138165  564.40356364  442.91652726 1099.473048\n",
      "  854.44571227  205.08193452  451.02310252  985.72154029 1288.93524374], shape=(10,), dtype=float64)\n",
      "\n",
      "\n",
      "\n",
      "Epoch 7000, train_loss: 9.892566680908203, validation_loss: 13.343317985534668\n",
      "\n",
      "Targets after epoch 7000\n",
      "\n",
      "tf.Tensor(\n",
      "[ 756.30870565  481.6482578   565.1260138   443.59072421 1101.23344021\n",
      "  855.85264212  205.32844102  451.66276318  987.38447979 1291.1184665 ], shape=(10,), dtype=float64)\n",
      "\n",
      "\n",
      "\n",
      "Epoch 8000, train_loss: 5.908465385437012, validation_loss: 7.9699883460998535\n",
      "\n",
      "Targets after epoch 8000\n",
      "\n",
      "tf.Tensor(\n",
      "[ 757.11409913  482.16841487  565.67315438  444.10126649 1102.56677321\n",
      "  856.91820456  205.51508479  452.14715825  988.64397446 1292.7721077 ], shape=(10,), dtype=float64)\n",
      "\n",
      "\n",
      "\n",
      "Epoch 9000, train_loss: 3.5488293170928955, validation_loss: 4.787283420562744\n",
      "\n",
      "Targets after epoch 9000\n",
      "\n",
      "tf.Tensor(\n",
      "[ 757.730593    482.56653703  566.09195843  444.49202033 1103.58742199\n",
      "  857.73384314  205.65792222  452.51790465  989.60808164 1294.03797687], shape=(10,), dtype=float64)\n",
      "\n",
      "\n",
      "\n",
      "Epoch 10000, train_loss: 2.138972043991089, validation_loss: 2.885526418685913\n",
      "\n",
      "Targets after epoch 10000\n",
      "\n",
      "tf.Tensor(\n",
      "[ 758.20553661  482.87322611  566.41459861  444.79302691 1104.37374558\n",
      "  858.36220118  205.76794524  452.80350272  990.35083125 1295.01323765], shape=(10,), dtype=float64)\n",
      "\n",
      "\n"
     ]
    }
   ],
   "source": [
    "total_train_loss, total_validation_loss = \\\n",
    "                  train_and_validate(X_train, y_train, X_test, y_test, nalu_layer)"
   ]
  },
  {
   "cell_type": "code",
   "execution_count": 34,
   "metadata": {
    "colab": {
     "base_uri": "https://localhost:8080/",
     "height": 295
    },
    "colab_type": "code",
    "id": "ppbTjkitqKOb",
    "outputId": "27deb2a5-771c-490f-c9ec-cccf2567237c"
   },
   "outputs": [
    {
     "data": {
      "image/png": "[encoded data removed]",
      "text/plain": [
       "<Figure size 432x288 with 1 Axes>"
      ]
     },
     "metadata": {
      "tags": []
     },
     "output_type": "display_data"
    }
   ],
   "source": [
    "plot_losses(total_train_loss, total_validation_loss, 'NALU with Multiplication')"
   ]
  },
  {
   "cell_type": "markdown",
   "metadata": {},
   "source": [
    "Looks good. Let's now do it for division. "
   ]
  },
  {
   "cell_type": "code",
   "execution_count": null,
   "metadata": {
    "colab": {},
    "colab_type": "code",
    "id": "v2_vLw7OutOU"
   },
   "outputs": [],
   "source": [
    "# Define the train/test sets\n",
    "op = '/'\n",
    "X_train, y_train = generate_data(20, 30, 10000, op)\n",
    "X_test, y_test = generate_data(10, 40, 7000, op)"
   ]
  },
  {
   "cell_type": "markdown",
   "metadata": {},
   "source": [
    "> Remember to rerun `model_train()` and `model_validate()` before running the following because those two functions are decorated with `tf.function` which constructs a graph of the training ops. To know more about `tf.function` and `AutoGraph` refer [here](https://www.tensorflow.org/beta/guide/autograph). "
   ]
  },
  {
   "cell_type": "code",
   "execution_count": 39,
   "metadata": {
    "colab": {
     "base_uri": "https://localhost:8080/",
     "height": 1785
    },
    "colab_type": "code",
    "id": "xC1-WmTruvh3",
    "outputId": "31d08308-24e4-4632-f7f7-ac526fc0869f"
   },
   "outputs": [
    {
     "name": "stdout",
     "output_type": "stream",
     "text": [
      "First ten targets in the test set:\n",
      "\n",
      "[1.38301664 1.09116424 0.47851288 1.78905664 1.31470231 0.65025846\n",
      " 0.73410272 3.32974004 2.48348736 0.72528226]\n",
      "\n",
      "Epoch 1000, train_loss: 8.48122501373291, validation_loss: 7.79790735244751\n",
      "\n",
      "Targets after epoch 1000\n",
      "\n",
      "tf.Tensor(\n",
      "[3.99477667 2.96260608 3.55295447 3.7456087  4.12056879 3.08333583\n",
      " 4.33013072 3.90459824 3.39747532 3.42041312], shape=(10,), dtype=float64)\n",
      "\n",
      "\n",
      "\n",
      "Epoch 2000, train_loss: 2.557645082473755, validation_loss: 2.408573627471924\n",
      "\n",
      "Targets after epoch 2000\n",
      "\n",
      "tf.Tensor(\n",
      "[2.65252448 2.14352915 2.4045999  2.54531374 2.70872138 2.18725973\n",
      " 2.78003857 2.64519414 2.3888879  2.35609074], shape=(10,), dtype=float64)\n",
      "\n",
      "\n",
      "\n",
      "Epoch 3000, train_loss: 0.9149757623672485, validation_loss: 0.9972195029258728\n",
      "\n",
      "Targets after epoch 3000\n",
      "\n",
      "tf.Tensor(\n",
      "[1.99100042 1.70893412 1.83075935 1.94132292 2.01902967 1.72058945\n",
      " 2.03918379 2.01213578 1.86556077 1.81549329], shape=(10,), dtype=float64)\n",
      "\n",
      "\n",
      "\n",
      "Epoch 4000, train_loss: 0.33248546719551086, validation_loss: 0.5423138737678528\n",
      "\n",
      "Targets after epoch 4000\n",
      "\n",
      "tf.Tensor(\n",
      "[1.59369019 1.43350848 1.4822422  1.57316971 1.60742467 1.42863192\n",
      " 1.60371742 1.62682614 1.53953785 1.48341016], shape=(10,), dtype=float64)\n",
      "\n",
      "\n",
      "\n",
      "Epoch 5000, train_loss: 0.11848770081996918, validation_loss: 0.4055164158344269\n",
      "\n",
      "Targets after epoch 5000\n",
      "\n",
      "tf.Tensor(\n",
      "[1.33900547 1.24939918 1.25669362 1.33450734 1.34486292 1.2353286\n",
      " 1.32907051 1.37745146 1.32464513 1.26666348], shape=(10,), dtype=float64)\n",
      "\n",
      "\n",
      "\n",
      "Epoch 6000, train_loss: 0.04729297012090683, validation_loss: 0.38143017888069153\n",
      "\n",
      "Targets after epoch 6000\n",
      "\n",
      "tf.Tensor(\n",
      "[1.17741531 1.12876565 1.11237404 1.18182667 1.17888458 1.10950692\n",
      " 1.15684682 1.21822736 1.18548196 1.12713771], shape=(10,), dtype=float64)\n",
      "\n",
      "\n",
      "\n",
      "Epoch 7000, train_loss: 0.029053905978798866, validation_loss: 0.3895619213581085\n",
      "\n",
      "Targets after epoch 7000\n",
      "\n",
      "tf.Tensor(\n",
      "[1.08434842 1.05766728 1.02849889 1.09345728 1.08351871 1.03555927\n",
      " 1.05829226 1.12636535 1.10435107 1.04580537], shape=(10,), dtype=float64)\n",
      "\n",
      "\n",
      "\n",
      "Epoch 8000, train_loss: 0.026260145008563995, validation_loss: 0.3981919288635254\n",
      "\n",
      "Targets after epoch 8000\n",
      "\n",
      "tf.Tensor(\n",
      "[1.04246285 1.02514981 0.99001165 1.05372463 1.04062579 1.00151975\n",
      " 1.01375236 1.08548842 1.06793279 1.00862099], shape=(10,), dtype=float64)\n",
      "\n",
      "\n",
      "\n",
      "Epoch 9000, train_loss: 0.02602766454219818, validation_loss: 0.4003383219242096\n",
      "\n",
      "Targets after epoch 9000\n",
      "\n",
      "tf.Tensor(\n",
      "[1.031498   1.01638726 0.97870171 1.04365208 1.02933215 0.99174069\n",
      " 1.00132787 1.07592267 1.05916303 0.99813019], shape=(10,), dtype=float64)\n",
      "\n",
      "\n",
      "\n",
      "Epoch 10000, train_loss: 0.025898033753037453, validation_loss: 0.3991374969482422\n",
      "\n",
      "Targets after epoch 10000\n",
      "\n",
      "tf.Tensor(\n",
      "[1.03112864 1.01569559 0.97596221 1.04397659 1.02881266 0.98980601\n",
      " 0.99938667 1.07782231 1.06040932 0.99635882], shape=(10,), dtype=float64)\n",
      "\n",
      "\n"
     ]
    }
   ],
   "source": [
    "total_train_loss, total_validation_loss = \\\n",
    "                  train_and_validate(X_train, y_train, X_test, y_test, nalu_layer)"
   ]
  },
  {
   "cell_type": "code",
   "execution_count": 40,
   "metadata": {
    "colab": {
     "base_uri": "https://localhost:8080/",
     "height": 295
    },
    "colab_type": "code",
    "id": "kI91cHtpu99a",
    "outputId": "5237f641-a831-4320-d278-eb0b87cba1af"
   },
   "outputs": [
    {
     "data": {
      "image/png": "[encoded data removed]",
      "text/plain": [
       "<Figure size 432x288 with 1 Axes>"
      ]
     },
     "metadata": {
      "tags": []
     },
     "output_type": "display_data"
    }
   ],
   "source": [
    "plot_losses(total_train_loss, total_validation_loss, 'NALU with Division')"
   ]
  },
  {
   "cell_type": "markdown",
   "metadata": {},
   "source": [
    "As explored in the paper also, the network struggles to converge for operations like division, exponentiation and so on. "
   ]
  }
 ],
 "metadata": {
  "accelerator": "GPU",
  "colab": {
   "collapsed_sections": [],
   "name": "NALU using TF 2.0.ipynb",
   "provenance": [],
   "version": "0.3.2"
  },
  "kernelspec": {
   "display_name": "Python 3",
   "language": "python",
   "name": "python3"
  },
  "language_info": {
   "codemirror_mode": {
    "name": "ipython",
    "version": 3
   },
   "file_extension": ".py",
   "mimetype": "text/x-python",
   "name": "python",
   "nbconvert_exporter": "python",
   "pygments_lexer": "ipython3",
   "version": "3.7.1"
  }
 },
 "nbformat": 4,
 "nbformat_minor": 2
}
