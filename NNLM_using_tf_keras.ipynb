{
  "nbformat": 4,
  "nbformat_minor": 0,
  "metadata": {
    "colab": {
      "name": "NNLM_using_tf_keras.ipynb",
      "version": "0.3.2",
      "provenance": [],
      "collapsed_sections": []
    },
    "language_info": {
      "codemirror_mode": {
        "name": "ipython",
        "version": 3
      },
      "file_extension": ".py",
      "mimetype": "text/x-python",
      "name": "python",
      "nbconvert_exporter": "python",
      "pygments_lexer": "ipython3",
      "version": "3.7.1"
    },
    "kernelspec": {
      "name": "python3",
      "display_name": "Python 3"
    },
    "accelerator": "GPU"
  },
  "cells": [
    {
      "cell_type": "markdown",
      "metadata": {
        "id": "s89hB9f_ogWR",
        "colab_type": "text"
      },
      "source": [
        "## Using the [`nnlm`](https://tfhub.dev/google/tf2-preview/nnlm-en-dim128/1) embeddings to classify IMDB reviews\n",
        "\n",
        "The motivation behind this notebook comes from the this tutorial [Deep Transfer Learning for Natural Language Processing — Text Classification with Universal Embeddings](https://towardsdatascience.com/deep-transfer-learning-for-natural-language-processing-text-classification-with-universal-1a2c69e5baa9) written by [Diapnjan Sarkar](https://in.linkedin.com/in/dipanzan). Specifically from the following lines:\n",
        "\n",
        "> Note: This tutorial is built using TensorFlow entirely given that they provide an easy access to the sentence encoders. However I’m not a big fan of their old APIs and I’m looking for someone to assist me on re-implementing the code using the tf.keras APIs instead of tf.estimator. Do reach out to me if you are interested in contributing and we can even feature your work on the same! (contact links in my profile and in the footer)\n",
        "\n",
        "I am a newbie in NLP and I have always found Dipanjan's tutorial to be extremely informative and well-written. He not only shows you how to deal with a problem statement with the best set of tools but also discusses the corresponding literature in a very broad manner. It is been quite a while that I am exploring the newly released `tensorflow-2.0.0alpha0` (and I am kind of loving it). So, I decided to refactor Dipanjan's code to `tf.keras` as wanted by him. "
      ]
    },
    {
      "cell_type": "markdown",
      "metadata": {
        "id": "FZbXpJoyqIzQ",
        "colab_type": "text"
      },
      "source": [
        "I had to use the CPU installation of `tensorflow-2.0.0alpha0` because the GPU installation is not stable yet to be compatible with [TensorFlow hub](https://tfhub.dev/google/tf2-preview) modules.\n",
        "\n",
        "In the above-mentioned tutorial, Dipanjan presented a hands-on demo on the two very popular sentence embeddings - \n",
        "- [Universal Sentence Encoder](https://arxiv.org/abs/1803.11175)\n",
        "- Neural-Net Language Models based on the seminal paper by Bengio et al. - [A Neural Probabilistic Language Model](http://www.jmlr.org/papers/volume3/bengio03a/bengio03a.pdf)\n",
        "\n",
        "**This notebook uses the `nnlm` model.**"
      ]
    },
    {
      "cell_type": "markdown",
      "metadata": {
        "id": "-DtPB3s_sDAz",
        "colab_type": "text"
      },
      "source": [
        "### Library imports"
      ]
    },
    {
      "cell_type": "code",
      "metadata": {
        "colab_type": "code",
        "id": "MvwdaMOiTxHo",
        "colab": {}
      },
      "source": [
        "!pip install tensorflow==2.0.0-alpha0 \n",
        "!pip install tensorflow-hub\n",
        "!pip install contractions\n",
        "!pip install beautifulsoup4"
      ],
      "execution_count": 0,
      "outputs": []
    },
    {
      "cell_type": "code",
      "metadata": {
        "colab_type": "code",
        "id": "k9faaqF6YqT4",
        "colab": {}
      },
      "source": [
        "import tensorflow as tf\n",
        "import tensorflow_hub as tf_hub\n",
        "import pandas as pd\n",
        "import numpy as np"
      ],
      "execution_count": 0,
      "outputs": []
    },
    {
      "cell_type": "code",
      "metadata": {
        "colab_type": "code",
        "id": "QIwV82Kyxc0O",
        "outputId": "d7589e78-f086-4361-84de-2b86a800ade0",
        "colab": {
          "base_uri": "https://localhost:8080/",
          "height": 36
        }
      },
      "source": [
        "tf.test.is_gpu_available()"
      ],
      "execution_count": 3,
      "outputs": [
        {
          "output_type": "execute_result",
          "data": {
            "text/plain": [
              "False"
            ]
          },
          "metadata": {
            "tags": []
          },
          "execution_count": 3
        }
      ]
    },
    {
      "cell_type": "markdown",
      "metadata": {
        "id": "jMqElM-hsGQ4",
        "colab_type": "text"
      },
      "source": [
        "### Data loading and previewing"
      ]
    },
    {
      "cell_type": "code",
      "metadata": {
        "colab_type": "code",
        "id": "QYUSjjxoZCiu",
        "outputId": "66c1a88d-e328-4032-b897-750b60aafce6",
        "colab": {
          "base_uri": "https://localhost:8080/",
          "height": 204
        }
      },
      "source": [
        "url = 'https://github.com/dipanjanS/data_science_for_all/blob/master/tds_deep_transfer_learning_nlp_classification/movie_reviews.csv.bz2?raw=true'\n",
        "dataset = pd.read_csv(url, compression='bz2')\n",
        "dataset.head()"
      ],
      "execution_count": 4,
      "outputs": [
        {
          "output_type": "execute_result",
          "data": {
            "text/html": [
              "<div>\n",
              "<style scoped>\n",
              "    .dataframe tbody tr th:only-of-type {\n",
              "        vertical-align: middle;\n",
              "    }\n",
              "\n",
              "    .dataframe tbody tr th {\n",
              "        vertical-align: top;\n",
              "    }\n",
              "\n",
              "    .dataframe thead th {\n",
              "        text-align: right;\n",
              "    }\n",
              "</style>\n",
              "<table border=\"1\" class=\"dataframe\">\n",
              "  <thead>\n",
              "    <tr style=\"text-align: right;\">\n",
              "      <th></th>\n",
              "      <th>review</th>\n",
              "      <th>sentiment</th>\n",
              "    </tr>\n",
              "  </thead>\n",
              "  <tbody>\n",
              "    <tr>\n",
              "      <th>0</th>\n",
              "      <td>One of the other reviewers has mentioned that ...</td>\n",
              "      <td>positive</td>\n",
              "    </tr>\n",
              "    <tr>\n",
              "      <th>1</th>\n",
              "      <td>A wonderful little production. &lt;br /&gt;&lt;br /&gt;The...</td>\n",
              "      <td>positive</td>\n",
              "    </tr>\n",
              "    <tr>\n",
              "      <th>2</th>\n",
              "      <td>I thought this was a wonderful way to spend ti...</td>\n",
              "      <td>positive</td>\n",
              "    </tr>\n",
              "    <tr>\n",
              "      <th>3</th>\n",
              "      <td>Basically there's a family where a little boy ...</td>\n",
              "      <td>negative</td>\n",
              "    </tr>\n",
              "    <tr>\n",
              "      <th>4</th>\n",
              "      <td>Petter Mattei's \"Love in the Time of Money\" is...</td>\n",
              "      <td>positive</td>\n",
              "    </tr>\n",
              "  </tbody>\n",
              "</table>\n",
              "</div>"
            ],
            "text/plain": [
              "                                              review sentiment\n",
              "0  One of the other reviewers has mentioned that ...  positive\n",
              "1  A wonderful little production. <br /><br />The...  positive\n",
              "2  I thought this was a wonderful way to spend ti...  positive\n",
              "3  Basically there's a family where a little boy ...  negative\n",
              "4  Petter Mattei's \"Love in the Time of Money\" is...  positive"
            ]
          },
          "metadata": {
            "tags": []
          },
          "execution_count": 4
        }
      ]
    },
    {
      "cell_type": "code",
      "metadata": {
        "colab_type": "code",
        "id": "E7zulWXAZgMd",
        "outputId": "6797bbb2-829f-4bfc-fb59-e2845d92fbc4",
        "colab": {
          "base_uri": "https://localhost:8080/",
          "height": 150
        }
      },
      "source": [
        "dataset.info()"
      ],
      "execution_count": 5,
      "outputs": [
        {
          "output_type": "stream",
          "text": [
            "<class 'pandas.core.frame.DataFrame'>\n",
            "RangeIndex: 50000 entries, 0 to 49999\n",
            "Data columns (total 2 columns):\n",
            "review       50000 non-null object\n",
            "sentiment    50000 non-null object\n",
            "dtypes: object(2)\n",
            "memory usage: 781.3+ KB\n"
          ],
          "name": "stdout"
        }
      ]
    },
    {
      "cell_type": "markdown",
      "metadata": {
        "id": "hGJEBk9AsJ95",
        "colab_type": "text"
      },
      "source": [
        "### Numericalization of the sentiments to ease the computations"
      ]
    },
    {
      "cell_type": "code",
      "metadata": {
        "colab_type": "code",
        "id": "3o5vhfZ9Ziut",
        "outputId": "bb42cc59-f179-4169-cc05-8db982601f17",
        "colab": {
          "base_uri": "https://localhost:8080/",
          "height": 204
        }
      },
      "source": [
        "dataset['sentiment'] = dataset.sentiment.map({\"positive\": 1, \"negative\": 0})\n",
        "dataset.head()"
      ],
      "execution_count": 5,
      "outputs": [
        {
          "output_type": "execute_result",
          "data": {
            "text/html": [
              "<div>\n",
              "<style scoped>\n",
              "    .dataframe tbody tr th:only-of-type {\n",
              "        vertical-align: middle;\n",
              "    }\n",
              "\n",
              "    .dataframe tbody tr th {\n",
              "        vertical-align: top;\n",
              "    }\n",
              "\n",
              "    .dataframe thead th {\n",
              "        text-align: right;\n",
              "    }\n",
              "</style>\n",
              "<table border=\"1\" class=\"dataframe\">\n",
              "  <thead>\n",
              "    <tr style=\"text-align: right;\">\n",
              "      <th></th>\n",
              "      <th>review</th>\n",
              "      <th>sentiment</th>\n",
              "    </tr>\n",
              "  </thead>\n",
              "  <tbody>\n",
              "    <tr>\n",
              "      <th>0</th>\n",
              "      <td>One of the other reviewers has mentioned that ...</td>\n",
              "      <td>1</td>\n",
              "    </tr>\n",
              "    <tr>\n",
              "      <th>1</th>\n",
              "      <td>A wonderful little production. &lt;br /&gt;&lt;br /&gt;The...</td>\n",
              "      <td>1</td>\n",
              "    </tr>\n",
              "    <tr>\n",
              "      <th>2</th>\n",
              "      <td>I thought this was a wonderful way to spend ti...</td>\n",
              "      <td>1</td>\n",
              "    </tr>\n",
              "    <tr>\n",
              "      <th>3</th>\n",
              "      <td>Basically there's a family where a little boy ...</td>\n",
              "      <td>0</td>\n",
              "    </tr>\n",
              "    <tr>\n",
              "      <th>4</th>\n",
              "      <td>Petter Mattei's \"Love in the Time of Money\" is...</td>\n",
              "      <td>1</td>\n",
              "    </tr>\n",
              "  </tbody>\n",
              "</table>\n",
              "</div>"
            ],
            "text/plain": [
              "                                              review  sentiment\n",
              "0  One of the other reviewers has mentioned that ...          1\n",
              "1  A wonderful little production. <br /><br />The...          1\n",
              "2  I thought this was a wonderful way to spend ti...          1\n",
              "3  Basically there's a family where a little boy ...          0\n",
              "4  Petter Mattei's \"Love in the Time of Money\" is...          1"
            ]
          },
          "metadata": {
            "tags": []
          },
          "execution_count": 5
        }
      ]
    },
    {
      "cell_type": "markdown",
      "metadata": {
        "id": "bY3dkXfZsTUj",
        "colab_type": "text"
      },
      "source": [
        "### Data splits"
      ]
    },
    {
      "cell_type": "code",
      "metadata": {
        "colab_type": "code",
        "id": "BNHJkMfBZyNR",
        "outputId": "654a0908-a67f-4dc8-cd13-e33b6af6f0a2",
        "colab": {
          "base_uri": "https://localhost:8080/",
          "height": 36
        }
      },
      "source": [
        "reviews = dataset['review'].values\n",
        "sentiments = dataset['sentiment'].values\n",
        "\n",
        "train_reviews = reviews[:30000]\n",
        "train_sentiments = sentiments[:30000]\n",
        "\n",
        "val_reviews = reviews[30000:35000]\n",
        "val_sentiments = sentiments[30000:35000]\n",
        "\n",
        "test_reviews = reviews[35000:]\n",
        "test_sentiments = sentiments[35000:]\n",
        "\n",
        "train_reviews.shape, val_reviews.shape, test_reviews.shape"
      ],
      "execution_count": 6,
      "outputs": [
        {
          "output_type": "execute_result",
          "data": {
            "text/plain": [
              "((30000,), (5000,), (15000,))"
            ]
          },
          "metadata": {
            "tags": []
          },
          "execution_count": 6
        }
      ]
    },
    {
      "cell_type": "markdown",
      "metadata": {
        "id": "08Xx63zKsWvR",
        "colab_type": "text"
      },
      "source": [
        "### Little helper functions to preprocess the reviews\n",
        "\n",
        "These functions are all written by Dipanjan and I have copy-pasted them (yes, no shame). "
      ]
    },
    {
      "cell_type": "code",
      "metadata": {
        "colab_type": "code",
        "id": "5dwfmMjUaF_B",
        "colab": {}
      },
      "source": [
        "import contractions\n",
        "from bs4 import BeautifulSoup\n",
        "import unicodedata\n",
        "import re\n",
        "\n",
        "def strip_html_tags(text):\n",
        "    soup = BeautifulSoup(text, \"html.parser\")\n",
        "    [s.extract() for s in soup(['iframe', 'script'])]\n",
        "    stripped_text = soup.get_text()\n",
        "    stripped_text = re.sub(r'[\\r|\\n|\\r\\n]+', '\\n', stripped_text)\n",
        "    return stripped_text\n",
        "\n",
        "def remove_accented_chars(text):\n",
        "    text = unicodedata.normalize('NFKD', text).encode('ascii', 'ignore').decode('utf-8', 'ignore')\n",
        "    return text\n",
        "\n",
        "def expand_contractions(text):\n",
        "    return contractions.fix(text)\n",
        "\n",
        "def remove_special_characters(text, remove_digits=False):\n",
        "    pattern = r'[^a-zA-Z0-9\\s]' if not remove_digits else r'[^a-zA-Z\\s]'\n",
        "    text = re.sub(pattern, '', text)\n",
        "    return text\n",
        "\n",
        "def pre_process_document(document):\n",
        "    # strip HTML\n",
        "    document = strip_html_tags(document)\n",
        "    # lower case\n",
        "    document = document.lower()\n",
        "    # remove extra newlines (often might be present in really noisy text)\n",
        "    document = document.translate(document.maketrans(\"\\n\\t\\r\", \"   \"))\n",
        "    # remove accented characters\n",
        "    document = remove_accented_chars(document)\n",
        "    # expand contractions    \n",
        "    document = expand_contractions(document)  \n",
        "    # remove special characters and\\or digits    \n",
        "    # insert spaces between special characters to isolate them    \n",
        "    special_char_pattern = re.compile(r'([{.(-)!}])')\n",
        "    document = special_char_pattern.sub(\" \\\\1 \", document)\n",
        "    document = remove_special_characters(document, remove_digits=True)  \n",
        "    # remove extra whitespace\n",
        "    document = re.sub(' +', ' ', document)\n",
        "    document = document.strip()\n",
        "    \n",
        "    return document\n",
        "\n",
        "\n",
        "pre_process_corpus = np.vectorize(pre_process_document)"
      ],
      "execution_count": 0,
      "outputs": []
    },
    {
      "cell_type": "code",
      "metadata": {
        "colab_type": "code",
        "id": "O3y9H3IXaT8j",
        "colab": {}
      },
      "source": [
        "train_reviews = pre_process_corpus(train_reviews)\n",
        "val_reviews = pre_process_corpus(val_reviews)\n",
        "test_reviews = pre_process_corpus(test_reviews)"
      ],
      "execution_count": 0,
      "outputs": []
    },
    {
      "cell_type": "markdown",
      "metadata": {
        "id": "E0Lz46misp0j",
        "colab_type": "text"
      },
      "source": [
        "### Preparing `numpy` arrays of the reviews and the labels"
      ]
    },
    {
      "cell_type": "code",
      "metadata": {
        "colab_type": "code",
        "id": "kt9nq6vXaXAb",
        "colab": {}
      },
      "source": [
        "X_train = np.asarray(train_reviews)\n",
        "X_valid = np.asarray(val_reviews)\n",
        "\n",
        "y_train = np.array(train_sentiments)\n",
        "y_valid = np.array(val_sentiments)"
      ],
      "execution_count": 0,
      "outputs": []
    },
    {
      "cell_type": "markdown",
      "metadata": {
        "id": "1WplmUuTsxWy",
        "colab_type": "text"
      },
      "source": [
        "### Get the embedding model from TensorFlow hub and see a few embeddings \n",
        "\n",
        "**Caution**: 128D ahead."
      ]
    },
    {
      "cell_type": "code",
      "metadata": {
        "id": "J8vnCxcv7-Sc",
        "colab_type": "code",
        "colab": {}
      },
      "source": [
        "model = \"https://tfhub.dev/google/tf2-preview/nnlm-en-dim128/1\"\n",
        "hub_layer = tf_hub.KerasLayer(model, output_shape=[128], input_shape=[], \n",
        "                           dtype=tf.string, trainable=True)\n",
        "hub_layer(train_reviews[:3])"
      ],
      "execution_count": 0,
      "outputs": []
    },
    {
      "cell_type": "markdown",
      "metadata": {
        "id": "3JSPB7Fks_wf",
        "colab_type": "text"
      },
      "source": [
        "### Constructing a sequential `keras` model\n",
        "\n",
        "The architecture I used is a bit different from the one Dipanjan used. "
      ]
    },
    {
      "cell_type": "code",
      "metadata": {
        "id": "h_2Eqrq_8Srq",
        "colab_type": "code",
        "outputId": "c10136ba-e51d-4a91-db03-41d5f2144dc4",
        "colab": {
          "base_uri": "https://localhost:8080/",
          "height": 283
        }
      },
      "source": [
        "model = tf.keras.Sequential()\n",
        "model.add(hub_layer)\n",
        "model.add(tf.keras.layers.Dense(16, activation='relu'))\n",
        "model.add(tf.keras.layers.Dense(1, activation='sigmoid'))\n",
        "\n",
        "model.summary()"
      ],
      "execution_count": 11,
      "outputs": [
        {
          "output_type": "stream",
          "text": [
            "Model: \"sequential\"\n",
            "_________________________________________________________________\n",
            "Layer (type)                 Output Shape              Param #   \n",
            "=================================================================\n",
            "keras_layer (KerasLayer)     (None, 128)               124642688 \n",
            "_________________________________________________________________\n",
            "dense (Dense)                (None, 16)                2064      \n",
            "_________________________________________________________________\n",
            "dense_1 (Dense)              (None, 1)                 17        \n",
            "=================================================================\n",
            "Total params: 124,644,769\n",
            "Trainable params: 124,644,769\n",
            "Non-trainable params: 0\n",
            "_________________________________________________________________\n"
          ],
          "name": "stdout"
        }
      ]
    },
    {
      "cell_type": "markdown",
      "metadata": {
        "id": "p0L4TY28ti0U",
        "colab_type": "text"
      },
      "source": [
        "The model does not contain any **Dropout** layers. "
      ]
    },
    {
      "cell_type": "code",
      "metadata": {
        "id": "NCeDKdy89dN1",
        "colab_type": "code",
        "colab": {}
      },
      "source": [
        "model.compile(optimizer='adam',\n",
        "              loss='binary_crossentropy',\n",
        "              metrics=['accuracy'])"
      ],
      "execution_count": 0,
      "outputs": []
    },
    {
      "cell_type": "code",
      "metadata": {
        "colab_type": "code",
        "id": "vYC2ifCFmnt9",
        "outputId": "29d89ea0-2bb6-4bc1-946f-6ba6e4c5aedb",
        "colab": {
          "base_uri": "https://localhost:8080/",
          "height": 492
        }
      },
      "source": [
        "history = model.fit(X_train, y_train, validation_data=(X_valid, y_valid),\n",
        "                        epochs=12, batch_size=256)"
      ],
      "execution_count": 13,
      "outputs": [
        {
          "output_type": "stream",
          "text": [
            "Train on 30000 samples, validate on 5000 samples\n",
            "Epoch 1/12\n",
            "30000/30000 [==============================] - 177s 6ms/sample - loss: 0.4459 - accuracy: 0.8132 - val_loss: 0.2909 - val_accuracy: 0.8766\n",
            "Epoch 2/12\n",
            "30000/30000 [==============================] - 174s 6ms/sample - loss: 0.2084 - accuracy: 0.9224 - val_loss: 0.2641 - val_accuracy: 0.8908\n",
            "Epoch 3/12\n",
            "30000/30000 [==============================] - 173s 6ms/sample - loss: 0.1298 - accuracy: 0.9566 - val_loss: 0.2630 - val_accuracy: 0.8964\n",
            "Epoch 4/12\n",
            "30000/30000 [==============================] - 172s 6ms/sample - loss: 0.0808 - accuracy: 0.9766 - val_loss: 0.2967 - val_accuracy: 0.8910\n",
            "Epoch 5/12\n",
            "30000/30000 [==============================] - 174s 6ms/sample - loss: 0.0485 - accuracy: 0.9884 - val_loss: 0.3345 - val_accuracy: 0.8898\n",
            "Epoch 6/12\n",
            "30000/30000 [==============================] - 172s 6ms/sample - loss: 0.0283 - accuracy: 0.9950 - val_loss: 0.3734 - val_accuracy: 0.8878\n",
            "Epoch 7/12\n",
            "30000/30000 [==============================] - 172s 6ms/sample - loss: 0.0164 - accuracy: 0.9979 - val_loss: 0.4127 - val_accuracy: 0.8842\n",
            "Epoch 8/12\n",
            "30000/30000 [==============================] - 173s 6ms/sample - loss: 0.0100 - accuracy: 0.9994 - val_loss: 0.4502 - val_accuracy: 0.8800\n",
            "Epoch 9/12\n",
            "30000/30000 [==============================] - 172s 6ms/sample - loss: 0.0061 - accuracy: 0.9996 - val_loss: 0.4893 - val_accuracy: 0.8778\n",
            "Epoch 10/12\n",
            "30000/30000 [==============================] - 173s 6ms/sample - loss: 0.0036 - accuracy: 0.9998 - val_loss: 0.5297 - val_accuracy: 0.8768\n",
            "Epoch 11/12\n",
            "30000/30000 [==============================] - 173s 6ms/sample - loss: 0.0022 - accuracy: 0.9999 - val_loss: 0.5634 - val_accuracy: 0.8762\n",
            "Epoch 12/12\n",
            "30000/30000 [==============================] - 174s 6ms/sample - loss: 0.0013 - accuracy: 1.0000 - val_loss: 0.5946 - val_accuracy: 0.8762\n"
          ],
          "name": "stdout"
        }
      ]
    },
    {
      "cell_type": "markdown",
      "metadata": {
        "id": "K2PS0G1htpY-",
        "colab_type": "text"
      },
      "source": [
        "Absence of the **Dropout** layers is quite evident. The mode clearly overfits. "
      ]
    },
    {
      "cell_type": "markdown",
      "metadata": {
        "id": "CVJwVhu6twUg",
        "colab_type": "text"
      },
      "source": [
        "### Performance visualization of the baseline model (fine-tuned, though)"
      ]
    },
    {
      "cell_type": "code",
      "metadata": {
        "id": "v2t8nY9NRT4K",
        "colab_type": "code",
        "colab": {
          "base_uri": "https://localhost:8080/",
          "height": 36
        },
        "outputId": "46ba9b86-90bd-4f47-e4fc-ffc8b6a80954"
      },
      "source": [
        "history_dict = history.history\n",
        "history_dict.keys()"
      ],
      "execution_count": 14,
      "outputs": [
        {
          "output_type": "execute_result",
          "data": {
            "text/plain": [
              "dict_keys(['loss', 'accuracy', 'val_loss', 'val_accuracy'])"
            ]
          },
          "metadata": {
            "tags": []
          },
          "execution_count": 14
        }
      ]
    },
    {
      "cell_type": "code",
      "metadata": {
        "id": "7NKGRf6wZZ3r",
        "colab_type": "code",
        "colab": {
          "base_uri": "https://localhost:8080/",
          "height": 517
        },
        "outputId": "1e8e2e80-3884-48e7-ec5d-964dd7c391ae"
      },
      "source": [
        "import matplotlib.pyplot as plt\n",
        "plt.style.use('ggplot')\n",
        "\n",
        "acc = history_dict['accuracy']\n",
        "val_acc = history_dict['val_accuracy']\n",
        "loss = history_dict['loss']\n",
        "val_loss = history_dict['val_loss']\n",
        "\n",
        "epochs = range(1, len(acc) + 1)\n",
        "\n",
        "plt.figure(figsize=(10,8))\n",
        "plt.plot(epochs, loss, label='Training loss')\n",
        "plt.plot(epochs, val_loss, label='Validation loss')\n",
        "plt.plot(epochs, acc, label='Training accuracy')\n",
        "plt.plot(epochs, val_acc, label='Validation accuracy')\n",
        "\n",
        "plt.title('Training and validation accuracy and loss')\n",
        "plt.xlabel('Epochs')\n",
        "plt.ylabel('Accuracy/Loss')\n",
        "plt.legend()\n",
        "\n",
        "plt.show()"
      ],
      "execution_count": 17,
      "outputs": [
        {
          "output_type": "display_data",
          "data": {
            "image/png": "[encoded data removed]",
            "text/plain": [
              "<Figure size 720x576 with 1 Axes>"
            ]
          },
          "metadata": {
            "tags": []
          }
        }
      ]
    },
    {
      "cell_type": "markdown",
      "metadata": {
        "id": "TAjfL9I4t5pa",
        "colab_type": "text"
      },
      "source": [
        "### Accuracy on the test set"
      ]
    },
    {
      "cell_type": "code",
      "metadata": {
        "id": "X16RpgBlZ8at",
        "colab_type": "code",
        "colab": {
          "base_uri": "https://localhost:8080/",
          "height": 55
        },
        "outputId": "c4d5b05b-21bb-4884-a6e0-9b3ef7282028"
      },
      "source": [
        "model.evaluate(np.array(test_reviews), np.array(test_sentiments))"
      ],
      "execution_count": 18,
      "outputs": [
        {
          "output_type": "stream",
          "text": [
            "15000/15000 [==============================] - 82s 5ms/sample - loss: 0.5725 - accuracy: 0.8793\n"
          ],
          "name": "stdout"
        },
        {
          "output_type": "execute_result",
          "data": {
            "text/plain": [
              "[0.572544362214456, 0.8793333]"
            ]
          },
          "metadata": {
            "tags": []
          },
          "execution_count": 18
        }
      ]
    },
    {
      "cell_type": "markdown",
      "metadata": {
        "id": "Jk9KsXfTt8RP",
        "colab_type": "text"
      },
      "source": [
        "### Classification report"
      ]
    },
    {
      "cell_type": "code",
      "metadata": {
        "id": "-HVPtbzjanb3",
        "colab_type": "code",
        "colab": {
          "base_uri": "https://localhost:8080/",
          "height": 188
        },
        "outputId": "3d041fc0-fe0a-4d8a-9606-f894194c8a60"
      },
      "source": [
        "from sklearn.metrics import classification_report\n",
        "\n",
        "y_pred = model.predict_classes(np.array(test_reviews))\n",
        "\n",
        "print(classification_report(np.array(test_sentiments), y_pred))"
      ],
      "execution_count": 21,
      "outputs": [
        {
          "output_type": "stream",
          "text": [
            "              precision    recall  f1-score   support\n",
            "\n",
            "           0       0.88      0.87      0.88      7490\n",
            "           1       0.87      0.89      0.88      7510\n",
            "\n",
            "   micro avg       0.88      0.88      0.88     15000\n",
            "   macro avg       0.88      0.88      0.88     15000\n",
            "weighted avg       0.88      0.88      0.88     15000\n",
            "\n"
          ],
          "name": "stdout"
        }
      ]
    },
    {
      "cell_type": "markdown",
      "metadata": {
        "id": "DVC2Kd8auAUW",
        "colab_type": "text"
      },
      "source": [
        "### Initial model + Dropout layers + EarlyStopping"
      ]
    },
    {
      "cell_type": "code",
      "metadata": {
        "id": "yXh9sxZ4bI3Y",
        "colab_type": "code",
        "colab": {
          "base_uri": "https://localhost:8080/",
          "height": 359
        },
        "outputId": "d5023276-fad4-4d36-b17c-5564bb749909"
      },
      "source": [
        "model = tf.keras.Sequential()\n",
        "model.add(hub_layer)\n",
        "model.add(tf.keras.layers.Dropout(0.3))\n",
        "model.add(tf.keras.layers.Dense(16, activation='relu'))\n",
        "model.add(tf.keras.layers.Dropout(0.3))\n",
        "model.add(tf.keras.layers.Dense(1, activation='sigmoid'))\n",
        "\n",
        "model.summary()"
      ],
      "execution_count": 24,
      "outputs": [
        {
          "output_type": "stream",
          "text": [
            "Model: \"sequential_2\"\n",
            "_________________________________________________________________\n",
            "Layer (type)                 Output Shape              Param #   \n",
            "=================================================================\n",
            "keras_layer (KerasLayer)     (None, 128)               124642688 \n",
            "_________________________________________________________________\n",
            "dropout_2 (Dropout)          (None, 128)               0         \n",
            "_________________________________________________________________\n",
            "dense_4 (Dense)              (None, 16)                2064      \n",
            "_________________________________________________________________\n",
            "dropout_3 (Dropout)          (None, 16)                0         \n",
            "_________________________________________________________________\n",
            "dense_5 (Dense)              (None, 1)                 17        \n",
            "=================================================================\n",
            "Total params: 124,644,769\n",
            "Trainable params: 124,644,769\n",
            "Non-trainable params: 0\n",
            "_________________________________________________________________\n"
          ],
          "name": "stdout"
        }
      ]
    },
    {
      "cell_type": "code",
      "metadata": {
        "id": "FZlKsdf9bsZc",
        "colab_type": "code",
        "colab": {}
      },
      "source": [
        "model.compile(optimizer='adam',\n",
        "              loss='binary_crossentropy',\n",
        "              metrics=['accuracy'])\n",
        "\n",
        "es_cb = tf.keras.callbacks.EarlyStopping(monitor='val_loss', patience=5)"
      ],
      "execution_count": 0,
      "outputs": []
    },
    {
      "cell_type": "code",
      "metadata": {
        "id": "s-N0JOFRi9K5",
        "colab_type": "code",
        "colab": {
          "base_uri": "https://localhost:8080/",
          "height": 264
        },
        "outputId": "182b7dd6-c5e5-481e-f97c-37ca795d098d"
      },
      "source": [
        "history = model.fit(X_train, y_train, validation_data=(X_valid, y_valid),\n",
        "                        epochs=12, batch_size=256, callbacks=[es_cb])"
      ],
      "execution_count": 27,
      "outputs": [
        {
          "output_type": "stream",
          "text": [
            "Train on 30000 samples, validate on 5000 samples\n",
            "Epoch 1/12\n",
            "30000/30000 [==============================] - 171s 6ms/sample - loss: 0.1887 - accuracy: 0.9472 - val_loss: 0.3106 - val_accuracy: 0.8850\n",
            "Epoch 2/12\n",
            "30000/30000 [==============================] - 171s 6ms/sample - loss: 0.0354 - accuracy: 0.9955 - val_loss: 0.3925 - val_accuracy: 0.8820\n",
            "Epoch 3/12\n",
            "30000/30000 [==============================] - 171s 6ms/sample - loss: 0.0177 - accuracy: 0.9981 - val_loss: 0.4588 - val_accuracy: 0.8802\n",
            "Epoch 4/12\n",
            "30000/30000 [==============================] - 171s 6ms/sample - loss: 0.0101 - accuracy: 0.9993 - val_loss: 0.5355 - val_accuracy: 0.8786\n",
            "Epoch 5/12\n",
            "30000/30000 [==============================] - 171s 6ms/sample - loss: 0.0071 - accuracy: 0.9992 - val_loss: 0.5745 - val_accuracy: 0.8774\n",
            "Epoch 6/12\n",
            "30000/30000 [==============================] - 171s 6ms/sample - loss: 0.0052 - accuracy: 0.9997 - val_loss: 0.6162 - val_accuracy: 0.8782\n"
          ],
          "name": "stdout"
        }
      ]
    },
    {
      "cell_type": "markdown",
      "metadata": {
        "id": "zHhLXZMtuNjH",
        "colab_type": "text"
      },
      "source": [
        "The model still overfits. More sophisticated parameter initialization would be helpful. "
      ]
    },
    {
      "cell_type": "markdown",
      "metadata": {
        "id": "aTLiTpJgubVV",
        "colab_type": "text"
      },
      "source": [
        "### Performance visualization of Model-2"
      ]
    },
    {
      "cell_type": "code",
      "metadata": {
        "id": "smmQPlXvbzvp",
        "colab_type": "code",
        "colab": {
          "base_uri": "https://localhost:8080/",
          "height": 517
        },
        "outputId": "9bd95239-45ec-4ad0-d312-f9ab14d9b569"
      },
      "source": [
        "acc = history_dict['accuracy']\n",
        "val_acc = history_dict['val_accuracy']\n",
        "loss = history_dict['loss']\n",
        "val_loss = history_dict['val_loss']\n",
        "\n",
        "epochs = range(1, len(acc) + 1)\n",
        "\n",
        "plt.figure(figsize=(10,8))\n",
        "plt.plot(epochs, loss, label='Training loss')\n",
        "plt.plot(epochs, val_loss, label='Validation loss')\n",
        "plt.plot(epochs, acc, label='Training accuracy')\n",
        "plt.plot(epochs, val_acc, label='Validation accuracy')\n",
        "\n",
        "plt.title('Training and validation accuracy and loss')\n",
        "plt.xlabel('Epochs')\n",
        "plt.ylabel('Accuracy/Loss')\n",
        "plt.legend()\n",
        "\n",
        "plt.show()"
      ],
      "execution_count": 28,
      "outputs": [
        {
          "output_type": "display_data",
          "data": {
            "image/png": "[encoded data removed]",
            "text/plain": [
              "<Figure size 720x576 with 1 Axes>"
            ]
          },
          "metadata": {
            "tags": []
          }
        }
      ]
    },
    {
      "cell_type": "markdown",
      "metadata": {
        "id": "GGrC9uZ4ukGn",
        "colab_type": "text"
      },
      "source": [
        "### Accuracy has increased a bit, although"
      ]
    },
    {
      "cell_type": "code",
      "metadata": {
        "id": "9d3XQPERn06Q",
        "colab_type": "code",
        "colab": {
          "base_uri": "https://localhost:8080/",
          "height": 55
        },
        "outputId": "2054f774-ed56-4a40-a8b6-4385abdf6500"
      },
      "source": [
        "model.evaluate(np.array(test_reviews), np.array(test_sentiments))"
      ],
      "execution_count": 29,
      "outputs": [
        {
          "output_type": "stream",
          "text": [
            "15000/15000 [==============================] - 81s 5ms/sample - loss: 0.5889 - accuracy: 0.8803\n"
          ],
          "name": "stdout"
        },
        {
          "output_type": "execute_result",
          "data": {
            "text/plain": [
              "[0.5888620198649664, 0.8803333]"
            ]
          },
          "metadata": {
            "tags": []
          },
          "execution_count": 29
        }
      ]
    },
    {
      "cell_type": "markdown",
      "metadata": {
        "id": "bbewV2h4unxA",
        "colab_type": "text"
      },
      "source": [
        "### Classification report of Model-2"
      ]
    },
    {
      "cell_type": "code",
      "metadata": {
        "id": "u0f91y81n_SE",
        "colab_type": "code",
        "colab": {
          "base_uri": "https://localhost:8080/",
          "height": 188
        },
        "outputId": "22b719ee-715a-4562-9dc5-260d6a0053e6"
      },
      "source": [
        "from sklearn.metrics import classification_report\n",
        "\n",
        "y_pred = model.predict_classes(np.array(test_reviews))\n",
        "\n",
        "print(classification_report(np.array(test_sentiments), y_pred))"
      ],
      "execution_count": 30,
      "outputs": [
        {
          "output_type": "stream",
          "text": [
            "              precision    recall  f1-score   support\n",
            "\n",
            "           0       0.88      0.88      0.88      7490\n",
            "           1       0.88      0.88      0.88      7510\n",
            "\n",
            "   micro avg       0.88      0.88      0.88     15000\n",
            "   macro avg       0.88      0.88      0.88     15000\n",
            "weighted avg       0.88      0.88      0.88     15000\n",
            "\n"
          ],
          "name": "stdout"
        }
      ]
    },
    {
      "cell_type": "markdown",
      "metadata": {
        "id": "8egqJsyUurki",
        "colab_type": "text"
      },
      "source": [
        "Here are the details of the model' evaluation which is taken from the original tutorial: \n",
        "\n",
        "![](https://cdn-images-1.medium.com/max/1200/1*MMpvIAOh0Ac3-0GKAhV_gw.png)"
      ]
    },
    {
      "cell_type": "markdown",
      "metadata": {
        "id": "SCsIo--evmvV",
        "colab_type": "text"
      },
      "source": [
        "The results are more or less very similar (yes, I did not print the AUC score). "
      ]
    }
  ]
}