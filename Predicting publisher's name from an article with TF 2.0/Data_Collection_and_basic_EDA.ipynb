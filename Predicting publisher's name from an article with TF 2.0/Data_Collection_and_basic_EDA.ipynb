{
  "nbformat": 4,
  "nbformat_minor": 0,
  "metadata": {
    "colab": {
      "name": "Data Collection and basic EDA.ipynb",
      "version": "0.3.2",
      "provenance": [],
      "collapsed_sections": []
    },
    "kernelspec": {
      "name": "python3",
      "display_name": "Python 3"
    },
    "accelerator": "GPU"
  },
  "cells": [
    {
      "cell_type": "code",
      "metadata": {
        "id": "RDz00oOwZvIc",
        "colab_type": "code",
        "colab": {}
      },
      "source": [
        "!pip install --upgrade google-cloud-bigquery"
      ],
      "execution_count": 0,
      "outputs": []
    },
    {
      "cell_type": "code",
      "metadata": {
        "id": "z48SHWnUaxD2",
        "colab_type": "code",
        "colab": {}
      },
      "source": [
        "!pip install tensorflow-gpu==2.0.0-alpha0"
      ],
      "execution_count": 0,
      "outputs": []
    },
    {
      "cell_type": "code",
      "metadata": {
        "id": "aXqlI97G24Xx",
        "colab_type": "code",
        "colab": {
          "base_uri": "https://localhost:8080/",
          "height": 34
        },
        "outputId": "78888093-fa79-4aa4-96c1-5f36924cd932"
      },
      "source": [
        "from google.colab import auth\n",
        "auth.authenticate_user()\n",
        "print('Authenticated')"
      ],
      "execution_count": 2,
      "outputs": [
        {
          "output_type": "stream",
          "text": [
            "Authenticated\n"
          ],
          "name": "stdout"
        }
      ]
    },
    {
      "cell_type": "code",
      "metadata": {
        "id": "TiFL6K5U3ZCq",
        "colab_type": "code",
        "colab": {}
      },
      "source": [
        "import os\n",
        "\n",
        "PROJECT = 'fast-ai-exploration'\n",
        "os.environ['PROJECT'] = PROJECT"
      ],
      "execution_count": 0,
      "outputs": []
    },
    {
      "cell_type": "code",
      "metadata": {
        "id": "lsrAecORbhQ3",
        "colab_type": "code",
        "colab": {}
      },
      "source": [
        "%%bigquery --project $PROJECT data_preview\n",
        "SELECT\n",
        "  url, title, score\n",
        "FROM\n",
        "  `bigquery-public-data.hacker_news.stories`\n",
        "WHERE\n",
        "  LENGTH(title) > 10\n",
        "  AND score > 10\n",
        "  AND LENGTH(url) > 0\n",
        "LIMIT 10"
      ],
      "execution_count": 0,
      "outputs": []
    },
    {
      "cell_type": "code",
      "metadata": {
        "id": "_IOISh6Ibym2",
        "colab_type": "code",
        "colab": {
          "base_uri": "https://localhost:8080/",
          "height": 204
        },
        "outputId": "e822251d-17bc-4f3b-a962-a9d68e4ccb11"
      },
      "source": [
        "data_preview.head()"
      ],
      "execution_count": 5,
      "outputs": [
        {
          "output_type": "execute_result",
          "data": {
            "text/html": [
              "<div>\n",
              "<style scoped>\n",
              "    .dataframe tbody tr th:only-of-type {\n",
              "        vertical-align: middle;\n",
              "    }\n",
              "\n",
              "    .dataframe tbody tr th {\n",
              "        vertical-align: top;\n",
              "    }\n",
              "\n",
              "    .dataframe thead th {\n",
              "        text-align: right;\n",
              "    }\n",
              "</style>\n",
              "<table border=\"1\" class=\"dataframe\">\n",
              "  <thead>\n",
              "    <tr style=\"text-align: right;\">\n",
              "      <th></th>\n",
              "      <th>url</th>\n",
              "      <th>title</th>\n",
              "      <th>score</th>\n",
              "    </tr>\n",
              "  </thead>\n",
              "  <tbody>\n",
              "    <tr>\n",
              "      <th>0</th>\n",
              "      <td>https://www.kickstarter.com/projects/carlosxcl...</td>\n",
              "      <td>Show HN: Code Cards, Like Texas hold 'em for p...</td>\n",
              "      <td>11</td>\n",
              "    </tr>\n",
              "    <tr>\n",
              "      <th>1</th>\n",
              "      <td>http://vancouver.en.craigslist.ca/van/roo/2035...</td>\n",
              "      <td>Best Roommate Ad Ever</td>\n",
              "      <td>11</td>\n",
              "    </tr>\n",
              "    <tr>\n",
              "      <th>2</th>\n",
              "      <td>https://github.com/Groundworkstech/Submicron</td>\n",
              "      <td>Deep-Submicron Backdoors</td>\n",
              "      <td>11</td>\n",
              "    </tr>\n",
              "    <tr>\n",
              "      <th>3</th>\n",
              "      <td>http://empowerunited.com/</td>\n",
              "      <td>Could this be the solution for the 99%?</td>\n",
              "      <td>11</td>\n",
              "    </tr>\n",
              "    <tr>\n",
              "      <th>4</th>\n",
              "      <td>http://themanufacturingrevolution.com/braun-vs...</td>\n",
              "      <td>Braun vs. Apple: Is copying designs theft or i...</td>\n",
              "      <td>11</td>\n",
              "    </tr>\n",
              "  </tbody>\n",
              "</table>\n",
              "</div>"
            ],
            "text/plain": [
              "                                                 url  ... score\n",
              "0  https://www.kickstarter.com/projects/carlosxcl...  ...    11\n",
              "1  http://vancouver.en.craigslist.ca/van/roo/2035...  ...    11\n",
              "2       https://github.com/Groundworkstech/Submicron  ...    11\n",
              "3                          http://empowerunited.com/  ...    11\n",
              "4  http://themanufacturingrevolution.com/braun-vs...  ...    11\n",
              "\n",
              "[5 rows x 3 columns]"
            ]
          },
          "metadata": {
            "tags": []
          },
          "execution_count": 5
        }
      ]
    },
    {
      "cell_type": "code",
      "metadata": {
        "id": "bd-bzWav3J1H",
        "colab_type": "code",
        "colab": {}
      },
      "source": [
        "%%bigquery --project $PROJECT source_num_articles\n",
        "SELECT\n",
        "  ARRAY_REVERSE(SPLIT(REGEXP_EXTRACT(url, '.*://(.[^/]+)/'), '.'))[OFFSET(1)] AS source,\n",
        "  COUNT(title) AS num_articles\n",
        "FROM\n",
        "  `bigquery-public-data.hacker_news.stories`\n",
        "WHERE\n",
        "  REGEXP_CONTAINS(REGEXP_EXTRACT(url, '.*://(.[^/]+)/'), '.com$')\n",
        "  AND LENGTH(title) > 10\n",
        "GROUP BY\n",
        "  source\n",
        "ORDER BY num_articles DESC"
      ],
      "execution_count": 0,
      "outputs": []
    },
    {
      "cell_type": "code",
      "metadata": {
        "id": "WXxlCxZa3rE1",
        "colab_type": "code",
        "colab": {
          "base_uri": "https://localhost:8080/",
          "height": 204
        },
        "outputId": "da844436-5e3c-48df-d4dd-02f2bfe20be0"
      },
      "source": [
        "source_num_articles.head()"
      ],
      "execution_count": 11,
      "outputs": [
        {
          "output_type": "execute_result",
          "data": {
            "text/html": [
              "<div>\n",
              "<style scoped>\n",
              "    .dataframe tbody tr th:only-of-type {\n",
              "        vertical-align: middle;\n",
              "    }\n",
              "\n",
              "    .dataframe tbody tr th {\n",
              "        vertical-align: top;\n",
              "    }\n",
              "\n",
              "    .dataframe thead th {\n",
              "        text-align: right;\n",
              "    }\n",
              "</style>\n",
              "<table border=\"1\" class=\"dataframe\">\n",
              "  <thead>\n",
              "    <tr style=\"text-align: right;\">\n",
              "      <th></th>\n",
              "      <th>source</th>\n",
              "      <th>num_articles</th>\n",
              "    </tr>\n",
              "  </thead>\n",
              "  <tbody>\n",
              "    <tr>\n",
              "      <th>0</th>\n",
              "      <td>blogspot</td>\n",
              "      <td>41386</td>\n",
              "    </tr>\n",
              "    <tr>\n",
              "      <th>1</th>\n",
              "      <td>github</td>\n",
              "      <td>36525</td>\n",
              "    </tr>\n",
              "    <tr>\n",
              "      <th>2</th>\n",
              "      <td>techcrunch</td>\n",
              "      <td>30891</td>\n",
              "    </tr>\n",
              "    <tr>\n",
              "      <th>3</th>\n",
              "      <td>youtube</td>\n",
              "      <td>30848</td>\n",
              "    </tr>\n",
              "    <tr>\n",
              "      <th>4</th>\n",
              "      <td>nytimes</td>\n",
              "      <td>28787</td>\n",
              "    </tr>\n",
              "  </tbody>\n",
              "</table>\n",
              "</div>"
            ],
            "text/plain": [
              "       source  num_articles\n",
              "0    blogspot         41386\n",
              "1      github         36525\n",
              "2  techcrunch         30891\n",
              "3     youtube         30848\n",
              "4     nytimes         28787"
            ]
          },
          "metadata": {
            "tags": []
          },
          "execution_count": 11
        }
      ]
    },
    {
      "cell_type": "code",
      "metadata": {
        "id": "gzscWESV36Uu",
        "colab_type": "code",
        "colab": {}
      },
      "source": [
        "%%bigquery --project $PROJECT full_data\n",
        "SELECT source, LOWER(REGEXP_REPLACE(title, '[^a-zA-Z0-9 $.-]', ' ')) AS title FROM\n",
        "  (SELECT\n",
        "    ARRAY_REVERSE(SPLIT(REGEXP_EXTRACT(url, '.*://(.[^/]+)/'), '.'))[OFFSET(1)] AS source,\n",
        "    title\n",
        "  FROM\n",
        "    `bigquery-public-data.hacker_news.stories`\n",
        "  WHERE\n",
        "    REGEXP_CONTAINS(REGEXP_EXTRACT(url, '.*://(.[^/]+)/'), '.com$')\n",
        "    AND LENGTH(title) > 10\n",
        "  )\n",
        "WHERE (source = 'github' OR source = 'nytimes' OR source = 'techcrunch' or source = 'blogspot')"
      ],
      "execution_count": 0,
      "outputs": []
    },
    {
      "cell_type": "code",
      "metadata": {
        "id": "xOQKxkwt4u6m",
        "colab_type": "code",
        "colab": {
          "base_uri": "https://localhost:8080/",
          "height": 204
        },
        "outputId": "444bcf17-c2e5-4c5b-fbc2-52d2dadaa352"
      },
      "source": [
        "full_data.head()"
      ],
      "execution_count": 13,
      "outputs": [
        {
          "output_type": "execute_result",
          "data": {
            "text/html": [
              "<div>\n",
              "<style scoped>\n",
              "    .dataframe tbody tr th:only-of-type {\n",
              "        vertical-align: middle;\n",
              "    }\n",
              "\n",
              "    .dataframe tbody tr th {\n",
              "        vertical-align: top;\n",
              "    }\n",
              "\n",
              "    .dataframe thead th {\n",
              "        text-align: right;\n",
              "    }\n",
              "</style>\n",
              "<table border=\"1\" class=\"dataframe\">\n",
              "  <thead>\n",
              "    <tr style=\"text-align: right;\">\n",
              "      <th></th>\n",
              "      <th>source</th>\n",
              "      <th>title</th>\n",
              "    </tr>\n",
              "  </thead>\n",
              "  <tbody>\n",
              "    <tr>\n",
              "      <th>0</th>\n",
              "      <td>github</td>\n",
              "      <td>feminist-software-foundation complains about r...</td>\n",
              "    </tr>\n",
              "    <tr>\n",
              "      <th>1</th>\n",
              "      <td>github</td>\n",
              "      <td>expose sps as web services on the fly.</td>\n",
              "    </tr>\n",
              "    <tr>\n",
              "      <th>2</th>\n",
              "      <td>github</td>\n",
              "      <td>show hn  scrwl   shorthand code reading and wr...</td>\n",
              "    </tr>\n",
              "    <tr>\n",
              "      <th>3</th>\n",
              "      <td>github</td>\n",
              "      <td>geoip module on nodejs now is a c   addon</td>\n",
              "    </tr>\n",
              "    <tr>\n",
              "      <th>4</th>\n",
              "      <td>github</td>\n",
              "      <td>show hn  linuxexplorer</td>\n",
              "    </tr>\n",
              "  </tbody>\n",
              "</table>\n",
              "</div>"
            ],
            "text/plain": [
              "   source                                              title\n",
              "0  github  feminist-software-foundation complains about r...\n",
              "1  github             expose sps as web services on the fly.\n",
              "2  github  show hn  scrwl   shorthand code reading and wr...\n",
              "3  github          geoip module on nodejs now is a c   addon\n",
              "4  github                             show hn  linuxexplorer"
            ]
          },
          "metadata": {
            "tags": []
          },
          "execution_count": 13
        }
      ]
    },
    {
      "cell_type": "code",
      "metadata": {
        "id": "Vv6hPlEs5cGB",
        "colab_type": "code",
        "colab": {
          "base_uri": "https://localhost:8080/",
          "height": 34
        },
        "outputId": "5e74995f-5843-4458-bb9a-00519cabe90e"
      },
      "source": [
        "full_data.shape"
      ],
      "execution_count": 18,
      "outputs": [
        {
          "output_type": "execute_result",
          "data": {
            "text/plain": [
              "(137589, 2)"
            ]
          },
          "metadata": {
            "tags": []
          },
          "execution_count": 18
        }
      ]
    },
    {
      "cell_type": "code",
      "metadata": {
        "id": "UF1Kay5Z4138",
        "colab_type": "code",
        "colab": {
          "base_uri": "https://localhost:8080/",
          "height": 102
        },
        "outputId": "b6a4ae3f-3f30-4f3e-8f7d-f46d3e52c187"
      },
      "source": [
        "full_data.source.value_counts()"
      ],
      "execution_count": 14,
      "outputs": [
        {
          "output_type": "execute_result",
          "data": {
            "text/plain": [
              "blogspot      41386\n",
              "github        36525\n",
              "techcrunch    30891\n",
              "nytimes       28787\n",
              "Name: source, dtype: int64"
            ]
          },
          "metadata": {
            "tags": []
          },
          "execution_count": 14
        }
      ]
    },
    {
      "cell_type": "code",
      "metadata": {
        "id": "pF1tEPij5MPq",
        "colab_type": "code",
        "colab": {
          "base_uri": "https://localhost:8080/",
          "height": 68
        },
        "outputId": "fd00511f-b1dd-4f79-8c99-957a36dc2202"
      },
      "source": [
        "full_data.isna().sum()"
      ],
      "execution_count": 16,
      "outputs": [
        {
          "output_type": "execute_result",
          "data": {
            "text/plain": [
              "source    0\n",
              "title     0\n",
              "dtype: int64"
            ]
          },
          "metadata": {
            "tags": []
          },
          "execution_count": 16
        }
      ]
    },
    {
      "cell_type": "code",
      "metadata": {
        "id": "Lnvx6hf05T7y",
        "colab_type": "code",
        "colab": {
          "base_uri": "https://localhost:8080/",
          "height": 170
        },
        "outputId": "d4cec7f0-ce9b-46af-8ff4-8c902ba211b6"
      },
      "source": [
        "full_data['title'].apply(len).describe()"
      ],
      "execution_count": 17,
      "outputs": [
        {
          "output_type": "execute_result",
          "data": {
            "text/plain": [
              "count    137589.000000\n",
              "mean         47.261489\n",
              "std          17.091430\n",
              "min          11.000000\n",
              "25%          34.000000\n",
              "50%          47.000000\n",
              "75%          60.000000\n",
              "max         138.000000\n",
              "Name: title, dtype: float64"
            ]
          },
          "metadata": {
            "tags": []
          },
          "execution_count": 17
        }
      ]
    },
    {
      "cell_type": "code",
      "metadata": {
        "id": "krs_FTVE45_C",
        "colab_type": "code",
        "colab": {}
      },
      "source": [
        "import numpy as np\n",
        "import matplotlib.pyplot as plt\n",
        "import seaborn as sns\n",
        "\n",
        "plt.style.use('ggplot')\n",
        "%matplotlib inline"
      ],
      "execution_count": 0,
      "outputs": []
    },
    {
      "cell_type": "code",
      "metadata": {
        "id": "QCZh1CeK5JUT",
        "colab_type": "code",
        "colab": {
          "base_uri": "https://localhost:8080/",
          "height": 508
        },
        "outputId": "9b8779a3-6554-4c4a-d9a4-475c58b5728d"
      },
      "source": [
        "text_lens = full_data['title'].apply(len).values\n",
        "plt.figure(figsize=(10,8))\n",
        "sns.set()\n",
        "g = sns.distplot(text_lens, kde=False, hist_kws={'rwidth':1})\n",
        "g.set_xlabel('Title length')\n",
        "g.set_ylabel('Count')\n",
        "plt.show()"
      ],
      "execution_count": 41,
      "outputs": [
        {
          "output_type": "display_data",
          "data": {
            "image/png": "[encoded data removed]",
            "text/plain": [
              "<Figure size 720x576 with 1 Axes>"
            ]
          },
          "metadata": {
            "tags": []
          }
        }
      ]
    },
    {
      "cell_type": "code",
      "metadata": {
        "id": "bmVrxUfe5u15",
        "colab_type": "code",
        "colab": {
          "base_uri": "https://localhost:8080/",
          "height": 34
        },
        "outputId": "999f1fd9-f36e-4481-8639-5e24e7359138"
      },
      "source": [
        "(text_lens <= 11).sum()"
      ],
      "execution_count": 42,
      "outputs": [
        {
          "output_type": "execute_result",
          "data": {
            "text/plain": [
              "400"
            ]
          },
          "metadata": {
            "tags": []
          },
          "execution_count": 42
        }
      ]
    },
    {
      "cell_type": "code",
      "metadata": {
        "id": "elTQh8XI9bcz",
        "colab_type": "code",
        "colab": {
          "base_uri": "https://localhost:8080/",
          "height": 34
        },
        "outputId": "3ef89ed3-ced8-44e3-8612-6db41e8491b7"
      },
      "source": [
        "(text_lens == 138).sum()"
      ],
      "execution_count": 46,
      "outputs": [
        {
          "output_type": "execute_result",
          "data": {
            "text/plain": [
              "1"
            ]
          },
          "metadata": {
            "tags": []
          },
          "execution_count": 46
        }
      ]
    },
    {
      "cell_type": "code",
      "metadata": {
        "id": "Vn1aCuXr9l6s",
        "colab_type": "code",
        "colab": {
          "base_uri": "https://localhost:8080/",
          "height": 119
        },
        "outputId": "20b71a9d-3149-4385-ceb0-a3203a64f944"
      },
      "source": [
        "full_data[text_lens <= 11]['title'].head()"
      ],
      "execution_count": 48,
      "outputs": [
        {
          "output_type": "execute_result",
          "data": {
            "text/plain": [
              "155    react jrate\n",
              "387    2048 in sed\n",
              "484    openlaunchd\n",
              "616    zedshaw tir\n",
              "686    cloudwazzup\n",
              "Name: title, dtype: object"
            ]
          },
          "metadata": {
            "tags": []
          },
          "execution_count": 48
        }
      ]
    },
    {
      "cell_type": "code",
      "metadata": {
        "id": "dx7zMNwE95IL",
        "colab_type": "code",
        "colab": {
          "base_uri": "https://localhost:8080/",
          "height": 80
        },
        "outputId": "15172a3d-4fe9-4f28-9f4c-2b1d1c977e55"
      },
      "source": [
        "full_data[text_lens == 138][['title', 'source']]"
      ],
      "execution_count": 52,
      "outputs": [
        {
          "output_type": "execute_result",
          "data": {
            "text/html": [
              "<div>\n",
              "<style scoped>\n",
              "    .dataframe tbody tr th:only-of-type {\n",
              "        vertical-align: middle;\n",
              "    }\n",
              "\n",
              "    .dataframe tbody tr th {\n",
              "        vertical-align: top;\n",
              "    }\n",
              "\n",
              "    .dataframe thead th {\n",
              "        text-align: right;\n",
              "    }\n",
              "</style>\n",
              "<table border=\"1\" class=\"dataframe\">\n",
              "  <thead>\n",
              "    <tr style=\"text-align: right;\">\n",
              "      <th></th>\n",
              "      <th>title</th>\n",
              "      <th>source</th>\n",
              "    </tr>\n",
              "  </thead>\n",
              "  <tbody>\n",
              "    <tr>\n",
              "      <th>73504</th>\n",
              "      <td>i ve set up this blog for you to announce  upd...</td>\n",
              "      <td>blogspot</td>\n",
              "    </tr>\n",
              "  </tbody>\n",
              "</table>\n",
              "</div>"
            ],
            "text/plain": [
              "                                                   title    source\n",
              "73504  i ve set up this blog for you to announce  upd...  blogspot"
            ]
          },
          "metadata": {
            "tags": []
          },
          "execution_count": 52
        }
      ]
    },
    {
      "cell_type": "code",
      "metadata": {
        "id": "aQoLKSxg9_V2",
        "colab_type": "code",
        "colab": {}
      },
      "source": [
        "full_data = full_data[text_lens < 138].reset_index(drop=True)"
      ],
      "execution_count": 0,
      "outputs": []
    },
    {
      "cell_type": "code",
      "metadata": {
        "id": "ubuR__Ge_o1v",
        "colab_type": "code",
        "colab": {
          "base_uri": "https://localhost:8080/",
          "height": 34
        },
        "outputId": "bba4e9f2-2921-40cd-db3e-0b0f2646ecda"
      },
      "source": [
        "full_data.shape"
      ],
      "execution_count": 58,
      "outputs": [
        {
          "output_type": "execute_result",
          "data": {
            "text/plain": [
              "(137588, 2)"
            ]
          },
          "metadata": {
            "tags": []
          },
          "execution_count": 58
        }
      ]
    },
    {
      "cell_type": "code",
      "metadata": {
        "id": "L85exTkF-Z0b",
        "colab_type": "code",
        "colab": {
          "base_uri": "https://localhost:8080/",
          "height": 34
        },
        "outputId": "5f443949-4eaa-4d28-fd38-499b29edecc3"
      },
      "source": [
        "# 80% for train\n",
        "train = full_data.sample(frac=0.8)\n",
        "full_data.drop(train.index, axis=0, inplace=True)\n",
        "\n",
        "# 10% for validation\n",
        "valid = full_data.sample(frac=0.5)\n",
        "full_data.drop(valid.index, axis=0, inplace=True)\n",
        "\n",
        "# 10% for test\n",
        "test = full_data\n",
        "\n",
        "train.shape, valid.shape, test.shape"
      ],
      "execution_count": 59,
      "outputs": [
        {
          "output_type": "execute_result",
          "data": {
            "text/plain": [
              "((110070, 2), (13759, 2), (13759, 2))"
            ]
          },
          "metadata": {
            "tags": []
          },
          "execution_count": 59
        }
      ]
    },
    {
      "cell_type": "code",
      "metadata": {
        "id": "MqPWSFaCAfqv",
        "colab_type": "code",
        "colab": {
          "base_uri": "https://localhost:8080/",
          "height": 102
        },
        "outputId": "d5dbc6d8-f68d-4ed6-c30a-e92ca0717144"
      },
      "source": [
        "train.source.value_counts()"
      ],
      "execution_count": 63,
      "outputs": [
        {
          "output_type": "execute_result",
          "data": {
            "text/plain": [
              "blogspot      33109\n",
              "github        29287\n",
              "techcrunch    24644\n",
              "nytimes       23030\n",
              "Name: source, dtype: int64"
            ]
          },
          "metadata": {
            "tags": []
          },
          "execution_count": 63
        }
      ]
    },
    {
      "cell_type": "code",
      "metadata": {
        "id": "BDJW9-gQAj1b",
        "colab_type": "code",
        "colab": {
          "base_uri": "https://localhost:8080/",
          "height": 102
        },
        "outputId": "7bebb721-09a5-47e9-d90d-dec6509ec11d"
      },
      "source": [
        "valid.source.value_counts()"
      ],
      "execution_count": 64,
      "outputs": [
        {
          "output_type": "execute_result",
          "data": {
            "text/plain": [
              "blogspot      4162\n",
              "github        3627\n",
              "techcrunch    3136\n",
              "nytimes       2834\n",
              "Name: source, dtype: int64"
            ]
          },
          "metadata": {
            "tags": []
          },
          "execution_count": 64
        }
      ]
    },
    {
      "cell_type": "code",
      "metadata": {
        "id": "uxFd_Hw_AoNO",
        "colab_type": "code",
        "colab": {
          "base_uri": "https://localhost:8080/",
          "height": 102
        },
        "outputId": "2346273d-2fca-4923-dd9a-e408345eba9b"
      },
      "source": [
        "test.source.value_counts()"
      ],
      "execution_count": 65,
      "outputs": [
        {
          "output_type": "execute_result",
          "data": {
            "text/plain": [
              "blogspot      4114\n",
              "github        3611\n",
              "techcrunch    3111\n",
              "nytimes       2923\n",
              "Name: source, dtype: int64"
            ]
          },
          "metadata": {
            "tags": []
          },
          "execution_count": 65
        }
      ]
    },
    {
      "cell_type": "code",
      "metadata": {
        "id": "6_wdbM5xABVj",
        "colab_type": "code",
        "colab": {}
      },
      "source": [
        "!mkdir data"
      ],
      "execution_count": 0,
      "outputs": []
    },
    {
      "cell_type": "code",
      "metadata": {
        "id": "cQwbtp_Z_VmJ",
        "colab_type": "code",
        "colab": {}
      },
      "source": [
        "train.to_csv('data/train.csv')\n",
        "valid.to_csv('data/valid.csv')\n",
        "test.to_csv('data/test.csv')"
      ],
      "execution_count": 0,
      "outputs": []
    }
  ]
}