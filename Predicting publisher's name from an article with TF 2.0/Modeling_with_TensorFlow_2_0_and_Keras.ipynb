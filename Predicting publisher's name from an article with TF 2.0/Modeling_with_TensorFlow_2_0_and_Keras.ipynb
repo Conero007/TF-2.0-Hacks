{
 "cells": [
  {
   "cell_type": "markdown",
   "metadata": {
    "colab": {},
    "colab_type": "code",
    "id": "RDz00oOwZvIc"
   },
   "source": [
    "This notebook will be purely focusing on the modeling part. I will start off by installing the GPU variant of TensorFlow 2.0 (Colab gives you T4 Tesla GPUs for free). "
   ]
  },
  {
   "cell_type": "code",
   "execution_count": null,
   "metadata": {
    "colab": {},
    "colab_type": "code",
    "id": "z48SHWnUaxD2"
   },
   "outputs": [],
   "source": [
    "!pip install tensorflow-gpu==2.0.0-alpha0"
   ]
  },
  {
   "cell_type": "markdown",
   "metadata": {},
   "source": [
    "I have the data serialized already. So, I would just load them and remove the index column which is a result of my inattentiveness. "
   ]
  },
  {
   "cell_type": "code",
   "execution_count": null,
   "metadata": {
    "colab": {},
    "colab_type": "code",
    "id": "cQwbtp_Z_VmJ"
   },
   "outputs": [],
   "source": [
    "import pandas as pd\n",
    "import numpy as np\n",
    "\n",
    "train = pd.read_csv('data/train.csv')\n",
    "valid = pd.read_csv('data/valid.csv')\n",
    "test = pd.read_csv('data/test.csv')"
   ]
  },
  {
   "cell_type": "code",
   "execution_count": null,
   "metadata": {
    "colab": {},
    "colab_type": "code",
    "id": "Gr-Sc5ngJiTM"
   },
   "outputs": [],
   "source": [
    "train.drop('Unnamed: 0', axis='columns', inplace=True)\n",
    "valid.drop('Unnamed: 0', axis='columns', inplace=True)\n",
    "test.drop('Unnamed: 0', axis='columns', inplace=True)"
   ]
  },
  {
   "cell_type": "code",
   "execution_count": 74,
   "metadata": {
    "colab": {
     "base_uri": "https://localhost:8080/",
     "height": 34
    },
    "colab_type": "code",
    "id": "FzbyWKHhJbgL",
    "outputId": "496a8c1d-91cc-4773-e75c-2c61f3edf634"
   },
   "outputs": [
    {
     "data": {
      "text/plain": [
       "Index(['source', 'title'], dtype='object')"
      ]
     },
     "execution_count": 74,
     "metadata": {
      "tags": []
     },
     "output_type": "execute_result"
    }
   ],
   "source": [
    "train.columns"
   ]
  },
  {
   "cell_type": "code",
   "execution_count": 76,
   "metadata": {
    "colab": {
     "base_uri": "https://localhost:8080/",
     "height": 102
    },
    "colab_type": "code",
    "id": "AZ9ifAyLKR2d",
    "outputId": "dc926d75-3edd-43ef-877c-2c8e1ca15825"
   },
   "outputs": [
    {
     "data": {
      "text/plain": [
       "blogspot      33109\n",
       "github        29287\n",
       "techcrunch    24644\n",
       "nytimes       23030\n",
       "Name: source, dtype: int64"
      ]
     },
     "execution_count": 76,
     "metadata": {
      "tags": []
     },
     "output_type": "execute_result"
    }
   ],
   "source": [
    "train.source.value_counts()"
   ]
  },
  {
   "cell_type": "markdown",
   "metadata": {},
   "source": [
    "I like to define the constants and their values which would be used throughout the modeling process at the very beginning. Here, I will define:\n",
    "- A mapping for encoding the sources to integers (computers understand numbers)\n",
    "- Total size of the vocabulary that would be formed from the titles\n",
    "- The maximum sequence length which would be needed for the preprocessing steps"
   ]
  },
  {
   "cell_type": "code",
   "execution_count": null,
   "metadata": {
    "colab": {},
    "colab_type": "code",
    "id": "ezgV6PU3Iq-t"
   },
   "outputs": [],
   "source": [
    "# Label encode\n",
    "CLASSES = {'blogspot': 0, 'github': 1, 'techcrunch': 2, 'nytimes': 3} \n",
    "# Maximum vocabulary size used for tokenization\n",
    "TOP_K = 20000 \n",
    "# Sentences will be truncated/padded to this length\n",
    "MAX_SEQUENCE_LENGTH = 50  "
   ]
  },
  {
   "cell_type": "markdown",
   "metadata": {},
   "source": [
    "Next I would define a small helper function which would take a DataFrame and will \n",
    "- prepare a list of titles from the DstaFrame\n",
    "- take the sources from the DataFrame, map them to integers and append to a NumPy array"
   ]
  },
  {
   "cell_type": "code",
   "execution_count": null,
   "metadata": {
    "colab": {},
    "colab_type": "code",
    "id": "AFx_LDPxK2GU"
   },
   "outputs": [],
   "source": [
    "def return_data(df):\n",
    "  return list(df['title']), np.array(df['source'].map(CLASSES))"
   ]
  },
  {
   "cell_type": "code",
   "execution_count": null,
   "metadata": {
    "colab": {},
    "colab_type": "code",
    "id": "57IEoPLGL5NI"
   },
   "outputs": [],
   "source": [
    "# Apply it to the three splits\n",
    "train_text, train_labels = return_data(train)\n",
    "valid_text, valid_labels = return_data(valid)\n",
    "test_text, test_labels = return_data(test)"
   ]
  },
  {
   "cell_type": "code",
   "execution_count": 88,
   "metadata": {
    "colab": {
     "base_uri": "https://localhost:8080/",
     "height": 34
    },
    "colab_type": "code",
    "id": "_hAsIAU0MVDE",
    "outputId": "b1288db1-a796-4681-f264-72eb19fae4bd"
   },
   "outputs": [
    {
     "data": {
      "text/plain": [
       "('nerds love twitch because there  they can be heroes', 2)"
      ]
     },
     "execution_count": 88,
     "metadata": {
      "tags": []
     },
     "output_type": "execute_result"
    }
   ],
   "source": [
    "train_text[0], train_labels[0]"
   ]
  },
  {
   "cell_type": "code",
   "execution_count": null,
   "metadata": {
    "colab": {},
    "colab_type": "code",
    "id": "fHhnqLbkMXYV"
   },
   "outputs": [],
   "source": [
    "# TensorFlow imports\n",
    "import tensorflow as tf\n",
    "from tensorflow.keras.preprocessing import sequence, text\n",
    "from tensorflow.keras import models\n",
    "from tensorflow.keras.layers import Dense, Dropout, Embedding, Conv1D, MaxPooling1D, GlobalAveragePooling1D"
   ]
  },
  {
   "cell_type": "code",
   "execution_count": null,
   "metadata": {
    "colab": {},
    "colab_type": "code",
    "id": "DmE2stlqM8gQ"
   },
   "outputs": [],
   "source": [
    "# Create a vocabulary from training corpus\n",
    "tokenizer = text.Tokenizer(num_words=TOP_K)\n",
    "tokenizer.fit_on_texts(train_text)"
   ]
  },
  {
   "cell_type": "code",
   "execution_count": null,
   "metadata": {
    "colab": {},
    "colab_type": "code",
    "id": "AebTuUKENJKE"
   },
   "outputs": [],
   "source": [
    "# Save token dictionary to use during inference\n",
    "import pickle \n",
    "\n",
    "pickle.dump(tokenizer, open('tokenizer.pickled', 'wb'))"
   ]
  },
  {
   "cell_type": "markdown",
   "metadata": {},
   "source": [
    "I am going to the `GloVe` embeddings to represent the words in the titles to a dense representation. The embeddings are of more than 650 MB and the GCP team has it stored in a Google Storage Bucket. This is going to be incredibly helpful since it will allow me to directly use it at a very fast speed. "
   ]
  },
  {
   "cell_type": "code",
   "execution_count": 98,
   "metadata": {
    "colab": {
     "base_uri": "https://localhost:8080/",
     "height": 68
    },
    "colab_type": "code",
    "id": "uMpxBWCBQCYi",
    "outputId": "70467411-5459-40ad-b569-054992d48234"
   },
   "outputs": [
    {
     "name": "stdout",
     "output_type": "stream",
     "text": [
      "Copying gs://cloud-training-demos/courses/machine_learning/deepdive/09_sequence/text_classification/glove.6B.200d.txt...\n",
      "| [1 files][661.3 MiB/661.3 MiB]                                                \n",
      "Operation completed over 1 objects/661.3 MiB.                                    \n"
     ]
    }
   ],
   "source": [
    "!gsutil cp gs://cloud-training-demos/courses/machine_learning/deepdive/09_sequence/text_classification/glove.6B.200d.txt glove.6B.200d.txt"
   ]
  },
  {
   "cell_type": "markdown",
   "metadata": {},
   "source": [
    "I will now define a helper function which will map the words in the titles with respect to the Glove embeddings. In literature this is often referred to as _embedding matrix_. "
   ]
  },
  {
   "cell_type": "code",
   "execution_count": null,
   "metadata": {
    "colab": {},
    "colab_type": "code",
    "id": "AyI9Ri8jNS0P"
   },
   "outputs": [],
   "source": [
    "def get_embedding_matrix(word_index, embedding_path, embedding_dim):\n",
    "  embedding_matrix_all = {}\n",
    "  with open(embedding_path) as f:\n",
    "    for line in f:  # Every line contains word followed by the vector value\n",
    "        values = line.split()\n",
    "        word = values[0]\n",
    "        coefs = np.asarray(values[1:], dtype='float32')\n",
    "        embedding_matrix_all[word] = coefs\n",
    "\n",
    "  # Prepare embedding matrix with just the words in our word_index dictionary\n",
    "  num_words = min(len(word_index) + 1, TOP_K)\n",
    "  embedding_matrix = np.zeros((num_words, embedding_dim))\n",
    "\n",
    "  for word, i in word_index.items():\n",
    "    if i >= TOP_K:\n",
    "        continue\n",
    "    embedding_vector = embedding_matrix_all.get(word)\n",
    "    if embedding_vector is not None:\n",
    "        # Words not found in embedding index will be all-zeros.\n",
    "        embedding_matrix[i] = embedding_vector\n",
    "  \n",
    "  return embedding_matrix"
   ]
  },
  {
   "cell_type": "markdown",
   "metadata": {},
   "source": [
    "Let's now define the hyperparameters for the network and also define the constants. "
   ]
  },
  {
   "cell_type": "code",
   "execution_count": null,
   "metadata": {
    "colab": {},
    "colab_type": "code",
    "id": "kHfibhV1UZoC"
   },
   "outputs": [],
   "source": [
    "filters=64\n",
    "dropout_rate=0.2\n",
    "embedding_dim=200\n",
    "kernel_size=3\n",
    "pool_size=3"
   ]
  },
  {
   "cell_type": "code",
   "execution_count": null,
   "metadata": {
    "colab": {},
    "colab_type": "code",
    "id": "lNXdS6gwU6zc"
   },
   "outputs": [],
   "source": [
    "word_index=tokenizer.word_index\n",
    "embedding_path = '/content/glove.6B.200d.txt'\n",
    "embedding_dim=200"
   ]
  },
  {
   "cell_type": "markdown",
   "metadata": {},
   "source": [
    "### Model building"
   ]
  },
  {
   "cell_type": "code",
   "execution_count": null,
   "metadata": {
    "colab": {},
    "colab_type": "code",
    "id": "6J4u8ZaWRrgB"
   },
   "outputs": [],
   "source": [
    "# Create model instance\n",
    "model = models.Sequential()\n",
    "num_features = min(len(word_index) + 1, TOP_K)\n",
    "\n",
    "# Add embedding layer - GloVe embeddings\n",
    "model.add(Embedding(input_dim=num_features,\n",
    "              output_dim=embedding_dim,\n",
    "              input_length=MAX_SEQUENCE_LENGTH,\n",
    "              weights=[get_embedding_matrix(word_index, \n",
    "                              embedding_path, embedding_dim)],\n",
    "              trainable=True))\n",
    "\n",
    "model.add(Dropout(rate=dropout_rate))\n",
    "model.add(Conv1D(filters=filters,\n",
    "              kernel_size=kernel_size,\n",
    "              activation='relu',\n",
    "              bias_initializer='he_normal',\n",
    "              padding='same'))\n",
    "\n",
    "model.add(MaxPooling1D(pool_size=pool_size))\n",
    "model.add(Conv1D(filters=filters * 2,\n",
    "              kernel_size=kernel_size,\n",
    "              activation='relu',\n",
    "              bias_initializer='he_normal',\n",
    "              padding='same'))\n",
    "model.add(GlobalAveragePooling1D())\n",
    "model.add(Dropout(rate=dropout_rate))\n",
    "model.add(Dense(len(CLASSES), activation='softmax'))\n",
    "\n",
    "# Compile model with learning parameters.\n",
    "optimizer = tf.keras.optimizers.Adam(lr=0.001)\n",
    "model.compile(optimizer=optimizer, loss='sparse_categorical_crossentropy', metrics=['acc'])"
   ]
  },
  {
   "cell_type": "code",
   "execution_count": 144,
   "metadata": {
    "colab": {
     "base_uri": "https://localhost:8080/",
     "height": 856
    },
    "colab_type": "code",
    "id": "PX-DdxBEVIGN",
    "outputId": "d8a536b2-ab23-4b32-8284-86066cd2b260"
   },
   "outputs": [
    {
     "data": {
      "image/png": "[encoded data removed]",
      "text/plain": [
       "<IPython.core.display.Image object>"
      ]
     },
     "execution_count": 144,
     "metadata": {
      "tags": []
     },
     "output_type": "execute_result"
    }
   ],
   "source": [
    "tf.keras.utils.plot_model(model, to_file='cnn_txt_cls.png')"
   ]
  },
  {
   "cell_type": "markdown",
   "metadata": {},
   "source": [
    "### Data preprocessing: Tokenize + Pad"
   ]
  },
  {
   "cell_type": "code",
   "execution_count": null,
   "metadata": {
    "colab": {},
    "colab_type": "code",
    "id": "hpmfQvUIVoAB"
   },
   "outputs": [],
   "source": [
    "# Preprocess the train, validation and test sets\n",
    "# Tokenize and pad sentences\n",
    "tokenizer = pickle.load( open( \"tokenizer.pickled\", \"rb\" ) )\n",
    "\n",
    "preproc_train = tokenizer.texts_to_sequences(train_text)\n",
    "preproc_train = sequence.pad_sequences(preproc_train, maxlen=MAX_SEQUENCE_LENGTH)\n",
    "\n",
    "preproc_valid = tokenizer.texts_to_sequences(valid_text)\n",
    "preproc_valid = sequence.pad_sequences(preproc_valid, maxlen=MAX_SEQUENCE_LENGTH)\n",
    "\n",
    "preproc_test = tokenizer.texts_to_sequences(test_text)\n",
    "preproc_test = sequence.pad_sequences(preproc_test, maxlen=MAX_SEQUENCE_LENGTH)"
   ]
  },
  {
   "cell_type": "markdown",
   "metadata": {},
   "source": [
    "### Model training"
   ]
  },
  {
   "cell_type": "code",
   "execution_count": 149,
   "metadata": {
    "colab": {
     "base_uri": "https://localhost:8080/",
     "height": 374
    },
    "colab_type": "code",
    "id": "QZ5tf6HQaQ4j",
    "outputId": "9da7f6b0-2e4a-458d-d170-fb62def7af85"
   },
   "outputs": [
    {
     "name": "stdout",
     "output_type": "stream",
     "text": [
      "Train on 110070 samples, validate on 13759 samples\n",
      "Epoch 1/10\n",
      "110070/110070 [==============================] - 11s 104us/sample - loss: 0.8801 - acc: 0.6222 - val_loss: 0.7268 - val_acc: 0.7067\n",
      "Epoch 2/10\n",
      "110070/110070 [==============================] - 11s 99us/sample - loss: 0.6289 - acc: 0.7515 - val_loss: 0.7007 - val_acc: 0.7192\n",
      "Epoch 3/10\n",
      "110070/110070 [==============================] - 11s 99us/sample - loss: 0.5289 - acc: 0.7946 - val_loss: 0.7149 - val_acc: 0.7204\n",
      "Epoch 4/10\n",
      "110070/110070 [==============================] - 11s 98us/sample - loss: 0.4406 - acc: 0.8307 - val_loss: 0.7593 - val_acc: 0.7166\n",
      "Epoch 5/10\n",
      "110070/110070 [==============================] - 11s 96us/sample - loss: 0.3570 - acc: 0.8649 - val_loss: 0.8373 - val_acc: 0.7139\n",
      "Epoch 6/10\n",
      "110070/110070 [==============================] - 11s 96us/sample - loss: 0.2857 - acc: 0.8922 - val_loss: 0.9513 - val_acc: 0.7107\n",
      "Epoch 7/10\n",
      "110070/110070 [==============================] - 11s 96us/sample - loss: 0.2350 - acc: 0.9128 - val_loss: 1.0968 - val_acc: 0.7035\n",
      "Epoch 8/10\n",
      "110070/110070 [==============================] - 11s 96us/sample - loss: 0.1967 - acc: 0.9270 - val_loss: 1.2371 - val_acc: 0.7045\n",
      "Epoch 9/10\n",
      "110070/110070 [==============================] - 11s 99us/sample - loss: 0.1708 - acc: 0.9364 - val_loss: 1.3527 - val_acc: 0.7003\n",
      "Epoch 10/10\n",
      "110070/110070 [==============================] - 11s 99us/sample - loss: 0.1496 - acc: 0.9446 - val_loss: 1.4953 - val_acc: 0.6952\n"
     ]
    }
   ],
   "source": [
    "H = model.fit(preproc_train,\n",
    "         train_labels,\n",
    "         validation_data=(preproc_valid, valid_labels),\n",
    "         batch_size=128,\n",
    "         epochs=10,\n",
    "         verbose=1)"
   ]
  },
  {
   "cell_type": "markdown",
   "metadata": {},
   "source": [
    "The model overfits :( But still let's evaluate it. "
   ]
  },
  {
   "cell_type": "code",
   "execution_count": 150,
   "metadata": {
    "colab": {
     "base_uri": "https://localhost:8080/",
     "height": 51
    },
    "colab_type": "code",
    "id": "ysmGvg9Sa44p",
    "outputId": "cea62f66-69b2-4516-ad7c-f752560a3845"
   },
   "outputs": [
    {
     "name": "stdout",
     "output_type": "stream",
     "text": [
      "13759/13759 [==============================] - 1s 98us/sample - loss: 1.5162 - acc: 0.6936\n"
     ]
    },
    {
     "data": {
      "text/plain": [
       "[1.5162022661370882, 0.69358236]"
      ]
     },
     "execution_count": 150,
     "metadata": {
      "tags": []
     },
     "output_type": "execute_result"
    }
   ],
   "source": [
    "model.evaluate(preproc_test, test_labels)"
   ]
  },
  {
   "cell_type": "markdown",
   "metadata": {},
   "source": [
    "I am now interested in predicting on a few latest title samples which I gathered from Hacker News. "
   ]
  },
  {
   "cell_type": "code",
   "execution_count": null,
   "metadata": {
    "colab": {},
    "colab_type": "code",
    "id": "R8d9mGHPec3-"
   },
   "outputs": [],
   "source": [
    "# Helper function to test on single samples\n",
    "def test_on_single_sample(text):\n",
    "  category = None\n",
    "  text_tokenized = tokenizer.texts_to_sequences(text)\n",
    "  text_tokenized = sequence.pad_sequences(text_tokenized,maxlen=50)\n",
    "  prediction = int(model.predict_classes(text_tokenized))\n",
    "  for key, value in CLASSES.items():\n",
    "    if value==prediction:\n",
    "      category=key\n",
    "  \n",
    "  return category"
   ]
  },
  {
   "cell_type": "code",
   "execution_count": null,
   "metadata": {
    "colab": {},
    "colab_type": "code",
    "id": "wQQe-7ErkIW_"
   },
   "outputs": [],
   "source": [
    "# Prepare the samples\n",
    "github=['Invaders game in 512 bytes']\n",
    "nytimes = ['Michael Bloomberg Promises $500M to Help End Coal']\n",
    "techcrunch = ['Facebook plans June 18th cryptocurrency debut']\n",
    "blogspot = ['Android Security: A walk-through of SELinux']"
   ]
  },
  {
   "cell_type": "code",
   "execution_count": 156,
   "metadata": {
    "colab": {
     "base_uri": "https://localhost:8080/",
     "height": 85
    },
    "colab_type": "code",
    "id": "BWc0xCtkk-he",
    "outputId": "ff5672ec-7747-4e00-d9d4-0eeb0c049595"
   },
   "outputs": [
    {
     "name": "stdout",
     "output_type": "stream",
     "text": [
      "github\n",
      "techcrunch\n",
      "techcrunch\n",
      "blogspot\n"
     ]
    }
   ],
   "source": [
    "for sample in [github, nytimes, techcrunch, blogspot]:\n",
    "  print(test_on_single_sample(sample))"
   ]
  },
  {
   "cell_type": "markdown",
   "metadata": {},
   "source": [
    "### Further directions:\n",
    "- Try other sequence models\n",
    "- A bit of hyperparamter tuning\n",
    "- Learn the embeddings from scratch"
   ]
  }
 ],
 "metadata": {
  "accelerator": "GPU",
  "colab": {
   "collapsed_sections": [],
   "name": "Modeling with TensorFlow 2.0 and Keras.ipynb",
   "provenance": [],
   "version": "0.3.2"
  },
  "kernelspec": {
   "display_name": "Python 3",
   "language": "python",
   "name": "python3"
  },
  "language_info": {
   "codemirror_mode": {
    "name": "ipython",
    "version": 3
   },
   "file_extension": ".py",
   "mimetype": "text/x-python",
   "name": "python",
   "nbconvert_exporter": "python",
   "pygments_lexer": "ipython3",
   "version": "3.7.1"
  }
 },
 "nbformat": 4,
 "nbformat_minor": 2
}
