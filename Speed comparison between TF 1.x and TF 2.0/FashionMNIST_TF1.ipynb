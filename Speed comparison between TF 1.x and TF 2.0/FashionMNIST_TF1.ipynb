{
  "nbformat": 4,
  "nbformat_minor": 0,
  "metadata": {
    "colab": {
      "name": "FashionMNIST-TF1.ipynb",
      "provenance": [],
      "collapsed_sections": []
    },
    "kernelspec": {
      "name": "python3",
      "display_name": "Python 3"
    },
    "accelerator": "GPU"
  },
  "cells": [
    {
      "cell_type": "markdown",
      "metadata": {
        "id": "_OtBEJ_6JF_8",
        "colab_type": "text"
      },
      "source": [
        "## Install TensorFlow 1.14 (GPU variant) W&B"
      ]
    },
    {
      "cell_type": "code",
      "metadata": {
        "id": "TtMPhycuIf_N",
        "colab_type": "code",
        "colab": {}
      },
      "source": [
        "!pip install -q tensorflow-gpu==1.14.0\n",
        "!pip install wandb"
      ],
      "execution_count": 0,
      "outputs": []
    },
    {
      "cell_type": "markdown",
      "metadata": {
        "id": "7kLomn0fJNFw",
        "colab_type": "text"
      },
      "source": [
        "## Imports and installation verification"
      ]
    },
    {
      "cell_type": "code",
      "metadata": {
        "id": "NHP9XxRMG4Sk",
        "colab_type": "code",
        "colab": {}
      },
      "source": [
        "from tensorflow.keras.layers import *\n",
        "from tensorflow.keras.models import *\n",
        "from wandb.keras import WandbCallback\n",
        "import tensorflow as tf\n",
        "import numpy as np\n",
        "import wandb\n",
        "import time"
      ],
      "execution_count": 0,
      "outputs": []
    },
    {
      "cell_type": "code",
      "metadata": {
        "id": "DQ5n_n3oHNJ7",
        "colab_type": "code",
        "colab": {}
      },
      "source": [
        "tf.__version__"
      ],
      "execution_count": 0,
      "outputs": []
    },
    {
      "cell_type": "markdown",
      "metadata": {
        "id": "wj4MoKGQMXhJ",
        "colab_type": "text"
      },
      "source": [
        "## W&B setup"
      ]
    },
    {
      "cell_type": "code",
      "metadata": {
        "id": "At8WmcQuMZK2",
        "colab_type": "code",
        "colab": {}
      },
      "source": [
        "!wandb login"
      ],
      "execution_count": 0,
      "outputs": []
    },
    {
      "cell_type": "code",
      "metadata": {
        "id": "RpfaHrzUMz2m",
        "colab_type": "code",
        "colab": {
          "base_uri": "https://localhost:8080/",
          "height": 34
        },
        "outputId": "6afb3def-7b0a-472a-d0d7-8905fe45ff0c"
      },
      "source": [
        "wandb.init()\n",
        "config = wandb.config\n",
        "\n",
        "config.batch_size = 128\n",
        "config.epochs=5"
      ],
      "execution_count": 4,
      "outputs": [
        {
          "output_type": "display_data",
          "data": {
            "text/html": [
              "\n",
              "            Notebook configured with <a href=\"https://wandb.com\" target=\"_blank\">W&B</a>. You can <a href=\"https://app.wandb.ai/sayakpaul/uncategorized/runs/5d54sfb1\" target=\"_blank\">open</a> the run page, or call <code>%%wandb</code>\n",
              "            in a cell containing your training loop to display live results.  Learn more in our <a href=\"https://docs.wandb.com/docs/integrations/jupyter.html\" target=\"_blank\">docs</a>.\n",
              "        "
            ],
            "text/plain": [
              "<IPython.core.display.HTML object>"
            ]
          },
          "metadata": {
            "tags": []
          }
        }
      ]
    },
    {
      "cell_type": "markdown",
      "metadata": {
        "id": "6IkBUSIiJQD1",
        "colab_type": "text"
      },
      "source": [
        "## Data collection and preprocessing"
      ]
    },
    {
      "cell_type": "code",
      "metadata": {
        "id": "KeZuHzCYHX_H",
        "colab_type": "code",
        "colab": {}
      },
      "source": [
        "fashion_mnist = mnist = tf.keras.datasets.fashion_mnist\n",
        "\n",
        "(x_train, y_train), (x_test, y_test) = fashion_mnist.load_data()\n",
        "x_train, x_test = x_train / 255.0, x_test / 255.0"
      ],
      "execution_count": 0,
      "outputs": []
    },
    {
      "cell_type": "code",
      "metadata": {
        "id": "iCXnO-3VHv7X",
        "colab_type": "code",
        "colab": {}
      },
      "source": [
        "x_train  = x_train.reshape((60000, 28, 28, 1))\n",
        "x_test = x_test.reshape((10000, 28, 28, 1))"
      ],
      "execution_count": 0,
      "outputs": []
    },
    {
      "cell_type": "code",
      "metadata": {
        "id": "MG0aufQIJhwU",
        "colab_type": "code",
        "colab": {
          "base_uri": "https://localhost:8080/",
          "height": 34
        },
        "outputId": "891c2984-b47e-48e0-bc05-171a32f2c272"
      },
      "source": [
        "x_train.shape, y_train.shape, x_test.shape, y_test.shape"
      ],
      "execution_count": 7,
      "outputs": [
        {
          "output_type": "execute_result",
          "data": {
            "text/plain": [
              "((60000, 28, 28, 1), (60000,), (10000, 28, 28, 1), (10000,))"
            ]
          },
          "metadata": {
            "tags": []
          },
          "execution_count": 7
        }
      ]
    },
    {
      "cell_type": "markdown",
      "metadata": {
        "id": "teQR1m3OJUAt",
        "colab_type": "text"
      },
      "source": [
        "## Model building and summarization"
      ]
    },
    {
      "cell_type": "code",
      "metadata": {
        "id": "t1XpwpThHdZd",
        "colab_type": "code",
        "colab": {}
      },
      "source": [
        "def create_model():\n",
        "    model = Sequential([\n",
        "        Conv2D(32, (3, 3), activation='relu', input_shape=(28, 28, 1)),\n",
        "        MaxPooling2D((2,2)),\n",
        "        Conv2D(64, (3, 3), activation='relu'),\n",
        "        MaxPooling2D((2,2)),\n",
        "        Conv2D(64, (3, 3), activation='relu')\n",
        "    ])\n",
        "    \n",
        "    model.add(Flatten())\n",
        "    model.add(Dense(64, activation='relu'))\n",
        "    model.add(Dense(10, activation='softmax'))\n",
        "\n",
        "    model.compile(optimizer='adam',\n",
        "              loss='sparse_categorical_crossentropy',\n",
        "              metrics=['accuracy'])\n",
        "    \n",
        "    return model"
      ],
      "execution_count": 0,
      "outputs": []
    },
    {
      "cell_type": "code",
      "metadata": {
        "id": "CnsLABD3H61y",
        "colab_type": "code",
        "colab": {
          "base_uri": "https://localhost:8080/",
          "height": 496
        },
        "outputId": "425c6564-8093-455d-9dfe-65bd75527bbd"
      },
      "source": [
        "model = create_model()\n",
        "model.summary()"
      ],
      "execution_count": 9,
      "outputs": [
        {
          "output_type": "stream",
          "text": [
            "WARNING:tensorflow:From /usr/local/lib/python3.6/dist-packages/tensorflow/python/ops/init_ops.py:1251: calling VarianceScaling.__init__ (from tensorflow.python.ops.init_ops) with dtype is deprecated and will be removed in a future version.\n",
            "Instructions for updating:\n",
            "Call initializer instance with the dtype argument instead of passing it to the constructor\n",
            "Model: \"sequential\"\n",
            "_________________________________________________________________\n",
            "Layer (type)                 Output Shape              Param #   \n",
            "=================================================================\n",
            "conv2d (Conv2D)              (None, 26, 26, 32)        320       \n",
            "_________________________________________________________________\n",
            "max_pooling2d (MaxPooling2D) (None, 13, 13, 32)        0         \n",
            "_________________________________________________________________\n",
            "conv2d_1 (Conv2D)            (None, 11, 11, 64)        18496     \n",
            "_________________________________________________________________\n",
            "max_pooling2d_1 (MaxPooling2 (None, 5, 5, 64)          0         \n",
            "_________________________________________________________________\n",
            "conv2d_2 (Conv2D)            (None, 3, 3, 64)          36928     \n",
            "_________________________________________________________________\n",
            "flatten (Flatten)            (None, 576)               0         \n",
            "_________________________________________________________________\n",
            "dense (Dense)                (None, 64)                36928     \n",
            "_________________________________________________________________\n",
            "dense_1 (Dense)              (None, 10)                650       \n",
            "=================================================================\n",
            "Total params: 93,322\n",
            "Trainable params: 93,322\n",
            "Non-trainable params: 0\n",
            "_________________________________________________________________\n"
          ],
          "name": "stdout"
        }
      ]
    },
    {
      "cell_type": "markdown",
      "metadata": {
        "id": "fwyZ1nO0JYqu",
        "colab_type": "text"
      },
      "source": [
        "## Model training profiling"
      ]
    },
    {
      "cell_type": "code",
      "metadata": {
        "id": "10wVDoZtH_BR",
        "colab_type": "code",
        "colab": {
          "base_uri": "https://localhost:8080/",
          "height": 221
        },
        "outputId": "77fb38a3-ecc6-4d8c-b7c3-3673f273cb68"
      },
      "source": [
        "%%prun\n",
        "model.fit(x_train, y_train, validation_data=(x_test, y_test),\n",
        "          epochs=config.epochs, batch_size=config.batch_size, \n",
        "          callbacks=[WandbCallback()], verbose=1)"
      ],
      "execution_count": 10,
      "outputs": [
        {
          "output_type": "stream",
          "text": [
            "Train on 60000 samples, validate on 10000 samples\n",
            "Epoch 1/5\n",
            "60000/60000 [==============================] - 54s 901us/sample - loss: 0.6179 - acc: 0.7748 - val_loss: 0.4529 - val_acc: 0.8347\n",
            "Epoch 2/5\n",
            "60000/60000 [==============================] - 54s 908us/sample - loss: 0.3854 - acc: 0.8613 - val_loss: 0.3699 - val_acc: 0.8687\n",
            "Epoch 3/5\n",
            "60000/60000 [==============================] - 56s 930us/sample - loss: 0.3329 - acc: 0.8796 - val_loss: 0.3479 - val_acc: 0.8723\n",
            "Epoch 4/5\n",
            "60000/60000 [==============================] - 54s 898us/sample - loss: 0.3000 - acc: 0.8910 - val_loss: 0.3210 - val_acc: 0.8848\n",
            "Epoch 5/5\n",
            "60000/60000 [==============================] - 54s 896us/sample - loss: 0.2775 - acc: 0.8982 - val_loss: 0.3028 - val_acc: 0.8934\n",
            " "
          ],
          "name": "stdout"
        }
      ]
    },
    {
      "cell_type": "markdown",
      "metadata": {
        "id": "VSE063gqOqHX",
        "colab_type": "text"
      },
      "source": [
        "Here are the major logs from the profiling:\n",
        "\n",
        "```\n",
        "3326560 function calls (3256171 primitive calls) in 272.912 seconds\n",
        "\n",
        "   Ordered by: internal time\n",
        "   ncalls  tottime  percall  cumtime  percall filename:lineno(function)\n",
        "     2740  259.207    0.095  259.207    0.095 {built-in method _pywrap_tensorflow_internal.TF_SessionRunCallable}\n",
        "    31609    2.641    0.000    2.641    0.000 {method 'acquire' of '_thread.lock' objects}\n",
        "     2740    1.945    0.001    1.945    0.001 generic_utils.py:531(<listcomp>)\n",
        "    34989    0.777    0.000    0.778    0.000 {built-in method numpy.array}\n",
        "    16429    0.558    0.000    0.558    0.000 socket.py:333(send)\n",
        "      6/1    0.451    0.075  272.567  272.567 training_arrays.py:45(model_iteration)\n",
        "     2740    0.313    0.000  262.203    0.096 backend.py:3250(__call__)\n",
        "     2345    0.273    0.000    4.382    0.002 generic_utils.py:353(update)\n",
        " ```"
      ]
    },
    {
      "cell_type": "markdown",
      "metadata": {
        "id": "e_TyH93aSLmg",
        "colab_type": "text"
      },
      "source": [
        "CPU and Memory profilings can be found [here](https://app.wandb.ai/sayakpaul/uncategorized/runs/5d54sfb1). Let's now do the *exact* same thing with TensorFlow 2.0. "
      ]
    }
  ]
}