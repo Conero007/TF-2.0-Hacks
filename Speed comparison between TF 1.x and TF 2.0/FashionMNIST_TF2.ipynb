{
  "nbformat": 4,
  "nbformat_minor": 0,
  "metadata": {
    "colab": {
      "name": "FashionMNIST_TF2.ipynb",
      "provenance": [],
      "collapsed_sections": []
    },
    "kernelspec": {
      "name": "python3",
      "display_name": "Python 3"
    },
    "accelerator": "GPU"
  },
  "cells": [
    {
      "cell_type": "markdown",
      "metadata": {
        "id": "_OtBEJ_6JF_8",
        "colab_type": "text"
      },
      "source": [
        "## Install TensorFlow 2.0 (GPU variant) W&B"
      ]
    },
    {
      "cell_type": "code",
      "metadata": {
        "id": "TtMPhycuIf_N",
        "colab_type": "code",
        "colab": {}
      },
      "source": [
        "!pip install -q tensorflow-gpu\n",
        "!pip install wandb"
      ],
      "execution_count": 0,
      "outputs": []
    },
    {
      "cell_type": "markdown",
      "metadata": {
        "id": "7kLomn0fJNFw",
        "colab_type": "text"
      },
      "source": [
        "## Imports and installation verification"
      ]
    },
    {
      "cell_type": "code",
      "metadata": {
        "id": "NHP9XxRMG4Sk",
        "colab_type": "code",
        "colab": {}
      },
      "source": [
        "from tensorflow.keras.layers import *\n",
        "from tensorflow.keras.models import *\n",
        "from wandb.keras import WandbCallback\n",
        "import tensorflow as tf\n",
        "import numpy as np\n",
        "import wandb\n",
        "import time"
      ],
      "execution_count": 0,
      "outputs": []
    },
    {
      "cell_type": "code",
      "metadata": {
        "id": "DQ5n_n3oHNJ7",
        "colab_type": "code",
        "colab": {
          "base_uri": "https://localhost:8080/",
          "height": 34
        },
        "outputId": "cb704dcc-cbb6-4f43-f405-97b7ea1dcfc0"
      },
      "source": [
        "tf.__version__"
      ],
      "execution_count": 2,
      "outputs": [
        {
          "output_type": "execute_result",
          "data": {
            "text/plain": [
              "'2.0.0'"
            ]
          },
          "metadata": {
            "tags": []
          },
          "execution_count": 2
        }
      ]
    },
    {
      "cell_type": "markdown",
      "metadata": {
        "id": "wj4MoKGQMXhJ",
        "colab_type": "text"
      },
      "source": [
        "## W&B setup"
      ]
    },
    {
      "cell_type": "code",
      "metadata": {
        "id": "At8WmcQuMZK2",
        "colab_type": "code",
        "colab": {}
      },
      "source": [
        "!wandb login"
      ],
      "execution_count": 0,
      "outputs": []
    },
    {
      "cell_type": "code",
      "metadata": {
        "id": "RpfaHrzUMz2m",
        "colab_type": "code",
        "colab": {}
      },
      "source": [
        "wandb.init()\n",
        "config = wandb.config\n",
        "\n",
        "config.batch_size = 128\n",
        "config.epochs=5"
      ],
      "execution_count": 0,
      "outputs": []
    },
    {
      "cell_type": "markdown",
      "metadata": {
        "id": "6IkBUSIiJQD1",
        "colab_type": "text"
      },
      "source": [
        "## Data collection and preprocessing"
      ]
    },
    {
      "cell_type": "code",
      "metadata": {
        "id": "KeZuHzCYHX_H",
        "colab_type": "code",
        "colab": {}
      },
      "source": [
        "fashion_mnist = mnist = tf.keras.datasets.fashion_mnist\n",
        "\n",
        "(x_train, y_train), (x_test, y_test) = fashion_mnist.load_data()\n",
        "x_train, x_test = x_train / 255.0, x_test / 255.0"
      ],
      "execution_count": 0,
      "outputs": []
    },
    {
      "cell_type": "code",
      "metadata": {
        "id": "iCXnO-3VHv7X",
        "colab_type": "code",
        "colab": {}
      },
      "source": [
        "x_train  = x_train.reshape((60000, 28, 28, 1))\n",
        "x_test = x_test.reshape((10000, 28, 28, 1))"
      ],
      "execution_count": 0,
      "outputs": []
    },
    {
      "cell_type": "code",
      "metadata": {
        "id": "MG0aufQIJhwU",
        "colab_type": "code",
        "outputId": "b3d6bc46-3c96-48e1-f344-b5fca9c59c49",
        "colab": {
          "base_uri": "https://localhost:8080/",
          "height": 34
        }
      },
      "source": [
        "x_train.shape, y_train.shape, x_test.shape, y_test.shape"
      ],
      "execution_count": 7,
      "outputs": [
        {
          "output_type": "execute_result",
          "data": {
            "text/plain": [
              "((60000, 28, 28, 1), (60000,), (10000, 28, 28, 1), (10000,))"
            ]
          },
          "metadata": {
            "tags": []
          },
          "execution_count": 7
        }
      ]
    },
    {
      "cell_type": "markdown",
      "metadata": {
        "id": "teQR1m3OJUAt",
        "colab_type": "text"
      },
      "source": [
        "## Model building and summarization"
      ]
    },
    {
      "cell_type": "code",
      "metadata": {
        "id": "t1XpwpThHdZd",
        "colab_type": "code",
        "colab": {}
      },
      "source": [
        "def create_model():\n",
        "    model = Sequential([\n",
        "        Conv2D(32, (3, 3), activation='relu', input_shape=(28, 28, 1)),\n",
        "        MaxPooling2D((2,2)),\n",
        "        Conv2D(64, (3, 3), activation='relu'),\n",
        "        MaxPooling2D((2,2)),\n",
        "        Conv2D(64, (3, 3), activation='relu')\n",
        "    ])\n",
        "    \n",
        "    model.add(Flatten())\n",
        "    model.add(Dense(64, activation='relu'))\n",
        "    model.add(Dense(10, activation='softmax'))\n",
        "\n",
        "    model.compile(optimizer='adam',\n",
        "              loss='sparse_categorical_crossentropy',\n",
        "              metrics=['accuracy'])\n",
        "    \n",
        "    return model"
      ],
      "execution_count": 0,
      "outputs": []
    },
    {
      "cell_type": "code",
      "metadata": {
        "id": "CnsLABD3H61y",
        "colab_type": "code",
        "outputId": "f9138472-3452-463b-f948-c0ebaafdc93f",
        "colab": {
          "base_uri": "https://localhost:8080/",
          "height": 425
        }
      },
      "source": [
        "model = create_model()\n",
        "model.summary()"
      ],
      "execution_count": 9,
      "outputs": [
        {
          "output_type": "stream",
          "text": [
            "Model: \"sequential\"\n",
            "_________________________________________________________________\n",
            "Layer (type)                 Output Shape              Param #   \n",
            "=================================================================\n",
            "conv2d (Conv2D)              (None, 26, 26, 32)        320       \n",
            "_________________________________________________________________\n",
            "max_pooling2d (MaxPooling2D) (None, 13, 13, 32)        0         \n",
            "_________________________________________________________________\n",
            "conv2d_1 (Conv2D)            (None, 11, 11, 64)        18496     \n",
            "_________________________________________________________________\n",
            "max_pooling2d_1 (MaxPooling2 (None, 5, 5, 64)          0         \n",
            "_________________________________________________________________\n",
            "conv2d_2 (Conv2D)            (None, 3, 3, 64)          36928     \n",
            "_________________________________________________________________\n",
            "flatten (Flatten)            (None, 576)               0         \n",
            "_________________________________________________________________\n",
            "dense (Dense)                (None, 64)                36928     \n",
            "_________________________________________________________________\n",
            "dense_1 (Dense)              (None, 10)                650       \n",
            "=================================================================\n",
            "Total params: 93,322\n",
            "Trainable params: 93,322\n",
            "Non-trainable params: 0\n",
            "_________________________________________________________________\n"
          ],
          "name": "stdout"
        }
      ]
    },
    {
      "cell_type": "markdown",
      "metadata": {
        "id": "fwyZ1nO0JYqu",
        "colab_type": "text"
      },
      "source": [
        "## Model training profiling"
      ]
    },
    {
      "cell_type": "code",
      "metadata": {
        "id": "10wVDoZtH_BR",
        "colab_type": "code",
        "outputId": "5ced439c-f940-4f66-c5c8-4501953b1a87",
        "colab": {
          "base_uri": "https://localhost:8080/",
          "height": 221
        }
      },
      "source": [
        "%%prun\n",
        "model.fit(x_train, y_train, validation_data=(x_test, y_test),\n",
        "          epochs=config.epochs, batch_size=config.batch_size, \n",
        "          callbacks=[WandbCallback()], verbose=1)"
      ],
      "execution_count": 10,
      "outputs": [
        {
          "output_type": "stream",
          "text": [
            "Train on 60000 samples, validate on 10000 samples\n",
            "Epoch 1/5\n",
            "60000/60000 [==============================] - 10s 163us/sample - loss: 0.6141 - accuracy: 0.7766 - val_loss: 0.4247 - val_accuracy: 0.8486\n",
            "Epoch 2/5\n",
            "60000/60000 [==============================] - 5s 89us/sample - loss: 0.3814 - accuracy: 0.8624 - val_loss: 0.3493 - val_accuracy: 0.8777\n",
            "Epoch 3/5\n",
            "60000/60000 [==============================] - 5s 89us/sample - loss: 0.3232 - accuracy: 0.8842 - val_loss: 0.3192 - val_accuracy: 0.8857\n",
            "Epoch 4/5\n",
            "60000/60000 [==============================] - 5s 88us/sample - loss: 0.2914 - accuracy: 0.8941 - val_loss: 0.3027 - val_accuracy: 0.8943\n",
            "Epoch 5/5\n",
            "60000/60000 [==============================] - 5s 88us/sample - loss: 0.2666 - accuracy: 0.9037 - val_loss: 0.2870 - val_accuracy: 0.8965\n",
            " "
          ],
          "name": "stdout"
        }
      ]
    },
    {
      "cell_type": "markdown",
      "metadata": {
        "id": "VSE063gqOqHX",
        "colab_type": "text"
      },
      "source": [
        "Here are the major logs from the profiling:\n",
        "\n",
        "```\n",
        "\n",
        "         4766351 function calls (4456966 primitive calls) in 31.667 seconds\n",
        "\n",
        "   Ordered by: internal time\n",
        "\n",
        "   ncalls  tottime  percall  cumtime  percall filename:lineno(function)\n",
        "     2755   16.461    0.006   16.461    0.006 {built-in method _pywrap_tensorflow_internal.TFE_Py_Execute}\n",
        "     8396    8.319    0.001    8.319    0.001 {method '_numpy' of 'tensorflow.python.framework.ops.EagerTensor' objects}\n",
        "    10452    0.724    0.000    0.724    0.000 {method 'acquire' of '_thread.lock' objects}\n",
        "     3268    0.345    0.000    0.345    0.000 socket.py:333(send)\n",
        "598631/598365    0.209    0.000    0.425    0.000 {built-in method builtins.isinstance}\n",
        "      721    0.193    0.000    0.204    0.000 tf_stack.py:141(extract_stack)\n",
        "   116188    0.126    0.000    0.233    0.000 abc.py:180(__instancecheck__)\n",
        "    22054    0.122    0.000    0.221    0.000 nest.py:117(_sequence_like)\n",
        "87712/21928    0.117    0.000    0.363    0.000 type_spec.py:311(__make_cmp_key)\n",
        "    23516    0.099    0.000    0.099    0.000 {built-in method numpy.array}\n",
        "    14829    0.099    0.000    0.113    0.000 {built-in method _pywrap_tensorflow_internal.Flatten}\n",
        "22054/5593    0.093    0.000    0.589    0.000 nest.py:384(_packed_nest_with_indices)\n",
        "      369    0.089    0.000    0.089    0.000 {built-in method _pywrap_tensorflow_internal.TFE_Py_FastPathExecute}\n",
        "   187793    0.086    0.000    0.086    0.000 _weakrefset.py:70(__contains__)\n",
        "     2741    0.085    0.000   17.175    0.006 function.py:1143(_call_flat)\n",
        "     2345    0.082    0.000    0.930    0.000 generic_utils.py:351(update)\n",
        " ```"
      ]
    },
    {
      "cell_type": "markdown",
      "metadata": {
        "id": "e_TyH93aSLmg",
        "colab_type": "text"
      },
      "source": [
        "CPU and Memory profilings can be found [here](https://app.wandb.ai/sayakpaul/uncategorized/runs/xukoozma). TensorFlow 2.0 is indeed faster because of the fact that Eager Execution happens here by default. "
      ]
    }
  ]
}