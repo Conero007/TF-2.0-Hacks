{
  "nbformat": 4,
  "nbformat_minor": 0,
  "metadata": {
    "colab": {
      "name": "Variational_AutoEncoder.ipynb",
      "version": "0.3.2",
      "provenance": [],
      "collapsed_sections": [],
      "include_colab_link": true
    },
    "kernelspec": {
      "name": "python3",
      "display_name": "Python 3"
    },
    "accelerator": "GPU"
  },
  "cells": [
    {
      "cell_type": "markdown",
      "metadata": {
        "id": "view-in-github",
        "colab_type": "text"
      },
      "source": [
        "<a href=\"https://colab.research.google.com/github/sayakpaul/TF-2.0-Hacks/blob/master/Variational_AutoEncoder.ipynb\" target=\"_parent\"><img src=\"https://colab.research.google.com/assets/colab-badge.svg\" alt=\"Open In Colab\"/></a>"
      ]
    },
    {
      "cell_type": "markdown",
      "metadata": {
        "id": "pD6XDAg0dfyv",
        "colab_type": "text"
      },
      "source": [
        "The code is taken from https://www.tensorflow.org/beta/guide/keras/custom_layers_and_models#putting_it_all_together_an_end-to-end_example. The intention is to visualize the images that are reconstructed by a VAE. "
      ]
    },
    {
      "cell_type": "code",
      "metadata": {
        "id": "JOgCeP0ryU6w",
        "colab_type": "code",
        "colab": {}
      },
      "source": [
        "!pip install tensorflow-gpu==2.0.0-beta1"
      ],
      "execution_count": 0,
      "outputs": []
    },
    {
      "cell_type": "code",
      "metadata": {
        "id": "xevVrKLXyjVK",
        "colab_type": "code",
        "outputId": "fe528efd-0c01-4992-b00d-0377a41a7cea",
        "colab": {
          "base_uri": "https://localhost:8080/",
          "height": 36
        }
      },
      "source": [
        "# Imports\n",
        "import tensorflow as tf\n",
        "from tensorflow.keras.datasets import mnist\n",
        "from tensorflow.keras import layers\n",
        "import numpy as np\n",
        "np.random.seed(7)\n",
        "\n",
        "print(tf.__version__)"
      ],
      "execution_count": 1,
      "outputs": [
        {
          "output_type": "stream",
          "text": [
            "2.0.0-beta1\n"
          ],
          "name": "stdout"
        }
      ]
    },
    {
      "cell_type": "code",
      "metadata": {
        "id": "XmMBoMqOyv2w",
        "colab_type": "code",
        "colab": {}
      },
      "source": [
        "# Data prep\n",
        "(x_train, _), _ = tf.keras.datasets.mnist.load_data()\n",
        "x_train = x_train.reshape(60000, 784).astype('float32') / 255\n",
        "\n",
        "train_dataset = tf.data.Dataset.from_tensor_slices(x_train)\n",
        "train_dataset = train_dataset.shuffle(buffer_size=1024).batch(64)"
      ],
      "execution_count": 0,
      "outputs": []
    },
    {
      "cell_type": "code",
      "metadata": {
        "id": "bFksw51eJPgd",
        "colab_type": "code",
        "colab": {}
      },
      "source": [
        "class Sampling(layers.Layer):\n",
        "  \"\"\"Uses (z_mean, z_log_var) to sample z, the vector encoding a digit.\"\"\"\n",
        "\n",
        "  def call(self, inputs):\n",
        "    z_mean, z_log_var = inputs\n",
        "    batch = tf.shape(z_mean)[0]\n",
        "    dim = tf.shape(z_mean)[1]\n",
        "    epsilon = tf.keras.backend.random_normal(shape=(batch, dim))\n",
        "    return z_mean + tf.exp(0.5 * z_log_var) * epsilon\n",
        "\n",
        "\n",
        "class Encoder(layers.Layer):\n",
        "  \"\"\"Maps MNIST digits to a triplet (z_mean, z_log_var, z).\"\"\"\n",
        "\n",
        "  def __init__(self,\n",
        "               latent_dim=32,\n",
        "               intermediate_dim=64):\n",
        "    super(Encoder, self).__init__()\n",
        "    self.dense_proj = layers.Dense(intermediate_dim, activation='relu')\n",
        "    self.dense_mean = layers.Dense(latent_dim)\n",
        "    self.dense_log_var = layers.Dense(latent_dim)\n",
        "    self.sampling = Sampling()\n",
        "\n",
        "  def call(self, inputs):\n",
        "    x = self.dense_proj(inputs)\n",
        "    z_mean = self.dense_mean(x)\n",
        "    z_log_var = self.dense_log_var(x)\n",
        "    z = self.sampling((z_mean, z_log_var))\n",
        "    return z_mean, z_log_var, z\n",
        "\n",
        "\n",
        "class Decoder(layers.Layer):\n",
        "  \"\"\"Converts z, the encoded digit vector, back into a readable digit.\"\"\"\n",
        "\n",
        "  def __init__(self,\n",
        "               original_dim,\n",
        "               intermediate_dim=64):\n",
        "    super(Decoder, self).__init__()\n",
        "    self.dense_proj = layers.Dense(intermediate_dim, activation='relu')\n",
        "    self.dense_output = layers.Dense(original_dim, activation='sigmoid')\n",
        "\n",
        "  def call(self, inputs):\n",
        "    x = self.dense_proj(inputs)\n",
        "    return self.dense_output(x)\n",
        "\n",
        "\n",
        "class VariationalAutoEncoder(tf.keras.Model):\n",
        "  \"\"\"Combines the encoder and decoder into an end-to-end model for training.\"\"\"\n",
        "\n",
        "  def __init__(self,\n",
        "               original_dim,\n",
        "               intermediate_dim=64,\n",
        "               latent_dim=32):\n",
        "    super(VariationalAutoEncoder, self).__init__()\n",
        "    self.original_dim = original_dim\n",
        "    self.encoder = Encoder(latent_dim=latent_dim,\n",
        "                           intermediate_dim=intermediate_dim)\n",
        "    self.decoder = Decoder(original_dim, intermediate_dim=intermediate_dim)\n",
        "\n",
        "  def call(self, inputs):\n",
        "    z_mean, z_log_var, z = self.encoder(inputs)\n",
        "    reconstructed = self.decoder(z)\n",
        "    # Add KL divergence regularization loss.\n",
        "    kl_loss = - 0.5 * tf.reduce_mean(\n",
        "        z_log_var - tf.square(z_mean) - tf.exp(z_log_var) + 1)\n",
        "    self.add_loss(kl_loss)\n",
        "    return reconstructed\n"
      ],
      "execution_count": 0,
      "outputs": []
    },
    {
      "cell_type": "code",
      "metadata": {
        "id": "qEPlv2D8MDSR",
        "colab_type": "code",
        "colab": {}
      },
      "source": [
        "# Instantiate the VAE class\n",
        "num_features = 784\n",
        "nodes = 64\n",
        "latent_vars = 32\n",
        "vae = VariationalAutoEncoder(num_features, nodes, latent_vars)"
      ],
      "execution_count": 0,
      "outputs": []
    },
    {
      "cell_type": "code",
      "metadata": {
        "id": "iJnuaoDqCp4j",
        "colab_type": "code",
        "colab": {}
      },
      "source": [
        "# Optimizer and reconstruction loss function\n",
        "optimizer = tf.keras.optimizers.Adam(learning_rate=1e-3)\n",
        "mse_loss_fn = tf.keras.losses.MeanSquaredError()\n",
        "\n",
        "# We want to average out the loss after each epoch\n",
        "loss_metric = tf.keras.metrics.Mean()"
      ],
      "execution_count": 0,
      "outputs": []
    },
    {
      "cell_type": "code",
      "metadata": {
        "id": "3V_sjDnINn-x",
        "colab_type": "code",
        "colab": {
          "base_uri": "https://localhost:8080/",
          "height": 644
        },
        "outputId": "fe59f1a3-8ad2-4b2d-84dd-77e4a812a508"
      },
      "source": [
        "# Iterate over epochs.\n",
        "for epoch in range(3):\n",
        "  print('Start of epoch %d' % (epoch,))\n",
        "\n",
        "  # Iterate over the batches of the dataset.\n",
        "  for step, x_batch_train in enumerate(train_dataset):\n",
        "    with tf.GradientTape() as tape:\n",
        "      reconstructed = vae(x_batch_train)\n",
        "      # Compute reconstruction loss\n",
        "      loss = mse_loss_fn(x_batch_train, reconstructed)\n",
        "      loss += sum(vae.losses)  # Add KLD regularization loss\n",
        "\n",
        "    grads = tape.gradient(loss, vae.trainable_weights)\n",
        "    optimizer.apply_gradients(zip(grads, vae.trainable_weights))\n",
        "\n",
        "    loss_metric(loss)\n",
        "\n",
        "    if step % 100 == 0:\n",
        "      print('step {}: mean loss = {}'.format(step, loss_metric.result()))"
      ],
      "execution_count": 9,
      "outputs": [
        {
          "output_type": "stream",
          "text": [
            "Start of epoch 0\n",
            "step 0: mean loss = 0.3513181805610657\n",
            "step 100: mean loss = 0.12723110616207123\n",
            "step 200: mean loss = 0.10005825012922287\n",
            "step 300: mean loss = 0.08973503857851028\n",
            "step 400: mean loss = 0.08461252599954605\n",
            "step 500: mean loss = 0.08121258020401001\n",
            "step 600: mean loss = 0.07903553545475006\n",
            "step 700: mean loss = 0.07738673686981201\n",
            "step 800: mean loss = 0.07619763910770416\n",
            "step 900: mean loss = 0.07514350861310959\n",
            "Start of epoch 1\n",
            "step 0: mean loss = 0.0748547613620758\n",
            "step 100: mean loss = 0.07418126612901688\n",
            "step 200: mean loss = 0.07366356253623962\n",
            "step 300: mean loss = 0.07317443937063217\n",
            "step 400: mean loss = 0.07282574474811554\n",
            "step 500: mean loss = 0.07242324203252792\n",
            "step 600: mean loss = 0.0721222311258316\n",
            "step 700: mean loss = 0.07182537019252777\n",
            "step 800: mean loss = 0.0715859979391098\n",
            "step 900: mean loss = 0.07131179422140121\n",
            "Start of epoch 2\n",
            "step 0: mean loss = 0.07124077528715134\n",
            "step 100: mean loss = 0.07106111198663712\n",
            "step 200: mean loss = 0.0709213986992836\n",
            "step 300: mean loss = 0.07076222449541092\n",
            "step 400: mean loss = 0.07065880298614502\n",
            "step 500: mean loss = 0.07050342857837677\n",
            "step 600: mean loss = 0.07039058953523636\n",
            "step 700: mean loss = 0.0702647790312767\n",
            "step 800: mean loss = 0.07016457617282867\n",
            "step 900: mean loss = 0.0700317844748497\n"
          ],
          "name": "stdout"
        }
      ]
    },
    {
      "cell_type": "code",
      "metadata": {
        "id": "yu3PHSUTXnAH",
        "colab_type": "code",
        "colab": {
          "base_uri": "https://localhost:8080/",
          "height": 36
        },
        "outputId": "f7bbf0e1-3506-4af4-bb25-00d5d2d5d486"
      },
      "source": [
        "# Inspection\n",
        "reconstructed.shape, x_batch_train.shape"
      ],
      "execution_count": 10,
      "outputs": [
        {
          "output_type": "execute_result",
          "data": {
            "text/plain": [
              "(TensorShape([32, 784]), TensorShape([32, 784]))"
            ]
          },
          "metadata": {
            "tags": []
          },
          "execution_count": 10
        }
      ]
    },
    {
      "cell_type": "code",
      "metadata": {
        "id": "nPPBenqyeiKi",
        "colab_type": "code",
        "colab": {
          "base_uri": "https://localhost:8080/",
          "height": 269
        },
        "outputId": "f71fead2-4264-46ed-a710-9853774c2587"
      },
      "source": [
        "%matplotlib inline\n",
        "import matplotlib.pyplot as plt\n",
        "\n",
        "sample_recon_image = reconstructed.numpy()[1]\n",
        "sample_recon_image = sample_recon_image.reshape(28, 28)\n",
        "\n",
        "plt.imshow(sample_recon_image, cmap='binary')\n",
        "plt.show()"
      ],
      "execution_count": 11,
      "outputs": [
        {
          "output_type": "display_data",
          "data": {
            "image/png": "[encoded data removed]",
            "text/plain": [
              "<Figure size 432x288 with 1 Axes>"
            ]
          },
          "metadata": {
            "tags": []
          }
        }
      ]
    },
    {
      "cell_type": "code",
      "metadata": {
        "id": "voohcffb5FzD",
        "colab_type": "code",
        "colab": {
          "base_uri": "https://localhost:8080/",
          "height": 187
        },
        "outputId": "9ad773c9-c3f6-416c-c014-64bb0f9bf857"
      },
      "source": [
        "##########################\n",
        "### VISUALIZATION\n",
        "##########################\n",
        "\n",
        "n_images = 15\n",
        "image_width = 28\n",
        "\n",
        "fig, axes = plt.subplots(nrows=2, ncols=n_images, \n",
        "                         sharex=True, sharey=True, figsize=(20, 2.5))\n",
        "orig_images = x_batch_train[:n_images].numpy()\n",
        "decoded_images = reconstructed[:n_images].numpy()\n",
        "\n",
        "for i in range(n_images):\n",
        "    for ax, img in zip(axes, [orig_images, decoded_images]):\n",
        "        curr_img = img[i]\n",
        "        ax[i].imshow(curr_img.reshape((image_width, image_width)), cmap='binary')"
      ],
      "execution_count": 12,
      "outputs": [
        {
          "output_type": "display_data",
          "data": {
            "image/png": "[encoded data removed]",
            "text/plain": [
              "<Figure size 1440x180 with 30 Axes>"
            ]
          },
          "metadata": {
            "tags": []
          }
        }
      ]
    }
  ]
}