{
  "nbformat": 4,
  "nbformat_minor": 0,
  "metadata": {
    "colab": {
      "name": "tf.data with tf.keras.ipynb",
      "provenance": [],
      "collapsed_sections": []
    },
    "kernelspec": {
      "name": "python3",
      "display_name": "Python 3"
    },
    "accelerator": "GPU"
  },
  "cells": [
    {
      "cell_type": "markdown",
      "metadata": {
        "id": "07mAPLQ8yqc9",
        "colab_type": "text"
      },
      "source": [
        "The purpose of this notebook is two-fold:\n",
        "\n",
        "- Show the usage of `tf.data.Dataset.from_generator` along with Keras `ImageDataGenerator` for Keras models.\n",
        "- Compare the performance between `tf.data.Dataset.from_generator` and `ImageDtaGenerator`. \n",
        "\n",
        "A huge thanks to **Picsou Balthazar** for helping me out in this. "
      ]
    },
    {
      "cell_type": "code",
      "metadata": {
        "id": "PHp2tBzeAZT3",
        "colab_type": "code",
        "colab": {}
      },
      "source": [
        "# Install TensorFlow 2.0 (GPU)\n",
        "!pip install tensorflow-gpu"
      ],
      "execution_count": 0,
      "outputs": []
    },
    {
      "cell_type": "code",
      "metadata": {
        "id": "UQ53B3_fA6CY",
        "colab_type": "code",
        "colab": {}
      },
      "source": [
        "# Import the packages\n",
        "# Import the packages for DL stuff\n",
        "from tensorflow.keras.preprocessing.image import ImageDataGenerator\n",
        "from tensorflow.keras.applications import VGG16\n",
        "from tensorflow.keras.layers import Dropout\n",
        "from tensorflow.keras.layers import Flatten\n",
        "from tensorflow.keras.layers import Dense\n",
        "from tensorflow.keras.layers import Input\n",
        "from tensorflow.keras.models import Model\n",
        "from tensorflow.keras.optimizers import SGD\n",
        "from imutils import paths\n",
        "import matplotlib.pyplot as plt\n",
        "import tensorflow as tf\n",
        "import pandas as pd\n",
        "import numpy as np\n",
        "import pathlib"
      ],
      "execution_count": 0,
      "outputs": []
    },
    {
      "cell_type": "code",
      "metadata": {
        "id": "ArwTIOe7uBay",
        "colab_type": "code",
        "colab": {
          "base_uri": "https://localhost:8080/",
          "height": 34
        },
        "outputId": "1cc67de6-2b36-4067-c067-30c790a0ecf0"
      },
      "source": [
        "# verify if the right version was installed\n",
        "tf.__version__"
      ],
      "execution_count": 2,
      "outputs": [
        {
          "output_type": "execute_result",
          "data": {
            "text/plain": [
              "'2.0.0'"
            ]
          },
          "metadata": {
            "tags": []
          },
          "execution_count": 2
        }
      ]
    },
    {
      "cell_type": "code",
      "metadata": {
        "id": "A6Qij-Z5BELC",
        "colab_type": "code",
        "colab": {}
      },
      "source": [
        "# Get the flowers' dataset\n",
        "flowers = tf.keras.utils.get_file(\n",
        "    'flower_photos',\n",
        "    'https://storage.googleapis.com/download.tensorflow.org/example_images/flower_photos.tgz',\n",
        "    untar=True)"
      ],
      "execution_count": 0,
      "outputs": []
    },
    {
      "cell_type": "code",
      "metadata": {
        "id": "d_6Lc1Yaze9d",
        "colab_type": "code",
        "colab": {
          "base_uri": "https://localhost:8080/",
          "height": 34
        },
        "outputId": "a08e2fd3-4471-4953-d760-5edc7c133a03"
      },
      "source": [
        "!ls {flowers}"
      ],
      "execution_count": 15,
      "outputs": [
        {
          "output_type": "stream",
          "text": [
            "daisy  dandelion  LICENSE.txt  roses  sunflowers  tulips\n"
          ],
          "name": "stdout"
        }
      ]
    },
    {
      "cell_type": "markdown",
      "metadata": {
        "id": "hJVAZAqxxzmP",
        "colab_type": "text"
      },
      "source": [
        "Know more about the dataset here: https://www.tensorflow.org/tutorials/load_data/images#load_using_tfdata. "
      ]
    },
    {
      "cell_type": "code",
      "metadata": {
        "id": "RvcluHUqBJ26",
        "colab_type": "code",
        "colab": {}
      },
      "source": [
        "# Initialize the data augmentation object and set its mean to the\n",
        "# mean of the ImageNet dataset\n",
        "img_gen = tf.keras.preprocessing.image.ImageDataGenerator(rotation_range=20)\n",
        "mean = np.array([123.68, 116.779, 103.939], dtype=\"float32\")\n",
        "img_gen.mean = mean"
      ],
      "execution_count": 0,
      "outputs": []
    },
    {
      "cell_type": "code",
      "metadata": {
        "id": "qb8tvXmvBSjL",
        "colab_type": "code",
        "colab": {}
      },
      "source": [
        "# Wrap the generator with tf.data\n",
        "ds = tf.data.Dataset.from_generator(\n",
        "    lambda: img_gen.flow_from_directory(flowers,\n",
        "            class_mode=\"categorical\",\n",
        "            target_size=(224, 224),\n",
        "            color_mode=\"rgb\",\n",
        "            shuffle=True),\n",
        "    output_types=(tf.float32, tf.float32),\n",
        "    output_shapes = ([32,224,224,3],[32,5])\n",
        ")\n",
        "\n",
        "ds"
      ],
      "execution_count": 0,
      "outputs": []
    },
    {
      "cell_type": "code",
      "metadata": {
        "id": "PHlIxEt_BZE_",
        "colab_type": "code",
        "colab": {}
      },
      "source": [
        "# A helper script for which would initialize and compile \n",
        "# our model\n",
        "def get_training_model():\n",
        "    baseModel = VGG16(weights=\"imagenet\", include_top=False,\n",
        "        input_tensor=Input(shape=(224, 224, 3)))\n",
        "\n",
        "    headModel = baseModel.output\n",
        "    headModel = Flatten(name=\"flatten\")(headModel)\n",
        "    headModel = Dense(512, activation=\"relu\")(headModel)\n",
        "    headModel = Dropout(0.5)(headModel)\n",
        "    headModel = Dense(5, activation=\"softmax\")(headModel)\n",
        "\n",
        "    model = Model(inputs=baseModel.input, outputs=headModel)\n",
        "\n",
        "    for layer in baseModel.layers:\n",
        "        layer.trainable = False\n",
        "\n",
        "    opt = SGD(lr=1e-4, momentum=0.9)\n",
        "    model.compile(loss=\"categorical_crossentropy\", optimizer=opt,\n",
        "        metrics=[\"accuracy\"])\n",
        "    return model"
      ],
      "execution_count": 0,
      "outputs": []
    },
    {
      "cell_type": "code",
      "metadata": {
        "id": "ERLsOthaBj76",
        "colab_type": "code",
        "colab": {}
      },
      "source": [
        "# Get the total number of images present in the\n",
        "# root dataset directory\n",
        "\n",
        "\n",
        "total_data = len(list(paths.list_images(flowers)))"
      ],
      "execution_count": 0,
      "outputs": []
    },
    {
      "cell_type": "code",
      "metadata": {
        "id": "M32wuUHvBwlU",
        "colab_type": "code",
        "colab": {}
      },
      "source": [
        "# Kickstart model training with tf.data\n",
        "model = get_training_model()\n",
        "model.fit(ds, \n",
        "         steps_per_epoch=total_data//32)"
      ],
      "execution_count": 0,
      "outputs": []
    },
    {
      "cell_type": "markdown",
      "metadata": {
        "id": "yfDEGi7Zwvkr",
        "colab_type": "text"
      },
      "source": [
        "It took 86 seconds. Let's now see how `ImageDataGenerator` performs. "
      ]
    },
    {
      "cell_type": "code",
      "metadata": {
        "id": "Z1lR6UeixIhC",
        "colab_type": "code",
        "colab": {
          "base_uri": "https://localhost:8080/",
          "height": 34
        },
        "outputId": "63fc7ff2-ead8-4152-ec3b-4c2f215b2003"
      },
      "source": [
        "# Initialize data generator\n",
        "train_flow = img_gen.flow_from_directory(flowers,\n",
        "                class_mode=\"categorical\",\n",
        "                target_size=(224, 224),\n",
        "                color_mode=\"rgb\",\n",
        "                shuffle=True,\n",
        "                batch_size=32)"
      ],
      "execution_count": 12,
      "outputs": [
        {
          "output_type": "stream",
          "text": [
            "Found 3670 images belonging to 5 classes.\n"
          ],
          "name": "stdout"
        }
      ]
    },
    {
      "cell_type": "code",
      "metadata": {
        "id": "9dMLGo9Vw0LM",
        "colab_type": "code",
        "colab": {
          "base_uri": "https://localhost:8080/",
          "height": 51
        },
        "outputId": "28dd6134-9551-4e30-af0f-7944e49ead4e"
      },
      "source": [
        "# Kickstart model training with ImageDataGenerator\n",
        "model = get_training_model()\n",
        "model.fit_generator(train_flow, \n",
        "                   steps_per_epoch=total_data//32)"
      ],
      "execution_count": 13,
      "outputs": [
        {
          "output_type": "stream",
          "text": [
            "114/114 [==============================] - 146s 1s/step - loss: 5.4960 - accuracy: 0.5990\n"
          ],
          "name": "stdout"
        },
        {
          "output_type": "execute_result",
          "data": {
            "text/plain": [
              "<tensorflow.python.keras.callbacks.History at 0x7fe730e402e8>"
            ]
          },
          "metadata": {
            "tags": []
          },
          "execution_count": 13
        }
      ]
    },
    {
      "cell_type": "markdown",
      "metadata": {
        "id": "IlvOBeUOyQZl",
        "colab_type": "text"
      },
      "source": [
        "Takes 146 seconds. "
      ]
    }
  ]
}